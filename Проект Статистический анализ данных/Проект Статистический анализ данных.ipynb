{
 "cells": [
  {
   "cell_type": "markdown",
   "id": "9d4b8b75",
   "metadata": {},
   "source": [
    "# Статистический анализ данных"
   ]
  },
  {
   "cell_type": "markdown",
   "id": "d98228da",
   "metadata": {},
   "source": [
    "# Введение:\n",
    "\n",
    "Вы аналитик популярного сервиса аренды самокатов GoFast. Вам передали данные о некоторых пользователях из нескольких городов, а также об их поездках"
   ]
  },
  {
   "cell_type": "markdown",
   "id": "9faa249e",
   "metadata": {},
   "source": [
    "# Цель исследования:\n",
    "\n",
    "Необходимо проанализировать данные популярного сервиса аренды самокатов GoFast и проверить некоторые гипотезы, которые помогут бизнесу вырасти.\n"
   ]
  },
  {
   "cell_type": "markdown",
   "id": "6a222b13",
   "metadata": {},
   "source": [
    "# Ход исследования:\n",
    "\n",
    "1. Изучить данные\n",
    "2. Выполнить предобработку данных\n",
    "3. Выполнить исследовательский анализ данных\n",
    "4. Объединить данные\n",
    "5. Подсчетать выручки\n",
    "6. Проверить гипотезы\n",
    "7. Написать вывод\n"
   ]
  },
  {
   "cell_type": "code",
   "execution_count": 1,
   "id": "72576667",
   "metadata": {},
   "outputs": [],
   "source": [
    "import pandas as pd\n",
    "import matplotlib.pyplot as plt\n",
    "import numpy as np\n",
    "from scipy import stats as st\n",
    "from scipy.stats import binom"
   ]
  },
  {
   "cell_type": "markdown",
   "id": "c42cbe00",
   "metadata": {},
   "source": [
    "#### Шаг 1. Загрузка данных"
   ]
  },
  {
   "cell_type": "markdown",
   "id": "df7913a9",
   "metadata": {},
   "source": [
    "##### Сохраним данные в датафреймы"
   ]
  },
  {
   "cell_type": "code",
   "execution_count": 2,
   "id": "eff9f206",
   "metadata": {},
   "outputs": [],
   "source": [
    "user_go = pd.read_csv('/datasets/users_go.csv')\n",
    "rides_go = pd.read_csv('/datasets/rides_go.csv')\n",
    "subscriptions_go = pd.read_csv('/datasets/subscriptions_go.csv')"
   ]
  },
  {
   "cell_type": "markdown",
   "id": "cfb84619",
   "metadata": {},
   "source": [
    "##### Выведим первые строки каждого набора данных, основную информацию о датафреймах с помощью метода `info()` и найдем явные дубликаты:"
   ]
  },
  {
   "cell_type": "code",
   "execution_count": 3,
   "id": "651f5916",
   "metadata": {},
   "outputs": [],
   "source": [
    "def data_frame(x):\n",
    "    print(x.head(10)) \n",
    "    print('*'*50)\n",
    "    print(x.info())\n",
    "    print('*'*50)\n",
    "    print('Количество дубликатов:', x.duplicated().sum())\n",
    "    "
   ]
  },
  {
   "cell_type": "code",
   "execution_count": 4,
   "id": "64a99b2f",
   "metadata": {},
   "outputs": [
    {
     "name": "stdout",
     "output_type": "stream",
     "text": [
      "   user_id        name  age            city subscription_type\n",
      "0        1        Кира   22          Тюмень             ultra\n",
      "1        2   Станислав   31            Омск             ultra\n",
      "2        3     Алексей   20          Москва             ultra\n",
      "3        4  Константин   26  Ростов-на-Дону             ultra\n",
      "4        5       Адель   28            Омск             ultra\n",
      "5        6      Регина   25       Краснодар             ultra\n",
      "6        7       Игорь   23            Омск             ultra\n",
      "7        8        Юрий   23       Краснодар             ultra\n",
      "8        9          Ян   21       Пятигорск             ultra\n",
      "9       10     Валерий   18    Екатеринбург             ultra\n",
      "**************************************************\n",
      "<class 'pandas.core.frame.DataFrame'>\n",
      "RangeIndex: 1565 entries, 0 to 1564\n",
      "Data columns (total 5 columns):\n",
      " #   Column             Non-Null Count  Dtype \n",
      "---  ------             --------------  ----- \n",
      " 0   user_id            1565 non-null   int64 \n",
      " 1   name               1565 non-null   object\n",
      " 2   age                1565 non-null   int64 \n",
      " 3   city               1565 non-null   object\n",
      " 4   subscription_type  1565 non-null   object\n",
      "dtypes: int64(2), object(3)\n",
      "memory usage: 61.3+ KB\n",
      "None\n",
      "**************************************************\n",
      "Количество дубликатов: 31\n"
     ]
    }
   ],
   "source": [
    "data_frame(user_go)"
   ]
  },
  {
   "cell_type": "code",
   "execution_count": 5,
   "id": "d0af8fe6",
   "metadata": {},
   "outputs": [
    {
     "name": "stdout",
     "output_type": "stream",
     "text": [
      "   user_id     distance   duration        date\n",
      "0        1  4409.919140  25.599769  2021-01-01\n",
      "1        1  2617.592153  15.816871  2021-01-18\n",
      "2        1   754.159807   6.232113  2021-04-20\n",
      "3        1  2694.783254  18.511000  2021-08-11\n",
      "4        1  4028.687306  26.265803  2021-08-28\n",
      "5        1  2770.890808  16.650138  2021-10-09\n",
      "6        1  3039.020292  14.927879  2021-10-19\n",
      "7        1  2842.118050  23.117468  2021-11-06\n",
      "8        1  3412.690668  15.238072  2021-11-14\n",
      "9        1   748.690645  15.041884  2021-11-22\n",
      "**************************************************\n",
      "<class 'pandas.core.frame.DataFrame'>\n",
      "RangeIndex: 18068 entries, 0 to 18067\n",
      "Data columns (total 4 columns):\n",
      " #   Column    Non-Null Count  Dtype  \n",
      "---  ------    --------------  -----  \n",
      " 0   user_id   18068 non-null  int64  \n",
      " 1   distance  18068 non-null  float64\n",
      " 2   duration  18068 non-null  float64\n",
      " 3   date      18068 non-null  object \n",
      "dtypes: float64(2), int64(1), object(1)\n",
      "memory usage: 564.8+ KB\n",
      "None\n",
      "**************************************************\n",
      "Количество дубликатов: 0\n"
     ]
    }
   ],
   "source": [
    "data_frame(rides_go)"
   ]
  },
  {
   "cell_type": "code",
   "execution_count": 6,
   "id": "7091effc",
   "metadata": {},
   "outputs": [
    {
     "name": "stdout",
     "output_type": "stream",
     "text": [
      "  subscription_type  minute_price  start_ride_price  subscription_fee\n",
      "0              free             8                50                 0\n",
      "1             ultra             6                 0               199\n",
      "**************************************************\n",
      "<class 'pandas.core.frame.DataFrame'>\n",
      "RangeIndex: 2 entries, 0 to 1\n",
      "Data columns (total 4 columns):\n",
      " #   Column             Non-Null Count  Dtype \n",
      "---  ------             --------------  ----- \n",
      " 0   subscription_type  2 non-null      object\n",
      " 1   minute_price       2 non-null      int64 \n",
      " 2   start_ride_price   2 non-null      int64 \n",
      " 3   subscription_fee   2 non-null      int64 \n",
      "dtypes: int64(3), object(1)\n",
      "memory usage: 192.0+ bytes\n",
      "None\n",
      "**************************************************\n",
      "Количество дубликатов: 0\n"
     ]
    }
   ],
   "source": [
    "data_frame(subscriptions_go)"
   ]
  },
  {
   "cell_type": "markdown",
   "id": "8062d456",
   "metadata": {},
   "source": [
    "**Промежуточный вывод на основе изученной общей информации:**\n",
    "<p></p>\n",
    "\n",
    "<div style=\"border:solid green 2px; padding: 10px\">\n",
    "\n",
    "1. Таблицы состоят из 1565 (user_go), 18068 (rides_go) и 2 (subscriptions_go) записей.\n",
    "2. Найдено 31 дубликата в таблице user_go.\n",
    "3. Пропусков не найдено.\n",
    "4. Есть некорректный тип данных у таблицы rides_go в столбце date。\n",
    "5. Название столбцов корректны.\n",
    "   \n",
    "</div>"
   ]
  },
  {
   "cell_type": "markdown",
   "id": "e95ebca7",
   "metadata": {},
   "source": [
    "#### Шаг 2. Предобработка данных"
   ]
  },
  {
   "cell_type": "markdown",
   "id": "2519d80d",
   "metadata": {},
   "source": [
    "#####  Заменим некорректные типы данных:"
   ]
  },
  {
   "cell_type": "code",
   "execution_count": 7,
   "id": "af6d202c",
   "metadata": {},
   "outputs": [],
   "source": [
    "# Приведем к корректному формату date в датафрейме rides_go:\n",
    "rides_go['date'] = pd.to_datetime(rides_go['date'], format='%Y-%m-%d')"
   ]
  },
  {
   "cell_type": "code",
   "execution_count": 8,
   "id": "b8c4becc",
   "metadata": {},
   "outputs": [],
   "source": [
    "# Приведем к корректному формату duration в датафрейме rides_go:\n",
    "rides_go['duration'] = np.ceil(rides_go['duration'])"
   ]
  },
  {
   "cell_type": "code",
   "execution_count": 9,
   "id": "2423dbbf",
   "metadata": {},
   "outputs": [
    {
     "data": {
      "text/html": [
       "<div>\n",
       "<style scoped>\n",
       "    .dataframe tbody tr th:only-of-type {\n",
       "        vertical-align: middle;\n",
       "    }\n",
       "\n",
       "    .dataframe tbody tr th {\n",
       "        vertical-align: top;\n",
       "    }\n",
       "\n",
       "    .dataframe thead th {\n",
       "        text-align: right;\n",
       "    }\n",
       "</style>\n",
       "<table border=\"1\" class=\"dataframe\">\n",
       "  <thead>\n",
       "    <tr style=\"text-align: right;\">\n",
       "      <th></th>\n",
       "      <th>user_id</th>\n",
       "      <th>distance</th>\n",
       "      <th>duration</th>\n",
       "      <th>date</th>\n",
       "    </tr>\n",
       "  </thead>\n",
       "  <tbody>\n",
       "    <tr>\n",
       "      <th>0</th>\n",
       "      <td>1</td>\n",
       "      <td>4409.919140</td>\n",
       "      <td>26.0</td>\n",
       "      <td>2021-01-01</td>\n",
       "    </tr>\n",
       "    <tr>\n",
       "      <th>1</th>\n",
       "      <td>1</td>\n",
       "      <td>2617.592153</td>\n",
       "      <td>16.0</td>\n",
       "      <td>2021-01-18</td>\n",
       "    </tr>\n",
       "    <tr>\n",
       "      <th>2</th>\n",
       "      <td>1</td>\n",
       "      <td>754.159807</td>\n",
       "      <td>7.0</td>\n",
       "      <td>2021-04-20</td>\n",
       "    </tr>\n",
       "    <tr>\n",
       "      <th>3</th>\n",
       "      <td>1</td>\n",
       "      <td>2694.783254</td>\n",
       "      <td>19.0</td>\n",
       "      <td>2021-08-11</td>\n",
       "    </tr>\n",
       "    <tr>\n",
       "      <th>4</th>\n",
       "      <td>1</td>\n",
       "      <td>4028.687306</td>\n",
       "      <td>27.0</td>\n",
       "      <td>2021-08-28</td>\n",
       "    </tr>\n",
       "  </tbody>\n",
       "</table>\n",
       "</div>"
      ],
      "text/plain": [
       "   user_id     distance  duration       date\n",
       "0        1  4409.919140      26.0 2021-01-01\n",
       "1        1  2617.592153      16.0 2021-01-18\n",
       "2        1   754.159807       7.0 2021-04-20\n",
       "3        1  2694.783254      19.0 2021-08-11\n",
       "4        1  4028.687306      27.0 2021-08-28"
      ]
     },
     "execution_count": 9,
     "metadata": {},
     "output_type": "execute_result"
    }
   ],
   "source": [
    "# Проверим формат date в датафрейме rides_go:\n",
    "rides_go.head()"
   ]
  },
  {
   "cell_type": "markdown",
   "id": "6f270750",
   "metadata": {},
   "source": [
    "##### Добавим в датафрейм  rides_go новый столбец"
   ]
  },
  {
   "cell_type": "code",
   "execution_count": 10,
   "id": "0b3f5941",
   "metadata": {},
   "outputs": [],
   "source": [
    "rides_go['month'] = rides_go['date'].dt.month   "
   ]
  },
  {
   "cell_type": "code",
   "execution_count": 11,
   "id": "b0e2af6a",
   "metadata": {},
   "outputs": [
    {
     "name": "stdout",
     "output_type": "stream",
     "text": [
      "<class 'pandas.core.frame.DataFrame'>\n",
      "RangeIndex: 18068 entries, 0 to 18067\n",
      "Data columns (total 5 columns):\n",
      " #   Column    Non-Null Count  Dtype         \n",
      "---  ------    --------------  -----         \n",
      " 0   user_id   18068 non-null  int64         \n",
      " 1   distance  18068 non-null  float64       \n",
      " 2   duration  18068 non-null  float64       \n",
      " 3   date      18068 non-null  datetime64[ns]\n",
      " 4   month     18068 non-null  int64         \n",
      "dtypes: datetime64[ns](1), float64(2), int64(2)\n",
      "memory usage: 705.9 KB\n"
     ]
    }
   ],
   "source": [
    "rides_go.info()"
   ]
  },
  {
   "cell_type": "markdown",
   "id": "9cbec5e1",
   "metadata": {},
   "source": [
    "##### Округлим в датафрейме rides_go  значения:"
   ]
  },
  {
   "cell_type": "code",
   "execution_count": 12,
   "id": "f3922168",
   "metadata": {},
   "outputs": [],
   "source": [
    "rides_go['distance'] = rides_go['distance'].round(2)  \n"
   ]
  },
  {
   "cell_type": "code",
   "execution_count": 13,
   "id": "2ffc4c62",
   "metadata": {},
   "outputs": [
    {
     "data": {
      "text/html": [
       "<div>\n",
       "<style scoped>\n",
       "    .dataframe tbody tr th:only-of-type {\n",
       "        vertical-align: middle;\n",
       "    }\n",
       "\n",
       "    .dataframe tbody tr th {\n",
       "        vertical-align: top;\n",
       "    }\n",
       "\n",
       "    .dataframe thead th {\n",
       "        text-align: right;\n",
       "    }\n",
       "</style>\n",
       "<table border=\"1\" class=\"dataframe\">\n",
       "  <thead>\n",
       "    <tr style=\"text-align: right;\">\n",
       "      <th></th>\n",
       "      <th>user_id</th>\n",
       "      <th>distance</th>\n",
       "      <th>duration</th>\n",
       "      <th>date</th>\n",
       "      <th>month</th>\n",
       "    </tr>\n",
       "  </thead>\n",
       "  <tbody>\n",
       "    <tr>\n",
       "      <th>0</th>\n",
       "      <td>1</td>\n",
       "      <td>4409.92</td>\n",
       "      <td>26.0</td>\n",
       "      <td>2021-01-01</td>\n",
       "      <td>1</td>\n",
       "    </tr>\n",
       "    <tr>\n",
       "      <th>1</th>\n",
       "      <td>1</td>\n",
       "      <td>2617.59</td>\n",
       "      <td>16.0</td>\n",
       "      <td>2021-01-18</td>\n",
       "      <td>1</td>\n",
       "    </tr>\n",
       "    <tr>\n",
       "      <th>2</th>\n",
       "      <td>1</td>\n",
       "      <td>754.16</td>\n",
       "      <td>7.0</td>\n",
       "      <td>2021-04-20</td>\n",
       "      <td>4</td>\n",
       "    </tr>\n",
       "    <tr>\n",
       "      <th>3</th>\n",
       "      <td>1</td>\n",
       "      <td>2694.78</td>\n",
       "      <td>19.0</td>\n",
       "      <td>2021-08-11</td>\n",
       "      <td>8</td>\n",
       "    </tr>\n",
       "    <tr>\n",
       "      <th>4</th>\n",
       "      <td>1</td>\n",
       "      <td>4028.69</td>\n",
       "      <td>27.0</td>\n",
       "      <td>2021-08-28</td>\n",
       "      <td>8</td>\n",
       "    </tr>\n",
       "  </tbody>\n",
       "</table>\n",
       "</div>"
      ],
      "text/plain": [
       "   user_id  distance  duration       date  month\n",
       "0        1   4409.92      26.0 2021-01-01      1\n",
       "1        1   2617.59      16.0 2021-01-18      1\n",
       "2        1    754.16       7.0 2021-04-20      4\n",
       "3        1   2694.78      19.0 2021-08-11      8\n",
       "4        1   4028.69      27.0 2021-08-28      8"
      ]
     },
     "execution_count": 13,
     "metadata": {},
     "output_type": "execute_result"
    }
   ],
   "source": [
    "rides_go.head()"
   ]
  },
  {
   "cell_type": "markdown",
   "id": "4db64bc0",
   "metadata": {},
   "source": [
    "##### Удалим  явные дубликаты датафрейме user_go :"
   ]
  },
  {
   "cell_type": "code",
   "execution_count": 14,
   "id": "6975a7de",
   "metadata": {},
   "outputs": [],
   "source": [
    "user_go = user_go.drop_duplicates().reset_index(drop=True) "
   ]
  },
  {
   "cell_type": "code",
   "execution_count": 15,
   "id": "5b5fa3c0",
   "metadata": {},
   "outputs": [
    {
     "data": {
      "text/html": [
       "<div>\n",
       "<style scoped>\n",
       "    .dataframe tbody tr th:only-of-type {\n",
       "        vertical-align: middle;\n",
       "    }\n",
       "\n",
       "    .dataframe tbody tr th {\n",
       "        vertical-align: top;\n",
       "    }\n",
       "\n",
       "    .dataframe thead th {\n",
       "        text-align: right;\n",
       "    }\n",
       "</style>\n",
       "<table border=\"1\" class=\"dataframe\">\n",
       "  <thead>\n",
       "    <tr style=\"text-align: right;\">\n",
       "      <th></th>\n",
       "      <th>user_id</th>\n",
       "      <th>name</th>\n",
       "      <th>age</th>\n",
       "      <th>city</th>\n",
       "      <th>subscription_type</th>\n",
       "    </tr>\n",
       "  </thead>\n",
       "  <tbody>\n",
       "    <tr>\n",
       "      <th>0</th>\n",
       "      <td>1</td>\n",
       "      <td>Кира</td>\n",
       "      <td>22</td>\n",
       "      <td>Тюмень</td>\n",
       "      <td>ultra</td>\n",
       "    </tr>\n",
       "    <tr>\n",
       "      <th>1</th>\n",
       "      <td>2</td>\n",
       "      <td>Станислав</td>\n",
       "      <td>31</td>\n",
       "      <td>Омск</td>\n",
       "      <td>ultra</td>\n",
       "    </tr>\n",
       "    <tr>\n",
       "      <th>2</th>\n",
       "      <td>3</td>\n",
       "      <td>Алексей</td>\n",
       "      <td>20</td>\n",
       "      <td>Москва</td>\n",
       "      <td>ultra</td>\n",
       "    </tr>\n",
       "    <tr>\n",
       "      <th>3</th>\n",
       "      <td>4</td>\n",
       "      <td>Константин</td>\n",
       "      <td>26</td>\n",
       "      <td>Ростов-на-Дону</td>\n",
       "      <td>ultra</td>\n",
       "    </tr>\n",
       "    <tr>\n",
       "      <th>4</th>\n",
       "      <td>5</td>\n",
       "      <td>Адель</td>\n",
       "      <td>28</td>\n",
       "      <td>Омск</td>\n",
       "      <td>ultra</td>\n",
       "    </tr>\n",
       "  </tbody>\n",
       "</table>\n",
       "</div>"
      ],
      "text/plain": [
       "   user_id        name  age            city subscription_type\n",
       "0        1        Кира   22          Тюмень             ultra\n",
       "1        2   Станислав   31            Омск             ultra\n",
       "2        3     Алексей   20          Москва             ultra\n",
       "3        4  Константин   26  Ростов-на-Дону             ultra\n",
       "4        5       Адель   28            Омск             ultra"
      ]
     },
     "execution_count": 15,
     "metadata": {},
     "output_type": "execute_result"
    }
   ],
   "source": [
    "user_go.head()"
   ]
  },
  {
   "cell_type": "code",
   "execution_count": 16,
   "id": "f8aa32d5",
   "metadata": {},
   "outputs": [
    {
     "data": {
      "text/plain": [
       "0"
      ]
     },
     "execution_count": 16,
     "metadata": {},
     "output_type": "execute_result"
    }
   ],
   "source": [
    "user_go.duplicated().sum()"
   ]
  },
  {
   "cell_type": "markdown",
   "id": "d790427c",
   "metadata": {},
   "source": [
    "**Промежуточный вывод:**\n",
    "<p></p>\n",
    "\n",
    "<div style=\"border:solid green 2px; padding: 10px\">\n",
    "\n",
    "1. Удалили 31 дубликата в таблице user_go.\n",
    "2. Изменили тип данных у таблицы rides_go в столбце date, duration и округлили до двух знаков у столбца distance. \n",
    "3. Добавили в rides_go новый столбец\n",
    "</div>"
   ]
  },
  {
   "cell_type": "markdown",
   "id": "212593c7",
   "metadata": {},
   "source": [
    "#### Шаг 3. Исследовательский анализ данных"
   ]
  },
  {
   "cell_type": "markdown",
   "id": "b07cbaff",
   "metadata": {},
   "source": [
    "##### Опишем и  визуализируем общую информацию о пользователях и поездках:"
   ]
  },
  {
   "cell_type": "code",
   "execution_count": 17,
   "id": "e3a4274c",
   "metadata": {},
   "outputs": [
    {
     "data": {
      "text/plain": [
       "count          1534\n",
       "unique            8\n",
       "top       Пятигорск\n",
       "freq            219\n",
       "Name: city, dtype: object"
      ]
     },
     "execution_count": 17,
     "metadata": {},
     "output_type": "execute_result"
    }
   ],
   "source": [
    "# частота встречаемости городов:\n",
    "user_go['city'].describe()"
   ]
  },
  {
   "cell_type": "code",
   "execution_count": 18,
   "id": "dd08960e",
   "metadata": {},
   "outputs": [
    {
     "data": {
      "image/png": "[encoded data removed]",
      "text/plain": [
       "<Figure size 720x360 with 1 Axes>"
      ]
     },
     "metadata": {
      "needs_background": "light"
     },
     "output_type": "display_data"
    }
   ],
   "source": [
    "user_go.pivot_table(index='city', values = 'user_id', aggfunc = 'count').sort_values(by='user_id', \n",
    "     ascending=True).plot(title = 'Частота городов', kind = 'bar', grid = True, figsize=(10,5), color = 'green')\n",
    "plt.xlabel('Города')\n",
    "plt.ylabel('количество пользователей')\n",
    "plt.show() "
   ]
  },
  {
   "cell_type": "markdown",
   "id": "99a9e75b",
   "metadata": {},
   "source": [
    "**Вывод:** По изученным данным можно увидеть,что больше всего пользователей из города Пятигорск, после него Екатеринбург, Ростов-на-Дону, Краснодар и Сочи, Омск и Тюмень, и на самом последнем месте г. Москва."
   ]
  },
  {
   "cell_type": "code",
   "execution_count": 19,
   "id": "b19373bd",
   "metadata": {},
   "outputs": [
    {
     "data": {
      "text/plain": [
       "count     1534\n",
       "unique       2\n",
       "top       free\n",
       "freq       835\n",
       "Name: subscription_type, dtype: object"
      ]
     },
     "execution_count": 19,
     "metadata": {},
     "output_type": "execute_result"
    }
   ],
   "source": [
    "# соотношение пользователей с подпиской и без подписки:\n",
    "user_go['subscription_type'].describe()"
   ]
  },
  {
   "cell_type": "code",
   "execution_count": 20,
   "id": "2dc96fe7",
   "metadata": {},
   "outputs": [
    {
     "data": {
      "text/plain": [
       "<AxesSubplot:title={'center':'Подписка'}, ylabel='user_id'>"
      ]
     },
     "execution_count": 20,
     "metadata": {},
     "output_type": "execute_result"
    },
    {
     "data": {
      "image/png": "[encoded data removed]",
      "text/plain": [
       "<Figure size 432x288 with 1 Axes>"
      ]
     },
     "metadata": {},
     "output_type": "display_data"
    }
   ],
   "source": [
    "user_go.pivot_table(index='subscription_type', values = 'user_id', aggfunc = 'count') \\\n",
    ".plot(title = 'Подписка', kind = 'pie',  y='user_id', autopct='%1.1f%%',  colors = ['red', 'steelblue'])"
   ]
  },
  {
   "cell_type": "markdown",
   "id": "f19e1db5",
   "metadata": {},
   "source": [
    "**Вывод:** По изученным данным можно увидеть, что пользователей без подписки 54.4%, а с подпиской 45.6%."
   ]
  },
  {
   "cell_type": "code",
   "execution_count": 21,
   "id": "2424f620",
   "metadata": {},
   "outputs": [
    {
     "data": {
      "text/plain": [
       "count    1534.000000\n",
       "mean       24.903520\n",
       "std         4.572367\n",
       "min        12.000000\n",
       "25%        22.000000\n",
       "50%        25.000000\n",
       "75%        28.000000\n",
       "max        43.000000\n",
       "Name: age, dtype: float64"
      ]
     },
     "execution_count": 21,
     "metadata": {},
     "output_type": "execute_result"
    }
   ],
   "source": [
    "# возраст пользователей:\n",
    "user_go['age'].describe()"
   ]
  },
  {
   "cell_type": "code",
   "execution_count": 22,
   "id": "0f09cdec",
   "metadata": {},
   "outputs": [
    {
     "data": {
      "image/png": "[encoded data removed]",
      "text/plain": [
       "<Figure size 720x360 with 1 Axes>"
      ]
     },
     "metadata": {
      "needs_background": "light"
     },
     "output_type": "display_data"
    }
   ],
   "source": [
    "user_go['age'].plot(title = 'Возраст', kind = 'hist', bins=100, grid = True,\n",
    "                         figsize=(10,5), color = 'Purple')\n",
    "plt.xlabel('Возраст')\n",
    "plt.ylabel('количество пользователей')\n",
    "plt.show()"
   ]
  },
  {
   "cell_type": "markdown",
   "id": "223919c1",
   "metadata": {},
   "source": [
    "**Вывод:** По изученным данным можно увидеть, что пользователи в среднем имееют возраст 25 лет, медиана близка к среднему значению и график близок к нормальному распределению."
   ]
  },
  {
   "cell_type": "code",
   "execution_count": 23,
   "id": "f62ddb7a",
   "metadata": {},
   "outputs": [
    {
     "data": {
      "text/plain": [
       "count    18068.000000\n",
       "mean      3070.659992\n",
       "std       1116.831222\n",
       "min          0.860000\n",
       "25%       2543.227500\n",
       "50%       3133.610000\n",
       "75%       3776.220000\n",
       "max       7211.010000\n",
       "Name: distance, dtype: float64"
      ]
     },
     "execution_count": 23,
     "metadata": {},
     "output_type": "execute_result"
    }
   ],
   "source": [
    "# расстояние, которое пользователь преодолел за одну поездку:\n",
    "rides_go['distance'].describe()"
   ]
  },
  {
   "cell_type": "code",
   "execution_count": 24,
   "id": "d30a0744",
   "metadata": {},
   "outputs": [
    {
     "data": {
      "image/png": "[encoded data removed]",
      "text/plain": [
       "<Figure size 720x360 with 1 Axes>"
      ]
     },
     "metadata": {
      "needs_background": "light"
     },
     "output_type": "display_data"
    }
   ],
   "source": [
    "rides_go['distance'].plot(title = 'Расстояние', kind = 'hist', bins=500, grid = True,\n",
    "                         figsize=(10,5), color = 'blue')\n",
    "plt.xlabel('Расстояние')\n",
    "plt.ylabel('Пользователь')\n",
    "plt.show()"
   ]
  },
  {
   "cell_type": "markdown",
   "id": "04872c74",
   "metadata": {},
   "source": [
    "**Вывод:** По изученным данным можно увидеть, что пользователь в среднем преоделевает 3133.61 метра за одну поездку, минимальная поездка составила 0.86 метра, максимальная 7211.01 метра. Квартили равны 3133.61 и 3776.22 метра. Приблизительно от 1500 метра до 5500 график приближен к нормальному распределению."
   ]
  },
  {
   "cell_type": "code",
   "execution_count": 25,
   "id": "a26f66fb",
   "metadata": {},
   "outputs": [
    {
     "data": {
      "text/plain": [
       "count    18068.000000\n",
       "mean        18.303520\n",
       "std          6.094928\n",
       "min          1.000000\n",
       "25%         14.000000\n",
       "50%         18.000000\n",
       "75%         22.000000\n",
       "max         41.000000\n",
       "Name: duration, dtype: float64"
      ]
     },
     "execution_count": 25,
     "metadata": {},
     "output_type": "execute_result"
    }
   ],
   "source": [
    "# продолжительность поездок:\n",
    "rides_go['duration'].describe()"
   ]
  },
  {
   "cell_type": "code",
   "execution_count": 26,
   "id": "501f9e13",
   "metadata": {},
   "outputs": [
    {
     "data": {
      "image/png": "[encoded data removed]",
      "text/plain": [
       "<Figure size 720x360 with 1 Axes>"
      ]
     },
     "metadata": {
      "needs_background": "light"
     },
     "output_type": "display_data"
    }
   ],
   "source": [
    "rides_go['duration'].plot(title = 'Продолжительность', kind = 'hist', bins=100, grid = True,\n",
    "                         figsize=(10,5), color = 'blue')\n",
    "plt.xlabel('Минуты')\n",
    "plt.ylabel('Пользователь')\n",
    "plt.show()"
   ]
  },
  {
   "cell_type": "code",
   "execution_count": 27,
   "id": "70ea503f",
   "metadata": {},
   "outputs": [
    {
     "data": {
      "text/html": [
       "<div>\n",
       "<style scoped>\n",
       "    .dataframe tbody tr th:only-of-type {\n",
       "        vertical-align: middle;\n",
       "    }\n",
       "\n",
       "    .dataframe tbody tr th {\n",
       "        vertical-align: top;\n",
       "    }\n",
       "\n",
       "    .dataframe thead th {\n",
       "        text-align: right;\n",
       "    }\n",
       "</style>\n",
       "<table border=\"1\" class=\"dataframe\">\n",
       "  <thead>\n",
       "    <tr style=\"text-align: right;\">\n",
       "      <th></th>\n",
       "      <th>user_id</th>\n",
       "      <th>distance</th>\n",
       "      <th>duration</th>\n",
       "      <th>date</th>\n",
       "      <th>month</th>\n",
       "    </tr>\n",
       "  </thead>\n",
       "  <tbody>\n",
       "    <tr>\n",
       "      <th>6531</th>\n",
       "      <td>701</td>\n",
       "      <td>4196.45</td>\n",
       "      <td>1.0</td>\n",
       "      <td>2021-08-31</td>\n",
       "      <td>8</td>\n",
       "    </tr>\n",
       "    <tr>\n",
       "      <th>6570</th>\n",
       "      <td>704</td>\n",
       "      <td>4830.82</td>\n",
       "      <td>1.0</td>\n",
       "      <td>2021-10-14</td>\n",
       "      <td>10</td>\n",
       "    </tr>\n",
       "    <tr>\n",
       "      <th>6680</th>\n",
       "      <td>712</td>\n",
       "      <td>4684.00</td>\n",
       "      <td>1.0</td>\n",
       "      <td>2021-03-04</td>\n",
       "      <td>3</td>\n",
       "    </tr>\n",
       "    <tr>\n",
       "      <th>6695</th>\n",
       "      <td>713</td>\n",
       "      <td>5215.64</td>\n",
       "      <td>1.0</td>\n",
       "      <td>2021-02-25</td>\n",
       "      <td>2</td>\n",
       "    </tr>\n",
       "    <tr>\n",
       "      <th>6768</th>\n",
       "      <td>718</td>\n",
       "      <td>5197.44</td>\n",
       "      <td>1.0</td>\n",
       "      <td>2021-02-11</td>\n",
       "      <td>2</td>\n",
       "    </tr>\n",
       "  </tbody>\n",
       "</table>\n",
       "</div>"
      ],
      "text/plain": [
       "      user_id  distance  duration       date  month\n",
       "6531      701   4196.45       1.0 2021-08-31      8\n",
       "6570      704   4830.82       1.0 2021-10-14     10\n",
       "6680      712   4684.00       1.0 2021-03-04      3\n",
       "6695      713   5215.64       1.0 2021-02-25      2\n",
       "6768      718   5197.44       1.0 2021-02-11      2"
      ]
     },
     "execution_count": 27,
     "metadata": {},
     "output_type": "execute_result"
    }
   ],
   "source": [
    "rides_go.query('duration == 1').head()"
   ]
  },
  {
   "cell_type": "code",
   "execution_count": 28,
   "id": "b7b87229",
   "metadata": {},
   "outputs": [
    {
     "data": {
      "text/plain": [
       "count      95.000000\n",
       "mean     5113.176737\n",
       "std       658.254223\n",
       "min      4030.310000\n",
       "25%      4611.510000\n",
       "50%      5052.770000\n",
       "75%      5488.460000\n",
       "max      7211.010000\n",
       "Name: distance, dtype: float64"
      ]
     },
     "execution_count": 28,
     "metadata": {},
     "output_type": "execute_result"
    }
   ],
   "source": [
    "rides_go.query('duration == 1')['distance'].describe()"
   ]
  },
  {
   "cell_type": "code",
   "execution_count": 29,
   "id": "ed0edf62",
   "metadata": {},
   "outputs": [
    {
     "data": {
      "image/png": "[encoded data removed]",
      "text/plain": [
       "<Figure size 720x360 with 1 Axes>"
      ]
     },
     "metadata": {
      "needs_background": "light"
     },
     "output_type": "display_data"
    }
   ],
   "source": [
    "rides_go.query('duration == 1').pivot_table(index='user_id', values='distance').plot(grid=True, \n",
    "                                                                                     kind = 'hist', figsize=(10, 5), bins=50)\n",
    "plt.title('Расстояние поездки равной минуте')\n",
    "plt.xlabel('Метры')\n",
    "plt.ylabel('Пользователь')\n",
    "plt.show()"
   ]
  },
  {
   "cell_type": "markdown",
   "id": "d90417dd",
   "metadata": {},
   "source": [
    "**Вывод:** По изученным данным можно увидеть, что в среднем продолжительность одной поездки 17 минут, медиана близка к среднему значению, график близок к нормальному распределению. Можно увидеть аномальные значения равной 1 минуте около 100 пользователей. По выше данным и графику, можно увидеть, что поездки в 1 минуте составляли от 4030.31 до 7211.01 метра. Что кажется практически невозможным. Необходимо данные передать сервису самокатов GoFast, чтобы проверили и устранили данную аномалию."
   ]
  },
  {
   "cell_type": "markdown",
   "id": "7367d6b9",
   "metadata": {},
   "source": [
    "**Промежуточный вывод:**\n",
    "<p></p>\n",
    "\n",
    "<div style=\"border:solid green 2px; padding: 10px\">\n",
    "\n",
    "1. Больше всего пользователей из города Пятигорск, после него Екатеринбург, Ростов-на-Дону, Краснодар и Сочи, Омск и Тюмень, и на самом последнем месте г. Москва.\n",
    "2. Пользователей без подписки 54.4%, а с подпиской 45.6%.\n",
    "3. Пользователи в среднем имееют возраст 25 лет, медиана близка к среднему значению и график близок к нормальному распределению.\n",
    "4. Пользователь в среднем преоделевает 3133.61 метра за одну поездку, минимальная поездка составила 0.86 метра, максимальная 7211.01 метра. Квартили равны 3133.61 и 3776.22 метра. Приблизительно от 1500 метра до 5500 график приближен к нормальному распределению.\n",
    "5. В среднем продолжительность одной поездки 17 минут, медиана близка к среднему значению, график близок к нормальному распределению. Можно увидеть аномальные значения, меньше 1 минуты около 100 пользователей.\n",
    "</div>\n"
   ]
  },
  {
   "cell_type": "markdown",
   "id": "4ef51331",
   "metadata": {},
   "source": [
    "#### Шаг 4. Объединение данных"
   ]
  },
  {
   "cell_type": "markdown",
   "id": "99835805",
   "metadata": {},
   "source": [
    "##### Объединим данные о пользователях, поездках и подписках в один датафрейм. Для этого воспользуйтемся методом merge()."
   ]
  },
  {
   "cell_type": "code",
   "execution_count": 30,
   "id": "6bf288b5",
   "metadata": {},
   "outputs": [
    {
     "data": {
      "text/html": [
       "<div>\n",
       "<style scoped>\n",
       "    .dataframe tbody tr th:only-of-type {\n",
       "        vertical-align: middle;\n",
       "    }\n",
       "\n",
       "    .dataframe tbody tr th {\n",
       "        vertical-align: top;\n",
       "    }\n",
       "\n",
       "    .dataframe thead th {\n",
       "        text-align: right;\n",
       "    }\n",
       "</style>\n",
       "<table border=\"1\" class=\"dataframe\">\n",
       "  <thead>\n",
       "    <tr style=\"text-align: right;\">\n",
       "      <th></th>\n",
       "      <th>user_id</th>\n",
       "      <th>name</th>\n",
       "      <th>age</th>\n",
       "      <th>city</th>\n",
       "      <th>subscription_type</th>\n",
       "      <th>distance</th>\n",
       "      <th>duration</th>\n",
       "      <th>date</th>\n",
       "      <th>month</th>\n",
       "      <th>minute_price</th>\n",
       "      <th>start_ride_price</th>\n",
       "      <th>subscription_fee</th>\n",
       "    </tr>\n",
       "  </thead>\n",
       "  <tbody>\n",
       "    <tr>\n",
       "      <th>0</th>\n",
       "      <td>1</td>\n",
       "      <td>Кира</td>\n",
       "      <td>22</td>\n",
       "      <td>Тюмень</td>\n",
       "      <td>ultra</td>\n",
       "      <td>4409.92</td>\n",
       "      <td>26.0</td>\n",
       "      <td>2021-01-01</td>\n",
       "      <td>1</td>\n",
       "      <td>6</td>\n",
       "      <td>0</td>\n",
       "      <td>199</td>\n",
       "    </tr>\n",
       "    <tr>\n",
       "      <th>1</th>\n",
       "      <td>1</td>\n",
       "      <td>Кира</td>\n",
       "      <td>22</td>\n",
       "      <td>Тюмень</td>\n",
       "      <td>ultra</td>\n",
       "      <td>2617.59</td>\n",
       "      <td>16.0</td>\n",
       "      <td>2021-01-18</td>\n",
       "      <td>1</td>\n",
       "      <td>6</td>\n",
       "      <td>0</td>\n",
       "      <td>199</td>\n",
       "    </tr>\n",
       "    <tr>\n",
       "      <th>2</th>\n",
       "      <td>1</td>\n",
       "      <td>Кира</td>\n",
       "      <td>22</td>\n",
       "      <td>Тюмень</td>\n",
       "      <td>ultra</td>\n",
       "      <td>754.16</td>\n",
       "      <td>7.0</td>\n",
       "      <td>2021-04-20</td>\n",
       "      <td>4</td>\n",
       "      <td>6</td>\n",
       "      <td>0</td>\n",
       "      <td>199</td>\n",
       "    </tr>\n",
       "    <tr>\n",
       "      <th>3</th>\n",
       "      <td>1</td>\n",
       "      <td>Кира</td>\n",
       "      <td>22</td>\n",
       "      <td>Тюмень</td>\n",
       "      <td>ultra</td>\n",
       "      <td>2694.78</td>\n",
       "      <td>19.0</td>\n",
       "      <td>2021-08-11</td>\n",
       "      <td>8</td>\n",
       "      <td>6</td>\n",
       "      <td>0</td>\n",
       "      <td>199</td>\n",
       "    </tr>\n",
       "    <tr>\n",
       "      <th>4</th>\n",
       "      <td>1</td>\n",
       "      <td>Кира</td>\n",
       "      <td>22</td>\n",
       "      <td>Тюмень</td>\n",
       "      <td>ultra</td>\n",
       "      <td>4028.69</td>\n",
       "      <td>27.0</td>\n",
       "      <td>2021-08-28</td>\n",
       "      <td>8</td>\n",
       "      <td>6</td>\n",
       "      <td>0</td>\n",
       "      <td>199</td>\n",
       "    </tr>\n",
       "  </tbody>\n",
       "</table>\n",
       "</div>"
      ],
      "text/plain": [
       "   user_id  name  age    city subscription_type  distance  duration  \\\n",
       "0        1  Кира   22  Тюмень             ultra   4409.92      26.0   \n",
       "1        1  Кира   22  Тюмень             ultra   2617.59      16.0   \n",
       "2        1  Кира   22  Тюмень             ultra    754.16       7.0   \n",
       "3        1  Кира   22  Тюмень             ultra   2694.78      19.0   \n",
       "4        1  Кира   22  Тюмень             ultra   4028.69      27.0   \n",
       "\n",
       "        date  month  minute_price  start_ride_price  subscription_fee  \n",
       "0 2021-01-01      1             6                 0               199  \n",
       "1 2021-01-18      1             6                 0               199  \n",
       "2 2021-04-20      4             6                 0               199  \n",
       "3 2021-08-11      8             6                 0               199  \n",
       "4 2021-08-28      8             6                 0               199  "
      ]
     },
     "execution_count": 30,
     "metadata": {},
     "output_type": "execute_result"
    }
   ],
   "source": [
    "df = user_go.merge(rides_go, on='user_id')\n",
    "df = df.merge(subscriptions_go, on='subscription_type')\n",
    "df.head()"
   ]
  },
  {
   "cell_type": "code",
   "execution_count": 31,
   "id": "4fab8a75",
   "metadata": {},
   "outputs": [
    {
     "name": "stdout",
     "output_type": "stream",
     "text": [
      "<class 'pandas.core.frame.DataFrame'>\n",
      "Int64Index: 18068 entries, 0 to 18067\n",
      "Data columns (total 12 columns):\n",
      " #   Column             Non-Null Count  Dtype         \n",
      "---  ------             --------------  -----         \n",
      " 0   user_id            18068 non-null  int64         \n",
      " 1   name               18068 non-null  object        \n",
      " 2   age                18068 non-null  int64         \n",
      " 3   city               18068 non-null  object        \n",
      " 4   subscription_type  18068 non-null  object        \n",
      " 5   distance           18068 non-null  float64       \n",
      " 6   duration           18068 non-null  float64       \n",
      " 7   date               18068 non-null  datetime64[ns]\n",
      " 8   month              18068 non-null  int64         \n",
      " 9   minute_price       18068 non-null  int64         \n",
      " 10  start_ride_price   18068 non-null  int64         \n",
      " 11  subscription_fee   18068 non-null  int64         \n",
      "dtypes: datetime64[ns](1), float64(2), int64(6), object(3)\n",
      "memory usage: 1.8+ MB\n"
     ]
    }
   ],
   "source": [
    "df.info()"
   ]
  },
  {
   "cell_type": "code",
   "execution_count": 32,
   "id": "4a8a617e",
   "metadata": {},
   "outputs": [
    {
     "data": {
      "text/plain": [
       "0"
      ]
     },
     "execution_count": 32,
     "metadata": {},
     "output_type": "execute_result"
    }
   ],
   "source": [
    "df.duplicated().sum()"
   ]
  },
  {
   "cell_type": "markdown",
   "id": "04b74cd4",
   "metadata": {},
   "source": [
    "##### Создайте ещё два датафрейма из датафрейма:\n",
    "- c данными о пользователях без подписки;\n",
    "- с данными о пользователях с подпиской."
   ]
  },
  {
   "cell_type": "code",
   "execution_count": 33,
   "id": "5399d3a9",
   "metadata": {},
   "outputs": [
    {
     "data": {
      "text/html": [
       "<div>\n",
       "<style scoped>\n",
       "    .dataframe tbody tr th:only-of-type {\n",
       "        vertical-align: middle;\n",
       "    }\n",
       "\n",
       "    .dataframe tbody tr th {\n",
       "        vertical-align: top;\n",
       "    }\n",
       "\n",
       "    .dataframe thead th {\n",
       "        text-align: right;\n",
       "    }\n",
       "</style>\n",
       "<table border=\"1\" class=\"dataframe\">\n",
       "  <thead>\n",
       "    <tr style=\"text-align: right;\">\n",
       "      <th></th>\n",
       "      <th>user_id</th>\n",
       "      <th>name</th>\n",
       "      <th>age</th>\n",
       "      <th>city</th>\n",
       "      <th>subscription_type</th>\n",
       "      <th>distance</th>\n",
       "      <th>duration</th>\n",
       "      <th>date</th>\n",
       "      <th>month</th>\n",
       "      <th>minute_price</th>\n",
       "      <th>start_ride_price</th>\n",
       "      <th>subscription_fee</th>\n",
       "    </tr>\n",
       "  </thead>\n",
       "  <tbody>\n",
       "    <tr>\n",
       "      <th>6500</th>\n",
       "      <td>700</td>\n",
       "      <td>Айдар</td>\n",
       "      <td>22</td>\n",
       "      <td>Омск</td>\n",
       "      <td>free</td>\n",
       "      <td>2515.69</td>\n",
       "      <td>15.0</td>\n",
       "      <td>2021-01-02</td>\n",
       "      <td>1</td>\n",
       "      <td>8</td>\n",
       "      <td>50</td>\n",
       "      <td>0</td>\n",
       "    </tr>\n",
       "    <tr>\n",
       "      <th>6501</th>\n",
       "      <td>700</td>\n",
       "      <td>Айдар</td>\n",
       "      <td>22</td>\n",
       "      <td>Омск</td>\n",
       "      <td>free</td>\n",
       "      <td>846.93</td>\n",
       "      <td>17.0</td>\n",
       "      <td>2021-02-01</td>\n",
       "      <td>2</td>\n",
       "      <td>8</td>\n",
       "      <td>50</td>\n",
       "      <td>0</td>\n",
       "    </tr>\n",
       "    <tr>\n",
       "      <th>6502</th>\n",
       "      <td>700</td>\n",
       "      <td>Айдар</td>\n",
       "      <td>22</td>\n",
       "      <td>Омск</td>\n",
       "      <td>free</td>\n",
       "      <td>4004.43</td>\n",
       "      <td>21.0</td>\n",
       "      <td>2021-02-04</td>\n",
       "      <td>2</td>\n",
       "      <td>8</td>\n",
       "      <td>50</td>\n",
       "      <td>0</td>\n",
       "    </tr>\n",
       "    <tr>\n",
       "      <th>6503</th>\n",
       "      <td>700</td>\n",
       "      <td>Айдар</td>\n",
       "      <td>22</td>\n",
       "      <td>Омск</td>\n",
       "      <td>free</td>\n",
       "      <td>1205.91</td>\n",
       "      <td>10.0</td>\n",
       "      <td>2021-02-10</td>\n",
       "      <td>2</td>\n",
       "      <td>8</td>\n",
       "      <td>50</td>\n",
       "      <td>0</td>\n",
       "    </tr>\n",
       "    <tr>\n",
       "      <th>6504</th>\n",
       "      <td>700</td>\n",
       "      <td>Айдар</td>\n",
       "      <td>22</td>\n",
       "      <td>Омск</td>\n",
       "      <td>free</td>\n",
       "      <td>3047.38</td>\n",
       "      <td>18.0</td>\n",
       "      <td>2021-02-14</td>\n",
       "      <td>2</td>\n",
       "      <td>8</td>\n",
       "      <td>50</td>\n",
       "      <td>0</td>\n",
       "    </tr>\n",
       "  </tbody>\n",
       "</table>\n",
       "</div>"
      ],
      "text/plain": [
       "      user_id   name  age  city subscription_type  distance  duration  \\\n",
       "6500      700  Айдар   22  Омск              free   2515.69      15.0   \n",
       "6501      700  Айдар   22  Омск              free    846.93      17.0   \n",
       "6502      700  Айдар   22  Омск              free   4004.43      21.0   \n",
       "6503      700  Айдар   22  Омск              free   1205.91      10.0   \n",
       "6504      700  Айдар   22  Омск              free   3047.38      18.0   \n",
       "\n",
       "           date  month  minute_price  start_ride_price  subscription_fee  \n",
       "6500 2021-01-02      1             8                50                 0  \n",
       "6501 2021-02-01      2             8                50                 0  \n",
       "6502 2021-02-04      2             8                50                 0  \n",
       "6503 2021-02-10      2             8                50                 0  \n",
       "6504 2021-02-14      2             8                50                 0  "
      ]
     },
     "execution_count": 33,
     "metadata": {},
     "output_type": "execute_result"
    }
   ],
   "source": [
    "# с данными о пользователях без подписки\n",
    "user_go_free = df[df['subscription_type'] == 'free']\n",
    "user_go_free.head()"
   ]
  },
  {
   "cell_type": "code",
   "execution_count": 34,
   "id": "6b20c5b5",
   "metadata": {},
   "outputs": [
    {
     "name": "stdout",
     "output_type": "stream",
     "text": [
      "<class 'pandas.core.frame.DataFrame'>\n",
      "Int64Index: 11568 entries, 6500 to 18067\n",
      "Data columns (total 12 columns):\n",
      " #   Column             Non-Null Count  Dtype         \n",
      "---  ------             --------------  -----         \n",
      " 0   user_id            11568 non-null  int64         \n",
      " 1   name               11568 non-null  object        \n",
      " 2   age                11568 non-null  int64         \n",
      " 3   city               11568 non-null  object        \n",
      " 4   subscription_type  11568 non-null  object        \n",
      " 5   distance           11568 non-null  float64       \n",
      " 6   duration           11568 non-null  float64       \n",
      " 7   date               11568 non-null  datetime64[ns]\n",
      " 8   month              11568 non-null  int64         \n",
      " 9   minute_price       11568 non-null  int64         \n",
      " 10  start_ride_price   11568 non-null  int64         \n",
      " 11  subscription_fee   11568 non-null  int64         \n",
      "dtypes: datetime64[ns](1), float64(2), int64(6), object(3)\n",
      "memory usage: 1.1+ MB\n"
     ]
    }
   ],
   "source": [
    "user_go_free.info()"
   ]
  },
  {
   "cell_type": "code",
   "execution_count": 35,
   "id": "8c1b04dd",
   "metadata": {},
   "outputs": [
    {
     "data": {
      "text/html": [
       "<div>\n",
       "<style scoped>\n",
       "    .dataframe tbody tr th:only-of-type {\n",
       "        vertical-align: middle;\n",
       "    }\n",
       "\n",
       "    .dataframe tbody tr th {\n",
       "        vertical-align: top;\n",
       "    }\n",
       "\n",
       "    .dataframe thead th {\n",
       "        text-align: right;\n",
       "    }\n",
       "</style>\n",
       "<table border=\"1\" class=\"dataframe\">\n",
       "  <thead>\n",
       "    <tr style=\"text-align: right;\">\n",
       "      <th></th>\n",
       "      <th>user_id</th>\n",
       "      <th>name</th>\n",
       "      <th>age</th>\n",
       "      <th>city</th>\n",
       "      <th>subscription_type</th>\n",
       "      <th>distance</th>\n",
       "      <th>duration</th>\n",
       "      <th>date</th>\n",
       "      <th>month</th>\n",
       "      <th>minute_price</th>\n",
       "      <th>start_ride_price</th>\n",
       "      <th>subscription_fee</th>\n",
       "    </tr>\n",
       "  </thead>\n",
       "  <tbody>\n",
       "    <tr>\n",
       "      <th>0</th>\n",
       "      <td>1</td>\n",
       "      <td>Кира</td>\n",
       "      <td>22</td>\n",
       "      <td>Тюмень</td>\n",
       "      <td>ultra</td>\n",
       "      <td>4409.92</td>\n",
       "      <td>26.0</td>\n",
       "      <td>2021-01-01</td>\n",
       "      <td>1</td>\n",
       "      <td>6</td>\n",
       "      <td>0</td>\n",
       "      <td>199</td>\n",
       "    </tr>\n",
       "    <tr>\n",
       "      <th>1</th>\n",
       "      <td>1</td>\n",
       "      <td>Кира</td>\n",
       "      <td>22</td>\n",
       "      <td>Тюмень</td>\n",
       "      <td>ultra</td>\n",
       "      <td>2617.59</td>\n",
       "      <td>16.0</td>\n",
       "      <td>2021-01-18</td>\n",
       "      <td>1</td>\n",
       "      <td>6</td>\n",
       "      <td>0</td>\n",
       "      <td>199</td>\n",
       "    </tr>\n",
       "    <tr>\n",
       "      <th>2</th>\n",
       "      <td>1</td>\n",
       "      <td>Кира</td>\n",
       "      <td>22</td>\n",
       "      <td>Тюмень</td>\n",
       "      <td>ultra</td>\n",
       "      <td>754.16</td>\n",
       "      <td>7.0</td>\n",
       "      <td>2021-04-20</td>\n",
       "      <td>4</td>\n",
       "      <td>6</td>\n",
       "      <td>0</td>\n",
       "      <td>199</td>\n",
       "    </tr>\n",
       "    <tr>\n",
       "      <th>3</th>\n",
       "      <td>1</td>\n",
       "      <td>Кира</td>\n",
       "      <td>22</td>\n",
       "      <td>Тюмень</td>\n",
       "      <td>ultra</td>\n",
       "      <td>2694.78</td>\n",
       "      <td>19.0</td>\n",
       "      <td>2021-08-11</td>\n",
       "      <td>8</td>\n",
       "      <td>6</td>\n",
       "      <td>0</td>\n",
       "      <td>199</td>\n",
       "    </tr>\n",
       "    <tr>\n",
       "      <th>4</th>\n",
       "      <td>1</td>\n",
       "      <td>Кира</td>\n",
       "      <td>22</td>\n",
       "      <td>Тюмень</td>\n",
       "      <td>ultra</td>\n",
       "      <td>4028.69</td>\n",
       "      <td>27.0</td>\n",
       "      <td>2021-08-28</td>\n",
       "      <td>8</td>\n",
       "      <td>6</td>\n",
       "      <td>0</td>\n",
       "      <td>199</td>\n",
       "    </tr>\n",
       "  </tbody>\n",
       "</table>\n",
       "</div>"
      ],
      "text/plain": [
       "   user_id  name  age    city subscription_type  distance  duration  \\\n",
       "0        1  Кира   22  Тюмень             ultra   4409.92      26.0   \n",
       "1        1  Кира   22  Тюмень             ultra   2617.59      16.0   \n",
       "2        1  Кира   22  Тюмень             ultra    754.16       7.0   \n",
       "3        1  Кира   22  Тюмень             ultra   2694.78      19.0   \n",
       "4        1  Кира   22  Тюмень             ultra   4028.69      27.0   \n",
       "\n",
       "        date  month  minute_price  start_ride_price  subscription_fee  \n",
       "0 2021-01-01      1             6                 0               199  \n",
       "1 2021-01-18      1             6                 0               199  \n",
       "2 2021-04-20      4             6                 0               199  \n",
       "3 2021-08-11      8             6                 0               199  \n",
       "4 2021-08-28      8             6                 0               199  "
      ]
     },
     "execution_count": 35,
     "metadata": {},
     "output_type": "execute_result"
    }
   ],
   "source": [
    "# с данными о пользователях c подпиской\n",
    "user_go_ultra = df[df['subscription_type'] == 'ultra']\n",
    "user_go_ultra.head()"
   ]
  },
  {
   "cell_type": "code",
   "execution_count": 36,
   "id": "aea4e185",
   "metadata": {},
   "outputs": [
    {
     "name": "stdout",
     "output_type": "stream",
     "text": [
      "<class 'pandas.core.frame.DataFrame'>\n",
      "Int64Index: 6500 entries, 0 to 6499\n",
      "Data columns (total 12 columns):\n",
      " #   Column             Non-Null Count  Dtype         \n",
      "---  ------             --------------  -----         \n",
      " 0   user_id            6500 non-null   int64         \n",
      " 1   name               6500 non-null   object        \n",
      " 2   age                6500 non-null   int64         \n",
      " 3   city               6500 non-null   object        \n",
      " 4   subscription_type  6500 non-null   object        \n",
      " 5   distance           6500 non-null   float64       \n",
      " 6   duration           6500 non-null   float64       \n",
      " 7   date               6500 non-null   datetime64[ns]\n",
      " 8   month              6500 non-null   int64         \n",
      " 9   minute_price       6500 non-null   int64         \n",
      " 10  start_ride_price   6500 non-null   int64         \n",
      " 11  subscription_fee   6500 non-null   int64         \n",
      "dtypes: datetime64[ns](1), float64(2), int64(6), object(3)\n",
      "memory usage: 660.2+ KB\n"
     ]
    }
   ],
   "source": [
    "user_go_ultra.info()"
   ]
  },
  {
   "cell_type": "markdown",
   "id": "df3c7ab5",
   "metadata": {},
   "source": [
    "##### Визуализируем информацию о расстоянии и времени поездок для пользователей обеих категорий."
   ]
  },
  {
   "cell_type": "code",
   "execution_count": 37,
   "id": "411726fa",
   "metadata": {},
   "outputs": [
    {
     "data": {
      "text/plain": [
       "count    11568.000000\n",
       "mean        17.890992\n",
       "std          6.330250\n",
       "min          1.000000\n",
       "25%         13.000000\n",
       "50%         18.000000\n",
       "75%         22.000000\n",
       "max         35.000000\n",
       "Name: duration, dtype: float64"
      ]
     },
     "execution_count": 37,
     "metadata": {},
     "output_type": "execute_result"
    }
   ],
   "source": [
    "# продолжительность поездок без подписки:\n",
    "user_go_free['duration'].describe()"
   ]
  },
  {
   "cell_type": "code",
   "execution_count": 38,
   "id": "b8baac7e",
   "metadata": {},
   "outputs": [
    {
     "data": {
      "text/plain": [
       "count    6500.000000\n",
       "mean       19.037692\n",
       "std         5.577439\n",
       "min         4.000000\n",
       "25%        15.000000\n",
       "50%        19.000000\n",
       "75%        22.000000\n",
       "max        41.000000\n",
       "Name: duration, dtype: float64"
      ]
     },
     "execution_count": 38,
     "metadata": {},
     "output_type": "execute_result"
    }
   ],
   "source": [
    "# продолжительность поездок c подпиской:\n",
    "user_go_ultra['duration'].describe()"
   ]
  },
  {
   "cell_type": "code",
   "execution_count": 39,
   "id": "97a9f983",
   "metadata": {},
   "outputs": [
    {
     "data": {
      "image/png": "[encoded data removed]",
      "text/plain": [
       "<Figure size 432x288 with 1 Axes>"
      ]
     },
     "metadata": {
      "needs_background": "light"
     },
     "output_type": "display_data"
    }
   ],
   "source": [
    "plt.hist([user_go_free['duration'], user_go_ultra['duration']], bins=30, label=['free', 'ultra'])\n",
    "plt.legend(loc='upper right')\n",
    "plt.xlabel('Минуты')\n",
    "plt.ylabel('Пользователь')\n",
    "plt.title('Продолжительность поездок')\n",
    "plt.axvline(x=19, ymin=0.0, ymax=1.0, color='red')\n",
    "plt.show()"
   ]
  },
  {
   "cell_type": "code",
   "execution_count": 40,
   "id": "478d5df6",
   "metadata": {},
   "outputs": [
    {
     "data": {
      "text/plain": [
       "count    11568.000000\n",
       "mean      3045.495284\n",
       "std       1246.173810\n",
       "min          0.860000\n",
       "25%       2366.560000\n",
       "50%       3114.650000\n",
       "75%       3905.695000\n",
       "max       7211.010000\n",
       "Name: distance, dtype: float64"
      ]
     },
     "execution_count": 40,
     "metadata": {},
     "output_type": "execute_result"
    }
   ],
   "source": [
    "# расстояние, которое пользователь преодолел за одну поездку без подписки:\n",
    "user_go_free['distance'].describe()"
   ]
  },
  {
   "cell_type": "code",
   "execution_count": 41,
   "id": "049bc2f3",
   "metadata": {},
   "outputs": [
    {
     "data": {
      "text/plain": [
       "count    6500.000000\n",
       "mean     3115.445431\n",
       "std       836.895369\n",
       "min       244.210000\n",
       "25%      2785.447500\n",
       "50%      3148.640000\n",
       "75%      3560.577500\n",
       "max      5699.770000\n",
       "Name: distance, dtype: float64"
      ]
     },
     "execution_count": 41,
     "metadata": {},
     "output_type": "execute_result"
    }
   ],
   "source": [
    "# расстояние, которое пользователь преодолел за одну поездку с подпиской:\n",
    "user_go_ultra['distance'].describe()"
   ]
  },
  {
   "cell_type": "code",
   "execution_count": 42,
   "id": "6d745f2b",
   "metadata": {},
   "outputs": [
    {
     "data": {
      "image/png": "[encoded data removed]",
      "text/plain": [
       "<Figure size 432x288 with 1 Axes>"
      ]
     },
     "metadata": {
      "needs_background": "light"
     },
     "output_type": "display_data"
    }
   ],
   "source": [
    "plt.hist([user_go_free['distance'], user_go_ultra['distance']], bins=50, label=['free', 'ultra'])\n",
    "plt.legend(loc='upper right')\n",
    "plt.xlabel('Метры')\n",
    "plt.ylabel('Пользователь')\n",
    "plt.title('Расстояние поездок')\n",
    "plt.axvline(x=3148.64, ymin=0.0, ymax=1.0, color='red')\n",
    "plt.show()"
   ]
  },
  {
   "cell_type": "markdown",
   "id": "66ecab35",
   "metadata": {},
   "source": [
    "**Промежуточный вывод:**\n",
    "<p></p>\n",
    "\n",
    "<div style=\"border:solid green 2px; padding: 10px\">\n",
    "    \n",
    "1. Медианное значение продолжительности поездки без подписки составило 17 минут, с подпиской 18 минут.\n",
    "2. Медианное значение расстояния без подписки составило 3114.65 метра, с подпиской 3148.64 метра.\n",
    "3. Стандартное отклонение у расстояния без подписки - 1246.17, с подпиской - 836.90. Получается с подпиской имеется меньше разброс данных.\n",
    "4. По графику, где оцениваем расстояние, видно, что смещение центра у данных с подпиской и без подписок около 500 метров. \n",
    "    \n",
    "</div>"
   ]
  },
  {
   "cell_type": "markdown",
   "id": "402d620f",
   "metadata": {},
   "source": [
    "#### Шаг 5. Подсчёт выручки"
   ]
  },
  {
   "cell_type": "markdown",
   "id": "6af20b0b",
   "metadata": {},
   "source": [
    "##### Создадим датафрейм с агрегированными данными о поездках"
   ]
  },
  {
   "cell_type": "code",
   "execution_count": 43,
   "id": "53049e0a",
   "metadata": {},
   "outputs": [
    {
     "data": {
      "text/html": [
       "<div>\n",
       "<style scoped>\n",
       "    .dataframe tbody tr th:only-of-type {\n",
       "        vertical-align: middle;\n",
       "    }\n",
       "\n",
       "    .dataframe tbody tr th {\n",
       "        vertical-align: top;\n",
       "    }\n",
       "\n",
       "    .dataframe thead th {\n",
       "        text-align: right;\n",
       "    }\n",
       "</style>\n",
       "<table border=\"1\" class=\"dataframe\">\n",
       "  <thead>\n",
       "    <tr style=\"text-align: right;\">\n",
       "      <th></th>\n",
       "      <th></th>\n",
       "      <th>count</th>\n",
       "      <th>distance_sum</th>\n",
       "      <th>duration_sum</th>\n",
       "      <th>minute_price</th>\n",
       "      <th>start_ride_price</th>\n",
       "      <th>subscription_fee</th>\n",
       "    </tr>\n",
       "    <tr>\n",
       "      <th>user_id</th>\n",
       "      <th>month</th>\n",
       "      <th></th>\n",
       "      <th></th>\n",
       "      <th></th>\n",
       "      <th></th>\n",
       "      <th></th>\n",
       "      <th></th>\n",
       "    </tr>\n",
       "  </thead>\n",
       "  <tbody>\n",
       "    <tr>\n",
       "      <th rowspan=\"5\" valign=\"top\">1</th>\n",
       "      <th>1</th>\n",
       "      <td>2</td>\n",
       "      <td>7027.51</td>\n",
       "      <td>42.0</td>\n",
       "      <td>6</td>\n",
       "      <td>0</td>\n",
       "      <td>199</td>\n",
       "    </tr>\n",
       "    <tr>\n",
       "      <th>4</th>\n",
       "      <td>1</td>\n",
       "      <td>754.16</td>\n",
       "      <td>7.0</td>\n",
       "      <td>6</td>\n",
       "      <td>0</td>\n",
       "      <td>199</td>\n",
       "    </tr>\n",
       "    <tr>\n",
       "      <th>8</th>\n",
       "      <td>2</td>\n",
       "      <td>6723.47</td>\n",
       "      <td>46.0</td>\n",
       "      <td>6</td>\n",
       "      <td>0</td>\n",
       "      <td>199</td>\n",
       "    </tr>\n",
       "    <tr>\n",
       "      <th>10</th>\n",
       "      <td>2</td>\n",
       "      <td>5809.91</td>\n",
       "      <td>32.0</td>\n",
       "      <td>6</td>\n",
       "      <td>0</td>\n",
       "      <td>199</td>\n",
       "    </tr>\n",
       "    <tr>\n",
       "      <th>11</th>\n",
       "      <td>3</td>\n",
       "      <td>7003.50</td>\n",
       "      <td>56.0</td>\n",
       "      <td>6</td>\n",
       "      <td>0</td>\n",
       "      <td>199</td>\n",
       "    </tr>\n",
       "  </tbody>\n",
       "</table>\n",
       "</div>"
      ],
      "text/plain": [
       "               count  distance_sum  duration_sum  minute_price  \\\n",
       "user_id month                                                    \n",
       "1       1          2       7027.51          42.0             6   \n",
       "        4          1        754.16           7.0             6   \n",
       "        8          2       6723.47          46.0             6   \n",
       "        10         2       5809.91          32.0             6   \n",
       "        11         3       7003.50          56.0             6   \n",
       "\n",
       "               start_ride_price  subscription_fee  \n",
       "user_id month                                      \n",
       "1       1                     0               199  \n",
       "        4                     0               199  \n",
       "        8                     0               199  \n",
       "        10                    0               199  \n",
       "        11                    0               199  "
      ]
     },
     "execution_count": 43,
     "metadata": {},
     "output_type": "execute_result"
    }
   ],
   "source": [
    "dt_revenue = df.pivot_table(index=('user_id', 'month'), values=('distance', 'duration', 'minute_price', 'start_ride_price', \n",
    "    'subscription_fee'), aggfunc=({'distance':{'count','sum'}, 'duration': 'sum', 'minute_price': 'mean', \n",
    "                                   'start_ride_price': 'mean', 'subscription_fee': 'mean'}))\n",
    "dt_revenue.columns = ['count', 'distance_sum', 'duration_sum', 'minute_price', 'start_ride_price', 'subscription_fee']              \n",
    "dt_revenue.head()   "
   ]
  },
  {
   "cell_type": "markdown",
   "id": "60f26987",
   "metadata": {},
   "source": [
    "##### Добавим столбец с помесячной выручкой, которую принёс каждый пользователь."
   ]
  },
  {
   "cell_type": "code",
   "execution_count": 44,
   "id": "f5c997df",
   "metadata": {},
   "outputs": [
    {
     "data": {
      "text/html": [
       "<div>\n",
       "<style scoped>\n",
       "    .dataframe tbody tr th:only-of-type {\n",
       "        vertical-align: middle;\n",
       "    }\n",
       "\n",
       "    .dataframe tbody tr th {\n",
       "        vertical-align: top;\n",
       "    }\n",
       "\n",
       "    .dataframe thead th {\n",
       "        text-align: right;\n",
       "    }\n",
       "</style>\n",
       "<table border=\"1\" class=\"dataframe\">\n",
       "  <thead>\n",
       "    <tr style=\"text-align: right;\">\n",
       "      <th></th>\n",
       "      <th></th>\n",
       "      <th>count</th>\n",
       "      <th>distance_sum</th>\n",
       "      <th>duration_sum</th>\n",
       "      <th>minute_price</th>\n",
       "      <th>start_ride_price</th>\n",
       "      <th>subscription_fee</th>\n",
       "      <th>revenue_month</th>\n",
       "    </tr>\n",
       "    <tr>\n",
       "      <th>user_id</th>\n",
       "      <th>month</th>\n",
       "      <th></th>\n",
       "      <th></th>\n",
       "      <th></th>\n",
       "      <th></th>\n",
       "      <th></th>\n",
       "      <th></th>\n",
       "      <th></th>\n",
       "    </tr>\n",
       "  </thead>\n",
       "  <tbody>\n",
       "    <tr>\n",
       "      <th rowspan=\"5\" valign=\"top\">1</th>\n",
       "      <th>1</th>\n",
       "      <td>2</td>\n",
       "      <td>7027.51</td>\n",
       "      <td>42.0</td>\n",
       "      <td>6</td>\n",
       "      <td>0</td>\n",
       "      <td>199</td>\n",
       "      <td>451.0</td>\n",
       "    </tr>\n",
       "    <tr>\n",
       "      <th>4</th>\n",
       "      <td>1</td>\n",
       "      <td>754.16</td>\n",
       "      <td>7.0</td>\n",
       "      <td>6</td>\n",
       "      <td>0</td>\n",
       "      <td>199</td>\n",
       "      <td>241.0</td>\n",
       "    </tr>\n",
       "    <tr>\n",
       "      <th>8</th>\n",
       "      <td>2</td>\n",
       "      <td>6723.47</td>\n",
       "      <td>46.0</td>\n",
       "      <td>6</td>\n",
       "      <td>0</td>\n",
       "      <td>199</td>\n",
       "      <td>475.0</td>\n",
       "    </tr>\n",
       "    <tr>\n",
       "      <th>10</th>\n",
       "      <td>2</td>\n",
       "      <td>5809.91</td>\n",
       "      <td>32.0</td>\n",
       "      <td>6</td>\n",
       "      <td>0</td>\n",
       "      <td>199</td>\n",
       "      <td>391.0</td>\n",
       "    </tr>\n",
       "    <tr>\n",
       "      <th>11</th>\n",
       "      <td>3</td>\n",
       "      <td>7003.50</td>\n",
       "      <td>56.0</td>\n",
       "      <td>6</td>\n",
       "      <td>0</td>\n",
       "      <td>199</td>\n",
       "      <td>535.0</td>\n",
       "    </tr>\n",
       "  </tbody>\n",
       "</table>\n",
       "</div>"
      ],
      "text/plain": [
       "               count  distance_sum  duration_sum  minute_price  \\\n",
       "user_id month                                                    \n",
       "1       1          2       7027.51          42.0             6   \n",
       "        4          1        754.16           7.0             6   \n",
       "        8          2       6723.47          46.0             6   \n",
       "        10         2       5809.91          32.0             6   \n",
       "        11         3       7003.50          56.0             6   \n",
       "\n",
       "               start_ride_price  subscription_fee  revenue_month  \n",
       "user_id month                                                     \n",
       "1       1                     0               199          451.0  \n",
       "        4                     0               199          241.0  \n",
       "        8                     0               199          475.0  \n",
       "        10                    0               199          391.0  \n",
       "        11                    0               199          535.0  "
      ]
     },
     "execution_count": 44,
     "metadata": {},
     "output_type": "execute_result"
    }
   ],
   "source": [
    "dt_revenue['revenue_month'] = dt_revenue['start_ride_price'] * dt_revenue['count'] \\\n",
    "+ dt_revenue['minute_price'] * dt_revenue['duration_sum'] + dt_revenue['subscription_fee']\n",
    "dt_revenue.head()"
   ]
  },
  {
   "cell_type": "code",
   "execution_count": 45,
   "id": "f810214e",
   "metadata": {},
   "outputs": [
    {
     "data": {
      "text/plain": [
       "3878641.0"
      ]
     },
     "execution_count": 45,
     "metadata": {},
     "output_type": "execute_result"
    }
   ],
   "source": [
    "dt_revenue['revenue_month'].sum()"
   ]
  },
  {
   "cell_type": "markdown",
   "id": "571cdfc2",
   "metadata": {},
   "source": [
    "**Вывод:** За год выручка составила 3878641 рублей.   \n"
   ]
  },
  {
   "cell_type": "markdown",
   "id": "41545ac0",
   "metadata": {},
   "source": [
    "#### Шаг 6. Проверка гипотез"
   ]
  },
  {
   "cell_type": "markdown",
   "id": "09298774",
   "metadata": {},
   "source": [
    "##### Важно понять, тратят ли пользователи с подпиской больше времени на поездки? Если да, то пользователи с подпиской могут быть «выгоднее» для компании. Проверьте гипотезу. Используйте исходные данные о продолжительности каждой сессии — отдельно для подписчиков и тех, у кого нет подписки."
   ]
  },
  {
   "cell_type": "markdown",
   "id": "8d132e34",
   "metadata": {},
   "source": [
    "H0: Продолжительность поездки пользователя с подпиской равна продолжительности без подписки\n",
    "\n",
    "H1: Продолжительность поездки пользователя с подпиской больше продолжительности без подписки"
   ]
  },
  {
   "cell_type": "code",
   "execution_count": 46,
   "id": "b732f440",
   "metadata": {},
   "outputs": [
    {
     "name": "stdout",
     "output_type": "stream",
     "text": [
      "Средняя продолжительность поездки с подпиской: 19.0\n",
      "Средняя продолжительность поездки без подписки: 18.0\n",
      "p-значение: 2.4959453720736625e-34\n",
      "Отвергаем нулевую гипотезу\n"
     ]
    }
   ],
   "source": [
    "alpha = 0.05 # уровень статистической значимости\n",
    "# если p-value окажется меньше него, отвергнем гипотезу\n",
    "\n",
    "results = st.ttest_ind(user_go_ultra['duration'], user_go_free['duration'], equal_var=True, alternative = 'greater')\n",
    "\n",
    "print('Средняя продолжительность поездки с подпиской:', np.mean(user_go_ultra['duration']).round(0))\n",
    "print('Средняя продолжительность поездки без подписки:', np.mean(user_go_free['duration']).round(0))\n",
    "\n",
    "print('p-значение:', results.pvalue)\n",
    "\n",
    "if results.pvalue < alpha:\n",
    "    print('Отвергаем нулевую гипотезу')\n",
    "else:\n",
    "    print('Не получилось отвергнуть нулевую гипотезу')"
   ]
  },
  {
   "cell_type": "markdown",
   "id": "56c399e2",
   "metadata": {},
   "source": [
    "**Вывод:** Отвергаем нулевую гипотезу. Получается пользователи с подпиской тратят больше времени на поездку, чем пользователи без подписки."
   ]
  },
  {
   "cell_type": "markdown",
   "id": "1bb46a5d",
   "metadata": {},
   "source": [
    "##### Расстояние одной поездки в 3130 метров — оптимальное с точки зрения износа самоката. Можно ли сказать, что среднее расстояние, которое проезжают пользователи с подпиской за одну поездку, не превышает 3130 метров? Проверьте гипотезу и сделайте выводы."
   ]
  },
  {
   "cell_type": "markdown",
   "id": "df2b3c26",
   "metadata": {},
   "source": [
    "H0: Расстояние поездки пользователя с подпиской равна 3130 метров.\n",
    "\n",
    "H1: Расстояние поездки пользователя с подпиской больше 3130 метров."
   ]
  },
  {
   "cell_type": "code",
   "execution_count": 47,
   "id": "742a53dd",
   "metadata": {},
   "outputs": [
    {
     "name": "stdout",
     "output_type": "stream",
     "text": [
      "Среднее расстояние поездки с подпиской: 3115.45\n",
      "p-значение: 0.9195362605842414\n",
      "Не получилось отвергнуть нулевую гипотезу: Расстояние поездки пользователя с подпиской равна 3130 метров\n"
     ]
    }
   ],
   "source": [
    "distance = 3130\n",
    "\n",
    "alpha = 0.05 # укажем уровень статистической значимости\n",
    "\n",
    "results = st.ttest_1samp(\n",
    "    user_go_ultra['distance'], \n",
    "    distance, alternative='greater')\n",
    "\n",
    "print('Среднее расстояние поездки с подпиской:', np.mean(user_go_ultra['distance']).round(2))\n",
    "\n",
    "print('p-значение:', results.pvalue) \n",
    "\n",
    "if results.pvalue < alpha: # сравним полученный p-value и уровень значимости):\n",
    "    print('Отвергаем нулевую гипотезу: Расстояние поездки пользователя с подпиской больше 3130 метров')\n",
    "else:\n",
    "    print('Не получилось отвергнуть нулевую гипотезу: Расстояние поездки пользователя с подпиской равна 3130 метров')\n",
    "\n"
   ]
  },
  {
   "cell_type": "markdown",
   "id": "625d34bd",
   "metadata": {},
   "source": [
    "**Вывод:** Не получилось отвергнуть нулевую гипотезу. Среднее расстояние поездки пользователя с подпиской равна 3130 метров и расстояние не превышается этому значению."
   ]
  },
  {
   "cell_type": "markdown",
   "id": "cec3271c",
   "metadata": {},
   "source": [
    "##### Проверьте гипотезу о том, будет ли помесячная выручка от пользователей с подпиской по месяцам выше, чем выручка от пользователей без подписки. Сделайте вывод."
   ]
  },
  {
   "cell_type": "markdown",
   "id": "032ea2e5",
   "metadata": {},
   "source": [
    "H0: Месячная выручка с подпиской равно месячной выручки без подписки.\n",
    "\n",
    "H1: Месячная выручка с подпиской больше месячной без подписки."
   ]
  },
  {
   "cell_type": "code",
   "execution_count": 48,
   "id": "95909c58",
   "metadata": {},
   "outputs": [
    {
     "name": "stdout",
     "output_type": "stream",
     "text": [
      "Средняя месячная выручка с подпиской: 362.79\n",
      "Средняя месячная выручка без подписки: 328.64\n",
      "p-значение: 1.8850394384715216e-31\n",
      "Отвергаем нулевую гипотезу\n"
     ]
    }
   ],
   "source": [
    "alpha = 0.05 # уровень статистической значимости\n",
    "# если p-value окажется меньше него, отвергнем гипотезу\n",
    "\n",
    "results = st.ttest_ind(dt_revenue.loc[dt_revenue['subscription_fee'] > 0, 'revenue_month'], \n",
    "                       dt_revenue.loc[dt_revenue['subscription_fee'] == 0, 'revenue_month'],\n",
    "                       equal_var=True, alternative = 'greater')\n",
    "\n",
    "print('Средняя месячная выручка с подпиской:', np.mean(dt_revenue.loc[dt_revenue['subscription_fee'] > 0,\n",
    "                                                                      'revenue_month']).round(2))\n",
    "print('Средняя месячная выручка без подписки:', np.mean(dt_revenue.loc[dt_revenue['subscription_fee'] == 0,\n",
    "                                                                       'revenue_month']).round(2))\n",
    "\n",
    "print('p-значение:', results.pvalue)\n",
    "\n",
    "if results.pvalue < alpha:\n",
    "    print('Отвергаем нулевую гипотезу')\n",
    "else:\n",
    "    print('Не получилось отвергнуть нулевую гипотезу')"
   ]
  },
  {
   "cell_type": "markdown",
   "id": "1b4a3153",
   "metadata": {},
   "source": [
    "**Вывод:** Отвергаем нулевую гипотезу. Получается, что средняя месячная выручка с подпиской больше, чем без подписки."
   ]
  },
  {
   "cell_type": "markdown",
   "id": "4f827f0b",
   "metadata": {},
   "source": [
    "##### Представьте такую ситуацию: техническая команда сервиса обновила сервера, с которыми взаимодействует мобильное приложение. Она надеется, что из-за этого количество обращений в техподдержку значимо снизилось. Некоторый файл содержит для каждого пользователя данные о количестве обращений до обновления и после него. Какой тест вам понадобился бы для проверки этой гипотезы?"
   ]
  },
  {
   "cell_type": "markdown",
   "id": "7e2974ba",
   "metadata": {},
   "source": [
    "Нам известно, что два параметра: количество обращений до обновления и после него. Это две зависимые парные выбоки. Если оба набора одинаковые по размеру: каждое измерение должно быть проведено до и после изменения. То можно применить метод scipy.stats.ttest_rel(), а если не одинаковое, то воспользуемся методом scipy.stats.ttest_ind(). \n",
    "\n",
    "H0: количество обращений после обновления равно до обновления.\n",
    "\n",
    "H1: количество обращений после обновления меньше, чем до обновления. В методе следует указать alternative=\"less\".\n"
   ]
  },
  {
   "cell_type": "markdown",
   "id": "638212fa",
   "metadata": {},
   "source": [
    "**Общий вывод:**\n",
    "<p></p>\n",
    "\n",
    "<div style=\"border:solid green 3px; padding: 10px\">\n",
    "    \n",
    "*1. Изучили общую информацию:*\n",
    "    \n",
    "- Таблицы состоят из 1565 (user_go), 18068 (rides_go) и 2 (subscriptions_go) записей.\n",
    "- Найдено 31 дубликата в таблице user_go.\n",
    "- Пропусков не найдено.\n",
    "- Есть некорректный тип данных у таблицы rides_go в столбце date.\n",
    "- Название столбцов корректны.\n",
    "    \n",
    "*2. Выполнили предобработку данных:**   \n",
    "- Удалили 31 дубликата в таблице user_go.\n",
    "- Изменили тип данных у таблицы rides_go в столбце date, duration и округлили до двух знаков у столбца distance. \n",
    "- Добавили в rides_go новый столбец.   \n",
    "    \n",
    "*3. Провели исследовательский анализ данных:*   \n",
    "- Больше всего пользователей из города Пятигорск, после него Екатеринбург, Ростов-на-Дону, Краснодар и Сочи, Омск и Тюмень, и на самом последнем месте г. Москва.\n",
    "- Пользователей без подписки 54.4%, а с подпиской 45.6%.\n",
    "- Пользователи в среднем имееют возраст 25 лет, медиана близка к среднему значению и график близок к нормальному распределению.\n",
    "- Пользователь в среднем преоделевает 3133.61 метра за одну поездку, минимальная поездка составила 0.86 метра, максимальная 7211.01 метра. Квартили равны 3133.61 и 3776.22 метра. Приблизительно от 1500 метра до 5500 график приближен к нормальному распределению.\n",
    "- В среднем продолжительность одной поездки 17 минут, медиана близка к среднему значению, график близок к нормальному распределению. Можно увидеть аномальные значения, равной 1 минуте около 100 пользователей. Поездки в 1 минуте составляли от 4030.31 до 7211.01 метра. Что кажется практически невозможным. Необходимо данные передать сервису самокатов GoFast, чтобы проверили и устранили данную аномалию.\n",
    "    \n",
    "      \n",
    "*4. Объединили данные и провели их анализ:*    \n",
    "    \n",
    "- Медианное значение продолжительности поездки без подписки составило 17 минут, с подпиской 18 минут.\n",
    "- Медианное значение расстояния без подписки составило 3114.65 метра, с подпиской 3148.64 метра.\n",
    "- Стандартное отклонение у расстояния без подписки - 1246.17, с подпиской - 836.90. Получается с подпиской имеется меньше разброс данных.\n",
    "- По графику, где оцениваем расстояние, видно, что смещение центра у данных с подпиской и без подписок около 500 метров. \n",
    "    \n",
    "*5. Сделали подсчёт выручки:*\n",
    "    \n",
    "- За год выручка составила 3878641 рублей.   \n",
    "\n",
    "*6. Проверили гипотезы:*   \n",
    "    \n",
    "- Пользователи с подпиской тратят больше времени на поездку, чем пользователи без подписки.\n",
    "- Среднее расстояние поездки пользователя с подпиской равна 3130 метров и расстояние не превышается этому значению.\n",
    "- Средняя месячная выручка с подпиской больше, чем без подписки.\n",
    "    \n",
    "    \n",
    "    \n",
    " "
   ]
  }
 ],
 "metadata": {
  "ExecuteTimeLog": [
   {
    "duration": 414,
    "start_time": "2024-05-10T09:59:41.241Z"
   },
   {
    "duration": 314,
    "start_time": "2024-05-10T09:59:43.194Z"
   },
   {
    "duration": 18,
    "start_time": "2024-05-10T09:59:44.904Z"
   },
   {
    "duration": 9,
    "start_time": "2024-05-10T09:59:48.723Z"
   },
   {
    "duration": 7,
    "start_time": "2024-05-10T09:59:51.724Z"
   },
   {
    "duration": 14,
    "start_time": "2024-05-10T10:09:23.206Z"
   },
   {
    "duration": 12,
    "start_time": "2024-05-10T10:09:41.234Z"
   },
   {
    "duration": 11,
    "start_time": "2024-05-10T10:10:21.212Z"
   },
   {
    "duration": 6,
    "start_time": "2024-05-10T10:13:42.997Z"
   },
   {
    "duration": 9,
    "start_time": "2024-05-10T10:13:44.172Z"
   },
   {
    "duration": 7,
    "start_time": "2024-05-10T10:13:45.096Z"
   },
   {
    "duration": 11,
    "start_time": "2024-05-10T10:15:46.928Z"
   },
   {
    "duration": 15,
    "start_time": "2024-05-10T10:15:54.955Z"
   },
   {
    "duration": 5,
    "start_time": "2024-05-10T10:17:07.161Z"
   },
   {
    "duration": 11,
    "start_time": "2024-05-10T10:17:13.678Z"
   },
   {
    "duration": 11,
    "start_time": "2024-05-10T10:17:42.866Z"
   },
   {
    "duration": 5,
    "start_time": "2024-05-10T10:18:48.058Z"
   },
   {
    "duration": 67,
    "start_time": "2024-05-10T10:19:13.562Z"
   },
   {
    "duration": 6,
    "start_time": "2024-05-10T10:19:17.804Z"
   },
   {
    "duration": 12,
    "start_time": "2024-05-10T10:19:19.586Z"
   },
   {
    "duration": 12,
    "start_time": "2024-05-10T10:19:27.827Z"
   },
   {
    "duration": 11,
    "start_time": "2024-05-10T10:20:12.398Z"
   },
   {
    "duration": 20,
    "start_time": "2024-05-10T10:21:16.807Z"
   },
   {
    "duration": 10,
    "start_time": "2024-05-10T10:21:28.931Z"
   },
   {
    "duration": 795,
    "start_time": "2024-05-10T10:24:27.194Z"
   },
   {
    "duration": 458,
    "start_time": "2024-05-10T10:25:06.823Z"
   },
   {
    "duration": 234,
    "start_time": "2024-05-10T10:25:16.973Z"
   },
   {
    "duration": 306,
    "start_time": "2024-05-10T10:26:29.784Z"
   },
   {
    "duration": 42,
    "start_time": "2024-05-10T10:27:15.711Z"
   },
   {
    "duration": 168,
    "start_time": "2024-05-10T10:27:20.631Z"
   },
   {
    "duration": 151,
    "start_time": "2024-05-10T10:27:48.955Z"
   },
   {
    "duration": 144,
    "start_time": "2024-05-10T10:27:53.596Z"
   },
   {
    "duration": 171,
    "start_time": "2024-05-10T10:28:07.169Z"
   },
   {
    "duration": 343,
    "start_time": "2024-05-10T10:28:20.475Z"
   },
   {
    "duration": 1068,
    "start_time": "2024-05-10T10:42:40.107Z"
   },
   {
    "duration": 82,
    "start_time": "2024-05-10T10:42:52.094Z"
   },
   {
    "duration": 13,
    "start_time": "2024-05-10T10:42:56.228Z"
   },
   {
    "duration": 9,
    "start_time": "2024-05-10T10:43:01.836Z"
   },
   {
    "duration": 7,
    "start_time": "2024-05-10T10:43:16.052Z"
   },
   {
    "duration": 11,
    "start_time": "2024-05-10T10:43:20.476Z"
   },
   {
    "duration": 11,
    "start_time": "2024-05-10T10:43:22.933Z"
   },
   {
    "duration": 13,
    "start_time": "2024-05-10T10:43:25.007Z"
   },
   {
    "duration": 6,
    "start_time": "2024-05-10T10:43:26.917Z"
   },
   {
    "duration": 10,
    "start_time": "2024-05-10T10:43:27.935Z"
   },
   {
    "duration": 8,
    "start_time": "2024-05-10T10:43:33.347Z"
   },
   {
    "duration": 5,
    "start_time": "2024-05-10T10:43:34.325Z"
   },
   {
    "duration": 146,
    "start_time": "2024-05-10T10:43:37.010Z"
   },
   {
    "duration": 1136,
    "start_time": "2024-05-10T10:44:23.870Z"
   },
   {
    "duration": 71,
    "start_time": "2024-05-10T10:44:27.726Z"
   },
   {
    "duration": 14,
    "start_time": "2024-05-10T10:44:28.333Z"
   },
   {
    "duration": 9,
    "start_time": "2024-05-10T10:44:29.198Z"
   },
   {
    "duration": 12,
    "start_time": "2024-05-10T10:44:29.209Z"
   },
   {
    "duration": 28,
    "start_time": "2024-05-10T10:44:29.223Z"
   },
   {
    "duration": 11,
    "start_time": "2024-05-10T10:44:29.305Z"
   },
   {
    "duration": 12,
    "start_time": "2024-05-10T10:44:29.446Z"
   },
   {
    "duration": 6,
    "start_time": "2024-05-10T10:44:29.766Z"
   },
   {
    "duration": 10,
    "start_time": "2024-05-10T10:44:29.931Z"
   },
   {
    "duration": 9,
    "start_time": "2024-05-10T10:44:30.264Z"
   },
   {
    "duration": 6,
    "start_time": "2024-05-10T10:44:30.387Z"
   },
   {
    "duration": 170,
    "start_time": "2024-05-10T10:44:30.719Z"
   },
   {
    "duration": 392,
    "start_time": "2024-05-10T10:44:30.895Z"
   },
   {
    "duration": 273,
    "start_time": "2024-05-10T10:45:01.325Z"
   },
   {
    "duration": 293,
    "start_time": "2024-05-10T10:45:12.694Z"
   },
   {
    "duration": 284,
    "start_time": "2024-05-10T10:45:23.840Z"
   },
   {
    "duration": 7,
    "start_time": "2024-05-10T10:51:56.992Z"
   },
   {
    "duration": 9,
    "start_time": "2024-05-10T10:52:15.308Z"
   },
   {
    "duration": 8,
    "start_time": "2024-05-10T10:52:27.287Z"
   },
   {
    "duration": 12,
    "start_time": "2024-05-10T10:53:59.008Z"
   },
   {
    "duration": 10,
    "start_time": "2024-05-10T10:54:19.818Z"
   },
   {
    "duration": 5,
    "start_time": "2024-05-10T10:55:03.595Z"
   },
   {
    "duration": 9,
    "start_time": "2024-05-10T10:55:14.009Z"
   },
   {
    "duration": 74,
    "start_time": "2024-05-10T10:56:08.843Z"
   },
   {
    "duration": 10,
    "start_time": "2024-05-10T10:56:12.398Z"
   },
   {
    "duration": 5,
    "start_time": "2024-05-10T10:56:20.917Z"
   },
   {
    "duration": 9,
    "start_time": "2024-05-10T10:56:22.301Z"
   },
   {
    "duration": 4,
    "start_time": "2024-05-10T10:57:19.229Z"
   },
   {
    "duration": 4,
    "start_time": "2024-05-10T10:57:52.176Z"
   },
   {
    "duration": 4,
    "start_time": "2024-05-10T10:59:04.444Z"
   },
   {
    "duration": 4,
    "start_time": "2024-05-10T10:59:33.806Z"
   },
   {
    "duration": 12,
    "start_time": "2024-05-10T11:00:00.318Z"
   },
   {
    "duration": 4,
    "start_time": "2024-05-10T11:00:01.495Z"
   },
   {
    "duration": 168,
    "start_time": "2024-05-10T11:00:01.542Z"
   },
   {
    "duration": 11,
    "start_time": "2024-05-10T11:00:26.583Z"
   },
   {
    "duration": 10,
    "start_time": "2024-05-10T11:00:32.299Z"
   },
   {
    "duration": 11,
    "start_time": "2024-05-10T11:00:59.690Z"
   },
   {
    "duration": 3,
    "start_time": "2024-05-10T11:01:00.131Z"
   },
   {
    "duration": 9,
    "start_time": "2024-05-10T11:01:00.616Z"
   },
   {
    "duration": 4,
    "start_time": "2024-05-10T11:01:08.515Z"
   },
   {
    "duration": 70,
    "start_time": "2024-05-10T11:01:08.970Z"
   },
   {
    "duration": 9,
    "start_time": "2024-05-10T11:01:09.216Z"
   },
   {
    "duration": 9,
    "start_time": "2024-05-10T11:01:09.338Z"
   },
   {
    "duration": 7,
    "start_time": "2024-05-10T11:01:09.462Z"
   },
   {
    "duration": 10,
    "start_time": "2024-05-10T11:01:09.728Z"
   },
   {
    "duration": 11,
    "start_time": "2024-05-10T11:01:09.859Z"
   },
   {
    "duration": 11,
    "start_time": "2024-05-10T11:01:10.001Z"
   },
   {
    "duration": 6,
    "start_time": "2024-05-10T11:01:10.274Z"
   },
   {
    "duration": 11,
    "start_time": "2024-05-10T11:01:10.409Z"
   },
   {
    "duration": 8,
    "start_time": "2024-05-10T11:01:10.700Z"
   },
   {
    "duration": 5,
    "start_time": "2024-05-10T11:01:10.836Z"
   },
   {
    "duration": 153,
    "start_time": "2024-05-10T11:01:11.129Z"
   },
   {
    "duration": 289,
    "start_time": "2024-05-10T11:01:11.283Z"
   },
   {
    "duration": 6,
    "start_time": "2024-05-10T11:01:12.359Z"
   },
   {
    "duration": 4,
    "start_time": "2024-05-10T11:01:12.664Z"
   },
   {
    "duration": 8,
    "start_time": "2024-05-10T11:01:13.271Z"
   },
   {
    "duration": 6,
    "start_time": "2024-05-10T11:01:16.914Z"
   },
   {
    "duration": 8,
    "start_time": "2024-05-10T11:01:17.334Z"
   },
   {
    "duration": 3,
    "start_time": "2024-05-10T11:01:20.996Z"
   },
   {
    "duration": 12,
    "start_time": "2024-05-10T11:01:32.804Z"
   },
   {
    "duration": 9,
    "start_time": "2024-05-10T11:01:47.262Z"
   },
   {
    "duration": 6,
    "start_time": "2024-05-10T11:02:22.618Z"
   },
   {
    "duration": 13,
    "start_time": "2024-05-10T11:04:41.855Z"
   },
   {
    "duration": 9,
    "start_time": "2024-05-10T11:04:52.444Z"
   },
   {
    "duration": 13,
    "start_time": "2024-05-10T11:05:11.796Z"
   },
   {
    "duration": 13,
    "start_time": "2024-05-10T11:07:52.352Z"
   },
   {
    "duration": 8,
    "start_time": "2024-05-10T11:09:17.586Z"
   },
   {
    "duration": 6,
    "start_time": "2024-05-10T11:13:32.330Z"
   },
   {
    "duration": 9,
    "start_time": "2024-05-10T11:13:48.481Z"
   },
   {
    "duration": 8,
    "start_time": "2024-05-10T11:13:56.290Z"
   },
   {
    "duration": 8,
    "start_time": "2024-05-10T11:14:16.907Z"
   },
   {
    "duration": 8,
    "start_time": "2024-05-10T11:19:57.766Z"
   },
   {
    "duration": 17,
    "start_time": "2024-05-10T11:20:52.247Z"
   },
   {
    "duration": 3,
    "start_time": "2024-05-10T11:21:27.976Z"
   },
   {
    "duration": 72,
    "start_time": "2024-05-10T11:21:28.544Z"
   },
   {
    "duration": 24,
    "start_time": "2024-05-10T11:21:28.618Z"
   },
   {
    "duration": 24,
    "start_time": "2024-05-10T11:21:28.644Z"
   },
   {
    "duration": 18,
    "start_time": "2024-05-10T11:21:28.674Z"
   },
   {
    "duration": 11,
    "start_time": "2024-05-10T11:21:28.737Z"
   },
   {
    "duration": 12,
    "start_time": "2024-05-10T11:21:28.765Z"
   },
   {
    "duration": 10,
    "start_time": "2024-05-10T11:21:28.798Z"
   },
   {
    "duration": 7,
    "start_time": "2024-05-10T11:21:28.862Z"
   },
   {
    "duration": 9,
    "start_time": "2024-05-10T11:21:28.894Z"
   },
   {
    "duration": 10,
    "start_time": "2024-05-10T11:21:28.923Z"
   },
   {
    "duration": 154,
    "start_time": "2024-05-10T11:21:28.984Z"
   },
   {
    "duration": 311,
    "start_time": "2024-05-10T11:21:29.140Z"
   },
   {
    "duration": 7,
    "start_time": "2024-05-10T11:21:29.453Z"
   },
   {
    "duration": 18,
    "start_time": "2024-05-10T11:21:29.461Z"
   },
   {
    "duration": 17,
    "start_time": "2024-05-10T11:21:29.482Z"
   },
   {
    "duration": 22,
    "start_time": "2024-05-10T11:21:29.501Z"
   },
   {
    "duration": 22,
    "start_time": "2024-05-10T11:21:29.525Z"
   },
   {
    "duration": 4,
    "start_time": "2024-05-10T11:21:29.549Z"
   },
   {
    "duration": 9,
    "start_time": "2024-05-10T11:21:29.554Z"
   },
   {
    "duration": 7,
    "start_time": "2024-05-10T11:21:29.565Z"
   },
   {
    "duration": 9,
    "start_time": "2024-05-10T11:21:29.574Z"
   },
   {
    "duration": 12,
    "start_time": "2024-05-10T11:21:29.584Z"
   },
   {
    "duration": 7,
    "start_time": "2024-05-10T11:21:29.646Z"
   },
   {
    "duration": 20,
    "start_time": "2024-05-10T11:21:29.678Z"
   },
   {
    "duration": 358,
    "start_time": "2024-05-10T11:23:32.324Z"
   },
   {
    "duration": 70,
    "start_time": "2024-05-10T11:23:52.629Z"
   },
   {
    "duration": 68,
    "start_time": "2024-05-10T11:23:58.385Z"
   },
   {
    "duration": 63,
    "start_time": "2024-05-10T11:24:28.801Z"
   },
   {
    "duration": 194,
    "start_time": "2024-05-10T11:24:36.391Z"
   },
   {
    "duration": 157,
    "start_time": "2024-05-10T11:25:00.941Z"
   },
   {
    "duration": 171,
    "start_time": "2024-05-10T11:25:08.383Z"
   },
   {
    "duration": 173,
    "start_time": "2024-05-10T11:25:52.531Z"
   },
   {
    "duration": 189,
    "start_time": "2024-05-10T11:26:19.286Z"
   },
   {
    "duration": 7,
    "start_time": "2024-05-10T11:30:33.536Z"
   },
   {
    "duration": 162,
    "start_time": "2024-05-10T11:31:23.303Z"
   },
   {
    "duration": 15,
    "start_time": "2024-05-10T11:31:41.958Z"
   },
   {
    "duration": 152,
    "start_time": "2024-05-10T11:32:07.741Z"
   },
   {
    "duration": 175,
    "start_time": "2024-05-10T11:32:22.949Z"
   },
   {
    "duration": 172,
    "start_time": "2024-05-10T11:32:48.427Z"
   },
   {
    "duration": 74,
    "start_time": "2024-05-10T11:36:33.147Z"
   },
   {
    "duration": 180,
    "start_time": "2024-05-10T11:36:38.794Z"
   },
   {
    "duration": 14,
    "start_time": "2024-05-10T11:38:09.155Z"
   },
   {
    "duration": 15,
    "start_time": "2024-05-10T11:38:21.196Z"
   },
   {
    "duration": 1115,
    "start_time": "2024-05-10T11:38:56.502Z"
   },
   {
    "duration": 237,
    "start_time": "2024-05-10T11:39:19.407Z"
   },
   {
    "duration": 70,
    "start_time": "2024-05-10T11:39:43.951Z"
   },
   {
    "duration": 134,
    "start_time": "2024-05-10T11:39:50.540Z"
   },
   {
    "duration": 139,
    "start_time": "2024-05-10T11:40:02.924Z"
   },
   {
    "duration": 128,
    "start_time": "2024-05-10T11:41:39.171Z"
   },
   {
    "duration": 9,
    "start_time": "2024-05-10T11:42:21.674Z"
   },
   {
    "duration": 192,
    "start_time": "2024-05-10T11:42:59.591Z"
   },
   {
    "duration": 194,
    "start_time": "2024-05-10T11:43:12.298Z"
   },
   {
    "duration": 275,
    "start_time": "2024-05-10T11:43:30.232Z"
   },
   {
    "duration": 268,
    "start_time": "2024-05-10T11:44:36.979Z"
   },
   {
    "duration": 1013,
    "start_time": "2024-05-10T11:46:26.534Z"
   },
   {
    "duration": 10,
    "start_time": "2024-05-10T11:46:47.304Z"
   },
   {
    "duration": 67,
    "start_time": "2024-05-10T11:47:27.360Z"
   },
   {
    "duration": 353,
    "start_time": "2024-05-10T11:47:32.107Z"
   },
   {
    "duration": 215,
    "start_time": "2024-05-10T11:47:41.531Z"
   },
   {
    "duration": 383,
    "start_time": "2024-05-10T11:47:45.648Z"
   },
   {
    "duration": 161,
    "start_time": "2024-05-10T11:47:50.442Z"
   },
   {
    "duration": 191,
    "start_time": "2024-05-10T11:47:58.367Z"
   },
   {
    "duration": 857,
    "start_time": "2024-05-10T11:48:28.521Z"
   },
   {
    "duration": 9,
    "start_time": "2024-05-10T11:54:02.172Z"
   },
   {
    "duration": 761,
    "start_time": "2024-05-10T11:54:21.624Z"
   },
   {
    "duration": 208,
    "start_time": "2024-05-10T11:54:26.365Z"
   },
   {
    "duration": 401,
    "start_time": "2024-05-10T11:54:32.929Z"
   },
   {
    "duration": 24,
    "start_time": "2024-05-10T12:03:04.712Z"
   },
   {
    "duration": 9,
    "start_time": "2024-05-10T12:06:58.657Z"
   },
   {
    "duration": 23,
    "start_time": "2024-05-10T12:07:02.270Z"
   },
   {
    "duration": 4,
    "start_time": "2024-05-10T12:08:56.983Z"
   },
   {
    "duration": 31,
    "start_time": "2024-05-10T12:09:07.191Z"
   },
   {
    "duration": 25,
    "start_time": "2024-05-10T12:09:44.425Z"
   },
   {
    "duration": 36,
    "start_time": "2024-05-10T12:09:58.945Z"
   },
   {
    "duration": 24,
    "start_time": "2024-05-10T12:10:14.521Z"
   },
   {
    "duration": 14,
    "start_time": "2024-05-10T12:10:24.249Z"
   },
   {
    "duration": 18,
    "start_time": "2024-05-10T12:11:05.973Z"
   },
   {
    "duration": 7,
    "start_time": "2024-05-10T12:11:54.746Z"
   },
   {
    "duration": 19,
    "start_time": "2024-05-10T12:12:01.307Z"
   },
   {
    "duration": 22,
    "start_time": "2024-05-10T12:12:31.348Z"
   },
   {
    "duration": 15,
    "start_time": "2024-05-10T12:12:36.173Z"
   },
   {
    "duration": 15,
    "start_time": "2024-05-10T12:13:15.705Z"
   },
   {
    "duration": 19,
    "start_time": "2024-05-10T12:13:36.602Z"
   },
   {
    "duration": 13,
    "start_time": "2024-05-10T12:13:56.766Z"
   },
   {
    "duration": 6,
    "start_time": "2024-05-10T12:15:28.876Z"
   },
   {
    "duration": 15,
    "start_time": "2024-05-10T12:15:40.183Z"
   },
   {
    "duration": 9,
    "start_time": "2024-05-10T12:16:41.585Z"
   },
   {
    "duration": 10,
    "start_time": "2024-05-10T12:17:19.215Z"
   },
   {
    "duration": 9,
    "start_time": "2024-05-10T12:17:34.819Z"
   },
   {
    "duration": 272,
    "start_time": "2024-05-10T12:17:43.507Z"
   },
   {
    "duration": 282,
    "start_time": "2024-05-10T12:17:56.241Z"
   },
   {
    "duration": 8,
    "start_time": "2024-05-10T12:18:15.894Z"
   },
   {
    "duration": 270,
    "start_time": "2024-05-10T12:18:35.232Z"
   },
   {
    "duration": 287,
    "start_time": "2024-05-10T12:19:00.014Z"
   },
   {
    "duration": 8,
    "start_time": "2024-05-10T12:21:45.704Z"
   },
   {
    "duration": 389,
    "start_time": "2024-05-10T12:21:48.966Z"
   },
   {
    "duration": 793,
    "start_time": "2024-05-10T12:21:59.253Z"
   },
   {
    "duration": 9,
    "start_time": "2024-05-10T12:22:19.889Z"
   },
   {
    "duration": 984,
    "start_time": "2024-05-10T12:22:27.341Z"
   },
   {
    "duration": 261,
    "start_time": "2024-05-10T12:22:55.414Z"
   },
   {
    "duration": 12,
    "start_time": "2024-05-10T12:23:42.054Z"
   },
   {
    "duration": 199,
    "start_time": "2024-05-10T12:28:44.191Z"
   },
   {
    "duration": 221,
    "start_time": "2024-05-10T12:28:53.641Z"
   },
   {
    "duration": 68,
    "start_time": "2024-05-10T12:29:06.053Z"
   },
   {
    "duration": 203,
    "start_time": "2024-05-10T12:29:15.673Z"
   },
   {
    "duration": 349,
    "start_time": "2024-05-10T12:29:54.595Z"
   },
   {
    "duration": 215,
    "start_time": "2024-05-10T12:31:53.040Z"
   },
   {
    "duration": 198,
    "start_time": "2024-05-10T12:33:41.158Z"
   },
   {
    "duration": 195,
    "start_time": "2024-05-10T12:34:02.051Z"
   },
   {
    "duration": 179,
    "start_time": "2024-05-10T12:34:34.170Z"
   },
   {
    "duration": 206,
    "start_time": "2024-05-10T12:35:14.338Z"
   },
   {
    "duration": 453,
    "start_time": "2024-05-10T12:35:35.990Z"
   },
   {
    "duration": 275,
    "start_time": "2024-05-10T12:35:49.835Z"
   },
   {
    "duration": 4,
    "start_time": "2024-05-10T13:34:02.667Z"
   },
   {
    "duration": 65,
    "start_time": "2024-05-10T13:34:27.930Z"
   },
   {
    "duration": 67,
    "start_time": "2024-05-10T13:34:50.204Z"
   },
   {
    "duration": 68,
    "start_time": "2024-05-10T13:36:25.442Z"
   },
   {
    "duration": 25,
    "start_time": "2024-05-10T13:37:52.083Z"
   },
   {
    "duration": 30,
    "start_time": "2024-05-10T13:38:08.069Z"
   },
   {
    "duration": 32,
    "start_time": "2024-05-10T13:38:16.049Z"
   },
   {
    "duration": 3,
    "start_time": "2024-05-10T13:41:18.081Z"
   },
   {
    "duration": 5,
    "start_time": "2024-05-10T13:41:26.397Z"
   },
   {
    "duration": 3,
    "start_time": "2024-05-10T13:41:32.914Z"
   },
   {
    "duration": 3,
    "start_time": "2024-05-10T13:41:54.113Z"
   },
   {
    "duration": 3,
    "start_time": "2024-05-10T13:42:04.540Z"
   },
   {
    "duration": 70,
    "start_time": "2024-05-10T13:42:05.496Z"
   },
   {
    "duration": 9,
    "start_time": "2024-05-10T13:42:06.163Z"
   },
   {
    "duration": 8,
    "start_time": "2024-05-10T13:42:06.484Z"
   },
   {
    "duration": 8,
    "start_time": "2024-05-10T13:42:06.816Z"
   },
   {
    "duration": 11,
    "start_time": "2024-05-10T13:42:07.608Z"
   },
   {
    "duration": 12,
    "start_time": "2024-05-10T13:42:07.977Z"
   },
   {
    "duration": 10,
    "start_time": "2024-05-10T13:42:08.411Z"
   },
   {
    "duration": 7,
    "start_time": "2024-05-10T13:42:10.199Z"
   },
   {
    "duration": 9,
    "start_time": "2024-05-10T13:42:10.451Z"
   },
   {
    "duration": 5,
    "start_time": "2024-05-10T13:42:10.731Z"
   },
   {
    "duration": 147,
    "start_time": "2024-05-10T13:42:12.377Z"
   },
   {
    "duration": 276,
    "start_time": "2024-05-10T13:42:13.134Z"
   },
   {
    "duration": 7,
    "start_time": "2024-05-10T13:42:16.079Z"
   },
   {
    "duration": 4,
    "start_time": "2024-05-10T13:42:16.859Z"
   },
   {
    "duration": 4,
    "start_time": "2024-05-10T13:42:40.280Z"
   },
   {
    "duration": 8,
    "start_time": "2024-05-10T13:42:43.288Z"
   },
   {
    "duration": 6,
    "start_time": "2024-05-10T13:42:53.180Z"
   },
   {
    "duration": 11,
    "start_time": "2024-05-10T13:42:53.359Z"
   },
   {
    "duration": 3,
    "start_time": "2024-05-10T13:42:53.708Z"
   },
   {
    "duration": 10,
    "start_time": "2024-05-10T13:42:53.868Z"
   },
   {
    "duration": 6,
    "start_time": "2024-05-10T13:42:54.255Z"
   },
   {
    "duration": 8,
    "start_time": "2024-05-10T13:42:54.455Z"
   },
   {
    "duration": 6,
    "start_time": "2024-05-10T13:42:54.624Z"
   },
   {
    "duration": 7,
    "start_time": "2024-05-10T13:42:55.300Z"
   },
   {
    "duration": 190,
    "start_time": "2024-05-10T13:42:55.471Z"
   },
   {
    "duration": 7,
    "start_time": "2024-05-10T13:42:55.804Z"
   },
   {
    "duration": 133,
    "start_time": "2024-05-10T13:42:55.979Z"
   },
   {
    "duration": 8,
    "start_time": "2024-05-10T13:42:56.315Z"
   },
   {
    "duration": 297,
    "start_time": "2024-05-10T13:42:56.492Z"
   },
   {
    "duration": 8,
    "start_time": "2024-05-10T13:42:56.873Z"
   },
   {
    "duration": 906,
    "start_time": "2024-05-10T13:42:56.992Z"
   },
   {
    "duration": 8,
    "start_time": "2024-05-10T13:42:57.900Z"
   },
   {
    "duration": 302,
    "start_time": "2024-05-10T13:42:57.910Z"
   },
   {
    "duration": 24,
    "start_time": "2024-05-10T13:42:58.416Z"
   },
   {
    "duration": 13,
    "start_time": "2024-05-10T13:42:58.578Z"
   },
   {
    "duration": 13,
    "start_time": "2024-05-10T13:42:58.754Z"
   },
   {
    "duration": 17,
    "start_time": "2024-05-10T13:42:59.095Z"
   },
   {
    "duration": 13,
    "start_time": "2024-05-10T13:42:59.290Z"
   },
   {
    "duration": 22,
    "start_time": "2024-05-10T13:42:59.474Z"
   },
   {
    "duration": 13,
    "start_time": "2024-05-10T13:42:59.658Z"
   },
   {
    "duration": 9,
    "start_time": "2024-05-10T13:43:00.033Z"
   },
   {
    "duration": 8,
    "start_time": "2024-05-10T13:43:00.222Z"
   },
   {
    "duration": 226,
    "start_time": "2024-05-10T13:43:00.429Z"
   },
   {
    "duration": 8,
    "start_time": "2024-05-10T13:43:00.657Z"
   },
   {
    "duration": 8,
    "start_time": "2024-05-10T13:43:00.823Z"
   },
   {
    "duration": 277,
    "start_time": "2024-05-10T13:43:01.073Z"
   },
   {
    "duration": 27,
    "start_time": "2024-05-10T13:43:04.237Z"
   },
   {
    "duration": 18,
    "start_time": "2024-05-10T13:50:36.359Z"
   },
   {
    "duration": 17,
    "start_time": "2024-05-10T13:51:36.250Z"
   },
   {
    "duration": 16,
    "start_time": "2024-05-10T13:54:28.541Z"
   },
   {
    "duration": 184,
    "start_time": "2024-05-10T14:00:31.247Z"
   },
   {
    "duration": 5,
    "start_time": "2024-05-10T14:00:55.170Z"
   },
   {
    "duration": 13,
    "start_time": "2024-05-10T14:01:18.982Z"
   },
   {
    "duration": 46,
    "start_time": "2024-05-10T14:02:49.607Z"
   },
   {
    "duration": 51,
    "start_time": "2024-05-10T14:03:01.268Z"
   },
   {
    "duration": 44,
    "start_time": "2024-05-10T14:03:26.286Z"
   },
   {
    "duration": 1031,
    "start_time": "2024-05-10T14:04:07.110Z"
   },
   {
    "duration": 13,
    "start_time": "2024-05-10T14:04:52.779Z"
   },
   {
    "duration": 16,
    "start_time": "2024-05-10T14:05:00.007Z"
   },
   {
    "duration": 1129,
    "start_time": "2024-05-10T14:05:49.497Z"
   },
   {
    "duration": 14,
    "start_time": "2024-05-10T14:05:58.548Z"
   },
   {
    "duration": 4,
    "start_time": "2024-05-10T14:06:02.352Z"
   },
   {
    "duration": 8,
    "start_time": "2024-05-10T14:06:30.003Z"
   },
   {
    "duration": 285,
    "start_time": "2024-05-10T14:07:24.888Z"
   },
   {
    "duration": 284,
    "start_time": "2024-05-10T14:07:35.609Z"
   },
   {
    "duration": 273,
    "start_time": "2024-05-10T14:10:15.442Z"
   },
   {
    "duration": 67,
    "start_time": "2024-05-10T14:18:43.689Z"
   },
   {
    "duration": 6,
    "start_time": "2024-05-10T14:18:49.794Z"
   },
   {
    "duration": 5,
    "start_time": "2024-05-10T14:20:35.924Z"
   },
   {
    "duration": 5,
    "start_time": "2024-05-10T14:20:44.240Z"
   },
   {
    "duration": 5,
    "start_time": "2024-05-10T14:21:22.916Z"
   },
   {
    "duration": 5,
    "start_time": "2024-05-10T14:26:55.825Z"
   },
   {
    "duration": 6,
    "start_time": "2024-05-10T14:28:41.128Z"
   },
   {
    "duration": 6,
    "start_time": "2024-05-10T14:35:41.640Z"
   },
   {
    "duration": 5,
    "start_time": "2024-05-10T14:36:37.851Z"
   },
   {
    "duration": 6,
    "start_time": "2024-05-10T14:38:21.500Z"
   },
   {
    "duration": 17,
    "start_time": "2024-05-10T14:38:51.455Z"
   },
   {
    "duration": 15,
    "start_time": "2024-05-10T14:42:26.568Z"
   },
   {
    "duration": 1127,
    "start_time": "2024-05-10T14:43:43.651Z"
   },
   {
    "duration": 9,
    "start_time": "2024-05-10T14:44:25.444Z"
   },
   {
    "duration": 3,
    "start_time": "2024-05-10T15:06:48.202Z"
   },
   {
    "duration": 83,
    "start_time": "2024-05-10T15:06:48.855Z"
   },
   {
    "duration": 13,
    "start_time": "2024-05-10T15:06:49.143Z"
   },
   {
    "duration": 9,
    "start_time": "2024-05-10T15:06:49.257Z"
   },
   {
    "duration": 8,
    "start_time": "2024-05-10T15:06:49.417Z"
   },
   {
    "duration": 11,
    "start_time": "2024-05-10T15:06:49.702Z"
   },
   {
    "duration": 17,
    "start_time": "2024-05-10T15:06:49.822Z"
   },
   {
    "duration": 15,
    "start_time": "2024-05-10T15:06:49.950Z"
   },
   {
    "duration": 8,
    "start_time": "2024-05-10T15:06:50.230Z"
   },
   {
    "duration": 13,
    "start_time": "2024-05-10T15:06:50.355Z"
   },
   {
    "duration": 7,
    "start_time": "2024-05-10T15:06:50.485Z"
   },
   {
    "duration": 144,
    "start_time": "2024-05-10T15:06:50.761Z"
   },
   {
    "duration": 275,
    "start_time": "2024-05-10T15:06:50.907Z"
   },
   {
    "duration": 9,
    "start_time": "2024-05-10T15:06:51.471Z"
   },
   {
    "duration": 3,
    "start_time": "2024-05-10T15:06:51.616Z"
   },
   {
    "duration": 8,
    "start_time": "2024-05-10T15:06:51.757Z"
   },
   {
    "duration": 7,
    "start_time": "2024-05-10T15:06:52.039Z"
   },
   {
    "duration": 10,
    "start_time": "2024-05-10T15:06:52.181Z"
   },
   {
    "duration": 4,
    "start_time": "2024-05-10T15:06:52.493Z"
   },
   {
    "duration": 11,
    "start_time": "2024-05-10T15:06:52.658Z"
   },
   {
    "duration": 7,
    "start_time": "2024-05-10T15:06:52.967Z"
   },
   {
    "duration": 12,
    "start_time": "2024-05-10T15:06:53.128Z"
   },
   {
    "duration": 7,
    "start_time": "2024-05-10T15:06:53.299Z"
   },
   {
    "duration": 7,
    "start_time": "2024-05-10T15:06:53.937Z"
   },
   {
    "duration": 175,
    "start_time": "2024-05-10T15:06:54.101Z"
   },
   {
    "duration": 8,
    "start_time": "2024-05-10T15:06:54.410Z"
   },
   {
    "duration": 126,
    "start_time": "2024-05-10T15:06:54.571Z"
   },
   {
    "duration": 10,
    "start_time": "2024-05-10T15:06:54.907Z"
   },
   {
    "duration": 361,
    "start_time": "2024-05-10T15:06:55.062Z"
   },
   {
    "duration": 8,
    "start_time": "2024-05-10T15:06:55.424Z"
   },
   {
    "duration": 721,
    "start_time": "2024-05-10T15:06:55.652Z"
   },
   {
    "duration": 8,
    "start_time": "2024-05-10T15:06:56.374Z"
   },
   {
    "duration": 265,
    "start_time": "2024-05-10T15:06:56.383Z"
   },
   {
    "duration": 25,
    "start_time": "2024-05-10T15:06:56.990Z"
   },
   {
    "duration": 14,
    "start_time": "2024-05-10T15:06:57.161Z"
   },
   {
    "duration": 21,
    "start_time": "2024-05-10T15:06:57.325Z"
   },
   {
    "duration": 17,
    "start_time": "2024-05-10T15:06:57.661Z"
   },
   {
    "duration": 12,
    "start_time": "2024-05-10T15:06:57.837Z"
   },
   {
    "duration": 15,
    "start_time": "2024-05-10T15:06:58.004Z"
   },
   {
    "duration": 13,
    "start_time": "2024-05-10T15:06:58.166Z"
   },
   {
    "duration": 8,
    "start_time": "2024-05-10T15:06:58.499Z"
   },
   {
    "duration": 8,
    "start_time": "2024-05-10T15:06:58.669Z"
   },
   {
    "duration": 366,
    "start_time": "2024-05-10T15:06:58.845Z"
   },
   {
    "duration": 9,
    "start_time": "2024-05-10T15:06:59.213Z"
   },
   {
    "duration": 43,
    "start_time": "2024-05-10T15:06:59.224Z"
   },
   {
    "duration": 275,
    "start_time": "2024-05-10T15:06:59.359Z"
   },
   {
    "duration": 43,
    "start_time": "2024-05-10T15:07:00.040Z"
   },
   {
    "duration": 14,
    "start_time": "2024-05-10T15:07:00.393Z"
   },
   {
    "duration": 4,
    "start_time": "2024-05-10T15:07:00.575Z"
   },
   {
    "duration": 6,
    "start_time": "2024-05-10T15:07:01.535Z"
   },
   {
    "duration": 5,
    "start_time": "2024-05-10T15:07:02.624Z"
   },
   {
    "duration": 8,
    "start_time": "2024-05-10T15:07:03.824Z"
   },
   {
    "duration": 54,
    "start_time": "2024-05-11T06:27:22.295Z"
   },
   {
    "duration": 1350,
    "start_time": "2024-05-11T06:27:32.731Z"
   },
   {
    "duration": 209,
    "start_time": "2024-05-11T06:27:34.083Z"
   },
   {
    "duration": 15,
    "start_time": "2024-05-11T06:27:34.293Z"
   },
   {
    "duration": 13,
    "start_time": "2024-05-11T06:27:34.310Z"
   },
   {
    "duration": 20,
    "start_time": "2024-05-11T06:27:34.325Z"
   },
   {
    "duration": 13,
    "start_time": "2024-05-11T06:27:34.492Z"
   },
   {
    "duration": 11,
    "start_time": "2024-05-11T06:27:34.640Z"
   },
   {
    "duration": 12,
    "start_time": "2024-05-11T06:27:34.791Z"
   },
   {
    "duration": 8,
    "start_time": "2024-05-11T06:27:35.590Z"
   },
   {
    "duration": 21,
    "start_time": "2024-05-11T06:27:35.600Z"
   },
   {
    "duration": 5,
    "start_time": "2024-05-11T06:27:35.996Z"
   },
   {
    "duration": 158,
    "start_time": "2024-05-11T06:27:36.566Z"
   },
   {
    "duration": 282,
    "start_time": "2024-05-11T06:27:36.758Z"
   },
   {
    "duration": 8,
    "start_time": "2024-05-11T06:28:37.685Z"
   },
   {
    "duration": 3,
    "start_time": "2024-05-11T06:28:37.872Z"
   },
   {
    "duration": 8,
    "start_time": "2024-05-11T06:28:38.012Z"
   },
   {
    "duration": 7,
    "start_time": "2024-05-11T06:28:38.344Z"
   },
   {
    "duration": 15,
    "start_time": "2024-05-11T06:28:38.484Z"
   },
   {
    "duration": 4,
    "start_time": "2024-05-11T06:28:38.876Z"
   },
   {
    "duration": 9,
    "start_time": "2024-05-11T06:28:39.082Z"
   },
   {
    "duration": 6,
    "start_time": "2024-05-11T06:28:39.510Z"
   },
   {
    "duration": 8,
    "start_time": "2024-05-11T06:28:39.766Z"
   },
   {
    "duration": 6,
    "start_time": "2024-05-11T06:28:40.000Z"
   },
   {
    "duration": 10,
    "start_time": "2024-05-11T06:28:41.599Z"
   },
   {
    "duration": 242,
    "start_time": "2024-05-11T06:28:42.043Z"
   },
   {
    "duration": 16,
    "start_time": "2024-05-11T06:30:08.769Z"
   },
   {
    "duration": 196,
    "start_time": "2024-05-11T06:30:25.078Z"
   },
   {
    "duration": 21,
    "start_time": "2024-05-11T06:30:42.956Z"
   },
   {
    "duration": 35,
    "start_time": "2024-05-11T06:33:57.004Z"
   },
   {
    "duration": 322132,
    "start_time": "2024-05-11T06:34:06.047Z"
   },
   {
    "duration": 272857,
    "start_time": "2024-05-11T06:57:40.139Z"
   },
   {
    "duration": 2,
    "start_time": "2024-05-11T07:09:38.807Z"
   },
   {
    "duration": 14,
    "start_time": "2024-05-11T07:10:27.191Z"
   },
   {
    "duration": 5,
    "start_time": "2024-05-11T07:10:46.815Z"
   },
   {
    "duration": 13,
    "start_time": "2024-05-11T07:10:54.661Z"
   },
   {
    "duration": 5,
    "start_time": "2024-05-11T07:11:32.927Z"
   },
   {
    "duration": 16,
    "start_time": "2024-05-11T07:11:38.704Z"
   },
   {
    "duration": 613,
    "start_time": "2024-05-11T07:14:19.566Z"
   },
   {
    "duration": 196,
    "start_time": "2024-05-11T07:15:08.639Z"
   },
   {
    "duration": 51,
    "start_time": "2024-05-11T07:15:24.538Z"
   },
   {
    "duration": 191,
    "start_time": "2024-05-11T07:15:47.247Z"
   },
   {
    "duration": 37,
    "start_time": "2024-05-11T07:16:42.841Z"
   },
   {
    "duration": 11,
    "start_time": "2024-05-11T07:24:10.225Z"
   },
   {
    "duration": 3,
    "start_time": "2024-05-11T07:24:32.417Z"
   },
   {
    "duration": 72,
    "start_time": "2024-05-11T07:24:33.023Z"
   },
   {
    "duration": 9,
    "start_time": "2024-05-11T07:24:33.097Z"
   },
   {
    "duration": 12,
    "start_time": "2024-05-11T07:24:33.124Z"
   },
   {
    "duration": 8,
    "start_time": "2024-05-11T07:24:33.157Z"
   },
   {
    "duration": 11,
    "start_time": "2024-05-11T07:24:33.215Z"
   },
   {
    "duration": 12,
    "start_time": "2024-05-11T07:24:33.241Z"
   },
   {
    "duration": 86,
    "start_time": "2024-05-11T07:24:33.276Z"
   },
   {
    "duration": 17,
    "start_time": "2024-05-11T07:24:33.370Z"
   },
   {
    "duration": 22,
    "start_time": "2024-05-11T07:24:33.397Z"
   },
   {
    "duration": 13,
    "start_time": "2024-05-11T07:24:33.427Z"
   },
   {
    "duration": 10,
    "start_time": "2024-05-11T07:24:33.459Z"
   },
   {
    "duration": 10,
    "start_time": "2024-05-11T07:24:33.496Z"
   },
   {
    "duration": 8,
    "start_time": "2024-05-11T07:24:33.711Z"
   },
   {
    "duration": 3,
    "start_time": "2024-05-11T07:24:33.743Z"
   },
   {
    "duration": 11,
    "start_time": "2024-05-11T07:24:33.779Z"
   },
   {
    "duration": 5,
    "start_time": "2024-05-11T07:24:33.841Z"
   },
   {
    "duration": 11,
    "start_time": "2024-05-11T07:24:33.868Z"
   },
   {
    "duration": 3,
    "start_time": "2024-05-11T07:24:33.930Z"
   },
   {
    "duration": 10,
    "start_time": "2024-05-11T07:24:33.970Z"
   },
   {
    "duration": 6,
    "start_time": "2024-05-11T07:24:34.026Z"
   },
   {
    "duration": 9,
    "start_time": "2024-05-11T07:24:34.064Z"
   },
   {
    "duration": 7,
    "start_time": "2024-05-11T07:24:34.096Z"
   },
   {
    "duration": 7,
    "start_time": "2024-05-11T07:24:34.215Z"
   },
   {
    "duration": 198,
    "start_time": "2024-05-11T07:24:34.253Z"
   },
   {
    "duration": 7,
    "start_time": "2024-05-11T07:24:34.453Z"
   },
   {
    "duration": 159,
    "start_time": "2024-05-11T07:24:34.462Z"
   },
   {
    "duration": 9,
    "start_time": "2024-05-11T07:24:34.628Z"
   },
   {
    "duration": 328,
    "start_time": "2024-05-11T07:24:34.639Z"
   },
   {
    "duration": 9,
    "start_time": "2024-05-11T07:24:34.969Z"
   },
   {
    "duration": 850,
    "start_time": "2024-05-11T07:24:34.979Z"
   },
   {
    "duration": 10,
    "start_time": "2024-05-11T07:24:35.831Z"
   },
   {
    "duration": 304,
    "start_time": "2024-05-11T07:24:35.843Z"
   },
   {
    "duration": 26,
    "start_time": "2024-05-11T07:24:36.150Z"
   },
   {
    "duration": 16,
    "start_time": "2024-05-11T07:24:36.177Z"
   },
   {
    "duration": 38,
    "start_time": "2024-05-11T07:24:36.195Z"
   },
   {
    "duration": 16,
    "start_time": "2024-05-11T07:24:36.236Z"
   },
   {
    "duration": 16,
    "start_time": "2024-05-11T07:24:36.254Z"
   },
   {
    "duration": 15,
    "start_time": "2024-05-11T07:24:36.272Z"
   },
   {
    "duration": 42,
    "start_time": "2024-05-11T07:24:36.288Z"
   },
   {
    "duration": 8,
    "start_time": "2024-05-11T07:24:36.332Z"
   },
   {
    "duration": 9,
    "start_time": "2024-05-11T07:24:36.342Z"
   },
   {
    "duration": 353,
    "start_time": "2024-05-11T07:24:36.353Z"
   },
   {
    "duration": 8,
    "start_time": "2024-05-11T07:24:36.708Z"
   },
   {
    "duration": 8,
    "start_time": "2024-05-11T07:24:36.729Z"
   },
   {
    "duration": 291,
    "start_time": "2024-05-11T07:24:36.738Z"
   },
   {
    "duration": 46,
    "start_time": "2024-05-11T07:24:37.030Z"
   },
   {
    "duration": 13,
    "start_time": "2024-05-11T07:24:37.077Z"
   },
   {
    "duration": 4,
    "start_time": "2024-05-11T07:24:37.091Z"
   },
   {
    "duration": 32,
    "start_time": "2024-05-11T07:24:37.097Z"
   },
   {
    "duration": 5,
    "start_time": "2024-05-11T07:24:37.131Z"
   },
   {
    "duration": 9,
    "start_time": "2024-05-11T07:24:37.137Z"
   },
   {
    "duration": 436,
    "start_time": "2024-05-11T07:25:35.761Z"
   },
   {
    "duration": 368,
    "start_time": "2024-05-11T07:26:14.574Z"
   },
   {
    "duration": 355,
    "start_time": "2024-05-11T07:26:35.901Z"
   },
   {
    "duration": 400,
    "start_time": "2024-05-11T07:26:58.674Z"
   },
   {
    "duration": 385,
    "start_time": "2024-05-11T07:27:02.519Z"
   },
   {
    "duration": 10,
    "start_time": "2024-05-11T07:36:04.615Z"
   },
   {
    "duration": 8,
    "start_time": "2024-05-11T07:37:48.829Z"
   },
   {
    "duration": 7,
    "start_time": "2024-05-11T07:38:05.409Z"
   },
   {
    "duration": 7,
    "start_time": "2024-05-11T07:39:11.500Z"
   },
   {
    "duration": 7,
    "start_time": "2024-05-11T07:39:47.004Z"
   },
   {
    "duration": 8,
    "start_time": "2024-05-11T07:40:10.598Z"
   },
   {
    "duration": 12,
    "start_time": "2024-05-11T07:41:49.281Z"
   },
   {
    "duration": 15,
    "start_time": "2024-05-11T07:44:52.168Z"
   },
   {
    "duration": 12,
    "start_time": "2024-05-11T07:45:06.346Z"
   },
   {
    "duration": 10,
    "start_time": "2024-05-11T07:45:24.721Z"
   },
   {
    "duration": 20,
    "start_time": "2024-05-11T07:46:59.761Z"
   },
   {
    "duration": 18,
    "start_time": "2024-05-11T07:47:04.733Z"
   },
   {
    "duration": 24,
    "start_time": "2024-05-11T07:49:48.595Z"
   },
   {
    "duration": 14,
    "start_time": "2024-05-11T07:51:57.504Z"
   },
   {
    "duration": 12,
    "start_time": "2024-05-11T07:52:09.085Z"
   },
   {
    "duration": 5289,
    "start_time": "2024-05-11T07:52:16.083Z"
   },
   {
    "duration": 12,
    "start_time": "2024-05-11T07:52:42.936Z"
   },
   {
    "duration": 10,
    "start_time": "2024-05-11T08:00:33.334Z"
   },
   {
    "duration": 312,
    "start_time": "2024-05-11T08:00:47.827Z"
   },
   {
    "duration": 313,
    "start_time": "2024-05-11T08:01:46.027Z"
   },
   {
    "duration": 182,
    "start_time": "2024-05-11T08:02:27.418Z"
   },
   {
    "duration": 164,
    "start_time": "2024-05-11T08:03:01.368Z"
   },
   {
    "duration": 179,
    "start_time": "2024-05-11T08:03:17.388Z"
   },
   {
    "duration": 173,
    "start_time": "2024-05-11T08:04:06.099Z"
   },
   {
    "duration": 246,
    "start_time": "2024-05-11T08:04:23.903Z"
   },
   {
    "duration": 251,
    "start_time": "2024-05-11T08:04:53.442Z"
   },
   {
    "duration": 13,
    "start_time": "2024-05-11T08:05:46.913Z"
   },
   {
    "duration": 40,
    "start_time": "2024-05-11T08:06:33.965Z"
   },
   {
    "duration": 42,
    "start_time": "2024-05-11T08:06:58.550Z"
   },
   {
    "duration": 431,
    "start_time": "2024-05-11T08:07:11.141Z"
   },
   {
    "duration": 12,
    "start_time": "2024-05-11T08:07:42.287Z"
   },
   {
    "duration": 17,
    "start_time": "2024-05-11T08:08:09.707Z"
   },
   {
    "duration": 13,
    "start_time": "2024-05-11T08:08:18.018Z"
   },
   {
    "duration": 259,
    "start_time": "2024-05-11T08:08:46.577Z"
   },
   {
    "duration": 264,
    "start_time": "2024-05-11T08:11:29.253Z"
   },
   {
    "duration": 22,
    "start_time": "2024-05-11T08:14:10.311Z"
   },
   {
    "duration": 11,
    "start_time": "2024-05-11T08:14:38.876Z"
   },
   {
    "duration": 3,
    "start_time": "2024-05-11T08:19:05.932Z"
   },
   {
    "duration": 8,
    "start_time": "2024-05-11T08:19:08.752Z"
   },
   {
    "duration": 4,
    "start_time": "2024-05-11T08:19:25.524Z"
   },
   {
    "duration": 8,
    "start_time": "2024-05-11T08:19:36.176Z"
   },
   {
    "duration": 9,
    "start_time": "2024-05-11T08:20:15.681Z"
   },
   {
    "duration": 5,
    "start_time": "2024-05-11T08:20:17.396Z"
   },
   {
    "duration": 1173,
    "start_time": "2024-05-11T08:20:53.247Z"
   },
   {
    "duration": 76,
    "start_time": "2024-05-11T08:20:54.422Z"
   },
   {
    "duration": 14,
    "start_time": "2024-05-11T08:20:54.500Z"
   },
   {
    "duration": 10,
    "start_time": "2024-05-11T08:20:54.516Z"
   },
   {
    "duration": 10,
    "start_time": "2024-05-11T08:20:54.528Z"
   },
   {
    "duration": 17,
    "start_time": "2024-05-11T08:20:54.539Z"
   },
   {
    "duration": 16,
    "start_time": "2024-05-11T08:20:54.558Z"
   },
   {
    "duration": 11,
    "start_time": "2024-05-11T08:20:54.575Z"
   },
   {
    "duration": 25,
    "start_time": "2024-05-11T08:20:54.587Z"
   },
   {
    "duration": 22,
    "start_time": "2024-05-11T08:20:54.615Z"
   },
   {
    "duration": 21,
    "start_time": "2024-05-11T08:20:54.639Z"
   },
   {
    "duration": 5,
    "start_time": "2024-05-11T08:20:54.662Z"
   },
   {
    "duration": 19,
    "start_time": "2024-05-11T08:20:54.668Z"
   },
   {
    "duration": 12,
    "start_time": "2024-05-11T08:20:54.689Z"
   },
   {
    "duration": 20,
    "start_time": "2024-05-11T08:20:54.703Z"
   },
   {
    "duration": 7,
    "start_time": "2024-05-11T08:20:54.724Z"
   },
   {
    "duration": 20,
    "start_time": "2024-05-11T08:20:54.733Z"
   },
   {
    "duration": 3,
    "start_time": "2024-05-11T08:20:54.755Z"
   },
   {
    "duration": 30,
    "start_time": "2024-05-11T08:20:54.760Z"
   },
   {
    "duration": 11,
    "start_time": "2024-05-11T08:20:54.793Z"
   },
   {
    "duration": 48,
    "start_time": "2024-05-11T08:20:54.806Z"
   },
   {
    "duration": 32,
    "start_time": "2024-05-11T08:20:54.856Z"
   },
   {
    "duration": 27,
    "start_time": "2024-05-11T08:20:54.889Z"
   },
   {
    "duration": 218,
    "start_time": "2024-05-11T08:20:54.918Z"
   },
   {
    "duration": 7,
    "start_time": "2024-05-11T08:20:55.138Z"
   },
   {
    "duration": 167,
    "start_time": "2024-05-11T08:20:55.146Z"
   },
   {
    "duration": 14,
    "start_time": "2024-05-11T08:20:55.315Z"
   },
   {
    "duration": 279,
    "start_time": "2024-05-11T08:20:55.332Z"
   },
   {
    "duration": 19,
    "start_time": "2024-05-11T08:20:55.612Z"
   },
   {
    "duration": 856,
    "start_time": "2024-05-11T08:20:55.633Z"
   },
   {
    "duration": 10,
    "start_time": "2024-05-11T08:20:56.490Z"
   },
   {
    "duration": 318,
    "start_time": "2024-05-11T08:20:56.502Z"
   },
   {
    "duration": 19,
    "start_time": "2024-05-11T08:20:56.822Z"
   },
   {
    "duration": 24,
    "start_time": "2024-05-11T08:20:56.842Z"
   },
   {
    "duration": 253,
    "start_time": "2024-05-11T08:20:56.868Z"
   },
   {
    "duration": 30,
    "start_time": "2024-05-11T08:20:57.122Z"
   },
   {
    "duration": 23,
    "start_time": "2024-05-11T08:20:57.153Z"
   },
   {
    "duration": 12,
    "start_time": "2024-05-11T08:20:57.178Z"
   },
   {
    "duration": 31,
    "start_time": "2024-05-11T08:20:57.192Z"
   },
   {
    "duration": 16,
    "start_time": "2024-05-11T08:20:57.224Z"
   },
   {
    "duration": 19,
    "start_time": "2024-05-11T08:20:57.242Z"
   },
   {
    "duration": 29,
    "start_time": "2024-05-11T08:20:57.262Z"
   },
   {
    "duration": 32,
    "start_time": "2024-05-11T08:20:57.292Z"
   },
   {
    "duration": 37,
    "start_time": "2024-05-11T08:20:57.326Z"
   },
   {
    "duration": 390,
    "start_time": "2024-05-11T08:20:57.365Z"
   },
   {
    "duration": 9,
    "start_time": "2024-05-11T08:20:57.757Z"
   },
   {
    "duration": 24,
    "start_time": "2024-05-11T08:20:57.768Z"
   },
   {
    "duration": 413,
    "start_time": "2024-05-11T08:20:57.794Z"
   },
   {
    "duration": 59,
    "start_time": "2024-05-11T08:20:58.209Z"
   },
   {
    "duration": 22,
    "start_time": "2024-05-11T08:20:58.269Z"
   },
   {
    "duration": 6,
    "start_time": "2024-05-11T08:20:58.293Z"
   },
   {
    "duration": 32,
    "start_time": "2024-05-11T08:20:58.301Z"
   },
   {
    "duration": 9,
    "start_time": "2024-05-11T08:20:58.335Z"
   },
   {
    "duration": 15,
    "start_time": "2024-05-11T08:20:58.346Z"
   },
   {
    "duration": 2,
    "start_time": "2024-05-11T08:23:32.832Z"
   },
   {
    "duration": 10,
    "start_time": "2024-05-11T08:23:35.020Z"
   },
   {
    "duration": 3,
    "start_time": "2024-05-11T08:23:54.401Z"
   },
   {
    "duration": 15,
    "start_time": "2024-05-11T08:23:56.694Z"
   },
   {
    "duration": 3,
    "start_time": "2024-05-11T08:24:24.393Z"
   },
   {
    "duration": 17,
    "start_time": "2024-05-11T08:24:26.634Z"
   },
   {
    "duration": 101,
    "start_time": "2024-05-11T08:24:47.086Z"
   },
   {
    "duration": 10,
    "start_time": "2024-05-11T08:24:51.157Z"
   },
   {
    "duration": 24,
    "start_time": "2024-05-11T08:25:10.770Z"
   },
   {
    "duration": 16,
    "start_time": "2024-05-11T08:26:09.928Z"
   },
   {
    "duration": 53,
    "start_time": "2024-05-11T08:27:06.393Z"
   },
   {
    "duration": 3,
    "start_time": "2024-05-11T08:27:14.818Z"
   },
   {
    "duration": 17,
    "start_time": "2024-05-11T08:27:19.634Z"
   },
   {
    "duration": 3,
    "start_time": "2024-05-11T08:27:37.550Z"
   },
   {
    "duration": 22,
    "start_time": "2024-05-11T08:27:39.586Z"
   },
   {
    "duration": 3,
    "start_time": "2024-05-11T08:29:15.126Z"
   },
   {
    "duration": 13,
    "start_time": "2024-05-11T08:29:17.283Z"
   },
   {
    "duration": 3,
    "start_time": "2024-05-11T08:30:01.157Z"
   },
   {
    "duration": 3,
    "start_time": "2024-05-11T08:30:02.794Z"
   },
   {
    "duration": 3,
    "start_time": "2024-05-11T08:30:17.760Z"
   },
   {
    "duration": 2,
    "start_time": "2024-05-11T08:30:18.740Z"
   },
   {
    "duration": 3,
    "start_time": "2024-05-11T08:31:13.728Z"
   },
   {
    "duration": 17,
    "start_time": "2024-05-11T08:31:15.680Z"
   },
   {
    "duration": 3,
    "start_time": "2024-05-11T08:31:35.214Z"
   },
   {
    "duration": 15,
    "start_time": "2024-05-11T08:31:36.868Z"
   },
   {
    "duration": 5,
    "start_time": "2024-05-11T08:32:01.597Z"
   },
   {
    "duration": 2,
    "start_time": "2024-05-11T08:32:03.334Z"
   },
   {
    "duration": 3,
    "start_time": "2024-05-11T08:32:21.161Z"
   },
   {
    "duration": 18,
    "start_time": "2024-05-11T08:32:22.388Z"
   },
   {
    "duration": 3,
    "start_time": "2024-05-11T08:33:11.775Z"
   },
   {
    "duration": 14,
    "start_time": "2024-05-11T08:33:13.259Z"
   },
   {
    "duration": 3,
    "start_time": "2024-05-11T08:33:24.027Z"
   },
   {
    "duration": 16,
    "start_time": "2024-05-11T08:33:30.105Z"
   },
   {
    "duration": 9,
    "start_time": "2024-05-11T08:36:17.284Z"
   },
   {
    "duration": 1149,
    "start_time": "2024-05-11T08:36:32.961Z"
   },
   {
    "duration": 71,
    "start_time": "2024-05-11T08:36:34.112Z"
   },
   {
    "duration": 3,
    "start_time": "2024-05-11T08:36:34.185Z"
   },
   {
    "duration": 18,
    "start_time": "2024-05-11T08:36:34.189Z"
   },
   {
    "duration": 18,
    "start_time": "2024-05-11T08:36:34.210Z"
   },
   {
    "duration": 13,
    "start_time": "2024-05-11T08:36:34.229Z"
   },
   {
    "duration": 28,
    "start_time": "2024-05-11T08:36:34.244Z"
   },
   {
    "duration": 18,
    "start_time": "2024-05-11T08:36:34.274Z"
   },
   {
    "duration": 21,
    "start_time": "2024-05-11T08:36:34.294Z"
   },
   {
    "duration": 41,
    "start_time": "2024-05-11T08:36:34.317Z"
   },
   {
    "duration": 11,
    "start_time": "2024-05-11T08:36:34.360Z"
   },
   {
    "duration": 16,
    "start_time": "2024-05-11T08:36:34.372Z"
   },
   {
    "duration": 25,
    "start_time": "2024-05-11T08:36:34.389Z"
   },
   {
    "duration": 10,
    "start_time": "2024-05-11T08:36:34.418Z"
   },
   {
    "duration": 17,
    "start_time": "2024-05-11T08:36:34.430Z"
   },
   {
    "duration": 17,
    "start_time": "2024-05-11T08:36:34.449Z"
   },
   {
    "duration": 31,
    "start_time": "2024-05-11T08:36:34.468Z"
   },
   {
    "duration": 193,
    "start_time": "2024-05-11T08:36:34.500Z"
   },
   {
    "duration": 6,
    "start_time": "2024-05-11T08:36:34.695Z"
   },
   {
    "duration": 154,
    "start_time": "2024-05-11T08:36:34.703Z"
   },
   {
    "duration": 8,
    "start_time": "2024-05-11T08:36:34.858Z"
   },
   {
    "duration": 316,
    "start_time": "2024-05-11T08:36:34.868Z"
   },
   {
    "duration": 10,
    "start_time": "2024-05-11T08:36:35.186Z"
   },
   {
    "duration": 907,
    "start_time": "2024-05-11T08:36:35.198Z"
   },
   {
    "duration": 9,
    "start_time": "2024-05-11T08:36:36.107Z"
   },
   {
    "duration": 297,
    "start_time": "2024-05-11T08:36:36.118Z"
   },
   {
    "duration": 19,
    "start_time": "2024-05-11T08:36:36.416Z"
   },
   {
    "duration": 10,
    "start_time": "2024-05-11T08:36:36.437Z"
   },
   {
    "duration": 268,
    "start_time": "2024-05-11T08:36:36.448Z"
   },
   {
    "duration": 29,
    "start_time": "2024-05-11T08:36:36.718Z"
   },
   {
    "duration": 16,
    "start_time": "2024-05-11T08:36:36.749Z"
   },
   {
    "duration": 14,
    "start_time": "2024-05-11T08:36:36.767Z"
   },
   {
    "duration": 47,
    "start_time": "2024-05-11T08:36:36.783Z"
   },
   {
    "duration": 13,
    "start_time": "2024-05-11T08:36:36.832Z"
   },
   {
    "duration": 35,
    "start_time": "2024-05-11T08:36:36.847Z"
   },
   {
    "duration": 17,
    "start_time": "2024-05-11T08:36:36.884Z"
   },
   {
    "duration": 12,
    "start_time": "2024-05-11T08:36:36.903Z"
   },
   {
    "duration": 9,
    "start_time": "2024-05-11T08:36:36.930Z"
   },
   {
    "duration": 336,
    "start_time": "2024-05-11T08:36:36.941Z"
   },
   {
    "duration": 9,
    "start_time": "2024-05-11T08:36:37.279Z"
   },
   {
    "duration": 7,
    "start_time": "2024-05-11T08:36:37.292Z"
   },
   {
    "duration": 408,
    "start_time": "2024-05-11T08:36:37.301Z"
   },
   {
    "duration": 53,
    "start_time": "2024-05-11T08:36:37.711Z"
   },
   {
    "duration": 14,
    "start_time": "2024-05-11T08:36:37.766Z"
   },
   {
    "duration": 5,
    "start_time": "2024-05-11T08:36:37.781Z"
   },
   {
    "duration": 10,
    "start_time": "2024-05-11T08:36:37.787Z"
   },
   {
    "duration": 32,
    "start_time": "2024-05-11T08:36:37.798Z"
   },
   {
    "duration": 12,
    "start_time": "2024-05-11T08:36:37.832Z"
   },
   {
    "duration": 1191,
    "start_time": "2024-05-11T08:41:01.722Z"
   },
   {
    "duration": 70,
    "start_time": "2024-05-11T08:41:02.915Z"
   },
   {
    "duration": 3,
    "start_time": "2024-05-11T08:41:02.987Z"
   },
   {
    "duration": 119,
    "start_time": "2024-05-11T08:41:02.992Z"
   },
   {
    "duration": 62,
    "start_time": "2024-05-11T08:41:03.114Z"
   },
   {
    "duration": 20,
    "start_time": "2024-05-11T08:41:03.178Z"
   },
   {
    "duration": 32,
    "start_time": "2024-05-11T08:41:03.199Z"
   },
   {
    "duration": 33,
    "start_time": "2024-05-11T08:41:03.233Z"
   },
   {
    "duration": 82,
    "start_time": "2024-05-11T08:41:03.268Z"
   },
   {
    "duration": 11,
    "start_time": "2024-05-11T08:41:03.352Z"
   },
   {
    "duration": 34,
    "start_time": "2024-05-11T08:41:03.365Z"
   },
   {
    "duration": 22,
    "start_time": "2024-05-11T08:41:03.400Z"
   },
   {
    "duration": 52,
    "start_time": "2024-05-11T08:41:03.423Z"
   },
   {
    "duration": 41,
    "start_time": "2024-05-11T08:41:03.478Z"
   },
   {
    "duration": 43,
    "start_time": "2024-05-11T08:41:03.520Z"
   },
   {
    "duration": 31,
    "start_time": "2024-05-11T08:41:03.566Z"
   },
   {
    "duration": 31,
    "start_time": "2024-05-11T08:41:03.599Z"
   },
   {
    "duration": 210,
    "start_time": "2024-05-11T08:41:03.632Z"
   },
   {
    "duration": 7,
    "start_time": "2024-05-11T08:41:03.844Z"
   },
   {
    "duration": 160,
    "start_time": "2024-05-11T08:41:03.852Z"
   },
   {
    "duration": 19,
    "start_time": "2024-05-11T08:41:04.014Z"
   },
   {
    "duration": 300,
    "start_time": "2024-05-11T08:41:04.034Z"
   },
   {
    "duration": 9,
    "start_time": "2024-05-11T08:41:04.336Z"
   },
   {
    "duration": 954,
    "start_time": "2024-05-11T08:41:04.346Z"
   },
   {
    "duration": 9,
    "start_time": "2024-05-11T08:41:05.302Z"
   },
   {
    "duration": 312,
    "start_time": "2024-05-11T08:41:05.312Z"
   },
   {
    "duration": 15,
    "start_time": "2024-05-11T08:41:05.626Z"
   },
   {
    "duration": 22,
    "start_time": "2024-05-11T08:41:05.643Z"
   },
   {
    "duration": 260,
    "start_time": "2024-05-11T08:41:05.667Z"
   },
   {
    "duration": 26,
    "start_time": "2024-05-11T08:41:05.930Z"
   },
   {
    "duration": 14,
    "start_time": "2024-05-11T08:41:05.958Z"
   },
   {
    "duration": 39,
    "start_time": "2024-05-11T08:41:05.975Z"
   },
   {
    "duration": 19,
    "start_time": "2024-05-11T08:41:06.017Z"
   },
   {
    "duration": 13,
    "start_time": "2024-05-11T08:41:06.037Z"
   },
   {
    "duration": 42,
    "start_time": "2024-05-11T08:41:06.051Z"
   },
   {
    "duration": 31,
    "start_time": "2024-05-11T08:41:06.094Z"
   },
   {
    "duration": 12,
    "start_time": "2024-05-11T08:41:06.126Z"
   },
   {
    "duration": 10,
    "start_time": "2024-05-11T08:41:06.139Z"
   },
   {
    "duration": 361,
    "start_time": "2024-05-11T08:41:06.151Z"
   },
   {
    "duration": 16,
    "start_time": "2024-05-11T08:41:06.514Z"
   },
   {
    "duration": 73,
    "start_time": "2024-05-11T08:41:06.535Z"
   },
   {
    "duration": 423,
    "start_time": "2024-05-11T08:41:06.610Z"
   },
   {
    "duration": 47,
    "start_time": "2024-05-11T08:41:07.034Z"
   },
   {
    "duration": 29,
    "start_time": "2024-05-11T08:41:07.082Z"
   },
   {
    "duration": 13,
    "start_time": "2024-05-11T08:41:07.113Z"
   },
   {
    "duration": 16,
    "start_time": "2024-05-11T08:41:07.127Z"
   },
   {
    "duration": 10,
    "start_time": "2024-05-11T08:41:07.145Z"
   },
   {
    "duration": 28,
    "start_time": "2024-05-11T08:41:07.156Z"
   },
   {
    "duration": 1265,
    "start_time": "2024-08-06T14:21:37.428Z"
   },
   {
    "duration": 286,
    "start_time": "2024-08-06T14:21:40.388Z"
   },
   {
    "duration": 5,
    "start_time": "2024-08-06T14:21:42.064Z"
   },
   {
    "duration": 111,
    "start_time": "2024-08-06T14:21:46.013Z"
   },
   {
    "duration": 3,
    "start_time": "2024-08-06T14:21:51.859Z"
   },
   {
    "duration": 17,
    "start_time": "2024-08-06T14:21:52.574Z"
   },
   {
    "duration": 1150,
    "start_time": "2024-08-06T14:21:59.432Z"
   },
   {
    "duration": 72,
    "start_time": "2024-08-06T14:22:00.584Z"
   },
   {
    "duration": 4,
    "start_time": "2024-08-06T14:22:00.658Z"
   },
   {
    "duration": 54,
    "start_time": "2024-08-06T14:22:00.664Z"
   },
   {
    "duration": 76,
    "start_time": "2024-08-06T14:22:00.720Z"
   },
   {
    "duration": 63,
    "start_time": "2024-08-06T14:22:00.798Z"
   },
   {
    "duration": 64,
    "start_time": "2024-08-06T14:22:00.862Z"
   },
   {
    "duration": 122,
    "start_time": "2024-08-06T14:22:00.928Z"
   },
   {
    "duration": 110,
    "start_time": "2024-08-06T14:22:01.052Z"
   },
   {
    "duration": 87,
    "start_time": "2024-08-06T14:22:01.165Z"
   },
   {
    "duration": 51,
    "start_time": "2024-08-06T14:22:01.254Z"
   },
   {
    "duration": 27,
    "start_time": "2024-08-06T14:22:01.307Z"
   },
   {
    "duration": 52,
    "start_time": "2024-08-06T14:22:01.336Z"
   },
   {
    "duration": 45,
    "start_time": "2024-08-06T14:22:01.390Z"
   },
   {
    "duration": 75,
    "start_time": "2024-08-06T14:22:01.437Z"
   },
   {
    "duration": 102,
    "start_time": "2024-08-06T14:22:01.513Z"
   },
   {
    "duration": 157,
    "start_time": "2024-08-06T14:22:01.617Z"
   },
   {
    "duration": 265,
    "start_time": "2024-08-06T14:22:01.776Z"
   },
   {
    "duration": 7,
    "start_time": "2024-08-06T14:22:02.043Z"
   },
   {
    "duration": 186,
    "start_time": "2024-08-06T14:22:02.052Z"
   },
   {
    "duration": 8,
    "start_time": "2024-08-06T14:22:02.239Z"
   },
   {
    "duration": 292,
    "start_time": "2024-08-06T14:22:02.249Z"
   },
   {
    "duration": 9,
    "start_time": "2024-08-06T14:22:02.542Z"
   },
   {
    "duration": 989,
    "start_time": "2024-08-06T14:22:02.553Z"
   },
   {
    "duration": 8,
    "start_time": "2024-08-06T14:22:03.544Z"
   },
   {
    "duration": 299,
    "start_time": "2024-08-06T14:22:03.554Z"
   },
   {
    "duration": 14,
    "start_time": "2024-08-06T14:22:03.854Z"
   },
   {
    "duration": 10,
    "start_time": "2024-08-06T14:22:03.871Z"
   },
   {
    "duration": 278,
    "start_time": "2024-08-06T14:22:03.883Z"
   },
   {
    "duration": 35,
    "start_time": "2024-08-06T14:22:04.163Z"
   },
   {
    "duration": 29,
    "start_time": "2024-08-06T14:22:04.199Z"
   },
   {
    "duration": 19,
    "start_time": "2024-08-06T14:22:04.230Z"
   },
   {
    "duration": 25,
    "start_time": "2024-08-06T14:22:04.251Z"
   },
   {
    "duration": 51,
    "start_time": "2024-08-06T14:22:04.279Z"
   },
   {
    "duration": 26,
    "start_time": "2024-08-06T14:22:04.332Z"
   },
   {
    "duration": 14,
    "start_time": "2024-08-06T14:22:04.361Z"
   },
   {
    "duration": 8,
    "start_time": "2024-08-06T14:22:04.377Z"
   },
   {
    "duration": 36,
    "start_time": "2024-08-06T14:22:04.387Z"
   },
   {
    "duration": 358,
    "start_time": "2024-08-06T14:22:04.425Z"
   },
   {
    "duration": 8,
    "start_time": "2024-08-06T14:22:04.785Z"
   },
   {
    "duration": 8,
    "start_time": "2024-08-06T14:22:04.794Z"
   },
   {
    "duration": 393,
    "start_time": "2024-08-06T14:22:04.804Z"
   },
   {
    "duration": 57,
    "start_time": "2024-08-06T14:22:05.199Z"
   },
   {
    "duration": 14,
    "start_time": "2024-08-06T14:22:05.259Z"
   },
   {
    "duration": 8,
    "start_time": "2024-08-06T14:22:05.274Z"
   },
   {
    "duration": 14,
    "start_time": "2024-08-06T14:22:05.283Z"
   },
   {
    "duration": 22,
    "start_time": "2024-08-06T14:22:05.299Z"
   },
   {
    "duration": 12,
    "start_time": "2024-08-06T14:22:05.323Z"
   }
  ],
  "kernelspec": {
   "display_name": "Python 3 (ipykernel)",
   "language": "python",
   "name": "python3"
  },
  "language_info": {
   "codemirror_mode": {
    "name": "ipython",
    "version": 3
   },
   "file_extension": ".py",
   "mimetype": "text/x-python",
   "name": "python",
   "nbconvert_exporter": "python",
   "pygments_lexer": "ipython3",
   "version": "3.11.7"
  },
  "toc": {
   "base_numbering": 1,
   "nav_menu": {},
   "number_sections": true,
   "sideBar": true,
   "skip_h1_title": true,
   "title_cell": "Table of Contents",
   "title_sidebar": "Contents",
   "toc_cell": false,
   "toc_position": {},
   "toc_section_display": true,
   "toc_window_display": false
  }
 },
 "nbformat": 4,
 "nbformat_minor": 5
}
