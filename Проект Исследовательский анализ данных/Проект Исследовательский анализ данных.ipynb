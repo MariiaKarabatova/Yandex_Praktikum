{
 "cells": [
  {
   "cell_type": "markdown",
   "metadata": {
    "id": "-VFbjcb3Awb7"
   },
   "source": [
    "# Исследование объявлений о продаже квартир\n",
    "\n"
   ]
  },
  {
   "cell_type": "markdown",
   "metadata": {},
   "source": [
    "# Введение:\n",
    "\n",
    "В вашем распоряжении данные сервиса Яндекс Недвижимость — архив объявлений о продаже квартир в Санкт-Петербурге и соседних населённых пунктах за несколько лет.\n"
   ]
  },
  {
   "cell_type": "markdown",
   "metadata": {},
   "source": [
    "# Цель исследования:\n",
    "\n",
    "Провести исследовательский анализ данных и установить параметры, влияющие на цену объектов. Это позволит построить автоматизированную систему: она отследит аномалии и мошенническую деятельность."
   ]
  },
  {
   "cell_type": "markdown",
   "metadata": {},
   "source": [
    "# Ход исследования:\n",
    "\n",
    "1. Изучить общую информацию\n",
    "2. Выполнить предобработку данных\n",
    "3. Добавить в таблицу новые столбцы:\n",
    "      - цена одного квадратного метра (нужно поделить стоимость объекта на его общую площадь, а затем округлить до двух знаков после запятой);\n",
    "      - день недели публикации объявления (0 — понедельник, 1 — вторник и так далее);\n",
    "      - месяц публикации объявления;\n",
    "      - год публикации объявления;\n",
    "      - тип этажа квартиры (значения — «‎первый», «последний», «другой»);\n",
    "      - расстояние до центра города в километрах (переведите из м в км и округлите до ближайших целых значений).    \n",
    "4. Провести исследовательский анализ данных\n",
    "5. Написать общий вывод"
   ]
  },
  {
   "cell_type": "markdown",
   "metadata": {
    "id": "aeFLH07FAwb9"
   },
   "source": [
    "### Откроем файл с данными и изучим общую информацию"
   ]
  },
  {
   "cell_type": "markdown",
   "metadata": {},
   "source": [
    "#### Импортируем библиотеку pandas"
   ]
  },
  {
   "cell_type": "code",
   "execution_count": 1,
   "metadata": {
    "id": "7MZxY65pAwb9"
   },
   "outputs": [],
   "source": [
    "import pandas as pd\n",
    "\n",
    "import matplotlib.pyplot as plt"
   ]
  },
  {
   "cell_type": "code",
   "execution_count": 2,
   "metadata": {},
   "outputs": [],
   "source": [
    "data = pd.read_csv('/datasets/real_estate_data.csv',sep='\\t')"
   ]
  },
  {
   "cell_type": "markdown",
   "metadata": {},
   "source": [
    "#### Выведем первые 20 строчек датафрейма `data` на экран."
   ]
  },
  {
   "cell_type": "code",
   "execution_count": 3,
   "metadata": {},
   "outputs": [
    {
     "data": {
      "text/html": [
       "<div>\n",
       "<style scoped>\n",
       "    .dataframe tbody tr th:only-of-type {\n",
       "        vertical-align: middle;\n",
       "    }\n",
       "\n",
       "    .dataframe tbody tr th {\n",
       "        vertical-align: top;\n",
       "    }\n",
       "\n",
       "    .dataframe thead th {\n",
       "        text-align: right;\n",
       "    }\n",
       "</style>\n",
       "<table border=\"1\" class=\"dataframe\">\n",
       "  <thead>\n",
       "    <tr style=\"text-align: right;\">\n",
       "      <th></th>\n",
       "      <th>total_images</th>\n",
       "      <th>last_price</th>\n",
       "      <th>total_area</th>\n",
       "      <th>first_day_exposition</th>\n",
       "      <th>rooms</th>\n",
       "      <th>ceiling_height</th>\n",
       "      <th>floors_total</th>\n",
       "      <th>living_area</th>\n",
       "      <th>floor</th>\n",
       "      <th>is_apartment</th>\n",
       "      <th>...</th>\n",
       "      <th>kitchen_area</th>\n",
       "      <th>balcony</th>\n",
       "      <th>locality_name</th>\n",
       "      <th>airports_nearest</th>\n",
       "      <th>cityCenters_nearest</th>\n",
       "      <th>parks_around3000</th>\n",
       "      <th>parks_nearest</th>\n",
       "      <th>ponds_around3000</th>\n",
       "      <th>ponds_nearest</th>\n",
       "      <th>days_exposition</th>\n",
       "    </tr>\n",
       "  </thead>\n",
       "  <tbody>\n",
       "    <tr>\n",
       "      <th>0</th>\n",
       "      <td>20</td>\n",
       "      <td>13000000.0</td>\n",
       "      <td>108.00</td>\n",
       "      <td>2019-03-07T00:00:00</td>\n",
       "      <td>3</td>\n",
       "      <td>2.70</td>\n",
       "      <td>16.0</td>\n",
       "      <td>51.00</td>\n",
       "      <td>8</td>\n",
       "      <td>NaN</td>\n",
       "      <td>...</td>\n",
       "      <td>25.00</td>\n",
       "      <td>NaN</td>\n",
       "      <td>Санкт-Петербург</td>\n",
       "      <td>18863.0</td>\n",
       "      <td>16028.0</td>\n",
       "      <td>1.0</td>\n",
       "      <td>482.0</td>\n",
       "      <td>2.0</td>\n",
       "      <td>755.0</td>\n",
       "      <td>NaN</td>\n",
       "    </tr>\n",
       "    <tr>\n",
       "      <th>1</th>\n",
       "      <td>7</td>\n",
       "      <td>3350000.0</td>\n",
       "      <td>40.40</td>\n",
       "      <td>2018-12-04T00:00:00</td>\n",
       "      <td>1</td>\n",
       "      <td>NaN</td>\n",
       "      <td>11.0</td>\n",
       "      <td>18.60</td>\n",
       "      <td>1</td>\n",
       "      <td>NaN</td>\n",
       "      <td>...</td>\n",
       "      <td>11.00</td>\n",
       "      <td>2.0</td>\n",
       "      <td>посёлок Шушары</td>\n",
       "      <td>12817.0</td>\n",
       "      <td>18603.0</td>\n",
       "      <td>0.0</td>\n",
       "      <td>NaN</td>\n",
       "      <td>0.0</td>\n",
       "      <td>NaN</td>\n",
       "      <td>81.0</td>\n",
       "    </tr>\n",
       "    <tr>\n",
       "      <th>2</th>\n",
       "      <td>10</td>\n",
       "      <td>5196000.0</td>\n",
       "      <td>56.00</td>\n",
       "      <td>2015-08-20T00:00:00</td>\n",
       "      <td>2</td>\n",
       "      <td>NaN</td>\n",
       "      <td>5.0</td>\n",
       "      <td>34.30</td>\n",
       "      <td>4</td>\n",
       "      <td>NaN</td>\n",
       "      <td>...</td>\n",
       "      <td>8.30</td>\n",
       "      <td>0.0</td>\n",
       "      <td>Санкт-Петербург</td>\n",
       "      <td>21741.0</td>\n",
       "      <td>13933.0</td>\n",
       "      <td>1.0</td>\n",
       "      <td>90.0</td>\n",
       "      <td>2.0</td>\n",
       "      <td>574.0</td>\n",
       "      <td>558.0</td>\n",
       "    </tr>\n",
       "    <tr>\n",
       "      <th>3</th>\n",
       "      <td>0</td>\n",
       "      <td>64900000.0</td>\n",
       "      <td>159.00</td>\n",
       "      <td>2015-07-24T00:00:00</td>\n",
       "      <td>3</td>\n",
       "      <td>NaN</td>\n",
       "      <td>14.0</td>\n",
       "      <td>NaN</td>\n",
       "      <td>9</td>\n",
       "      <td>NaN</td>\n",
       "      <td>...</td>\n",
       "      <td>NaN</td>\n",
       "      <td>0.0</td>\n",
       "      <td>Санкт-Петербург</td>\n",
       "      <td>28098.0</td>\n",
       "      <td>6800.0</td>\n",
       "      <td>2.0</td>\n",
       "      <td>84.0</td>\n",
       "      <td>3.0</td>\n",
       "      <td>234.0</td>\n",
       "      <td>424.0</td>\n",
       "    </tr>\n",
       "    <tr>\n",
       "      <th>4</th>\n",
       "      <td>2</td>\n",
       "      <td>10000000.0</td>\n",
       "      <td>100.00</td>\n",
       "      <td>2018-06-19T00:00:00</td>\n",
       "      <td>2</td>\n",
       "      <td>3.03</td>\n",
       "      <td>14.0</td>\n",
       "      <td>32.00</td>\n",
       "      <td>13</td>\n",
       "      <td>NaN</td>\n",
       "      <td>...</td>\n",
       "      <td>41.00</td>\n",
       "      <td>NaN</td>\n",
       "      <td>Санкт-Петербург</td>\n",
       "      <td>31856.0</td>\n",
       "      <td>8098.0</td>\n",
       "      <td>2.0</td>\n",
       "      <td>112.0</td>\n",
       "      <td>1.0</td>\n",
       "      <td>48.0</td>\n",
       "      <td>121.0</td>\n",
       "    </tr>\n",
       "    <tr>\n",
       "      <th>5</th>\n",
       "      <td>10</td>\n",
       "      <td>2890000.0</td>\n",
       "      <td>30.40</td>\n",
       "      <td>2018-09-10T00:00:00</td>\n",
       "      <td>1</td>\n",
       "      <td>NaN</td>\n",
       "      <td>12.0</td>\n",
       "      <td>14.40</td>\n",
       "      <td>5</td>\n",
       "      <td>NaN</td>\n",
       "      <td>...</td>\n",
       "      <td>9.10</td>\n",
       "      <td>NaN</td>\n",
       "      <td>городской посёлок Янино-1</td>\n",
       "      <td>NaN</td>\n",
       "      <td>NaN</td>\n",
       "      <td>NaN</td>\n",
       "      <td>NaN</td>\n",
       "      <td>NaN</td>\n",
       "      <td>NaN</td>\n",
       "      <td>55.0</td>\n",
       "    </tr>\n",
       "    <tr>\n",
       "      <th>6</th>\n",
       "      <td>6</td>\n",
       "      <td>3700000.0</td>\n",
       "      <td>37.30</td>\n",
       "      <td>2017-11-02T00:00:00</td>\n",
       "      <td>1</td>\n",
       "      <td>NaN</td>\n",
       "      <td>26.0</td>\n",
       "      <td>10.60</td>\n",
       "      <td>6</td>\n",
       "      <td>NaN</td>\n",
       "      <td>...</td>\n",
       "      <td>14.40</td>\n",
       "      <td>1.0</td>\n",
       "      <td>посёлок Парголово</td>\n",
       "      <td>52996.0</td>\n",
       "      <td>19143.0</td>\n",
       "      <td>0.0</td>\n",
       "      <td>NaN</td>\n",
       "      <td>0.0</td>\n",
       "      <td>NaN</td>\n",
       "      <td>155.0</td>\n",
       "    </tr>\n",
       "    <tr>\n",
       "      <th>7</th>\n",
       "      <td>5</td>\n",
       "      <td>7915000.0</td>\n",
       "      <td>71.60</td>\n",
       "      <td>2019-04-18T00:00:00</td>\n",
       "      <td>2</td>\n",
       "      <td>NaN</td>\n",
       "      <td>24.0</td>\n",
       "      <td>NaN</td>\n",
       "      <td>22</td>\n",
       "      <td>NaN</td>\n",
       "      <td>...</td>\n",
       "      <td>18.90</td>\n",
       "      <td>2.0</td>\n",
       "      <td>Санкт-Петербург</td>\n",
       "      <td>23982.0</td>\n",
       "      <td>11634.0</td>\n",
       "      <td>0.0</td>\n",
       "      <td>NaN</td>\n",
       "      <td>0.0</td>\n",
       "      <td>NaN</td>\n",
       "      <td>NaN</td>\n",
       "    </tr>\n",
       "    <tr>\n",
       "      <th>8</th>\n",
       "      <td>20</td>\n",
       "      <td>2900000.0</td>\n",
       "      <td>33.16</td>\n",
       "      <td>2018-05-23T00:00:00</td>\n",
       "      <td>1</td>\n",
       "      <td>NaN</td>\n",
       "      <td>27.0</td>\n",
       "      <td>15.43</td>\n",
       "      <td>26</td>\n",
       "      <td>NaN</td>\n",
       "      <td>...</td>\n",
       "      <td>8.81</td>\n",
       "      <td>NaN</td>\n",
       "      <td>посёлок Мурино</td>\n",
       "      <td>NaN</td>\n",
       "      <td>NaN</td>\n",
       "      <td>NaN</td>\n",
       "      <td>NaN</td>\n",
       "      <td>NaN</td>\n",
       "      <td>NaN</td>\n",
       "      <td>189.0</td>\n",
       "    </tr>\n",
       "    <tr>\n",
       "      <th>9</th>\n",
       "      <td>18</td>\n",
       "      <td>5400000.0</td>\n",
       "      <td>61.00</td>\n",
       "      <td>2017-02-26T00:00:00</td>\n",
       "      <td>3</td>\n",
       "      <td>2.50</td>\n",
       "      <td>9.0</td>\n",
       "      <td>43.60</td>\n",
       "      <td>7</td>\n",
       "      <td>NaN</td>\n",
       "      <td>...</td>\n",
       "      <td>6.50</td>\n",
       "      <td>2.0</td>\n",
       "      <td>Санкт-Петербург</td>\n",
       "      <td>50898.0</td>\n",
       "      <td>15008.0</td>\n",
       "      <td>0.0</td>\n",
       "      <td>NaN</td>\n",
       "      <td>0.0</td>\n",
       "      <td>NaN</td>\n",
       "      <td>289.0</td>\n",
       "    </tr>\n",
       "  </tbody>\n",
       "</table>\n",
       "<p>10 rows × 22 columns</p>\n",
       "</div>"
      ],
      "text/plain": [
       "   total_images  last_price  total_area first_day_exposition  rooms  \\\n",
       "0            20  13000000.0      108.00  2019-03-07T00:00:00      3   \n",
       "1             7   3350000.0       40.40  2018-12-04T00:00:00      1   \n",
       "2            10   5196000.0       56.00  2015-08-20T00:00:00      2   \n",
       "3             0  64900000.0      159.00  2015-07-24T00:00:00      3   \n",
       "4             2  10000000.0      100.00  2018-06-19T00:00:00      2   \n",
       "5            10   2890000.0       30.40  2018-09-10T00:00:00      1   \n",
       "6             6   3700000.0       37.30  2017-11-02T00:00:00      1   \n",
       "7             5   7915000.0       71.60  2019-04-18T00:00:00      2   \n",
       "8            20   2900000.0       33.16  2018-05-23T00:00:00      1   \n",
       "9            18   5400000.0       61.00  2017-02-26T00:00:00      3   \n",
       "\n",
       "   ceiling_height  floors_total  living_area  floor is_apartment  ...  \\\n",
       "0            2.70          16.0        51.00      8          NaN  ...   \n",
       "1             NaN          11.0        18.60      1          NaN  ...   \n",
       "2             NaN           5.0        34.30      4          NaN  ...   \n",
       "3             NaN          14.0          NaN      9          NaN  ...   \n",
       "4            3.03          14.0        32.00     13          NaN  ...   \n",
       "5             NaN          12.0        14.40      5          NaN  ...   \n",
       "6             NaN          26.0        10.60      6          NaN  ...   \n",
       "7             NaN          24.0          NaN     22          NaN  ...   \n",
       "8             NaN          27.0        15.43     26          NaN  ...   \n",
       "9            2.50           9.0        43.60      7          NaN  ...   \n",
       "\n",
       "   kitchen_area  balcony              locality_name  airports_nearest  \\\n",
       "0         25.00      NaN            Санкт-Петербург           18863.0   \n",
       "1         11.00      2.0             посёлок Шушары           12817.0   \n",
       "2          8.30      0.0            Санкт-Петербург           21741.0   \n",
       "3           NaN      0.0            Санкт-Петербург           28098.0   \n",
       "4         41.00      NaN            Санкт-Петербург           31856.0   \n",
       "5          9.10      NaN  городской посёлок Янино-1               NaN   \n",
       "6         14.40      1.0          посёлок Парголово           52996.0   \n",
       "7         18.90      2.0            Санкт-Петербург           23982.0   \n",
       "8          8.81      NaN             посёлок Мурино               NaN   \n",
       "9          6.50      2.0            Санкт-Петербург           50898.0   \n",
       "\n",
       "  cityCenters_nearest  parks_around3000  parks_nearest  ponds_around3000  \\\n",
       "0             16028.0               1.0          482.0               2.0   \n",
       "1             18603.0               0.0            NaN               0.0   \n",
       "2             13933.0               1.0           90.0               2.0   \n",
       "3              6800.0               2.0           84.0               3.0   \n",
       "4              8098.0               2.0          112.0               1.0   \n",
       "5                 NaN               NaN            NaN               NaN   \n",
       "6             19143.0               0.0            NaN               0.0   \n",
       "7             11634.0               0.0            NaN               0.0   \n",
       "8                 NaN               NaN            NaN               NaN   \n",
       "9             15008.0               0.0            NaN               0.0   \n",
       "\n",
       "   ponds_nearest  days_exposition  \n",
       "0          755.0              NaN  \n",
       "1            NaN             81.0  \n",
       "2          574.0            558.0  \n",
       "3          234.0            424.0  \n",
       "4           48.0            121.0  \n",
       "5            NaN             55.0  \n",
       "6            NaN            155.0  \n",
       "7            NaN              NaN  \n",
       "8            NaN            189.0  \n",
       "9            NaN            289.0  \n",
       "\n",
       "[10 rows x 22 columns]"
      ]
     },
     "execution_count": 3,
     "metadata": {},
     "output_type": "execute_result"
    }
   ],
   "source": [
    "data.head(10)"
   ]
  },
  {
   "cell_type": "markdown",
   "metadata": {},
   "source": [
    "#### Выведем основную информацию о датафрейме с помощью метода `info()`."
   ]
  },
  {
   "cell_type": "code",
   "execution_count": 4,
   "metadata": {},
   "outputs": [
    {
     "name": "stdout",
     "output_type": "stream",
     "text": [
      "<class 'pandas.core.frame.DataFrame'>\n",
      "RangeIndex: 23699 entries, 0 to 23698\n",
      "Data columns (total 22 columns):\n",
      " #   Column                Non-Null Count  Dtype  \n",
      "---  ------                --------------  -----  \n",
      " 0   total_images          23699 non-null  int64  \n",
      " 1   last_price            23699 non-null  float64\n",
      " 2   total_area            23699 non-null  float64\n",
      " 3   first_day_exposition  23699 non-null  object \n",
      " 4   rooms                 23699 non-null  int64  \n",
      " 5   ceiling_height        14504 non-null  float64\n",
      " 6   floors_total          23613 non-null  float64\n",
      " 7   living_area           21796 non-null  float64\n",
      " 8   floor                 23699 non-null  int64  \n",
      " 9   is_apartment          2775 non-null   object \n",
      " 10  studio                23699 non-null  bool   \n",
      " 11  open_plan             23699 non-null  bool   \n",
      " 12  kitchen_area          21421 non-null  float64\n",
      " 13  balcony               12180 non-null  float64\n",
      " 14  locality_name         23650 non-null  object \n",
      " 15  airports_nearest      18157 non-null  float64\n",
      " 16  cityCenters_nearest   18180 non-null  float64\n",
      " 17  parks_around3000      18181 non-null  float64\n",
      " 18  parks_nearest         8079 non-null   float64\n",
      " 19  ponds_around3000      18181 non-null  float64\n",
      " 20  ponds_nearest         9110 non-null   float64\n",
      " 21  days_exposition       20518 non-null  float64\n",
      "dtypes: bool(2), float64(14), int64(3), object(3)\n",
      "memory usage: 3.7+ MB\n"
     ]
    }
   ],
   "source": [
    "data.info()"
   ]
  },
  {
   "cell_type": "markdown",
   "metadata": {},
   "source": [
    "#### Найдем явные дубликаты"
   ]
  },
  {
   "cell_type": "code",
   "execution_count": 5,
   "metadata": {},
   "outputs": [
    {
     "data": {
      "text/plain": [
       "0"
      ]
     },
     "execution_count": 5,
     "metadata": {},
     "output_type": "execute_result"
    }
   ],
   "source": [
    "data.duplicated().sum()"
   ]
  },
  {
   "cell_type": "markdown",
   "metadata": {},
   "source": [
    "#### Построим гистограмму для всех числовых столбцов таблицы на одном графике."
   ]
  },
  {
   "cell_type": "code",
   "execution_count": 6,
   "metadata": {},
   "outputs": [
    {
     "data": {
      "text/plain": [
       "array([[<AxesSubplot:title={'center':'total_images'}>,\n",
       "        <AxesSubplot:title={'center':'last_price'}>,\n",
       "        <AxesSubplot:title={'center':'total_area'}>,\n",
       "        <AxesSubplot:title={'center':'rooms'}>],\n",
       "       [<AxesSubplot:title={'center':'ceiling_height'}>,\n",
       "        <AxesSubplot:title={'center':'floors_total'}>,\n",
       "        <AxesSubplot:title={'center':'living_area'}>,\n",
       "        <AxesSubplot:title={'center':'floor'}>],\n",
       "       [<AxesSubplot:title={'center':'kitchen_area'}>,\n",
       "        <AxesSubplot:title={'center':'balcony'}>,\n",
       "        <AxesSubplot:title={'center':'airports_nearest'}>,\n",
       "        <AxesSubplot:title={'center':'cityCenters_nearest'}>],\n",
       "       [<AxesSubplot:title={'center':'parks_around3000'}>,\n",
       "        <AxesSubplot:title={'center':'parks_nearest'}>,\n",
       "        <AxesSubplot:title={'center':'ponds_around3000'}>,\n",
       "        <AxesSubplot:title={'center':'ponds_nearest'}>],\n",
       "       [<AxesSubplot:title={'center':'days_exposition'}>, <AxesSubplot:>,\n",
       "        <AxesSubplot:>, <AxesSubplot:>]], dtype=object)"
      ]
     },
     "execution_count": 6,
     "metadata": {},
     "output_type": "execute_result"
    },
    {
     "data": {
      "image/png": "[encoded data removed]",
      "text/plain": [
       "<Figure size 1080x1440 with 20 Axes>"
      ]
     },
     "metadata": {
      "needs_background": "light"
     },
     "output_type": "display_data"
    }
   ],
   "source": [
    "data.hist(figsize=(15, 20))"
   ]
  },
  {
   "cell_type": "markdown",
   "metadata": {},
   "source": [
    "**Промежуточный вывод на основе изученной общей информации:**\n",
    "<p></p>\n",
    "\n",
    "<div style=\"border:solid green 2px; padding: 20px\">\n",
    "\n",
    "1. Таблица состоит из 23699 записей.\n",
    "2. Явных дубликатов не найдено.\n",
    "3. Обнаружены пропуски.\n",
    "4. Есть некорректные типы данных.\n",
    "5. По гистограммам видно, что есть аномальные значения.\n",
    "    \n",
    "</div>"
   ]
  },
  {
   "cell_type": "markdown",
   "metadata": {
    "id": "-O5NtivEAwb9"
   },
   "source": [
    "### Выполним предобработку данных"
   ]
  },
  {
   "cell_type": "markdown",
   "metadata": {},
   "source": [
    "#### Найдем количество пропущенных значений в каждом столбце."
   ]
  },
  {
   "cell_type": "code",
   "execution_count": 7,
   "metadata": {
    "id": "7v3vAeTuAwb-"
   },
   "outputs": [
    {
     "data": {
      "text/plain": [
       "total_images                0\n",
       "last_price                  0\n",
       "total_area                  0\n",
       "first_day_exposition        0\n",
       "rooms                       0\n",
       "ceiling_height           9195\n",
       "floors_total               86\n",
       "living_area              1903\n",
       "floor                       0\n",
       "is_apartment            20924\n",
       "studio                      0\n",
       "open_plan                   0\n",
       "kitchen_area             2278\n",
       "balcony                 11519\n",
       "locality_name              49\n",
       "airports_nearest         5542\n",
       "cityCenters_nearest      5519\n",
       "parks_around3000         5518\n",
       "parks_nearest           15620\n",
       "ponds_around3000         5518\n",
       "ponds_nearest           14589\n",
       "days_exposition          3181\n",
       "dtype: int64"
      ]
     },
     "execution_count": 7,
     "metadata": {},
     "output_type": "execute_result"
    }
   ],
   "source": [
    "data.isna().sum()"
   ]
  },
  {
   "cell_type": "markdown",
   "metadata": {},
   "source": [
    "#### Переименуем столбцы."
   ]
  },
  {
   "cell_type": "code",
   "execution_count": 8,
   "metadata": {},
   "outputs": [],
   "source": [
    "# Переименуем столбец cityCenters_nearest в city_centers_nearest:      \n",
    "data = data.rename(columns={'cityCenters_nearest': 'city_centers_nearest'})"
   ]
  },
  {
   "cell_type": "markdown",
   "metadata": {},
   "source": [
    "#### Заменим пропуски на логические значения."
   ]
  },
  {
   "cell_type": "code",
   "execution_count": 9,
   "metadata": {},
   "outputs": [],
   "source": [
    "# Заменим пропуски у столбца \"ceiling_height\" на медианное значение:\n",
    "data['ceiling_height'] = data['ceiling_height'].fillna(data['ceiling_height'].median())"
   ]
  },
  {
   "cell_type": "markdown",
   "metadata": {},
   "source": [
    "**living_area** - жилая площадь, она равна living_area = total_area(общая площадь) - площадь кухни(kitchen_area) - площадь балкона - площадь ванны - площадь коридора и другие дополнительные комнаты. Данных для нахождения жилой площади недостаточно, поэтому оставим данные без изменения."
   ]
  },
  {
   "cell_type": "code",
   "execution_count": 10,
   "metadata": {},
   "outputs": [],
   "source": [
    "# Заменим пропуски у столбца \"floors_total\" на медианное значение:\n",
    "data['floors_total'] = data['floors_total'].fillna(data['floors_total'].median())"
   ]
  },
  {
   "cell_type": "code",
   "execution_count": 11,
   "metadata": {},
   "outputs": [
    {
     "data": {
      "text/plain": [
       "0.018018018018018018"
      ]
     },
     "execution_count": 11,
     "metadata": {},
     "output_type": "execute_result"
    }
   ],
   "source": [
    "# Заменим пропуски у столбца \"is_apartment\" на bool значение:\n",
    "# Сначала найдем среднее значение апартаментов\n",
    "data['is_apartment'].mean()"
   ]
  },
  {
   "cell_type": "code",
   "execution_count": 12,
   "metadata": {},
   "outputs": [],
   "source": [
    "# 2 % апартаментов указано в записях, следовательно в остальных случаях их просто не указали\n",
    "data['is_apartment'] = data['is_apartment'].fillna(False)"
   ]
  },
  {
   "cell_type": "code",
   "execution_count": 13,
   "metadata": {},
   "outputs": [],
   "source": [
    "# большинство квартир не имееют кухню, так как имеют студию или н-р, евродвушку(гостиная вместе с кухней)\n",
    "# поэтому примем пропущенные значение для kitchen_area 0:\n",
    "data['kitchen_area'] = data['kitchen_area'].fillna(0)"
   ]
  },
  {
   "cell_type": "code",
   "execution_count": 14,
   "metadata": {},
   "outputs": [],
   "source": [
    "# не во всех квартирах есть балконы, поэтому примем пропущенные значения:\n",
    "data['balcony'] = data['balcony'].fillna(0)"
   ]
  },
  {
   "cell_type": "code",
   "execution_count": 15,
   "metadata": {
    "collapsed": true,
    "jupyter": {
     "outputs_hidden": true
    }
   },
   "outputs": [
    {
     "data": {
      "text/plain": [
       "array(['Бокситогорск', 'Волосово', 'Волхов', 'Всеволожск', 'Выборг',\n",
       "       'Высоцк', 'Гатчина', 'Зеленогорск', 'Ивангород', 'Каменногорск',\n",
       "       'Кингисепп', 'Кириши', 'Кировск', 'Колпино', 'Коммунар',\n",
       "       'Красное Село', 'Кронштадт', 'Кудрово', 'Лодейное Поле',\n",
       "       'Ломоносов', 'Луга', 'Любань', 'Мурино', 'Никольское',\n",
       "       'Новая Ладога', 'Отрадное', 'Павловск', 'Петергоф', 'Пикалёво',\n",
       "       'Подпорожье', 'Приморск', 'Приозерск', 'Пушкин', 'Санкт-Петербург',\n",
       "       'Светогорск', 'Сертолово', 'Сестрорецк', 'Сланцы', 'Сосновый Бор',\n",
       "       'Сясьстрой', 'Тихвин', 'Тосно', 'Шлиссельбург',\n",
       "       'городской поселок Большая Ижора', 'городской поселок Янино-1',\n",
       "       'городской посёлок Будогощь', 'городской посёлок Виллози',\n",
       "       'городской посёлок Лесогорский', 'городской посёлок Мга',\n",
       "       'городской посёлок Назия', 'городской посёлок Новоселье',\n",
       "       'городской посёлок Павлово', 'городской посёлок Рощино',\n",
       "       'городской посёлок Свирьстрой', 'городской посёлок Советский',\n",
       "       'городской посёлок Фёдоровское', 'городской посёлок Янино-1',\n",
       "       'деревня Агалатово', 'деревня Аро', 'деревня Батово',\n",
       "       'деревня Бегуницы', 'деревня Белогорка', 'деревня Большая Вруда',\n",
       "       'деревня Большая Пустомержа', 'деревня Большие Колпаны',\n",
       "       'деревня Большое Рейзино', 'деревня Большой Сабск', 'деревня Бор',\n",
       "       'деревня Борисова Грива', 'деревня Ваганово', 'деревня Вартемяги',\n",
       "       'деревня Вахнова Кара', 'деревня Выскатка', 'деревня Гарболово',\n",
       "       'деревня Глинка', 'деревня Горбунки', 'деревня Гостилицы',\n",
       "       'деревня Заклинье', 'деревня Заневка', 'деревня Зимитицы',\n",
       "       'деревня Извара', 'деревня Иссад', 'деревня Калитино',\n",
       "       'деревня Кальтино', 'деревня Камышовка', 'деревня Каськово',\n",
       "       'деревня Келози', 'деревня Кипень', 'деревня Кисельня',\n",
       "       'деревня Колтуши', 'деревня Коркино', 'деревня Котлы',\n",
       "       'деревня Кривко', 'деревня Кудрово', 'деревня Кузьмолово',\n",
       "       'деревня Курковицы', 'деревня Куровицы', 'деревня Куттузи',\n",
       "       'деревня Лаврики', 'деревня Лаголово', 'деревня Лампово',\n",
       "       'деревня Лесколово', 'деревня Лопухинка', 'деревня Лупполово',\n",
       "       'деревня Малая Романовка', 'деревня Малое Верево',\n",
       "       'деревня Малое Карлино', 'деревня Малые Колпаны',\n",
       "       'деревня Мануйлово', 'деревня Меньково', 'деревня Мины',\n",
       "       'деревня Мистолово', 'деревня Ненимяки', 'деревня Нижние Осельки',\n",
       "       'деревня Нижняя', 'деревня Низино', 'деревня Новое Девяткино',\n",
       "       'деревня Новолисино', 'деревня Нурма', 'деревня Оржицы',\n",
       "       'деревня Парицы', 'деревня Пельгора', 'деревня Пеники',\n",
       "       'деревня Пижма', 'деревня Пикколово', 'деревня Пудомяги',\n",
       "       'деревня Пустынка', 'деревня Пчева', 'деревня Рабитицы',\n",
       "       'деревня Разбегаево', 'деревня Раздолье', 'деревня Разметелево',\n",
       "       'деревня Рапполово', 'деревня Реброво', 'деревня Русско',\n",
       "       'деревня Сижно', 'деревня Снегирёвка', 'деревня Старая',\n",
       "       'деревня Старая Пустошь', 'деревня Старое Хинколово',\n",
       "       'деревня Старополье', 'деревня Старосиверская',\n",
       "       'деревня Старые Бегуницы', 'деревня Суоранда',\n",
       "       'деревня Сяськелево', 'деревня Тарасово', 'деревня Терпилицы',\n",
       "       'деревня Тихковицы', 'деревня Тойворово', 'деревня Торосово',\n",
       "       'деревня Торошковичи', 'деревня Трубников Бор',\n",
       "       'деревня Фалилеево', 'деревня Фёдоровское', 'деревня Хапо-Ое',\n",
       "       'деревня Хязельки', 'деревня Чудской Бор', 'деревня Шпаньково',\n",
       "       'деревня Щеглово', 'деревня Юкки', 'деревня Ялгино',\n",
       "       'деревня Яльгелево', 'деревня Ям-Тесово',\n",
       "       'коттеджный поселок Кивеннапа Север', 'коттеджный поселок Счастье',\n",
       "       'коттеджный посёлок Лесное', 'поселок Аннино', 'поселок Барышево',\n",
       "       'поселок Бугры', 'поселок Возрождение', 'поселок Войсковицы',\n",
       "       'поселок Володарское', 'поселок Гаврилово', 'поселок Гарболово',\n",
       "       'поселок Гладкое', 'поселок Глажево', 'поселок Глебычево',\n",
       "       'поселок Гончарово', 'поселок Громово', 'поселок Дружноселье',\n",
       "       'поселок Елизаветино', 'поселок Жилгородок', 'поселок Жилпосёлок',\n",
       "       'поселок Житково', 'поселок Заводской', 'поселок Запорожское',\n",
       "       'поселок Зимитицы', 'поселок Ильичёво', 'поселок Калитино',\n",
       "       'поселок Каложицы', 'поселок Кингисеппский', 'поселок Кирпичное',\n",
       "       'поселок Кобралово', 'поселок Кобринское', 'поселок Коммунары',\n",
       "       'поселок Коробицыно', 'поселок Котельский',\n",
       "       'поселок Красная Долина', 'поселок Красносельское',\n",
       "       'поселок Лесное', 'поселок Лисий Нос', 'поселок Лукаши',\n",
       "       'поселок Любань', 'поселок Мельниково', 'поселок Мичуринское',\n",
       "       'поселок Молодцово', 'поселок Мурино', 'поселок Новый Свет',\n",
       "       'поселок Новый Учхоз', 'поселок Оредеж',\n",
       "       'поселок Пансионат Зелёный Бор', 'поселок Первомайское',\n",
       "       'поселок Перово', 'поселок Петровское', 'поселок Победа',\n",
       "       'поселок Поляны', 'поселок Почап', 'поселок Починок',\n",
       "       'поселок Пушное', 'поселок Пчевжа', 'поселок Рабитицы',\n",
       "       'поселок Романовка', 'поселок Ромашки', 'поселок Рябово',\n",
       "       'поселок Севастьяново', 'поселок Селезнёво', 'поселок Сельцо',\n",
       "       'поселок Семиозерье', 'поселок Семрино', 'поселок Серебрянский',\n",
       "       'поселок Совхозный', 'поселок Старая Малукса',\n",
       "       'поселок Стеклянный', 'поселок Сумино', 'поселок Суходолье',\n",
       "       'поселок Тельмана', 'поселок Терволово', 'поселок Торковичи',\n",
       "       'поселок Тёсово-4', 'поселок Углово', 'поселок Усть-Луга',\n",
       "       'поселок Ушаки', 'поселок Цвелодубово', 'поселок Цвылёво',\n",
       "       'поселок городского типа Большая Ижора',\n",
       "       'поселок городского типа Вырица',\n",
       "       'поселок городского типа Дружная Горка',\n",
       "       'поселок городского типа Дубровка',\n",
       "       'поселок городского типа Ефимовский',\n",
       "       'поселок городского типа Кондратьево',\n",
       "       'поселок городского типа Красный Бор',\n",
       "       'поселок городского типа Кузьмоловский',\n",
       "       'поселок городского типа Лебяжье',\n",
       "       'поселок городского типа Лесогорский',\n",
       "       'поселок городского типа Назия',\n",
       "       'поселок городского типа Никольский',\n",
       "       'поселок городского типа Приладожский',\n",
       "       'поселок городского типа Рахья', 'поселок городского типа Рощино',\n",
       "       'поселок городского типа Рябово',\n",
       "       'поселок городского типа Синявино',\n",
       "       'поселок городского типа Советский',\n",
       "       'поселок городского типа Токсово',\n",
       "       'поселок городского типа Форносово',\n",
       "       'поселок городского типа имени Свердлова',\n",
       "       'поселок станции Вещево', 'поселок станции Корнево',\n",
       "       'поселок станции Лужайка', 'поселок станции Приветнинское',\n",
       "       'посёлок Александровская', 'посёлок Алексеевка', 'посёлок Аннино',\n",
       "       'посёлок Белоостров', 'посёлок Бугры', 'посёлок Возрождение',\n",
       "       'посёлок Войскорово', 'посёлок Высокоключевой',\n",
       "       'посёлок Гаврилово', 'посёлок Дзержинского', 'посёлок Жилгородок',\n",
       "       'посёлок Ильичёво', 'посёлок Кикерино', 'посёлок Кобралово',\n",
       "       'посёлок Коробицыно', 'посёлок Левашово', 'посёлок Ленинское',\n",
       "       'посёлок Лисий Нос', 'посёлок Мельниково', 'посёлок Металлострой',\n",
       "       'посёлок Мичуринское', 'посёлок Молодёжное', 'посёлок Мурино',\n",
       "       'посёлок Мыза-Ивановка', 'посёлок Новогорелово',\n",
       "       'посёлок Новый Свет', 'посёлок Пансионат Зелёный Бор',\n",
       "       'посёлок Парголово', 'посёлок Перово', 'посёлок Песочный',\n",
       "       'посёлок Петро-Славянка', 'посёлок Петровское',\n",
       "       'посёлок Платформа 69-й километр', 'посёлок Плодовое',\n",
       "       'посёлок Плоское', 'посёлок Победа', 'посёлок Поляны',\n",
       "       'посёлок Понтонный', 'посёлок Пригородный', 'посёлок Пудость',\n",
       "       'посёлок Репино', 'посёлок Ропша', 'посёлок Сапёрное',\n",
       "       'посёлок Сапёрный', 'посёлок Сосново', 'посёлок Старая Малукса',\n",
       "       'посёлок Стеклянный', 'посёлок Стрельна', 'посёлок Суйда',\n",
       "       'посёлок Сумино', 'посёлок Тельмана', 'посёлок Терволово',\n",
       "       'посёлок Торфяное', 'посёлок Усть-Ижора', 'посёлок Усть-Луга',\n",
       "       'посёлок Форт Красная Горка', 'посёлок Шугозеро', 'посёлок Шушары',\n",
       "       'посёлок Щеглово', 'посёлок городского типа Важины',\n",
       "       'посёлок городского типа Вознесенье',\n",
       "       'посёлок городского типа Вырица',\n",
       "       'посёлок городского типа Красный Бор',\n",
       "       'посёлок городского типа Кузнечное',\n",
       "       'посёлок городского типа Кузьмоловский',\n",
       "       'посёлок городского типа Лебяжье', 'посёлок городского типа Мга',\n",
       "       'посёлок городского типа Павлово',\n",
       "       'посёлок городского типа Рощино', 'посёлок городского типа Рябово',\n",
       "       'посёлок городского типа Сиверский',\n",
       "       'посёлок городского типа Тайцы', 'посёлок городского типа Токсово',\n",
       "       'посёлок городского типа Ульяновка',\n",
       "       'посёлок городского типа Форносово',\n",
       "       'посёлок городского типа имени Морозова',\n",
       "       'посёлок городского типа имени Свердлова',\n",
       "       'посёлок при железнодорожной станции Вещево',\n",
       "       'посёлок при железнодорожной станции Приветнинское',\n",
       "       'посёлок станции Громово', 'посёлок станции Свирь',\n",
       "       'садоводческое некоммерческое товарищество Лесная Поляна',\n",
       "       'садовое товарищество Новая Ропша',\n",
       "       'садовое товарищество Приладожский', 'садовое товарищество Рахья',\n",
       "       'садовое товарищество Садко', 'село Копорье', 'село Никольское',\n",
       "       'село Павлово', 'село Паша', 'село Путилово', 'село Рождествено',\n",
       "       'село Русско-Высоцкое', 'село Старая Ладога', 'село Шум', nan],\n",
       "      dtype=object)"
      ]
     },
     "execution_count": 15,
     "metadata": {},
     "output_type": "execute_result"
    }
   ],
   "source": [
    "# Посмотрим на отсортированный и уникальный список столбца locality_name \n",
    "data['locality_name'].sort_values().unique()"
   ]
  },
  {
   "cell_type": "code",
   "execution_count": 16,
   "metadata": {},
   "outputs": [],
   "source": [
    "# Приведем столбец locality_name к одному регистру и устраним неявные дубликаты\n",
    "data['locality_name'] = data['locality_name'].str.lower()"
   ]
  },
  {
   "cell_type": "code",
   "execution_count": 17,
   "metadata": {},
   "outputs": [],
   "source": [
    "data['locality_name'] = (\n",
    "    data['locality_name']\n",
    "    .str.replace('ё', 'е')\n",
    "    .replace(['городской поселок ', 'деревня ', 'коттеджный поселок ',\n",
    "             'поселок ', 'поселок городского типа ', 'посёлок при железнодорожной станции ',\n",
    "             'садоводческое некоммерческое товарищество ','садовое товарищество ',\n",
    "             'село ', 'при железнодорожной станции ', 'городского типа ', 'станции '], '', regex=True)\n",
    ") \n"
   ]
  },
  {
   "cell_type": "code",
   "execution_count": 18,
   "metadata": {
    "scrolled": true
   },
   "outputs": [
    {
     "data": {
      "text/plain": [
       "array(['агалатово', 'александровская', 'алексеевка', 'аннино', 'аро',\n",
       "       'барышево', 'батово', 'бегуницы', 'белогорка', 'белоостров',\n",
       "       'бокситогорск', 'большая вруда', 'большая ижора',\n",
       "       'большая пустомержа', 'большие колпаны', 'большое рейзино',\n",
       "       'большой сабск', 'бор', 'борисова грива', 'бугры', 'будогощь',\n",
       "       'ваганово', 'важины', 'вартемяги', 'вахнова кара', 'вещево',\n",
       "       'виллози', 'вознесенье', 'возрождение', 'войсковицы', 'войскорово',\n",
       "       'володарское', 'волосово', 'волхов', 'всеволожск', 'выборг',\n",
       "       'вырица', 'выскатка', 'высокоключевой', 'высоцк', 'гаврилово',\n",
       "       'гарболово', 'гатчина', 'гладкое', 'глажево', 'глебычево',\n",
       "       'глинка', 'гончарово', 'горбунки', 'гостилицы', 'громово',\n",
       "       'дзержинского', 'дружная горка', 'дружноселье', 'дубровка',\n",
       "       'елизаветино', 'ефимовский', 'жилгородок', 'жилпоселок', 'житково',\n",
       "       'заводской', 'заклинье', 'заневка', 'запорожское', 'зеленогорск',\n",
       "       'зимитицы', 'ивангород', 'извара', 'ильичево', 'имени морозова',\n",
       "       'имени свердлова', 'иссад', 'калитино', 'каложицы', 'кальтино',\n",
       "       'каменногорск', 'камышовка', 'каськово', 'келози',\n",
       "       'кивеннапа север', 'кикерино', 'кингисепп', 'кингисеппский',\n",
       "       'кипень', 'кириши', 'кировск', 'кирпичное', 'кисельня',\n",
       "       'кобралово', 'кобринское', 'колпино', 'колтуши', 'коммунар',\n",
       "       'коммунары', 'кондратьево', 'копорье', 'коркино', 'корнево',\n",
       "       'коробицыно', 'котельский', 'котлы', 'красная долина',\n",
       "       'красное село', 'красносельское', 'красный бор', 'кривко',\n",
       "       'кронштадт', 'кудрово', 'кузнечное', 'кузьмолово', 'кузьмоловский',\n",
       "       'курковицы', 'куровицы', 'куттузи', 'лаврики', 'лаголово',\n",
       "       'лампово', 'лебяжье', 'левашово', 'ленинское', 'лесколово',\n",
       "       'лесная поляна', 'лесное', 'лесогорский', 'лисий нос',\n",
       "       'лодейное поле', 'ломоносов', 'лопухинка', 'луга', 'лужайка',\n",
       "       'лукаши', 'лупполово', 'любань', 'малая романовка', 'малое верево',\n",
       "       'малое карлино', 'малые колпаны', 'мануйлово', 'мга', 'мельниково',\n",
       "       'меньково', 'металлострой', 'мины', 'мистолово', 'мичуринское',\n",
       "       'молодежное', 'молодцово', 'мурино', 'мыза-ивановка', 'назия',\n",
       "       'ненимяки', 'нижние осельки', 'нижняя', 'низино', 'никольский',\n",
       "       'никольское', 'новая ладога', 'новая ропша', 'новогорелово',\n",
       "       'новое девяткино', 'новолисино', 'новоселье', 'новый свет',\n",
       "       'новый учхоз', 'нурма', 'оредеж', 'оржицы', 'отрадное', 'павлово',\n",
       "       'павловск', 'пансионат зеленый бор', 'парголово', 'парицы', 'паша',\n",
       "       'пельгора', 'пеники', 'первомайское', 'перово', 'песочный',\n",
       "       'петергоф', 'петро-славянка', 'петровское', 'пижма', 'пикалево',\n",
       "       'пикколово', 'платформа 69-й километр', 'плодовое', 'плоское',\n",
       "       'победа', 'подпорожье', 'поляны', 'понтонный', 'почап', 'починок',\n",
       "       'приветнинское', 'пригородный', 'приладожский', 'приморск',\n",
       "       'приозерск', 'пудомяги', 'пудость', 'пустынка', 'путилово',\n",
       "       'пушкин', 'пушное', 'пчева', 'пчевжа', 'рабитицы', 'разбегаево',\n",
       "       'раздолье', 'разметелево', 'рапполово', 'рахья', 'реброво',\n",
       "       'репино', 'рождествено', 'романовка', 'ромашки', 'ропша', 'рощино',\n",
       "       'русско', 'русско-высоцкое', 'рябово', 'садко', 'санкт-петербург',\n",
       "       'саперное', 'саперный', 'светогорск', 'свирь', 'свирьстрой',\n",
       "       'севастьяново', 'селезнево', 'сельцо', 'семиозерье', 'семрино',\n",
       "       'серебрянский', 'сертолово', 'сестрорецк', 'сиверский', 'сижно',\n",
       "       'синявино', 'сланцы', 'снегиревка', 'советский', 'совхозный',\n",
       "       'сосново', 'сосновый бор', 'старая', 'старая ладога',\n",
       "       'старая малукса', 'старая пустошь', 'старое хинколово',\n",
       "       'старополье', 'старосиверская', 'старые бегуницы', 'стеклянный',\n",
       "       'стрельна', 'суйда', 'сумино', 'суоранда', 'суходолье', 'счастье',\n",
       "       'сяськелево', 'сясьстрой', 'тайцы', 'тарасово', 'тельмана',\n",
       "       'терволово', 'терпилицы', 'тесово-4', 'тихвин', 'тихковицы',\n",
       "       'тойворово', 'токсово', 'торковичи', 'торосово', 'торошковичи',\n",
       "       'торфяное', 'тосно', 'трубников бор', 'углово', 'ульяновка',\n",
       "       'усть-ижора', 'усть-луга', 'ушаки', 'фалилеево', 'федоровское',\n",
       "       'форносово', 'форт красная горка', 'хапо-ое', 'хязельки',\n",
       "       'цвелодубово', 'цвылево', 'чудской бор', 'шлиссельбург',\n",
       "       'шпаньково', 'шугозеро', 'шум', 'шушары', 'щеглово', 'юкки',\n",
       "       'ялгино', 'яльгелево', 'ям-тесово', 'янино-1', nan], dtype=object)"
      ]
     },
     "execution_count": 18,
     "metadata": {},
     "output_type": "execute_result"
    }
   ],
   "source": [
    "data['locality_name'].sort_values().unique()"
   ]
  },
  {
   "cell_type": "code",
   "execution_count": 19,
   "metadata": {},
   "outputs": [],
   "source": [
    "# Заменим NaN на unknown:\n",
    "data['locality_name'] = data['locality_name'].fillna('unknown')"
   ]
  },
  {
   "cell_type": "markdown",
   "metadata": {},
   "source": [
    "Не во всех городах и поселках есть аэропорты, поэтому **airports_nearest** оставим без изменений.\n",
    "\n",
    "Перечисленные населенные пункты не все являются городами и поэтому они не имеют центр города, **city_centers_nearest** оставим без изменений.\n"
   ]
  },
  {
   "cell_type": "code",
   "execution_count": 20,
   "metadata": {},
   "outputs": [],
   "source": [
    "# ponds_around3000 и parks_around3000 это водоемы и парки в радиусе 3 км, \n",
    "# не во всех городах, поселках и другие населенных пунктов есть водоемв и парки, поэтому заменим пропущенные значения на 0\n",
    "data['ponds_around3000'] = data['ponds_around3000'].fillna(0)\n"
   ]
  },
  {
   "cell_type": "code",
   "execution_count": 21,
   "metadata": {},
   "outputs": [],
   "source": [
    "data['parks_around3000'] = data['parks_around3000'].fillna(0)"
   ]
  },
  {
   "cell_type": "markdown",
   "metadata": {},
   "source": [
    "**parks_nearest** и **ponds_nearest** как и сказано выше, что не во всех населенных пунктах есть водоемы и парки, поэтому оставим их без изменений."
   ]
  },
  {
   "cell_type": "markdown",
   "metadata": {},
   "source": [
    "**days_exposition** - сколько дней было размещено объявление (от публикации до снятия), возможно пропуски обозначают, что квартира еще не продана, поэтому в этом столбце есть пропуски. Оставим без изменений."
   ]
  },
  {
   "cell_type": "code",
   "execution_count": 22,
   "metadata": {},
   "outputs": [
    {
     "data": {
      "text/plain": [
       "total_images                0\n",
       "last_price                  0\n",
       "total_area                  0\n",
       "first_day_exposition        0\n",
       "rooms                       0\n",
       "ceiling_height              0\n",
       "floors_total                0\n",
       "living_area              1903\n",
       "floor                       0\n",
       "is_apartment                0\n",
       "studio                      0\n",
       "open_plan                   0\n",
       "kitchen_area                0\n",
       "balcony                     0\n",
       "locality_name               0\n",
       "airports_nearest         5542\n",
       "city_centers_nearest     5519\n",
       "parks_around3000            0\n",
       "parks_nearest           15620\n",
       "ponds_around3000            0\n",
       "ponds_nearest           14589\n",
       "days_exposition          3181\n",
       "dtype: int64"
      ]
     },
     "execution_count": 22,
     "metadata": {},
     "output_type": "execute_result"
    }
   ],
   "source": [
    "data.isna().sum()"
   ]
  },
  {
   "cell_type": "markdown",
   "metadata": {},
   "source": [
    "**Сократили пропуски, теперь необходимо заменить некорректные типы данных**"
   ]
  },
  {
   "cell_type": "markdown",
   "metadata": {},
   "source": [
    "####  Заменим некорректные типы данных:"
   ]
  },
  {
   "cell_type": "code",
   "execution_count": 23,
   "metadata": {},
   "outputs": [],
   "source": [
    "# Заменим некорректные типы данных is_apartment на булевое значение:\n",
    "data['is_apartment'] = data['is_apartment'].astype('bool')"
   ]
  },
  {
   "cell_type": "code",
   "execution_count": 24,
   "metadata": {},
   "outputs": [],
   "source": [
    "# Заменим некорректные типы данных floors_total на целое значение, так как этажи кратные целому числу:\n",
    "data['floors_total'] = data['floors_total'].astype('int')"
   ]
  },
  {
   "cell_type": "code",
   "execution_count": 25,
   "metadata": {},
   "outputs": [],
   "source": [
    "# Заменим некорректные типы данных ponds_around3000 на целое значение, так как число водоемов может быть только целым числом:\n",
    "data['ponds_around3000'] = data['ponds_around3000'].astype('int')"
   ]
  },
  {
   "cell_type": "code",
   "execution_count": 26,
   "metadata": {},
   "outputs": [],
   "source": [
    "# Заменим некорректные типы данных parks_around3000 на целое значение, так как число парков может быть только целым числом:\n",
    "data['parks_around3000'] = data['parks_around3000'].astype('int')"
   ]
  },
  {
   "cell_type": "code",
   "execution_count": 27,
   "metadata": {},
   "outputs": [],
   "source": [
    "# Приведем к корректному формату first_day_exposition:\n",
    "data['first_day_exposition'] = pd.to_datetime(data['first_day_exposition'], format='%Y-%m-%dT%H:%M:%S')"
   ]
  },
  {
   "cell_type": "code",
   "execution_count": 28,
   "metadata": {},
   "outputs": [],
   "source": [
    "# Заменим некорректные типы данных last_price на целое значение, так как значения в таблице имеют целое значение:\n",
    "data['last_price'] = data['last_price'].astype('int')"
   ]
  },
  {
   "cell_type": "code",
   "execution_count": 29,
   "metadata": {},
   "outputs": [],
   "source": [
    "# Заменим некорректные типы данных balcony на целое значение, так как число балконов кратно целому числу:\n",
    "data['balcony'] = data['balcony'].astype('int')"
   ]
  },
  {
   "cell_type": "markdown",
   "metadata": {},
   "source": [
    "#### Проверим, как выглядит таблица после обновления тип данных и замены пропусков："
   ]
  },
  {
   "cell_type": "code",
   "execution_count": 30,
   "metadata": {},
   "outputs": [
    {
     "data": {
      "text/html": [
       "<div>\n",
       "<style scoped>\n",
       "    .dataframe tbody tr th:only-of-type {\n",
       "        vertical-align: middle;\n",
       "    }\n",
       "\n",
       "    .dataframe tbody tr th {\n",
       "        vertical-align: top;\n",
       "    }\n",
       "\n",
       "    .dataframe thead th {\n",
       "        text-align: right;\n",
       "    }\n",
       "</style>\n",
       "<table border=\"1\" class=\"dataframe\">\n",
       "  <thead>\n",
       "    <tr style=\"text-align: right;\">\n",
       "      <th></th>\n",
       "      <th>total_images</th>\n",
       "      <th>last_price</th>\n",
       "      <th>total_area</th>\n",
       "      <th>first_day_exposition</th>\n",
       "      <th>rooms</th>\n",
       "      <th>ceiling_height</th>\n",
       "      <th>floors_total</th>\n",
       "      <th>living_area</th>\n",
       "      <th>floor</th>\n",
       "      <th>is_apartment</th>\n",
       "      <th>...</th>\n",
       "      <th>kitchen_area</th>\n",
       "      <th>balcony</th>\n",
       "      <th>locality_name</th>\n",
       "      <th>airports_nearest</th>\n",
       "      <th>city_centers_nearest</th>\n",
       "      <th>parks_around3000</th>\n",
       "      <th>parks_nearest</th>\n",
       "      <th>ponds_around3000</th>\n",
       "      <th>ponds_nearest</th>\n",
       "      <th>days_exposition</th>\n",
       "    </tr>\n",
       "  </thead>\n",
       "  <tbody>\n",
       "    <tr>\n",
       "      <th>0</th>\n",
       "      <td>20</td>\n",
       "      <td>13000000</td>\n",
       "      <td>108.00</td>\n",
       "      <td>2019-03-07</td>\n",
       "      <td>3</td>\n",
       "      <td>2.70</td>\n",
       "      <td>16</td>\n",
       "      <td>51.00</td>\n",
       "      <td>8</td>\n",
       "      <td>False</td>\n",
       "      <td>...</td>\n",
       "      <td>25.00</td>\n",
       "      <td>0</td>\n",
       "      <td>санкт-петербург</td>\n",
       "      <td>18863.0</td>\n",
       "      <td>16028.0</td>\n",
       "      <td>1</td>\n",
       "      <td>482.0</td>\n",
       "      <td>2</td>\n",
       "      <td>755.0</td>\n",
       "      <td>NaN</td>\n",
       "    </tr>\n",
       "    <tr>\n",
       "      <th>1</th>\n",
       "      <td>7</td>\n",
       "      <td>3350000</td>\n",
       "      <td>40.40</td>\n",
       "      <td>2018-12-04</td>\n",
       "      <td>1</td>\n",
       "      <td>2.65</td>\n",
       "      <td>11</td>\n",
       "      <td>18.60</td>\n",
       "      <td>1</td>\n",
       "      <td>False</td>\n",
       "      <td>...</td>\n",
       "      <td>11.00</td>\n",
       "      <td>2</td>\n",
       "      <td>шушары</td>\n",
       "      <td>12817.0</td>\n",
       "      <td>18603.0</td>\n",
       "      <td>0</td>\n",
       "      <td>NaN</td>\n",
       "      <td>0</td>\n",
       "      <td>NaN</td>\n",
       "      <td>81.0</td>\n",
       "    </tr>\n",
       "    <tr>\n",
       "      <th>2</th>\n",
       "      <td>10</td>\n",
       "      <td>5196000</td>\n",
       "      <td>56.00</td>\n",
       "      <td>2015-08-20</td>\n",
       "      <td>2</td>\n",
       "      <td>2.65</td>\n",
       "      <td>5</td>\n",
       "      <td>34.30</td>\n",
       "      <td>4</td>\n",
       "      <td>False</td>\n",
       "      <td>...</td>\n",
       "      <td>8.30</td>\n",
       "      <td>0</td>\n",
       "      <td>санкт-петербург</td>\n",
       "      <td>21741.0</td>\n",
       "      <td>13933.0</td>\n",
       "      <td>1</td>\n",
       "      <td>90.0</td>\n",
       "      <td>2</td>\n",
       "      <td>574.0</td>\n",
       "      <td>558.0</td>\n",
       "    </tr>\n",
       "    <tr>\n",
       "      <th>3</th>\n",
       "      <td>0</td>\n",
       "      <td>64900000</td>\n",
       "      <td>159.00</td>\n",
       "      <td>2015-07-24</td>\n",
       "      <td>3</td>\n",
       "      <td>2.65</td>\n",
       "      <td>14</td>\n",
       "      <td>NaN</td>\n",
       "      <td>9</td>\n",
       "      <td>False</td>\n",
       "      <td>...</td>\n",
       "      <td>0.00</td>\n",
       "      <td>0</td>\n",
       "      <td>санкт-петербург</td>\n",
       "      <td>28098.0</td>\n",
       "      <td>6800.0</td>\n",
       "      <td>2</td>\n",
       "      <td>84.0</td>\n",
       "      <td>3</td>\n",
       "      <td>234.0</td>\n",
       "      <td>424.0</td>\n",
       "    </tr>\n",
       "    <tr>\n",
       "      <th>4</th>\n",
       "      <td>2</td>\n",
       "      <td>10000000</td>\n",
       "      <td>100.00</td>\n",
       "      <td>2018-06-19</td>\n",
       "      <td>2</td>\n",
       "      <td>3.03</td>\n",
       "      <td>14</td>\n",
       "      <td>32.00</td>\n",
       "      <td>13</td>\n",
       "      <td>False</td>\n",
       "      <td>...</td>\n",
       "      <td>41.00</td>\n",
       "      <td>0</td>\n",
       "      <td>санкт-петербург</td>\n",
       "      <td>31856.0</td>\n",
       "      <td>8098.0</td>\n",
       "      <td>2</td>\n",
       "      <td>112.0</td>\n",
       "      <td>1</td>\n",
       "      <td>48.0</td>\n",
       "      <td>121.0</td>\n",
       "    </tr>\n",
       "    <tr>\n",
       "      <th>5</th>\n",
       "      <td>10</td>\n",
       "      <td>2890000</td>\n",
       "      <td>30.40</td>\n",
       "      <td>2018-09-10</td>\n",
       "      <td>1</td>\n",
       "      <td>2.65</td>\n",
       "      <td>12</td>\n",
       "      <td>14.40</td>\n",
       "      <td>5</td>\n",
       "      <td>False</td>\n",
       "      <td>...</td>\n",
       "      <td>9.10</td>\n",
       "      <td>0</td>\n",
       "      <td>янино-1</td>\n",
       "      <td>NaN</td>\n",
       "      <td>NaN</td>\n",
       "      <td>0</td>\n",
       "      <td>NaN</td>\n",
       "      <td>0</td>\n",
       "      <td>NaN</td>\n",
       "      <td>55.0</td>\n",
       "    </tr>\n",
       "    <tr>\n",
       "      <th>6</th>\n",
       "      <td>6</td>\n",
       "      <td>3700000</td>\n",
       "      <td>37.30</td>\n",
       "      <td>2017-11-02</td>\n",
       "      <td>1</td>\n",
       "      <td>2.65</td>\n",
       "      <td>26</td>\n",
       "      <td>10.60</td>\n",
       "      <td>6</td>\n",
       "      <td>False</td>\n",
       "      <td>...</td>\n",
       "      <td>14.40</td>\n",
       "      <td>1</td>\n",
       "      <td>парголово</td>\n",
       "      <td>52996.0</td>\n",
       "      <td>19143.0</td>\n",
       "      <td>0</td>\n",
       "      <td>NaN</td>\n",
       "      <td>0</td>\n",
       "      <td>NaN</td>\n",
       "      <td>155.0</td>\n",
       "    </tr>\n",
       "    <tr>\n",
       "      <th>7</th>\n",
       "      <td>5</td>\n",
       "      <td>7915000</td>\n",
       "      <td>71.60</td>\n",
       "      <td>2019-04-18</td>\n",
       "      <td>2</td>\n",
       "      <td>2.65</td>\n",
       "      <td>24</td>\n",
       "      <td>NaN</td>\n",
       "      <td>22</td>\n",
       "      <td>False</td>\n",
       "      <td>...</td>\n",
       "      <td>18.90</td>\n",
       "      <td>2</td>\n",
       "      <td>санкт-петербург</td>\n",
       "      <td>23982.0</td>\n",
       "      <td>11634.0</td>\n",
       "      <td>0</td>\n",
       "      <td>NaN</td>\n",
       "      <td>0</td>\n",
       "      <td>NaN</td>\n",
       "      <td>NaN</td>\n",
       "    </tr>\n",
       "    <tr>\n",
       "      <th>8</th>\n",
       "      <td>20</td>\n",
       "      <td>2900000</td>\n",
       "      <td>33.16</td>\n",
       "      <td>2018-05-23</td>\n",
       "      <td>1</td>\n",
       "      <td>2.65</td>\n",
       "      <td>27</td>\n",
       "      <td>15.43</td>\n",
       "      <td>26</td>\n",
       "      <td>False</td>\n",
       "      <td>...</td>\n",
       "      <td>8.81</td>\n",
       "      <td>0</td>\n",
       "      <td>мурино</td>\n",
       "      <td>NaN</td>\n",
       "      <td>NaN</td>\n",
       "      <td>0</td>\n",
       "      <td>NaN</td>\n",
       "      <td>0</td>\n",
       "      <td>NaN</td>\n",
       "      <td>189.0</td>\n",
       "    </tr>\n",
       "    <tr>\n",
       "      <th>9</th>\n",
       "      <td>18</td>\n",
       "      <td>5400000</td>\n",
       "      <td>61.00</td>\n",
       "      <td>2017-02-26</td>\n",
       "      <td>3</td>\n",
       "      <td>2.50</td>\n",
       "      <td>9</td>\n",
       "      <td>43.60</td>\n",
       "      <td>7</td>\n",
       "      <td>False</td>\n",
       "      <td>...</td>\n",
       "      <td>6.50</td>\n",
       "      <td>2</td>\n",
       "      <td>санкт-петербург</td>\n",
       "      <td>50898.0</td>\n",
       "      <td>15008.0</td>\n",
       "      <td>0</td>\n",
       "      <td>NaN</td>\n",
       "      <td>0</td>\n",
       "      <td>NaN</td>\n",
       "      <td>289.0</td>\n",
       "    </tr>\n",
       "  </tbody>\n",
       "</table>\n",
       "<p>10 rows × 22 columns</p>\n",
       "</div>"
      ],
      "text/plain": [
       "   total_images  last_price  total_area first_day_exposition  rooms  \\\n",
       "0            20    13000000      108.00           2019-03-07      3   \n",
       "1             7     3350000       40.40           2018-12-04      1   \n",
       "2            10     5196000       56.00           2015-08-20      2   \n",
       "3             0    64900000      159.00           2015-07-24      3   \n",
       "4             2    10000000      100.00           2018-06-19      2   \n",
       "5            10     2890000       30.40           2018-09-10      1   \n",
       "6             6     3700000       37.30           2017-11-02      1   \n",
       "7             5     7915000       71.60           2019-04-18      2   \n",
       "8            20     2900000       33.16           2018-05-23      1   \n",
       "9            18     5400000       61.00           2017-02-26      3   \n",
       "\n",
       "   ceiling_height  floors_total  living_area  floor  is_apartment  ...  \\\n",
       "0            2.70            16        51.00      8         False  ...   \n",
       "1            2.65            11        18.60      1         False  ...   \n",
       "2            2.65             5        34.30      4         False  ...   \n",
       "3            2.65            14          NaN      9         False  ...   \n",
       "4            3.03            14        32.00     13         False  ...   \n",
       "5            2.65            12        14.40      5         False  ...   \n",
       "6            2.65            26        10.60      6         False  ...   \n",
       "7            2.65            24          NaN     22         False  ...   \n",
       "8            2.65            27        15.43     26         False  ...   \n",
       "9            2.50             9        43.60      7         False  ...   \n",
       "\n",
       "   kitchen_area  balcony    locality_name  airports_nearest  \\\n",
       "0         25.00        0  санкт-петербург           18863.0   \n",
       "1         11.00        2           шушары           12817.0   \n",
       "2          8.30        0  санкт-петербург           21741.0   \n",
       "3          0.00        0  санкт-петербург           28098.0   \n",
       "4         41.00        0  санкт-петербург           31856.0   \n",
       "5          9.10        0          янино-1               NaN   \n",
       "6         14.40        1        парголово           52996.0   \n",
       "7         18.90        2  санкт-петербург           23982.0   \n",
       "8          8.81        0           мурино               NaN   \n",
       "9          6.50        2  санкт-петербург           50898.0   \n",
       "\n",
       "  city_centers_nearest  parks_around3000  parks_nearest  ponds_around3000  \\\n",
       "0              16028.0                 1          482.0                 2   \n",
       "1              18603.0                 0            NaN                 0   \n",
       "2              13933.0                 1           90.0                 2   \n",
       "3               6800.0                 2           84.0                 3   \n",
       "4               8098.0                 2          112.0                 1   \n",
       "5                  NaN                 0            NaN                 0   \n",
       "6              19143.0                 0            NaN                 0   \n",
       "7              11634.0                 0            NaN                 0   \n",
       "8                  NaN                 0            NaN                 0   \n",
       "9              15008.0                 0            NaN                 0   \n",
       "\n",
       "   ponds_nearest  days_exposition  \n",
       "0          755.0              NaN  \n",
       "1            NaN             81.0  \n",
       "2          574.0            558.0  \n",
       "3          234.0            424.0  \n",
       "4           48.0            121.0  \n",
       "5            NaN             55.0  \n",
       "6            NaN            155.0  \n",
       "7            NaN              NaN  \n",
       "8            NaN            189.0  \n",
       "9            NaN            289.0  \n",
       "\n",
       "[10 rows x 22 columns]"
      ]
     },
     "execution_count": 30,
     "metadata": {},
     "output_type": "execute_result"
    }
   ],
   "source": [
    "data.head(10)"
   ]
  },
  {
   "cell_type": "code",
   "execution_count": 31,
   "metadata": {},
   "outputs": [
    {
     "name": "stdout",
     "output_type": "stream",
     "text": [
      "<class 'pandas.core.frame.DataFrame'>\n",
      "RangeIndex: 23699 entries, 0 to 23698\n",
      "Data columns (total 22 columns):\n",
      " #   Column                Non-Null Count  Dtype         \n",
      "---  ------                --------------  -----         \n",
      " 0   total_images          23699 non-null  int64         \n",
      " 1   last_price            23699 non-null  int64         \n",
      " 2   total_area            23699 non-null  float64       \n",
      " 3   first_day_exposition  23699 non-null  datetime64[ns]\n",
      " 4   rooms                 23699 non-null  int64         \n",
      " 5   ceiling_height        23699 non-null  float64       \n",
      " 6   floors_total          23699 non-null  int64         \n",
      " 7   living_area           21796 non-null  float64       \n",
      " 8   floor                 23699 non-null  int64         \n",
      " 9   is_apartment          23699 non-null  bool          \n",
      " 10  studio                23699 non-null  bool          \n",
      " 11  open_plan             23699 non-null  bool          \n",
      " 12  kitchen_area          23699 non-null  float64       \n",
      " 13  balcony               23699 non-null  int64         \n",
      " 14  locality_name         23699 non-null  object        \n",
      " 15  airports_nearest      18157 non-null  float64       \n",
      " 16  city_centers_nearest  18180 non-null  float64       \n",
      " 17  parks_around3000      23699 non-null  int64         \n",
      " 18  parks_nearest         8079 non-null   float64       \n",
      " 19  ponds_around3000      23699 non-null  int64         \n",
      " 20  ponds_nearest         9110 non-null   float64       \n",
      " 21  days_exposition       20518 non-null  float64       \n",
      "dtypes: bool(3), datetime64[ns](1), float64(9), int64(8), object(1)\n",
      "memory usage: 3.5+ MB\n"
     ]
    }
   ],
   "source": [
    "data.info()"
   ]
  },
  {
   "cell_type": "markdown",
   "metadata": {
    "id": "QCcvyY6YAwb-"
   },
   "source": [
    "### Добавим в таблицу новые столбцы"
   ]
  },
  {
   "cell_type": "code",
   "execution_count": 32,
   "metadata": {
    "id": "Z8eJek3IAwb-"
   },
   "outputs": [],
   "source": [
    "# Создадим столбец - цена одного квадратного метра:\n",
    "data['price_of_one_square_meter'] = (data['last_price'] / data['total_area']).round(2)"
   ]
  },
  {
   "cell_type": "code",
   "execution_count": 33,
   "metadata": {},
   "outputs": [],
   "source": [
    "# Создадим столбец - день недели публикации объявления (0 — понедельник, 1 — вторник и так далее):\n",
    "data['weekday'] = data['first_day_exposition'].dt.weekday   "
   ]
  },
  {
   "cell_type": "code",
   "execution_count": 34,
   "metadata": {},
   "outputs": [],
   "source": [
    "# Создадим столбец - месяц публикации объявления:\n",
    "data['month'] = data['first_day_exposition'].dt.month   "
   ]
  },
  {
   "cell_type": "code",
   "execution_count": 35,
   "metadata": {},
   "outputs": [],
   "source": [
    "# Создадим столбец - год публикации объявления:\n",
    "data['year'] = data['first_day_exposition'].dt.year"
   ]
  },
  {
   "cell_type": "code",
   "execution_count": 36,
   "metadata": {},
   "outputs": [],
   "source": [
    "# Создадим столбец - тип этажа квартиры (значения — «первый», «последний», «другой»):\n",
    "def floor(i):\n",
    "    if i['floor'] == 1:\n",
    "        return 'первый'\n",
    "    if i['floor'] == i['floors_total']:\n",
    "        return 'последний'\n",
    "    else:\n",
    "        return 'другой'\n",
    "data['floor_type'] = data.apply(floor, axis=1)   "
   ]
  },
  {
   "cell_type": "code",
   "execution_count": 37,
   "metadata": {},
   "outputs": [],
   "source": [
    "# Создадим столбец - расстояние до центра города в километрах (переведем из м в км и округлим до ближайших целых значений):\n",
    "data['distance'] = (data['city_centers_nearest'] / 1000).round(0)"
   ]
  },
  {
   "cell_type": "markdown",
   "metadata": {},
   "source": [
    "#### Проверим, верно ли создались наши новые столбцы:"
   ]
  },
  {
   "cell_type": "code",
   "execution_count": 38,
   "metadata": {},
   "outputs": [
    {
     "data": {
      "text/html": [
       "<div>\n",
       "<style scoped>\n",
       "    .dataframe tbody tr th:only-of-type {\n",
       "        vertical-align: middle;\n",
       "    }\n",
       "\n",
       "    .dataframe tbody tr th {\n",
       "        vertical-align: top;\n",
       "    }\n",
       "\n",
       "    .dataframe thead th {\n",
       "        text-align: right;\n",
       "    }\n",
       "</style>\n",
       "<table border=\"1\" class=\"dataframe\">\n",
       "  <thead>\n",
       "    <tr style=\"text-align: right;\">\n",
       "      <th></th>\n",
       "      <th>total_images</th>\n",
       "      <th>last_price</th>\n",
       "      <th>total_area</th>\n",
       "      <th>first_day_exposition</th>\n",
       "      <th>rooms</th>\n",
       "      <th>ceiling_height</th>\n",
       "      <th>floors_total</th>\n",
       "      <th>living_area</th>\n",
       "      <th>floor</th>\n",
       "      <th>is_apartment</th>\n",
       "      <th>...</th>\n",
       "      <th>parks_nearest</th>\n",
       "      <th>ponds_around3000</th>\n",
       "      <th>ponds_nearest</th>\n",
       "      <th>days_exposition</th>\n",
       "      <th>price_of_one_square_meter</th>\n",
       "      <th>weekday</th>\n",
       "      <th>month</th>\n",
       "      <th>year</th>\n",
       "      <th>floor_type</th>\n",
       "      <th>distance</th>\n",
       "    </tr>\n",
       "  </thead>\n",
       "  <tbody>\n",
       "    <tr>\n",
       "      <th>0</th>\n",
       "      <td>20</td>\n",
       "      <td>13000000</td>\n",
       "      <td>108.0</td>\n",
       "      <td>2019-03-07</td>\n",
       "      <td>3</td>\n",
       "      <td>2.70</td>\n",
       "      <td>16</td>\n",
       "      <td>51.0</td>\n",
       "      <td>8</td>\n",
       "      <td>False</td>\n",
       "      <td>...</td>\n",
       "      <td>482.0</td>\n",
       "      <td>2</td>\n",
       "      <td>755.0</td>\n",
       "      <td>NaN</td>\n",
       "      <td>120370.37</td>\n",
       "      <td>3</td>\n",
       "      <td>3</td>\n",
       "      <td>2019</td>\n",
       "      <td>другой</td>\n",
       "      <td>16.0</td>\n",
       "    </tr>\n",
       "    <tr>\n",
       "      <th>1</th>\n",
       "      <td>7</td>\n",
       "      <td>3350000</td>\n",
       "      <td>40.4</td>\n",
       "      <td>2018-12-04</td>\n",
       "      <td>1</td>\n",
       "      <td>2.65</td>\n",
       "      <td>11</td>\n",
       "      <td>18.6</td>\n",
       "      <td>1</td>\n",
       "      <td>False</td>\n",
       "      <td>...</td>\n",
       "      <td>NaN</td>\n",
       "      <td>0</td>\n",
       "      <td>NaN</td>\n",
       "      <td>81.0</td>\n",
       "      <td>82920.79</td>\n",
       "      <td>1</td>\n",
       "      <td>12</td>\n",
       "      <td>2018</td>\n",
       "      <td>первый</td>\n",
       "      <td>19.0</td>\n",
       "    </tr>\n",
       "    <tr>\n",
       "      <th>2</th>\n",
       "      <td>10</td>\n",
       "      <td>5196000</td>\n",
       "      <td>56.0</td>\n",
       "      <td>2015-08-20</td>\n",
       "      <td>2</td>\n",
       "      <td>2.65</td>\n",
       "      <td>5</td>\n",
       "      <td>34.3</td>\n",
       "      <td>4</td>\n",
       "      <td>False</td>\n",
       "      <td>...</td>\n",
       "      <td>90.0</td>\n",
       "      <td>2</td>\n",
       "      <td>574.0</td>\n",
       "      <td>558.0</td>\n",
       "      <td>92785.71</td>\n",
       "      <td>3</td>\n",
       "      <td>8</td>\n",
       "      <td>2015</td>\n",
       "      <td>другой</td>\n",
       "      <td>14.0</td>\n",
       "    </tr>\n",
       "    <tr>\n",
       "      <th>3</th>\n",
       "      <td>0</td>\n",
       "      <td>64900000</td>\n",
       "      <td>159.0</td>\n",
       "      <td>2015-07-24</td>\n",
       "      <td>3</td>\n",
       "      <td>2.65</td>\n",
       "      <td>14</td>\n",
       "      <td>NaN</td>\n",
       "      <td>9</td>\n",
       "      <td>False</td>\n",
       "      <td>...</td>\n",
       "      <td>84.0</td>\n",
       "      <td>3</td>\n",
       "      <td>234.0</td>\n",
       "      <td>424.0</td>\n",
       "      <td>408176.10</td>\n",
       "      <td>4</td>\n",
       "      <td>7</td>\n",
       "      <td>2015</td>\n",
       "      <td>другой</td>\n",
       "      <td>7.0</td>\n",
       "    </tr>\n",
       "    <tr>\n",
       "      <th>4</th>\n",
       "      <td>2</td>\n",
       "      <td>10000000</td>\n",
       "      <td>100.0</td>\n",
       "      <td>2018-06-19</td>\n",
       "      <td>2</td>\n",
       "      <td>3.03</td>\n",
       "      <td>14</td>\n",
       "      <td>32.0</td>\n",
       "      <td>13</td>\n",
       "      <td>False</td>\n",
       "      <td>...</td>\n",
       "      <td>112.0</td>\n",
       "      <td>1</td>\n",
       "      <td>48.0</td>\n",
       "      <td>121.0</td>\n",
       "      <td>100000.00</td>\n",
       "      <td>1</td>\n",
       "      <td>6</td>\n",
       "      <td>2018</td>\n",
       "      <td>другой</td>\n",
       "      <td>8.0</td>\n",
       "    </tr>\n",
       "  </tbody>\n",
       "</table>\n",
       "<p>5 rows × 28 columns</p>\n",
       "</div>"
      ],
      "text/plain": [
       "   total_images  last_price  total_area first_day_exposition  rooms  \\\n",
       "0            20    13000000       108.0           2019-03-07      3   \n",
       "1             7     3350000        40.4           2018-12-04      1   \n",
       "2            10     5196000        56.0           2015-08-20      2   \n",
       "3             0    64900000       159.0           2015-07-24      3   \n",
       "4             2    10000000       100.0           2018-06-19      2   \n",
       "\n",
       "   ceiling_height  floors_total  living_area  floor  is_apartment  ...  \\\n",
       "0            2.70            16         51.0      8         False  ...   \n",
       "1            2.65            11         18.6      1         False  ...   \n",
       "2            2.65             5         34.3      4         False  ...   \n",
       "3            2.65            14          NaN      9         False  ...   \n",
       "4            3.03            14         32.0     13         False  ...   \n",
       "\n",
       "   parks_nearest  ponds_around3000  ponds_nearest  days_exposition  \\\n",
       "0          482.0                 2          755.0              NaN   \n",
       "1            NaN                 0            NaN             81.0   \n",
       "2           90.0                 2          574.0            558.0   \n",
       "3           84.0                 3          234.0            424.0   \n",
       "4          112.0                 1           48.0            121.0   \n",
       "\n",
       "  price_of_one_square_meter  weekday  month  year  floor_type  distance  \n",
       "0                 120370.37        3      3  2019      другой      16.0  \n",
       "1                  82920.79        1     12  2018      первый      19.0  \n",
       "2                  92785.71        3      8  2015      другой      14.0  \n",
       "3                 408176.10        4      7  2015      другой       7.0  \n",
       "4                 100000.00        1      6  2018      другой       8.0  \n",
       "\n",
       "[5 rows x 28 columns]"
      ]
     },
     "execution_count": 38,
     "metadata": {},
     "output_type": "execute_result"
    }
   ],
   "source": [
    "data.head()"
   ]
  },
  {
   "cell_type": "code",
   "execution_count": 39,
   "metadata": {},
   "outputs": [
    {
     "name": "stdout",
     "output_type": "stream",
     "text": [
      "<class 'pandas.core.frame.DataFrame'>\n",
      "RangeIndex: 23699 entries, 0 to 23698\n",
      "Data columns (total 28 columns):\n",
      " #   Column                     Non-Null Count  Dtype         \n",
      "---  ------                     --------------  -----         \n",
      " 0   total_images               23699 non-null  int64         \n",
      " 1   last_price                 23699 non-null  int64         \n",
      " 2   total_area                 23699 non-null  float64       \n",
      " 3   first_day_exposition       23699 non-null  datetime64[ns]\n",
      " 4   rooms                      23699 non-null  int64         \n",
      " 5   ceiling_height             23699 non-null  float64       \n",
      " 6   floors_total               23699 non-null  int64         \n",
      " 7   living_area                21796 non-null  float64       \n",
      " 8   floor                      23699 non-null  int64         \n",
      " 9   is_apartment               23699 non-null  bool          \n",
      " 10  studio                     23699 non-null  bool          \n",
      " 11  open_plan                  23699 non-null  bool          \n",
      " 12  kitchen_area               23699 non-null  float64       \n",
      " 13  balcony                    23699 non-null  int64         \n",
      " 14  locality_name              23699 non-null  object        \n",
      " 15  airports_nearest           18157 non-null  float64       \n",
      " 16  city_centers_nearest       18180 non-null  float64       \n",
      " 17  parks_around3000           23699 non-null  int64         \n",
      " 18  parks_nearest              8079 non-null   float64       \n",
      " 19  ponds_around3000           23699 non-null  int64         \n",
      " 20  ponds_nearest              9110 non-null   float64       \n",
      " 21  days_exposition            20518 non-null  float64       \n",
      " 22  price_of_one_square_meter  23699 non-null  float64       \n",
      " 23  weekday                    23699 non-null  int64         \n",
      " 24  month                      23699 non-null  int64         \n",
      " 25  year                       23699 non-null  int64         \n",
      " 26  floor_type                 23699 non-null  object        \n",
      " 27  distance                   18180 non-null  float64       \n",
      "dtypes: bool(3), datetime64[ns](1), float64(11), int64(11), object(2)\n",
      "memory usage: 4.6+ MB\n"
     ]
    }
   ],
   "source": [
    "data.info()"
   ]
  },
  {
   "cell_type": "markdown",
   "metadata": {},
   "source": [
    "**Вывод:**\n",
    "<p></p>\n",
    "\n",
    "<div style=\"border:solid green 2px; padding: 10px\">\n",
    "\n",
    "1. Переименовали столбец cityCenters_nearest в city_centers_nearest.\n",
    "2. Заменили пропуски в таблице на логические значения.\n",
    "3. Устранили неявные дубликаты у столбца locality_name.\n",
    "4. Заменили некорректные типы данных на корректные.\n",
    "5. Добавили новые столбцы:\n",
    "    - **price_of_one_square_meter** - цена одного квадратного метра (нужно поделить стоимость объекта на его общую площадь, а затем округлить до двух знаков после запятой);\n",
    "    - **weekday** - день недели публикации объявления (0 — понедельник, 1 — вторник и так далее);\n",
    "    - **month** - месяц публикации объявления;\n",
    "    - **year** - год публикации объявления;\n",
    "    - **floor_type** - тип этажа квартиры (значения — «‎первый», «последний», «другой»);\n",
    "    - **distance** - расстояние до центра города в километрах (переведите из м в км и округлите до ближайших целых значений).\n",
    "\n",
    "    \n",
    "</div>"
   ]
  },
  {
   "cell_type": "markdown",
   "metadata": {
    "id": "pPyxrKWTAwb-"
   },
   "source": [
    "### Проведем исследовательский анализ данных"
   ]
  },
  {
   "cell_type": "markdown",
   "metadata": {},
   "source": [
    "#### Изучим перечисленные ниже параметры объектов:"
   ]
  },
  {
   "cell_type": "markdown",
   "metadata": {},
   "source": [
    "##### Изучим параметр total_area - общая площадь:"
   ]
  },
  {
   "cell_type": "code",
   "execution_count": 40,
   "metadata": {},
   "outputs": [
    {
     "data": {
      "text/plain": [
       "count    23699.000000\n",
       "mean        60.348651\n",
       "std         35.654083\n",
       "min         12.000000\n",
       "25%         40.000000\n",
       "50%         52.000000\n",
       "75%         69.900000\n",
       "max        900.000000\n",
       "Name: total_area, dtype: float64"
      ]
     },
     "execution_count": 40,
     "metadata": {},
     "output_type": "execute_result"
    }
   ],
   "source": [
    "data['total_area'].describe()"
   ]
  },
  {
   "cell_type": "code",
   "execution_count": 41,
   "metadata": {},
   "outputs": [
    {
     "data": {
      "image/png": "[encoded data removed]",
      "text/plain": [
       "<Figure size 432x288 with 1 Axes>"
      ]
     },
     "metadata": {
      "needs_background": "light"
     },
     "output_type": "display_data"
    }
   ],
   "source": [
    "data['total_area'].plot(title = 'Общая площадь', kind = 'hist', bins=100, grid = True, range=(12,100), color = 'green')\n",
    "plt.xlabel('кв. метры')\n",
    "plt.ylabel('количество квартир')\n",
    "plt.show() \n"
   ]
  },
  {
   "cell_type": "markdown",
   "metadata": {},
   "source": [
    "**Вывод:**\n",
    "По изученным данным можно увидеть, что большинство квартир с общей площадью от 40 до 69 кв. метров имеют большее количество публикаций, с площадью 52 кв. метра максимальное количество. "
   ]
  },
  {
   "cell_type": "markdown",
   "metadata": {},
   "source": [
    "##### Изучим параметр living_area - жилая площадь:"
   ]
  },
  {
   "cell_type": "code",
   "execution_count": 42,
   "metadata": {},
   "outputs": [
    {
     "data": {
      "text/plain": [
       "count    21796.000000\n",
       "mean        34.457852\n",
       "std         22.030445\n",
       "min          2.000000\n",
       "25%         18.600000\n",
       "50%         30.000000\n",
       "75%         42.300000\n",
       "max        409.700000\n",
       "Name: living_area, dtype: float64"
      ]
     },
     "execution_count": 42,
     "metadata": {},
     "output_type": "execute_result"
    }
   ],
   "source": [
    "data['living_area'].describe()"
   ]
  },
  {
   "cell_type": "code",
   "execution_count": 43,
   "metadata": {},
   "outputs": [
    {
     "data": {
      "image/png": "[encoded data removed]",
      "text/plain": [
       "<Figure size 432x288 with 1 Axes>"
      ]
     },
     "metadata": {
      "needs_background": "light"
     },
     "output_type": "display_data"
    }
   ],
   "source": [
    "data['living_area'].plot(title = 'Жилая площадь', kind = 'hist', bins=100, grid = True, range=(12,60), color = 'orange')\n",
    "plt.xlabel('кв. метры')\n",
    "plt.ylabel('количество квартир')\n",
    "plt.show()"
   ]
  },
  {
   "cell_type": "markdown",
   "metadata": {},
   "source": [
    "**Вывод:**\n",
    "По изученным данным можно увидеть, что с жилой площадью около 18 и 30 кв. метров имеют большее количество публикаций, около 24 кв. метров имеется спад. Квартиры с 18 кв. метров имеют максимальное количество публикаций."
   ]
  },
  {
   "cell_type": "markdown",
   "metadata": {},
   "source": [
    "##### Изучим параметр kitchen_area - площадь кухни:"
   ]
  },
  {
   "cell_type": "code",
   "execution_count": 44,
   "metadata": {},
   "outputs": [
    {
     "data": {
      "text/plain": [
       "count    23699.000000\n",
       "mean         9.553814\n",
       "std          6.420973\n",
       "min          0.000000\n",
       "25%          6.300000\n",
       "50%          9.000000\n",
       "75%         11.440000\n",
       "max        112.000000\n",
       "Name: kitchen_area, dtype: float64"
      ]
     },
     "execution_count": 44,
     "metadata": {},
     "output_type": "execute_result"
    }
   ],
   "source": [
    "data['kitchen_area'].describe()"
   ]
  },
  {
   "cell_type": "code",
   "execution_count": 45,
   "metadata": {},
   "outputs": [
    {
     "data": {
      "image/png": "[encoded data removed]",
      "text/plain": [
       "<Figure size 432x288 with 1 Axes>"
      ]
     },
     "metadata": {
      "needs_background": "light"
     },
     "output_type": "display_data"
    }
   ],
   "source": [
    "data['kitchen_area'].plot(title = 'Площадь кухни', kind = 'hist', bins=100, grid = True, range=(6,20), color = 'red')\n",
    "plt.xlabel('кв. метры')\n",
    "plt.ylabel('Количество квартир')\n",
    "plt.show()"
   ]
  },
  {
   "cell_type": "markdown",
   "metadata": {},
   "source": [
    "**Вывод:**\n",
    "По изученным данным можно увидеть, что с площадью кухни в порядке убывания - 6, 10, 7, 8, 9, 11, 12 кв. метров имеют спрос на предложение. "
   ]
  },
  {
   "cell_type": "markdown",
   "metadata": {},
   "source": [
    "##### Изучим параметр last_price - цена объекта:"
   ]
  },
  {
   "cell_type": "code",
   "execution_count": 46,
   "metadata": {},
   "outputs": [
    {
     "data": {
      "text/plain": [
       "count    2.369900e+04\n",
       "mean     6.541549e+06\n",
       "std      1.088701e+07\n",
       "min      1.219000e+04\n",
       "25%      3.400000e+06\n",
       "50%      4.650000e+06\n",
       "75%      6.800000e+06\n",
       "max      7.630000e+08\n",
       "Name: last_price, dtype: float64"
      ]
     },
     "execution_count": 46,
     "metadata": {},
     "output_type": "execute_result"
    }
   ],
   "source": [
    "data['last_price'].describe()"
   ]
  },
  {
   "cell_type": "code",
   "execution_count": 47,
   "metadata": {},
   "outputs": [
    {
     "data": {
      "image/png": "[encoded data removed]",
      "text/plain": [
       "<Figure size 432x288 with 1 Axes>"
      ]
     },
     "metadata": {
      "needs_background": "light"
     },
     "output_type": "display_data"
    }
   ],
   "source": [
    "data['last_price'].plot(title = 'Цена объекта', kind = 'hist', bins=100, grid = True,\n",
    "                        range=(1.219000e+04, 8.000000e+06), color = 'blue')\n",
    "plt.xlabel('млн. рублей')\n",
    "plt.ylabel('количестов квартир')\n",
    "plt.show()"
   ]
  },
  {
   "cell_type": "markdown",
   "metadata": {},
   "source": [
    "**Вывод:**\n",
    "По изученным данным можно увидеть, что квартиры с промежутком от 3.4 до 6.8 млн. рублей имеют большее количество публикаций. За 3.8 млн.рублей имеется большее количество выставленных квартир на продажу."
   ]
  },
  {
   "cell_type": "markdown",
   "metadata": {},
   "source": [
    "##### Изучим параметр rooms - количество комнат:"
   ]
  },
  {
   "cell_type": "code",
   "execution_count": 48,
   "metadata": {},
   "outputs": [
    {
     "data": {
      "text/plain": [
       "count    23699.000000\n",
       "mean         2.070636\n",
       "std          1.078405\n",
       "min          0.000000\n",
       "25%          1.000000\n",
       "50%          2.000000\n",
       "75%          3.000000\n",
       "max         19.000000\n",
       "Name: rooms, dtype: float64"
      ]
     },
     "execution_count": 48,
     "metadata": {},
     "output_type": "execute_result"
    }
   ],
   "source": [
    "data['rooms'].describe()"
   ]
  },
  {
   "cell_type": "code",
   "execution_count": 49,
   "metadata": {},
   "outputs": [
    {
     "data": {
      "image/png": "[encoded data removed]",
      "text/plain": [
       "<Figure size 432x288 with 1 Axes>"
      ]
     },
     "metadata": {
      "needs_background": "light"
     },
     "output_type": "display_data"
    }
   ],
   "source": [
    "data['rooms'].plot(title = 'Количество комнат', kind = 'hist', bins=30, grid = True,\n",
    "                        range=(0, 7), color = 'brown')\n",
    "plt.xlabel('количество комнат')\n",
    "plt.ylabel('количество квартир')\n",
    "plt.show()"
   ]
  },
  {
   "cell_type": "markdown",
   "metadata": {},
   "source": [
    "**Вывод:**\n",
    "По изученным данным можно увидеть, что квартиры популярной является однокомнатная квартира и убываются по уменьшению комнат."
   ]
  },
  {
   "cell_type": "markdown",
   "metadata": {},
   "source": [
    "##### Изучим параметр ceiling_height - высота потолков:"
   ]
  },
  {
   "cell_type": "code",
   "execution_count": 50,
   "metadata": {},
   "outputs": [
    {
     "data": {
      "text/plain": [
       "count    23699.000000\n",
       "mean         2.724358\n",
       "std          0.988298\n",
       "min          1.000000\n",
       "25%          2.600000\n",
       "50%          2.650000\n",
       "75%          2.700000\n",
       "max        100.000000\n",
       "Name: ceiling_height, dtype: float64"
      ]
     },
     "execution_count": 50,
     "metadata": {},
     "output_type": "execute_result"
    }
   ],
   "source": [
    "data['ceiling_height'].describe()"
   ]
  },
  {
   "cell_type": "code",
   "execution_count": 51,
   "metadata": {},
   "outputs": [],
   "source": [
    "# Приведем в порядок значения высот, скорее всего данные не в правильном формате (не 2.5 м, а 25 м.) \n",
    "# По данным выше видно, что максимальное значение потолков 100 метров, это аномалия\n",
    "data.loc[data['ceiling_height'] >= 20.0, 'ceiling_height'] = data['ceiling_height']/10"
   ]
  },
  {
   "cell_type": "code",
   "execution_count": 52,
   "metadata": {},
   "outputs": [
    {
     "data": {
      "text/plain": [
       "count    23699.000000\n",
       "mean         2.698721\n",
       "std          0.253208\n",
       "min          1.000000\n",
       "25%          2.600000\n",
       "50%          2.650000\n",
       "75%          2.700000\n",
       "max         14.000000\n",
       "Name: ceiling_height, dtype: float64"
      ]
     },
     "execution_count": 52,
     "metadata": {},
     "output_type": "execute_result"
    }
   ],
   "source": [
    "data['ceiling_height'].describe()"
   ]
  },
  {
   "cell_type": "code",
   "execution_count": 53,
   "metadata": {},
   "outputs": [
    {
     "data": {
      "image/png": "[encoded data removed]",
      "text/plain": [
       "<Figure size 432x288 with 1 Axes>"
      ]
     },
     "metadata": {
      "needs_background": "light"
     },
     "output_type": "display_data"
    }
   ],
   "source": [
    "data['ceiling_height'].plot(title = 'Высота потолков', kind = 'hist', bins=30, grid = True,\n",
    "                        range=(2, 4), color = 'yellow')\n",
    "plt.xlabel('метры')\n",
    "plt.ylabel('количество квартир')\n",
    "plt.show()"
   ]
  },
  {
   "cell_type": "markdown",
   "metadata": {},
   "source": [
    "**Вывод:**\n",
    "По изученным данным можно увидеть, что квартиры в среднем имеют высоту потолков - 2.65 метра. После 2.50 метра, 2.70, 2.60, 2.80, 2.75."
   ]
  },
  {
   "cell_type": "markdown",
   "metadata": {},
   "source": [
    "##### Изучим параметр floor_type -  тип этажа квартиры («первый», «последний», «другой»):"
   ]
  },
  {
   "cell_type": "code",
   "execution_count": 54,
   "metadata": {},
   "outputs": [
    {
     "data": {
      "image/png": "[encoded data removed]",
      "text/plain": [
       "<Figure size 360x360 with 1 Axes>"
      ]
     },
     "metadata": {},
     "output_type": "display_data"
    }
   ],
   "source": [
    "data.pivot_table(index='floor_type', values = 'floor', aggfunc = 'count') \\\n",
    "  .plot.pie(y= 'floor', figsize=(5,5), title = 'Тип этажа квартиры («первый», «последний», «другой»)')\n",
    "plt.show()"
   ]
  },
  {
   "cell_type": "markdown",
   "metadata": {},
   "source": [
    "**Вывод:**\n",
    "По изученным данным можно увидеть, что квартиры на первом и последнем этажах не пользуются спросом, около 25% хотят продать данные квартиры."
   ]
  },
  {
   "cell_type": "markdown",
   "metadata": {},
   "source": [
    "##### Изучим параметр floors_total -  общее количество этажей в доме:"
   ]
  },
  {
   "cell_type": "code",
   "execution_count": 55,
   "metadata": {},
   "outputs": [
    {
     "data": {
      "text/plain": [
       "count    23699.000000\n",
       "mean        10.667750\n",
       "std          6.585961\n",
       "min          1.000000\n",
       "25%          5.000000\n",
       "50%          9.000000\n",
       "75%         16.000000\n",
       "max         60.000000\n",
       "Name: floors_total, dtype: float64"
      ]
     },
     "execution_count": 55,
     "metadata": {},
     "output_type": "execute_result"
    }
   ],
   "source": [
    "data['floors_total'].describe()"
   ]
  },
  {
   "cell_type": "code",
   "execution_count": 56,
   "metadata": {},
   "outputs": [
    {
     "data": {
      "image/png": "[encoded data removed]",
      "text/plain": [
       "<Figure size 432x288 with 1 Axes>"
      ]
     },
     "metadata": {
      "needs_background": "light"
     },
     "output_type": "display_data"
    }
   ],
   "source": [
    "data['floors_total'].plot(title = 'Общее количество этажей в доме', kind = 'hist', bins=50, grid = True,\n",
    "                        range=(1, 30), color = 'Purple')\n",
    "plt.xlabel('количество этажей')\n",
    "plt.ylabel('количество квартир')\n",
    "plt.show()"
   ]
  },
  {
   "cell_type": "markdown",
   "metadata": {},
   "source": [
    "**Вывод:**\n",
    "По изученным данным можно увидеть, что пятиэтажные квартиры продаются чаще всего, далее идут девятиэтажки."
   ]
  },
  {
   "cell_type": "markdown",
   "metadata": {},
   "source": [
    "##### Изучим параметр city_сenters_nearest -  расстояние до центра города в метрах:"
   ]
  },
  {
   "cell_type": "code",
   "execution_count": 57,
   "metadata": {},
   "outputs": [
    {
     "data": {
      "text/plain": [
       "count    18180.000000\n",
       "mean     14191.277833\n",
       "std       8608.386210\n",
       "min        181.000000\n",
       "25%       9238.000000\n",
       "50%      13098.500000\n",
       "75%      16293.000000\n",
       "max      65968.000000\n",
       "Name: city_centers_nearest, dtype: float64"
      ]
     },
     "execution_count": 57,
     "metadata": {},
     "output_type": "execute_result"
    }
   ],
   "source": [
    "data['city_centers_nearest'].describe()"
   ]
  },
  {
   "cell_type": "code",
   "execution_count": 58,
   "metadata": {},
   "outputs": [
    {
     "data": {
      "image/png": "[encoded data removed]",
      "text/plain": [
       "<Figure size 432x288 with 1 Axes>"
      ]
     },
     "metadata": {
      "needs_background": "light"
     },
     "output_type": "display_data"
    }
   ],
   "source": [
    "data['city_centers_nearest'].plot(title = 'Расстояние до центра города', kind = 'hist', bins=100, grid = True,\n",
    "                        range=(181, 30000), color = 'Gold')\n",
    "plt.xlabel('метры')\n",
    "plt.ylabel('количество квартир')\n",
    "plt.show()"
   ]
  },
  {
   "cell_type": "markdown",
   "metadata": {},
   "source": [
    "**Вывод:**\n",
    "По изученным данным можно увидеть, что квартиры от 12000 до 17000 метров от центра города являются популярные в публикации. Также около 5000 метров тоже набирают спрос в продажах. Максимальным является 15000 метров."
   ]
  },
  {
   "cell_type": "markdown",
   "metadata": {},
   "source": [
    "##### Изучим параметр parks_nearest - расстояние до ближайшего парка:"
   ]
  },
  {
   "cell_type": "code",
   "execution_count": 59,
   "metadata": {},
   "outputs": [
    {
     "data": {
      "text/plain": [
       "count    8079.000000\n",
       "mean      490.804555\n",
       "std       342.317995\n",
       "min         1.000000\n",
       "25%       288.000000\n",
       "50%       455.000000\n",
       "75%       612.000000\n",
       "max      3190.000000\n",
       "Name: parks_nearest, dtype: float64"
      ]
     },
     "execution_count": 59,
     "metadata": {},
     "output_type": "execute_result"
    }
   ],
   "source": [
    "data['parks_nearest'].describe()"
   ]
  },
  {
   "cell_type": "code",
   "execution_count": 60,
   "metadata": {},
   "outputs": [
    {
     "data": {
      "image/png": "[encoded data removed]",
      "text/plain": [
       "<Figure size 432x288 with 1 Axes>"
      ]
     },
     "metadata": {
      "needs_background": "light"
     },
     "output_type": "display_data"
    }
   ],
   "source": [
    "data['parks_nearest'].plot(title = 'Расстояние до ближайшего парка', kind = 'hist', bins=100, grid = True,\n",
    "                        range=(1, 1000), color = 'pink')\n",
    "plt.xlabel('метры')\n",
    "plt.ylabel('количество квартир')\n",
    "plt.show()"
   ]
  },
  {
   "cell_type": "markdown",
   "metadata": {},
   "source": [
    "**Вывод:**\n",
    "По изученным данным можно увидеть, что квартиры от 200 до 700 метров от ближайшего парка являются популярные в публикации. Максимальным является 450 метров. Данные находятся не в сильном разбросе, поэтому выбор покупки квартир не сильно привязан к расстоянию парков."
   ]
  },
  {
   "cell_type": "markdown",
   "metadata": {},
   "source": [
    "**Промежуточный вывод по изученным выше параметрам:**\n",
    "<p></p>\n",
    "\n",
    "<div style=\"border:solid green 2px; padding: 10px\">\n",
    "\n",
    "1. Большинство квартир с общей площадью от 40 до 69 кв. метров имеют большее количество публикаций, с площадью 52 кв. метра максимальное количество.   \n",
    "2. Квартиры с жилой площадью около 18 и 30 кв. метров имеют большее количество публикаций, около 24 кв. метров имеется спад. Квартиры с 18 кв. метров имеют максимальное количество публикаций.\n",
    "3. Квартиры с площадью кухни в порядке убывания - 6, 10, 7, 8, 9, 11, 12 кв. метров имеют спрос на предложение. \n",
    "4. Квартиры с промежутком от 3.4 до 6.8 млн. рублей имеют большее количество публикаций. За 3.8 млн.рублей имеется большее количество выставленных квартир на продажу.\n",
    "5. Квартиры в среднем имеют высоту потолков - 2.65 метра. После 2.50 метра, 2.70, 2.60, 2.80, 2.75.\n",
    "6. Квартиры на первом и последнем этажах не пользуются спросом, около 25% хотят продать данные квартиры.\n",
    "7. Квартиры популярной является однокомнатная квартира и убываются по уменьшению комнат. \n",
    "8. Пятиэтажные квартиры продаются чаще всего, далее идут девятиэтажки. \n",
    "9. Квартиры от 12000 до 17000 метров от центра города являются популярные в публикации. Также около 5000 метров тоже набирают спрос в продажах. Максимальным является 15000 метров.\n",
    "10. Квартиры от 200 до 700 метров от ближайшего парка являются популярные в публикации. Максимальным является 450 метров. Данные находятся не в сильном разбросе, поэтому выбор покупки квартир не сильно привязан к расстоянию парков.\n",
    "    \n",
    "</div>"
   ]
  },
  {
   "cell_type": "markdown",
   "metadata": {},
   "source": [
    "#### Изучим, как быстро продавались квартиры (столбец days_exposition)."
   ]
  },
  {
   "cell_type": "code",
   "execution_count": 61,
   "metadata": {},
   "outputs": [
    {
     "data": {
      "text/plain": [
       "count    20518.000000\n",
       "mean       180.888634\n",
       "std        219.727988\n",
       "min          1.000000\n",
       "25%         45.000000\n",
       "50%         95.000000\n",
       "75%        232.000000\n",
       "max       1580.000000\n",
       "Name: days_exposition, dtype: float64"
      ]
     },
     "execution_count": 61,
     "metadata": {},
     "output_type": "execute_result"
    }
   ],
   "source": [
    "data['days_exposition'].describe()"
   ]
  },
  {
   "cell_type": "code",
   "execution_count": 62,
   "metadata": {},
   "outputs": [
    {
     "data": {
      "image/png": "[encoded data removed]",
      "text/plain": [
       "<Figure size 432x288 with 1 Axes>"
      ]
     },
     "metadata": {
      "needs_background": "light"
     },
     "output_type": "display_data"
    }
   ],
   "source": [
    "data['days_exposition'].plot(title = 'Количество дней размещения объявлений', kind = 'hist', bins=100, grid = True,\n",
    "                        range=(1, 300), color = 'red')\n",
    "plt.xlabel('дни')\n",
    "plt.ylabel('количество квартир')\n",
    "plt.show()"
   ]
  },
  {
   "cell_type": "markdown",
   "metadata": {},
   "source": [
    "**Вывод:**\n",
    "По изученным данным можно увидеть, что большинство квартир продавалось за 45 дней. После 232 дней квартиры продавались значительно долго и максимальным значением является 1580 дней, возможно квартиры так и не продались.  В среднем квартиры продавались за 180 дней, а по медианному значению за 95 дней. Медианное значение считается достоверным, так как не зависит от выбросов и других факторов. "
   ]
  },
  {
   "cell_type": "markdown",
   "metadata": {},
   "source": [
    "#### Изучим, зависит ли цена от: общей площади; жилой площади; площади кухни; количества комнат; этажа, на котором расположена квартира (первый, последний, другой); даты размещения (день недели, месяц, год)."
   ]
  },
  {
   "cell_type": "markdown",
   "metadata": {},
   "source": [
    "##### Изучим, зависит ли цена от общей площади:"
   ]
  },
  {
   "cell_type": "code",
   "execution_count": 63,
   "metadata": {},
   "outputs": [
    {
     "data": {
      "text/plain": [
       "0.6536750579657242"
      ]
     },
     "execution_count": 63,
     "metadata": {},
     "output_type": "execute_result"
    }
   ],
   "source": [
    "# Проверим связь между двумя этими параметрами\n",
    "data['last_price'].corr(data['total_area'])"
   ]
  },
  {
   "cell_type": "code",
   "execution_count": 64,
   "metadata": {},
   "outputs": [
    {
     "data": {
      "text/plain": [
       "<AxesSubplot:>"
      ]
     },
     "execution_count": 64,
     "metadata": {},
     "output_type": "execute_result"
    },
    {
     "data": {
      "image/png": "[encoded data removed]",
      "text/plain": [
       "<Figure size 432x288 with 1 Axes>"
      ]
     },
     "metadata": {
      "needs_background": "light"
     },
     "output_type": "display_data"
    }
   ],
   "source": [
    "# Связь недостаточно сильная, посмотрим на boxplot есть ли выбросы:\n",
    "data.boxplot('total_area')"
   ]
  },
  {
   "cell_type": "code",
   "execution_count": 65,
   "metadata": {},
   "outputs": [
    {
     "data": {
      "text/plain": [
       "(11.0, 118.0)"
      ]
     },
     "execution_count": 65,
     "metadata": {},
     "output_type": "execute_result"
    },
    {
     "data": {
      "image/png": "[encoded data removed]",
      "text/plain": [
       "<Figure size 432x288 with 1 Axes>"
      ]
     },
     "metadata": {
      "needs_background": "light"
     },
     "output_type": "display_data"
    }
   ],
   "source": [
    "# Ограничим примерно от 11 до 118, чтобы убрать выбросы и посмотреть boxplot без них:\n",
    "data.boxplot('total_area')\n",
    "plt.ylim(11,118)"
   ]
  },
  {
   "cell_type": "code",
   "execution_count": 66,
   "metadata": {},
   "outputs": [
    {
     "data": {
      "image/png": "[encoded data removed]",
      "text/plain": [
       "<Figure size 360x360 with 1 Axes>"
      ]
     },
     "metadata": {
      "needs_background": "light"
     },
     "output_type": "display_data"
    }
   ],
   "source": [
    "data.query('11 < total_area < 118').pivot_table(index='total_area', values='last_price').plot(grid=True, \n",
    "                                                                                              style='o', figsize=(5, 5))\n",
    "plt.title('Зависимость цены от общей площади')\n",
    "plt.show()"
   ]
  },
  {
   "cell_type": "markdown",
   "metadata": {},
   "source": [
    "**Вывод:**\n",
    "По изученным данным можно увидеть, что коэффициент корреляции составляет 0.65, после обработки данных, отбросив выбросы, построив boxplot и график, можно увидеть, что есть прямая зависимость цены от общей площади, с увеличением площади цена будет расти."
   ]
  },
  {
   "cell_type": "markdown",
   "metadata": {},
   "source": [
    "##### Изучим, зависит ли цена от жилой площади:"
   ]
  },
  {
   "cell_type": "code",
   "execution_count": 67,
   "metadata": {},
   "outputs": [
    {
     "data": {
      "text/plain": [
       "0.5664915336952651"
      ]
     },
     "execution_count": 67,
     "metadata": {},
     "output_type": "execute_result"
    }
   ],
   "source": [
    "# Проверим связь между двумя этими параметрами\n",
    "data['last_price'].corr(data['living_area'])"
   ]
  },
  {
   "cell_type": "code",
   "execution_count": 68,
   "metadata": {},
   "outputs": [
    {
     "data": {
      "text/plain": [
       "<AxesSubplot:>"
      ]
     },
     "execution_count": 68,
     "metadata": {},
     "output_type": "execute_result"
    },
    {
     "data": {
      "image/png": "[encoded data removed]",
      "text/plain": [
       "<Figure size 432x288 with 1 Axes>"
      ]
     },
     "metadata": {
      "needs_background": "light"
     },
     "output_type": "display_data"
    }
   ],
   "source": [
    "# Связь есть, но небольшая, посмотрим на boxplot есть ли выбросы:\n",
    "data.boxplot('living_area')"
   ]
  },
  {
   "cell_type": "code",
   "execution_count": 69,
   "metadata": {},
   "outputs": [
    {
     "data": {
      "text/plain": [
       "(1.0, 80.0)"
      ]
     },
     "execution_count": 69,
     "metadata": {},
     "output_type": "execute_result"
    },
    {
     "data": {
      "image/png": "[encoded data removed]",
      "text/plain": [
       "<Figure size 432x288 with 1 Axes>"
      ]
     },
     "metadata": {
      "needs_background": "light"
     },
     "output_type": "display_data"
    }
   ],
   "source": [
    "# Ограничим примерно от 1 до 80, чтобы убрать выбросы и посмотреть boxplot без них:\n",
    "data.boxplot('living_area')\n",
    "plt.ylim(1, 80)"
   ]
  },
  {
   "cell_type": "code",
   "execution_count": 70,
   "metadata": {},
   "outputs": [
    {
     "data": {
      "image/png": "[encoded data removed]",
      "text/plain": [
       "<Figure size 360x360 with 1 Axes>"
      ]
     },
     "metadata": {
      "needs_background": "light"
     },
     "output_type": "display_data"
    }
   ],
   "source": [
    "data.query('1 < living_area < 80').pivot_table(index='living_area', values='last_price').plot(grid=True, \n",
    "    style='o', figsize=(5, 5), color = 'pink')\n",
    "plt.title('Зависимость цены от жилой площади')\n",
    "plt.show()"
   ]
  },
  {
   "cell_type": "markdown",
   "metadata": {},
   "source": [
    "**Вывод:**\n",
    "По изученным данным можно увидеть, что коэффициент корреляции составляет 0.56, после обработки данных, отбросив выбросы, построив boxplot и график, можно увидеть, что есть прямая зависимость цены от жилой площади, но меньше, чем у общей площади, с увеличением жилой площади цена будет расти.  "
   ]
  },
  {
   "cell_type": "markdown",
   "metadata": {},
   "source": [
    "##### Изучим, зависит ли цена от площади кухни:"
   ]
  },
  {
   "cell_type": "code",
   "execution_count": 71,
   "metadata": {},
   "outputs": [
    {
     "data": {
      "text/plain": [
       "0.3864437841938422"
      ]
     },
     "execution_count": 71,
     "metadata": {},
     "output_type": "execute_result"
    }
   ],
   "source": [
    "# Проверим связь между двумя этими параметрами\n",
    "data['last_price'].corr(data['kitchen_area'])"
   ]
  },
  {
   "cell_type": "code",
   "execution_count": 72,
   "metadata": {},
   "outputs": [
    {
     "data": {
      "text/plain": [
       "<AxesSubplot:>"
      ]
     },
     "execution_count": 72,
     "metadata": {},
     "output_type": "execute_result"
    },
    {
     "data": {
      "image/png": "[encoded data removed]",
      "text/plain": [
       "<Figure size 432x288 with 1 Axes>"
      ]
     },
     "metadata": {
      "needs_background": "light"
     },
     "output_type": "display_data"
    }
   ],
   "source": [
    "# Связь очень слабая, посмотрим на boxplot есть ли выбросы:\n",
    "data.boxplot('kitchen_area')"
   ]
  },
  {
   "cell_type": "code",
   "execution_count": 73,
   "metadata": {},
   "outputs": [
    {
     "data": {
      "text/plain": [
       "(0.0, 20.0)"
      ]
     },
     "execution_count": 73,
     "metadata": {},
     "output_type": "execute_result"
    },
    {
     "data": {
      "image/png": "[encoded data removed]",
      "text/plain": [
       "<Figure size 432x288 with 1 Axes>"
      ]
     },
     "metadata": {
      "needs_background": "light"
     },
     "output_type": "display_data"
    }
   ],
   "source": [
    "# Ограничим примерно от 0 до 20, чтобы убрать выбросы и посмотреть boxplot без них:\n",
    "data.boxplot('kitchen_area')\n",
    "plt.ylim(0, 20)"
   ]
  },
  {
   "cell_type": "code",
   "execution_count": 74,
   "metadata": {},
   "outputs": [
    {
     "data": {
      "image/png": "[encoded data removed]",
      "text/plain": [
       "<Figure size 360x360 with 1 Axes>"
      ]
     },
     "metadata": {
      "needs_background": "light"
     },
     "output_type": "display_data"
    }
   ],
   "source": [
    "data.query('0 < kitchen_area < 20').pivot_table(index='kitchen_area', values='last_price').plot(grid=True, \n",
    "    style='o', figsize=(5, 5), color = 'purple')\n",
    "plt.title('Зависимость цены от площади кухни')\n",
    "plt.show()"
   ]
  },
  {
   "cell_type": "markdown",
   "metadata": {},
   "source": [
    "**Вывод:**\n",
    "По изученным данным можно увидеть, что коэффициент корреляции составляет 0.39, после обработки данных, отбросив выбросы, построив boxplot и график, можно увидеть, что есть прямая зависимость цены от площади кухни, но очень слабая, с увеличением площади кухни цена будет расти, но это несильно будет влиять на цену квартиры."
   ]
  },
  {
   "cell_type": "markdown",
   "metadata": {},
   "source": [
    "##### Изучим, зависит ли цена от количества комнат:"
   ]
  },
  {
   "cell_type": "code",
   "execution_count": 75,
   "metadata": {},
   "outputs": [
    {
     "data": {
      "text/plain": [
       "0.3633428499648948"
      ]
     },
     "execution_count": 75,
     "metadata": {},
     "output_type": "execute_result"
    }
   ],
   "source": [
    "# Проверим связь между двумя этими параметрами\n",
    "data['last_price'].corr(data['rooms'])"
   ]
  },
  {
   "cell_type": "code",
   "execution_count": 76,
   "metadata": {},
   "outputs": [
    {
     "data": {
      "text/plain": [
       "<AxesSubplot:>"
      ]
     },
     "execution_count": 76,
     "metadata": {},
     "output_type": "execute_result"
    },
    {
     "data": {
      "image/png": "[encoded data removed]",
      "text/plain": [
       "<Figure size 432x288 with 1 Axes>"
      ]
     },
     "metadata": {
      "needs_background": "light"
     },
     "output_type": "display_data"
    }
   ],
   "source": [
    "# Связь очень слабая, посмотрим на boxplot есть ли выбросы:\n",
    "data.boxplot('rooms')"
   ]
  },
  {
   "cell_type": "code",
   "execution_count": 77,
   "metadata": {},
   "outputs": [
    {
     "data": {
      "text/plain": [
       "(0.0, 7.0)"
      ]
     },
     "execution_count": 77,
     "metadata": {},
     "output_type": "execute_result"
    },
    {
     "data": {
      "image/png": "[encoded data removed]",
      "text/plain": [
       "<Figure size 432x288 with 1 Axes>"
      ]
     },
     "metadata": {
      "needs_background": "light"
     },
     "output_type": "display_data"
    }
   ],
   "source": [
    "# Ограничим примерно от 0 до 7, чтобы убрать выбросы и посмотреть boxplot без них:\n",
    "data.boxplot('rooms')\n",
    "plt.ylim(0, 7)"
   ]
  },
  {
   "cell_type": "code",
   "execution_count": 78,
   "metadata": {},
   "outputs": [
    {
     "data": {
      "image/png": "[encoded data removed]",
      "text/plain": [
       "<Figure size 360x360 with 1 Axes>"
      ]
     },
     "metadata": {
      "needs_background": "light"
     },
     "output_type": "display_data"
    }
   ],
   "source": [
    "data.query('0 < rooms < 7').pivot_table(index='rooms', values='last_price').plot(grid=True, \n",
    "    style='-o', figsize=(5, 5), color = 'brown')\n",
    "plt.title('Зависимость цены от кол-ва комнат')\n",
    "plt.show()"
   ]
  },
  {
   "cell_type": "markdown",
   "metadata": {},
   "source": [
    "**Вывод:**\n",
    "По изученным данным можно увидеть, что коэффициент корреляции составляет 0.36, после обработки данных, отбросив выбросы, построив boxplot и график, можно увидеть, что по графику есть прямая зависимость цены от количество комнат, с увеличением количества комнат цена будет расти. Коэффициент корреляции слабый, так как имеются выбросы (есть квартиры без комнат(студия) и есть квартиры с большим количеством комнат, как единицы)."
   ]
  },
  {
   "cell_type": "markdown",
   "metadata": {},
   "source": [
    "##### Изучим, зависит ли цена от этажа, на котором расположена квартира (первый, последний, другой):"
   ]
  },
  {
   "cell_type": "code",
   "execution_count": 79,
   "metadata": {},
   "outputs": [
    {
     "data": {
      "image/png": "[encoded data removed]",
      "text/plain": [
       "<Figure size 360x360 with 1 Axes>"
      ]
     },
     "metadata": {
      "needs_background": "light"
     },
     "output_type": "display_data"
    }
   ],
   "source": [
    "# Построим график для изучении зависимости этих параметров:\n",
    "data.pivot_table(index='floor_type', values='last_price').plot(grid=True, style='-o', figsize=(5, 5), color = 'blue')\n",
    "plt.title('Зависимость цены от этажа квартиры')\n",
    "plt.show()"
   ]
  },
  {
   "cell_type": "markdown",
   "metadata": {},
   "source": [
    "**Вывод:**\n",
    "По графику видно, что квартира, расположенная на последнем этаже стоит дороже, чем на другом этаже, а вот квартира на первом этаже сильно дешевле."
   ]
  },
  {
   "cell_type": "markdown",
   "metadata": {},
   "source": [
    "##### Изучим, зависит ли цена от даты размещения (день недели, месяц, год):"
   ]
  },
  {
   "cell_type": "code",
   "execution_count": 80,
   "metadata": {},
   "outputs": [
    {
     "data": {
      "image/png": "[encoded data removed]",
      "text/plain": [
       "<Figure size 360x360 with 1 Axes>"
      ]
     },
     "metadata": {
      "needs_background": "light"
     },
     "output_type": "display_data"
    }
   ],
   "source": [
    "# Построим график для изучении зависимости этих параметров:\n",
    "data.pivot_table(index='weekday', values='last_price').plot(grid=True, style='-o', figsize=(5,5), color = 'red')\n",
    "plt.title('Зависимость цены от дня недели')\n",
    "plt.show()"
   ]
  },
  {
   "cell_type": "code",
   "execution_count": 81,
   "metadata": {},
   "outputs": [
    {
     "data": {
      "image/png": "[encoded data removed]",
      "text/plain": [
       "<Figure size 360x360 with 1 Axes>"
      ]
     },
     "metadata": {
      "needs_background": "light"
     },
     "output_type": "display_data"
    }
   ],
   "source": [
    "# Построим график для изучении зависимости этих параметров:\n",
    "data.pivot_table(index='month', values='last_price').plot(grid=True, style='-o', figsize=(5,5), color = 'green')\n",
    "plt.title('Зависимость цены от месяца')\n",
    "plt.show()"
   ]
  },
  {
   "cell_type": "code",
   "execution_count": 82,
   "metadata": {},
   "outputs": [
    {
     "data": {
      "image/png": "[encoded data removed]",
      "text/plain": [
       "<Figure size 360x360 with 1 Axes>"
      ]
     },
     "metadata": {
      "needs_background": "light"
     },
     "output_type": "display_data"
    }
   ],
   "source": [
    "# Построим график для изучении зависимости этих параметров:\n",
    "data.pivot_table(index='year', values='last_price').plot(grid=True, style='-o', figsize=(5,5), color = 'orange')\n",
    "plt.title('Зависимость цены от года')\n",
    "plt.show()"
   ]
  },
  {
   "cell_type": "markdown",
   "metadata": {},
   "source": [
    "**Вывод:**\n",
    "По графикам видно, что кватиры, опубликованные с 2014 года снижались в цене до 2018 года и чуть поднялись в цене 2019 году. Самый дорогой месяц  - это декабрь, после сентябрь, июль, апрель и январь. В субботу выкладывались самые дорогие квартиры. Прямой зависимости от даты размещения невыявлено."
   ]
  },
  {
   "cell_type": "markdown",
   "metadata": {},
   "source": [
    "**Промежуточный вывод по изученным выше параметрам:**\n",
    "<p></p>\n",
    "\n",
    "<div style=\"border:solid green 2px; padding: 10px\">\n",
    "\n",
    "1.  С увеличением общей площади цена будет расти. У этих двух параметров самая высокая корреляция.\n",
    "2. Зависимость цены от жилой площади есть, но меньше, чем у общей площади, с увеличением жилой площади цена будет расти. \n",
    "3. Есть прямая зависимость цены от площади кухни, но очень слабая, с увеличением площади кухни цена будет расти, но это несильно будет влиять на цену квартиры.\n",
    "4. Есть прямая зависимость цены от количество комнат, с увеличением количества комнат цена будет расти. \n",
    "5. Квартира, расположенная на последнем этаже стоит дороже, чем на другом этаже, а вот квартира на первом этаже сильно дешевле.\n",
    "6. Прямой зависимости от даты размещения невыявлено.\n",
    "</div>"
   ]
  },
  {
   "cell_type": "markdown",
   "metadata": {},
   "source": [
    "#### Посчитаем среднюю цену одного квадратного метра в 10 населённых пунктах с наибольшим числом объявлений "
   ]
  },
  {
   "cell_type": "code",
   "execution_count": 83,
   "metadata": {},
   "outputs": [
    {
     "data": {
      "text/html": [
       "<div>\n",
       "<style scoped>\n",
       "    .dataframe tbody tr th:only-of-type {\n",
       "        vertical-align: middle;\n",
       "    }\n",
       "\n",
       "    .dataframe tbody tr th {\n",
       "        vertical-align: top;\n",
       "    }\n",
       "\n",
       "    .dataframe thead th {\n",
       "        text-align: right;\n",
       "    }\n",
       "</style>\n",
       "<table border=\"1\" class=\"dataframe\">\n",
       "  <thead>\n",
       "    <tr style=\"text-align: right;\">\n",
       "      <th></th>\n",
       "      <th>count</th>\n",
       "      <th>price_of_one_square_meter</th>\n",
       "    </tr>\n",
       "    <tr>\n",
       "      <th>locality_name</th>\n",
       "      <th></th>\n",
       "      <th></th>\n",
       "    </tr>\n",
       "  </thead>\n",
       "  <tbody>\n",
       "    <tr>\n",
       "      <th>санкт-петербург</th>\n",
       "      <td>15721</td>\n",
       "      <td>114849.01</td>\n",
       "    </tr>\n",
       "    <tr>\n",
       "      <th>пушкин</th>\n",
       "      <td>369</td>\n",
       "      <td>103125.82</td>\n",
       "    </tr>\n",
       "    <tr>\n",
       "      <th>кудрово</th>\n",
       "      <td>472</td>\n",
       "      <td>95324.93</td>\n",
       "    </tr>\n",
       "    <tr>\n",
       "      <th>парголово</th>\n",
       "      <td>327</td>\n",
       "      <td>90175.91</td>\n",
       "    </tr>\n",
       "    <tr>\n",
       "      <th>мурино</th>\n",
       "      <td>590</td>\n",
       "      <td>86087.51</td>\n",
       "    </tr>\n",
       "    <tr>\n",
       "      <th>шушары</th>\n",
       "      <td>440</td>\n",
       "      <td>78677.36</td>\n",
       "    </tr>\n",
       "    <tr>\n",
       "      <th>колпино</th>\n",
       "      <td>338</td>\n",
       "      <td>75424.58</td>\n",
       "    </tr>\n",
       "    <tr>\n",
       "      <th>гатчина</th>\n",
       "      <td>307</td>\n",
       "      <td>68746.15</td>\n",
       "    </tr>\n",
       "    <tr>\n",
       "      <th>всеволожск</th>\n",
       "      <td>398</td>\n",
       "      <td>68654.47</td>\n",
       "    </tr>\n",
       "    <tr>\n",
       "      <th>выборг</th>\n",
       "      <td>237</td>\n",
       "      <td>58141.91</td>\n",
       "    </tr>\n",
       "  </tbody>\n",
       "</table>\n",
       "</div>"
      ],
      "text/plain": [
       "                 count  price_of_one_square_meter\n",
       "locality_name                                    \n",
       "санкт-петербург  15721                  114849.01\n",
       "пушкин             369                  103125.82\n",
       "кудрово            472                   95324.93\n",
       "парголово          327                   90175.91\n",
       "мурино             590                   86087.51\n",
       "шушары             440                   78677.36\n",
       "колпино            338                   75424.58\n",
       "гатчина            307                   68746.15\n",
       "всеволожск         398                   68654.47\n",
       "выборг             237                   58141.91"
      ]
     },
     "execution_count": 83,
     "metadata": {},
     "output_type": "execute_result"
    }
   ],
   "source": [
    "largest_number = data.pivot_table(index='locality_name', values='price_of_one_square_meter', aggfunc=['count'])\n",
    "largest_number.columns = ['count']\n",
    "largest_number = largest_number.sort_values(by='count', ascending=False).head(10)\n",
    "largest_number['price_of_one_square_meter'] = data.pivot_table(index='locality_name', values='price_of_one_square_meter')\n",
    "largest_number.sort_values(by='price_of_one_square_meter', ascending=False).round(2)"
   ]
  },
  {
   "cell_type": "markdown",
   "metadata": {},
   "source": [
    "**Вывод:**\n",
    "<p></p>\n",
    "\n",
    "<div style=\"border:solid green 2px; padding: 10px\">\n",
    "Наибольшая средняя стоимость одного квадратного метра у города Санкт-Петербург - 114849.01 кв.м, далее идут город Пушкин, Кудрово, Парголово, Мурино, Шушары, Колпино, Гатчина и Всеволожск. Самая низкая средняя стоимость у города Выборга - 58141.91 кв.м.\n",
    "\n",
    "</div>"
   ]
  },
  {
   "cell_type": "markdown",
   "metadata": {},
   "source": [
    "#### Вычислим  среднюю стоимость квартиры в Санкт-Петербурге на разном удалении от центра."
   ]
  },
  {
   "cell_type": "code",
   "execution_count": 84,
   "metadata": {},
   "outputs": [
    {
     "data": {
      "text/html": [
       "<div>\n",
       "<style scoped>\n",
       "    .dataframe tbody tr th:only-of-type {\n",
       "        vertical-align: middle;\n",
       "    }\n",
       "\n",
       "    .dataframe tbody tr th {\n",
       "        vertical-align: top;\n",
       "    }\n",
       "\n",
       "    .dataframe thead th {\n",
       "        text-align: right;\n",
       "    }\n",
       "</style>\n",
       "<table border=\"1\" class=\"dataframe\">\n",
       "  <thead>\n",
       "    <tr style=\"text-align: right;\">\n",
       "      <th></th>\n",
       "      <th>last_price</th>\n",
       "    </tr>\n",
       "    <tr>\n",
       "      <th>distance</th>\n",
       "      <th></th>\n",
       "    </tr>\n",
       "  </thead>\n",
       "  <tbody>\n",
       "    <tr>\n",
       "      <th>0.0</th>\n",
       "      <td>3.144912e+07</td>\n",
       "    </tr>\n",
       "    <tr>\n",
       "      <th>1.0</th>\n",
       "      <td>2.120672e+07</td>\n",
       "    </tr>\n",
       "    <tr>\n",
       "      <th>2.0</th>\n",
       "      <td>1.778832e+07</td>\n",
       "    </tr>\n",
       "    <tr>\n",
       "      <th>3.0</th>\n",
       "      <td>1.112658e+07</td>\n",
       "    </tr>\n",
       "    <tr>\n",
       "      <th>4.0</th>\n",
       "      <td>1.330428e+07</td>\n",
       "    </tr>\n",
       "    <tr>\n",
       "      <th>5.0</th>\n",
       "      <td>1.449912e+07</td>\n",
       "    </tr>\n",
       "    <tr>\n",
       "      <th>6.0</th>\n",
       "      <td>1.533842e+07</td>\n",
       "    </tr>\n",
       "    <tr>\n",
       "      <th>7.0</th>\n",
       "      <td>1.477515e+07</td>\n",
       "    </tr>\n",
       "    <tr>\n",
       "      <th>8.0</th>\n",
       "      <td>9.957717e+06</td>\n",
       "    </tr>\n",
       "    <tr>\n",
       "      <th>9.0</th>\n",
       "      <td>6.950659e+06</td>\n",
       "    </tr>\n",
       "  </tbody>\n",
       "</table>\n",
       "</div>"
      ],
      "text/plain": [
       "            last_price\n",
       "distance              \n",
       "0.0       3.144912e+07\n",
       "1.0       2.120672e+07\n",
       "2.0       1.778832e+07\n",
       "3.0       1.112658e+07\n",
       "4.0       1.330428e+07\n",
       "5.0       1.449912e+07\n",
       "6.0       1.533842e+07\n",
       "7.0       1.477515e+07\n",
       "8.0       9.957717e+06\n",
       "9.0       6.950659e+06"
      ]
     },
     "execution_count": 84,
     "metadata": {},
     "output_type": "execute_result"
    }
   ],
   "source": [
    "distance_SPB = data.query('locality_name == \"санкт-петербург\"').pivot_table(index='distance',\n",
    "                                                                            values='last_price', aggfunc='mean')\n",
    "distance_SPB.head(10)"
   ]
  },
  {
   "cell_type": "code",
   "execution_count": null,
   "metadata": {},
   "outputs": [
    {
     "data": {
      "text/plain": [
       "Text(0.5, 1.0, 'Средняя цена от удаления от центра')"
      ]
     },
     "execution_count": 85,
     "metadata": {},
     "output_type": "execute_result"
    }
   ],
   "source": [
    "data.query('locality_name == \"санкт-петербург\"').pivot_table(index='distance', values='last_price').plot(grid=True, \n",
    "    style='-o', figsize=(5,5), color = 'orange')\n",
    "plt.title('Средняя цена от удаления от центра')"
   ]
  },
  {
   "cell_type": "markdown",
   "metadata": {},
   "source": [
    "**Вывод:**\n",
    "<p></p>\n",
    "\n",
    "<div style=\"border:solid green 2px; padding: 10px\">\n",
    "С удалением от центра города на каждый километр, цена квартиры уменьшается. В районе 4 - 6 км идет небольшое поднятие цены, далее опять цена уменьшается. Есть всплеск на 27 км, вероятней всего какой-то один дорогостоящий объект.\n",
    "\n",
    "</div>"
   ]
  },
  {
   "cell_type": "markdown",
   "metadata": {
    "id": "h7VpzkIDAwb-"
   },
   "source": [
    "### Напишем общий вывод"
   ]
  },
  {
   "cell_type": "markdown",
   "metadata": {},
   "source": [
    "**Общий вывод:**\n",
    "<p></p>\n",
    "\n",
    "<div style=\"border:solid green 3px; padding: 10px\">\n",
    "    \n",
    "**1. Изучили общую информацию:**\n",
    "- Таблица состоит из 23699 записей.\n",
    "- Явных дубликатов не найдено.\n",
    "- Обнаружены пропуски.\n",
    "- Есть некорректные типы данных\n",
    "- По гистограммам видно, что есть аномальные значения.\n",
    "    \n",
    "**2. Выполнили предобработку данных:**   \n",
    "- Переименовали столбец cityCenters_nearest в city_centers_nearest.\n",
    "- Заменили пропуски в таблице на логические значения.\n",
    "- Устранили неявные дубликаты у столбца locality_name.\n",
    "- Заменили некорректные типы данных на корректные.\n",
    "    \n",
    "**3. Добавили новые столбцы:**\n",
    "- **price_of_one_square_meter** - цена одного квадратного метра (нужно поделить стоимость объекта на его общую площадь, а затем округлить до двух знаков после запятой);\n",
    "- **weekday** - день недели публикации объявления (0 — понедельник, 1 — вторник и так далее);\n",
    "- **month** - месяц публикации объявления;\n",
    "- **year** - год публикации объявления;\n",
    "- **floor_type** - тип этажа квартиры (значения — «‎первый», «последний», «другой»);\n",
    "- **distance** - расстояние до центра города в километрах (переведите из м в км и округлите до ближайших целых значений).\n",
    "    \n",
    "**4. Провели исследовательский анализ данных:**\n",
    "    \n",
    "- *Изучили перечисленные ниже параметры объектов:*\n",
    "    \n",
    "    - Большинство квартир с общей площадью от 40 до 69 кв. метров имеют большее количество публикаций, с площадью 52 кв. метра максимальное количество. \n",
    "\n",
    "    - Квартиры с жилой площадью около 18 и 30 кв. метров имеют большее количество публикаций, около 24 кв. метров имеется спад. Квартиры с 18 кв. метров имеют максимальное количество публикаций. \n",
    "    - Квартиры с площадью кухни в порядке убывания - 6, 10, 7, 8, 9, 11, 12 кв. метров имеют спрос на предложение. \n",
    "    - Квартиры с промежутком от 3.4 до 6.8 млн. рублей имеют большее количество публикаций. За 3.8 млн.рублей имеется большее количество выставленных квартир на продажу.\n",
    "    - Квартиры в среднем имеют высоту потолков - 2.65 метра. После 2.50 метра, 2.70, 2.60, 2.80, 2.75.\n",
    "    - Квартиры на первом и последнем этажах не пользуются спросом, около 25% хотят продать данные квартиры. \n",
    "    - Квартиры популярной является однокомнатная квартира и убываются по уменьшению комнат. \n",
    "    - Пятиэтажные квартиры продаются чаще всего, далее идут девятиэтажки. \n",
    "    - Квартиры от 12000 до 17000 метров от центра города являются популярные в публикации. Также около 5000 метров тоже набирают спрос в продажах. Максимальным является 15000 метров.\n",
    "    - Квартиры от 200 до 700 метров от ближайшего парка являются популярные в публикации. Максимальным является 450 метров. Данные находятся не в сильном разбросе, поэтому выбор покупки квартир не сильно привязан к расстоянию парков.\n",
    "    \n",
    "    \n",
    "- *Изучили, как быстро продавались квартиры:*\n",
    "    \n",
    "    - По изученным данным можно увидеть, что большинство квартир продавалось за 45 дней. После 232 дней квартиры продавались значительно долго и максимальным значением является 1580 дней, возможно квартиры так и не продались.  В среднем квартиры продавались за 180 дней, а по медианному значению за 95 дней. Медианное значение считается достоверным, так как не зависит от выбросов и других факторов. \n",
    "    \n",
    "    \n",
    "- *Определили факторы, которые больше всего влияют на общую (полную) стоимость объекта:* \n",
    "    -  С увеличением общей площади цена будет расти. У этих двух параметров самая высокая корреляция.\n",
    "    - Зависимость цены от жилой площади есть, но меньше, чем у общей площади, с увеличением жилой площади цена будет расти. \n",
    "    - Есть прямая зависимость цены от площади кухни, но очень слабая, с увеличением площади кухни цена будет расти, но это несильно будет влиять на цену квартиры.\n",
    "    - Есть прямая зависимость цены от количество комнат, с увеличением количества комнат цена будет расти. \n",
    "    - Квартира, расположенная на последнем этаже стоит дороже, чем на другом этаже, а вот квартира на первом этаже сильно дешевле.\n",
    "    - Прямой зависимости от даты размещения невыявлено.\n",
    "    \n",
    "    \n",
    "- *Посчитали среднюю цену одного квадратного метра в 10 населённых пунктах с наибольшим числом объявлений:*\n",
    "    - Наибольшая средняя стоимость одного квадратного метра у города Санкт-Петербург - 114849.01 кв.м, далее идут город Пушкин, Кудрово, Парголово, Мурино, Шушары, Колпино, Гатчина и Всеволожск. Самая низкая средняя стоимость у города Выборга - 58141.91 кв.м.\n",
    "    \n",
    "    \n",
    "- *Вычислили среднюю стоимость квартиры на разном удалении от центра Санкт-Петербурга:*\n",
    "    \n",
    "   - С удалением от центра города на каждый километр, цена квартиры уменьшается. В районе 4 - 6 км идет небольшое поднятие цены, далее опять цена уменьшается.  Есть всплеск на 27 км, вероятней всего какой-то один дорогостоящий объект. В центре города квартира стоит 31 449 120 миллионов рублей.   \n",
    "    \n",
    "    \n",
    "\n",
    "</div>"
   ]
  },
  {
   "cell_type": "markdown",
   "metadata": {
    "id": "A90mc0BgAwb-"
   },
   "source": [
    "**Чек-лист готовности проекта**\n",
    "\n",
    "Поставьте 'x' в выполненных пунктах. Далее нажмите Shift+Enter."
   ]
  },
  {
   "cell_type": "markdown",
   "metadata": {},
   "source": [
    "- [x]  Файл с данными открыт.\n",
    "- [x]  Файл с данными изучен: выведены первые строки, использован метод `info()`, построены гистограммы.\n",
    "- [x]  Найдены пропущенные значения.\n",
    "- [x]  Пропущенные значения заполнены там, где это возможно.\n",
    "- [x]  Объяснено, какие пропущенные значения обнаружены.\n",
    "- [x]  В каждом столбце установлен корректный тип данных.\n",
    "- [x]  Объяснено, в каких столбцах изменён тип данных и почему.\n",
    "- [x]  Устранены неявные дубликаты в названиях населённых пунктов.\n",
    "- [x]  Обработаны редкие и выбивающиеся значения (аномалии).\n",
    "- [x]  В таблицу добавлены новые параметры:\n",
    "       – цена одного квадратного метра;\n",
    "       – день публикации объявления (0 - понедельник, 1 - вторник и т. д.);\n",
    "       – месяц публикации объявления;\n",
    "       – год публикации объявления;\n",
    "       – тип этажа квартиры (значения — «первый», «последний», «другой»);\n",
    "       – расстояние до центра города в километрах.\n",
    "- [x]  Изучены и описаны параметры:\n",
    "        - общая площадь;\n",
    "        - жилая площадь;\n",
    "        - площадь кухни;\n",
    "        - цена объекта;\n",
    "        - количество комнат;\n",
    "        - высота потолков;\n",
    "        - тип этажа квартиры («первый», «последний», «другой»);\n",
    "        - общее количество этажей в доме;\n",
    "        - расстояние до центра города в метрах;\n",
    "        - расстояние до ближайшего парка.\n",
    "- [x]  Выполнено задание «Изучите, как быстро продавались квартиры (столбец `days_exposition`)»:\n",
    "    - построена гистограмма;\n",
    "    - рассчитаны среднее и медиана;\n",
    "    - описано, сколько обычно занимает продажа и указано, какие продажи можно считать быстрыми, а какие — необычно долгими.\n",
    "- [x]  Выполнено задание «Определите факторы, которые больше всего влияют на общую (полную) стоимость объекта». Построены графики, которые показывают зависимость цены от параметров:\n",
    "        - общая площадь;\n",
    "        - жилая площадь;\n",
    "        - площадь кухни;\n",
    "        - количество комнат;\n",
    "        - тип этажа, на котором расположена квартира (первый, последний, другой);\n",
    "        - дата размещения (день недели, месяц, год).\n",
    "- [x]  Выполнено задание «Посчитайте среднюю цену одного квадратного метра в 10 населённых пунктах с наибольшим числом объявлений»:\n",
    "    - выделены населённые пункты с самой высокой и низкой стоимостью квадратного метра.\n",
    "- [x]  Выполнено задание «Выделите квартиры в Санкт-Петербурге с помощью столбца `locality_name` и вычислите их среднюю стоимость на разном удалении от центра»:\n",
    "    -  учтён каждый километр расстояния, известны средние цены квартир в одном километре от центра, в двух и так далее;\n",
    "    -  описано, как стоимость объекта зависит от расстояния до центра города;\n",
    "    -  построен график изменения средней цены для каждого километра от центра Петербурга.\n",
    "- [x]  На каждом этапе сделаны промежуточные выводы.\n",
    "- [x]  В конце проекта сделан общий вывод."
   ]
  }
 ],
 "metadata": {
  "ExecuteTimeLog": [
   {
    "duration": 481,
    "start_time": "2024-04-25T06:04:30.645Z"
   },
   {
    "duration": 80,
    "start_time": "2024-04-25T06:04:31.618Z"
   },
   {
    "duration": 222,
    "start_time": "2024-04-25T06:04:56.899Z"
   },
   {
    "duration": 3,
    "start_time": "2024-04-25T06:04:59.269Z"
   },
   {
    "duration": 96,
    "start_time": "2024-04-25T06:05:02.462Z"
   },
   {
    "duration": 101,
    "start_time": "2024-04-25T06:05:09.523Z"
   },
   {
    "duration": 13,
    "start_time": "2024-04-25T06:05:38.729Z"
   },
   {
    "duration": 364,
    "start_time": "2024-04-25T06:06:57.213Z"
   },
   {
    "duration": 7,
    "start_time": "2024-04-25T06:08:26.572Z"
   },
   {
    "duration": 93,
    "start_time": "2024-04-25T06:08:30.194Z"
   },
   {
    "duration": 14,
    "start_time": "2024-04-25T06:08:31.784Z"
   },
   {
    "duration": 12,
    "start_time": "2024-04-25T06:08:36.096Z"
   },
   {
    "duration": 13,
    "start_time": "2024-04-25T06:09:10.544Z"
   },
   {
    "duration": 50,
    "start_time": "2024-04-25T06:09:30.675Z"
   },
   {
    "duration": 68,
    "start_time": "2024-04-25T06:10:12.143Z"
   },
   {
    "duration": 92,
    "start_time": "2024-04-25T06:10:39.034Z"
   },
   {
    "duration": 7,
    "start_time": "2024-04-25T06:10:41.270Z"
   },
   {
    "duration": 105,
    "start_time": "2024-04-25T06:10:53.427Z"
   },
   {
    "duration": 27,
    "start_time": "2024-04-25T06:10:56.283Z"
   },
   {
    "duration": 11,
    "start_time": "2024-04-25T06:11:16.461Z"
   },
   {
    "duration": 16,
    "start_time": "2024-04-25T06:11:19.078Z"
   },
   {
    "duration": 2237,
    "start_time": "2024-04-25T06:11:42.923Z"
   },
   {
    "duration": 11,
    "start_time": "2024-04-25T06:15:08.984Z"
   },
   {
    "duration": 3,
    "start_time": "2024-04-25T06:21:49.862Z"
   },
   {
    "duration": 3,
    "start_time": "2024-04-25T06:21:51.717Z"
   },
   {
    "duration": 39,
    "start_time": "2024-04-25T06:22:04.736Z"
   },
   {
    "duration": 33,
    "start_time": "2024-04-25T06:22:10.237Z"
   },
   {
    "duration": 28,
    "start_time": "2024-04-25T06:26:03.383Z"
   },
   {
    "duration": 16,
    "start_time": "2024-04-25T06:51:11.445Z"
   },
   {
    "duration": 6,
    "start_time": "2024-04-25T06:51:26.713Z"
   },
   {
    "duration": 4,
    "start_time": "2024-04-25T06:54:26.409Z"
   },
   {
    "duration": 12,
    "start_time": "2024-04-25T06:54:40.737Z"
   },
   {
    "duration": 3,
    "start_time": "2024-04-25T06:55:19.421Z"
   },
   {
    "duration": 4,
    "start_time": "2024-04-25T06:55:21.891Z"
   },
   {
    "duration": 50,
    "start_time": "2024-04-25T07:02:15.511Z"
   },
   {
    "duration": 10,
    "start_time": "2024-04-25T07:04:05.315Z"
   },
   {
    "duration": 443,
    "start_time": "2024-04-25T07:04:32.963Z"
   },
   {
    "duration": 855,
    "start_time": "2024-04-25T07:05:26.594Z"
   },
   {
    "duration": 5,
    "start_time": "2024-04-25T07:05:36.345Z"
   },
   {
    "duration": 7,
    "start_time": "2024-04-25T07:05:59.041Z"
   },
   {
    "duration": 4,
    "start_time": "2024-04-25T07:06:23.307Z"
   },
   {
    "duration": 8,
    "start_time": "2024-04-25T07:08:39.515Z"
   },
   {
    "duration": 7,
    "start_time": "2024-04-25T07:09:10.513Z"
   },
   {
    "duration": 5,
    "start_time": "2024-04-25T07:09:34.626Z"
   },
   {
    "duration": 6,
    "start_time": "2024-04-25T07:09:44.628Z"
   },
   {
    "duration": 9,
    "start_time": "2024-04-25T07:10:00.160Z"
   },
   {
    "duration": 7,
    "start_time": "2024-04-25T07:10:47.922Z"
   },
   {
    "duration": 4,
    "start_time": "2024-04-25T07:13:25.897Z"
   },
   {
    "duration": 8,
    "start_time": "2024-04-25T07:13:40.561Z"
   },
   {
    "duration": 7,
    "start_time": "2024-04-25T07:13:45.921Z"
   },
   {
    "duration": 8,
    "start_time": "2024-04-25T07:13:48.468Z"
   },
   {
    "duration": 5,
    "start_time": "2024-04-25T07:13:53.650Z"
   },
   {
    "duration": 7,
    "start_time": "2024-04-25T07:14:03.548Z"
   },
   {
    "duration": 5,
    "start_time": "2024-04-25T07:14:30.353Z"
   },
   {
    "duration": 4,
    "start_time": "2024-04-25T07:25:11.293Z"
   },
   {
    "duration": 4,
    "start_time": "2024-04-25T07:25:14.314Z"
   },
   {
    "duration": 34,
    "start_time": "2024-04-25T07:25:28.085Z"
   },
   {
    "duration": 4,
    "start_time": "2024-04-25T07:30:54.086Z"
   },
   {
    "duration": 7,
    "start_time": "2024-04-25T07:33:04.424Z"
   },
   {
    "duration": 11,
    "start_time": "2024-04-25T07:33:19.182Z"
   },
   {
    "duration": 20,
    "start_time": "2024-04-25T07:33:55.069Z"
   },
   {
    "duration": 21,
    "start_time": "2024-04-25T07:34:08.912Z"
   },
   {
    "duration": 20,
    "start_time": "2024-04-25T07:34:13.812Z"
   },
   {
    "duration": 59,
    "start_time": "2024-04-25T07:36:36.277Z"
   },
   {
    "duration": 21,
    "start_time": "2024-04-25T07:36:51.596Z"
   },
   {
    "duration": 23,
    "start_time": "2024-04-25T07:37:00.024Z"
   },
   {
    "duration": 217,
    "start_time": "2024-04-25T07:41:27.014Z"
   },
   {
    "duration": 21,
    "start_time": "2024-04-25T07:41:29.312Z"
   },
   {
    "duration": 231,
    "start_time": "2024-04-25T07:41:51.174Z"
   },
   {
    "duration": 21,
    "start_time": "2024-04-25T07:41:53.710Z"
   },
   {
    "duration": 248,
    "start_time": "2024-04-25T07:42:25.956Z"
   },
   {
    "duration": 19,
    "start_time": "2024-04-25T07:42:28.087Z"
   },
   {
    "duration": 68,
    "start_time": "2024-04-25T07:43:15.023Z"
   },
   {
    "duration": 250,
    "start_time": "2024-04-25T07:43:22.409Z"
   },
   {
    "duration": 20,
    "start_time": "2024-04-25T07:43:26.645Z"
   },
   {
    "duration": 290,
    "start_time": "2024-04-25T07:43:53.539Z"
   },
   {
    "duration": 20,
    "start_time": "2024-04-25T07:43:56.092Z"
   },
   {
    "duration": 308,
    "start_time": "2024-04-25T07:44:44.320Z"
   },
   {
    "duration": 22,
    "start_time": "2024-04-25T07:44:46.178Z"
   },
   {
    "duration": 321,
    "start_time": "2024-04-25T07:45:37.985Z"
   },
   {
    "duration": 20,
    "start_time": "2024-04-25T07:45:40.208Z"
   },
   {
    "duration": 303,
    "start_time": "2024-04-25T07:47:57.124Z"
   },
   {
    "duration": 20,
    "start_time": "2024-04-25T07:47:59.160Z"
   },
   {
    "duration": 261,
    "start_time": "2024-04-25T07:48:20.585Z"
   },
   {
    "duration": 21,
    "start_time": "2024-04-25T07:48:22.996Z"
   },
   {
    "duration": 252,
    "start_time": "2024-04-25T07:49:35.949Z"
   },
   {
    "duration": 20,
    "start_time": "2024-04-25T07:49:37.931Z"
   },
   {
    "duration": 9,
    "start_time": "2024-04-25T07:50:06.639Z"
   },
   {
    "duration": 17,
    "start_time": "2024-04-25T07:50:19.000Z"
   },
   {
    "duration": 13,
    "start_time": "2024-04-25T07:50:29.785Z"
   },
   {
    "duration": 266,
    "start_time": "2024-04-25T07:50:33.388Z"
   },
   {
    "duration": 29,
    "start_time": "2024-04-25T07:50:35.337Z"
   },
   {
    "duration": 136,
    "start_time": "2024-04-25T07:52:07.486Z"
   },
   {
    "duration": 273,
    "start_time": "2024-04-25T07:52:16.389Z"
   },
   {
    "duration": 29,
    "start_time": "2024-04-25T07:52:18.836Z"
   },
   {
    "duration": 9,
    "start_time": "2024-04-25T07:53:01.142Z"
   },
   {
    "duration": 27,
    "start_time": "2024-04-25T07:54:37.202Z"
   },
   {
    "duration": 16,
    "start_time": "2024-04-25T07:54:55.512Z"
   },
   {
    "duration": 4,
    "start_time": "2024-04-25T07:55:01.138Z"
   },
   {
    "duration": 33,
    "start_time": "2024-04-25T07:55:03.392Z"
   },
   {
    "duration": 103,
    "start_time": "2024-04-25T07:55:18.621Z"
   },
   {
    "duration": 41,
    "start_time": "2024-04-25T07:55:20.856Z"
   },
   {
    "duration": 41,
    "start_time": "2024-04-25T07:55:27.259Z"
   },
   {
    "duration": 24,
    "start_time": "2024-04-25T07:55:29.831Z"
   },
   {
    "duration": 34,
    "start_time": "2024-04-25T07:55:32.286Z"
   },
   {
    "duration": 2176,
    "start_time": "2024-04-25T07:55:34.127Z"
   },
   {
    "duration": 11,
    "start_time": "2024-04-25T07:55:56.597Z"
   },
   {
    "duration": 5,
    "start_time": "2024-04-25T07:55:58.955Z"
   },
   {
    "duration": 6,
    "start_time": "2024-04-25T07:56:00.661Z"
   },
   {
    "duration": 5,
    "start_time": "2024-04-25T07:56:02.674Z"
   },
   {
    "duration": 6,
    "start_time": "2024-04-25T07:56:04.575Z"
   },
   {
    "duration": 6,
    "start_time": "2024-04-25T07:56:06.033Z"
   },
   {
    "duration": 4,
    "start_time": "2024-04-25T07:56:08.351Z"
   },
   {
    "duration": 4,
    "start_time": "2024-04-25T07:56:10.818Z"
   },
   {
    "duration": 22,
    "start_time": "2024-04-25T07:56:15.358Z"
   },
   {
    "duration": 268,
    "start_time": "2024-04-25T07:57:14.482Z"
   },
   {
    "duration": 21,
    "start_time": "2024-04-25T07:57:17.481Z"
   },
   {
    "duration": 286,
    "start_time": "2024-04-25T07:58:15.154Z"
   },
   {
    "duration": 14,
    "start_time": "2024-04-25T07:58:17.524Z"
   },
   {
    "duration": 21,
    "start_time": "2024-04-25T07:58:40.081Z"
   },
   {
    "duration": 304,
    "start_time": "2024-04-25T07:59:41.298Z"
   },
   {
    "duration": 21,
    "start_time": "2024-04-25T07:59:44.112Z"
   },
   {
    "duration": 282,
    "start_time": "2024-04-25T08:01:18.254Z"
   },
   {
    "duration": 35,
    "start_time": "2024-04-25T08:01:20.422Z"
   },
   {
    "duration": 232,
    "start_time": "2024-04-25T08:02:10.014Z"
   },
   {
    "duration": 20,
    "start_time": "2024-04-25T08:02:11.748Z"
   },
   {
    "duration": 277,
    "start_time": "2024-04-25T08:03:51.690Z"
   },
   {
    "duration": 20,
    "start_time": "2024-04-25T08:03:54.703Z"
   },
   {
    "duration": 187,
    "start_time": "2024-04-25T08:07:03.886Z"
   },
   {
    "duration": 19,
    "start_time": "2024-04-25T08:07:07.275Z"
   },
   {
    "duration": 98,
    "start_time": "2024-04-25T08:07:17.053Z"
   },
   {
    "duration": 31,
    "start_time": "2024-04-25T08:07:19.349Z"
   },
   {
    "duration": 16,
    "start_time": "2024-04-25T08:07:22.481Z"
   },
   {
    "duration": 21,
    "start_time": "2024-04-25T08:07:26.303Z"
   },
   {
    "duration": 2196,
    "start_time": "2024-04-25T08:07:30.000Z"
   },
   {
    "duration": 11,
    "start_time": "2024-04-25T08:07:36.640Z"
   },
   {
    "duration": 4,
    "start_time": "2024-04-25T08:07:39.025Z"
   },
   {
    "duration": 5,
    "start_time": "2024-04-25T08:07:40.473Z"
   },
   {
    "duration": 5,
    "start_time": "2024-04-25T08:07:41.932Z"
   },
   {
    "duration": 8,
    "start_time": "2024-04-25T08:07:43.671Z"
   },
   {
    "duration": 6,
    "start_time": "2024-04-25T08:07:45.335Z"
   },
   {
    "duration": 4,
    "start_time": "2024-04-25T08:07:47.633Z"
   },
   {
    "duration": 23,
    "start_time": "2024-04-25T08:07:50.871Z"
   },
   {
    "duration": 15,
    "start_time": "2024-04-25T08:07:53.819Z"
   },
   {
    "duration": 219,
    "start_time": "2024-04-25T08:07:55.625Z"
   },
   {
    "duration": 30,
    "start_time": "2024-04-25T08:08:00.239Z"
   },
   {
    "duration": 25,
    "start_time": "2024-04-25T08:09:03.203Z"
   },
   {
    "duration": 247,
    "start_time": "2024-04-25T08:09:05.017Z"
   },
   {
    "duration": 31,
    "start_time": "2024-04-25T08:09:11.270Z"
   },
   {
    "duration": 23,
    "start_time": "2024-04-25T08:09:27.502Z"
   },
   {
    "duration": 264,
    "start_time": "2024-04-25T08:09:30.033Z"
   },
   {
    "duration": 29,
    "start_time": "2024-04-25T08:09:32.312Z"
   },
   {
    "duration": 9,
    "start_time": "2024-04-25T08:19:25.513Z"
   },
   {
    "duration": 800,
    "start_time": "2024-04-25T08:31:28.722Z"
   },
   {
    "duration": 3,
    "start_time": "2024-04-25T08:31:58.541Z"
   },
   {
    "duration": 751,
    "start_time": "2024-04-25T08:32:07.805Z"
   },
   {
    "duration": 3,
    "start_time": "2024-04-25T08:32:30.247Z"
   },
   {
    "duration": 3,
    "start_time": "2024-04-25T08:34:08.279Z"
   },
   {
    "duration": 4,
    "start_time": "2024-04-25T08:36:58.550Z"
   },
   {
    "duration": 15,
    "start_time": "2024-04-25T08:38:14.999Z"
   },
   {
    "duration": 4,
    "start_time": "2024-04-25T08:41:45.460Z"
   },
   {
    "duration": 99,
    "start_time": "2024-04-25T08:50:01.074Z"
   },
   {
    "duration": 31,
    "start_time": "2024-04-25T08:50:02.811Z"
   },
   {
    "duration": 17,
    "start_time": "2024-04-25T08:50:05.533Z"
   },
   {
    "duration": 23,
    "start_time": "2024-04-25T08:50:07.782Z"
   },
   {
    "duration": 2055,
    "start_time": "2024-04-25T08:50:09.247Z"
   },
   {
    "duration": 12,
    "start_time": "2024-04-25T08:50:17.247Z"
   },
   {
    "duration": 5,
    "start_time": "2024-04-25T08:50:19.649Z"
   },
   {
    "duration": 6,
    "start_time": "2024-04-25T08:50:21.484Z"
   },
   {
    "duration": 6,
    "start_time": "2024-04-25T08:50:22.662Z"
   },
   {
    "duration": 6,
    "start_time": "2024-04-25T08:50:23.314Z"
   },
   {
    "duration": 6,
    "start_time": "2024-04-25T08:50:23.896Z"
   },
   {
    "duration": 3,
    "start_time": "2024-04-25T08:50:24.733Z"
   },
   {
    "duration": 4,
    "start_time": "2024-04-25T08:50:25.412Z"
   },
   {
    "duration": 21,
    "start_time": "2024-04-25T08:50:26.155Z"
   },
   {
    "duration": 15,
    "start_time": "2024-04-25T08:50:27.491Z"
   },
   {
    "duration": 264,
    "start_time": "2024-04-25T08:50:29.010Z"
   },
   {
    "duration": 28,
    "start_time": "2024-04-25T08:50:30.156Z"
   },
   {
    "duration": 5,
    "start_time": "2024-04-25T08:50:31.327Z"
   },
   {
    "duration": 4,
    "start_time": "2024-04-25T08:50:33.089Z"
   },
   {
    "duration": 4,
    "start_time": "2024-04-25T08:50:33.978Z"
   },
   {
    "duration": 10,
    "start_time": "2024-04-25T08:50:36.699Z"
   },
   {
    "duration": 5,
    "start_time": "2024-04-25T08:51:09.975Z"
   },
   {
    "duration": 5,
    "start_time": "2024-04-25T08:51:10.755Z"
   },
   {
    "duration": 4,
    "start_time": "2024-04-25T08:51:11.084Z"
   },
   {
    "duration": 4,
    "start_time": "2024-04-25T08:51:11.465Z"
   },
   {
    "duration": 4,
    "start_time": "2024-04-25T08:51:12.206Z"
   },
   {
    "duration": 4,
    "start_time": "2024-04-25T08:51:12.589Z"
   },
   {
    "duration": 30,
    "start_time": "2024-04-25T08:51:12.970Z"
   },
   {
    "duration": 16,
    "start_time": "2024-04-25T08:51:13.345Z"
   },
   {
    "duration": 255,
    "start_time": "2024-04-25T08:51:16.208Z"
   },
   {
    "duration": 30,
    "start_time": "2024-04-25T08:51:16.769Z"
   },
   {
    "duration": 6,
    "start_time": "2024-04-25T08:51:17.613Z"
   },
   {
    "duration": 4,
    "start_time": "2024-04-25T08:51:18.985Z"
   },
   {
    "duration": 4,
    "start_time": "2024-04-25T08:51:19.471Z"
   },
   {
    "duration": 10,
    "start_time": "2024-04-25T08:51:21.376Z"
   },
   {
    "duration": 17,
    "start_time": "2024-04-25T13:10:19.055Z"
   },
   {
    "duration": 6,
    "start_time": "2024-04-25T13:13:03.612Z"
   },
   {
    "duration": 5,
    "start_time": "2024-04-25T13:13:05.241Z"
   },
   {
    "duration": 8,
    "start_time": "2024-04-25T13:14:45.402Z"
   },
   {
    "duration": 17,
    "start_time": "2024-04-25T13:15:00.340Z"
   },
   {
    "duration": 12,
    "start_time": "2024-04-25T13:17:23.602Z"
   },
   {
    "duration": 15,
    "start_time": "2024-04-25T13:19:45.577Z"
   },
   {
    "duration": 12,
    "start_time": "2024-04-25T13:20:16.224Z"
   },
   {
    "duration": 185,
    "start_time": "2024-04-25T13:20:57.464Z"
   },
   {
    "duration": 3,
    "start_time": "2024-04-25T13:21:03.878Z"
   },
   {
    "duration": 15,
    "start_time": "2024-04-25T13:21:04.983Z"
   },
   {
    "duration": 11,
    "start_time": "2024-04-25T13:21:16.425Z"
   },
   {
    "duration": 6,
    "start_time": "2024-04-25T13:24:25.867Z"
   },
   {
    "duration": 37,
    "start_time": "2024-04-25T13:24:45.066Z"
   },
   {
    "duration": 4,
    "start_time": "2024-04-25T13:25:18.847Z"
   },
   {
    "duration": 30,
    "start_time": "2024-04-25T13:25:22.660Z"
   },
   {
    "duration": 4,
    "start_time": "2024-04-25T13:26:17.958Z"
   },
   {
    "duration": 30,
    "start_time": "2024-04-25T13:26:19.746Z"
   },
   {
    "duration": 9,
    "start_time": "2024-04-25T13:30:31.294Z"
   },
   {
    "duration": 17,
    "start_time": "2024-04-25T13:31:46.817Z"
   },
   {
    "duration": 50,
    "start_time": "2024-04-25T14:55:04.243Z"
   },
   {
    "duration": 731,
    "start_time": "2024-04-25T14:55:16.102Z"
   },
   {
    "duration": 47,
    "start_time": "2024-04-25T14:55:16.911Z"
   },
   {
    "duration": 17,
    "start_time": "2024-04-25T14:55:17.583Z"
   },
   {
    "duration": 28,
    "start_time": "2024-04-25T14:55:18.221Z"
   },
   {
    "duration": 2399,
    "start_time": "2024-04-25T14:55:18.789Z"
   },
   {
    "duration": 11,
    "start_time": "2024-04-25T14:55:21.190Z"
   },
   {
    "duration": 20,
    "start_time": "2024-04-25T14:55:21.202Z"
   },
   {
    "duration": 19,
    "start_time": "2024-04-25T14:55:21.224Z"
   },
   {
    "duration": 5,
    "start_time": "2024-04-25T14:55:21.244Z"
   },
   {
    "duration": 5,
    "start_time": "2024-04-25T14:55:21.256Z"
   },
   {
    "duration": 6,
    "start_time": "2024-04-25T14:55:21.408Z"
   },
   {
    "duration": 4,
    "start_time": "2024-04-25T14:55:21.575Z"
   },
   {
    "duration": 3,
    "start_time": "2024-04-25T14:55:21.744Z"
   },
   {
    "duration": 21,
    "start_time": "2024-04-25T14:55:21.901Z"
   },
   {
    "duration": 15,
    "start_time": "2024-04-25T14:55:22.763Z"
   },
   {
    "duration": 261,
    "start_time": "2024-04-25T14:55:22.981Z"
   },
   {
    "duration": 27,
    "start_time": "2024-04-25T14:55:23.244Z"
   },
   {
    "duration": 7,
    "start_time": "2024-04-25T14:55:23.473Z"
   },
   {
    "duration": 4,
    "start_time": "2024-04-25T14:55:23.920Z"
   },
   {
    "duration": 4,
    "start_time": "2024-04-25T14:55:24.143Z"
   },
   {
    "duration": 9,
    "start_time": "2024-04-25T14:55:24.817Z"
   },
   {
    "duration": 3,
    "start_time": "2024-04-25T14:55:25.505Z"
   },
   {
    "duration": 5,
    "start_time": "2024-04-25T14:55:25.745Z"
   },
   {
    "duration": 4,
    "start_time": "2024-04-25T14:55:25.972Z"
   },
   {
    "duration": 5,
    "start_time": "2024-04-25T14:55:26.191Z"
   },
   {
    "duration": 592,
    "start_time": "2024-04-25T14:55:26.396Z"
   },
   {
    "duration": 0,
    "start_time": "2024-04-25T14:55:26.989Z"
   },
   {
    "duration": 0,
    "start_time": "2024-04-25T14:55:26.991Z"
   },
   {
    "duration": 14,
    "start_time": "2024-04-25T14:55:27.023Z"
   },
   {
    "duration": 28,
    "start_time": "2024-04-25T14:55:27.229Z"
   },
   {
    "duration": 17,
    "start_time": "2024-04-25T14:55:46.213Z"
   },
   {
    "duration": 544,
    "start_time": "2024-04-25T14:56:38.381Z"
   },
   {
    "duration": 8,
    "start_time": "2024-04-25T14:57:51.682Z"
   },
   {
    "duration": 5,
    "start_time": "2024-04-25T14:57:58.181Z"
   },
   {
    "duration": 5,
    "start_time": "2024-04-25T14:57:58.818Z"
   },
   {
    "duration": 3,
    "start_time": "2024-04-25T15:03:22.005Z"
   },
   {
    "duration": 17,
    "start_time": "2024-04-25T15:03:24.664Z"
   },
   {
    "duration": 12,
    "start_time": "2024-04-25T15:03:30.947Z"
   },
   {
    "duration": 13,
    "start_time": "2024-04-25T15:03:37.423Z"
   },
   {
    "duration": 31,
    "start_time": "2024-04-25T15:03:46.235Z"
   },
   {
    "duration": 15,
    "start_time": "2024-04-25T15:05:44.103Z"
   },
   {
    "duration": 12,
    "start_time": "2024-04-25T15:06:03.571Z"
   },
   {
    "duration": 11,
    "start_time": "2024-04-25T15:06:08.407Z"
   },
   {
    "duration": 12,
    "start_time": "2024-04-25T15:06:33.501Z"
   },
   {
    "duration": 5,
    "start_time": "2024-04-25T15:07:47.901Z"
   },
   {
    "duration": 27,
    "start_time": "2024-04-25T15:07:50.572Z"
   },
   {
    "duration": 8,
    "start_time": "2024-04-25T15:08:55.642Z"
   },
   {
    "duration": 26,
    "start_time": "2024-04-25T15:08:57.710Z"
   },
   {
    "duration": 19,
    "start_time": "2024-04-25T15:09:08.866Z"
   },
   {
    "duration": 10,
    "start_time": "2024-04-25T15:09:15.952Z"
   },
   {
    "duration": 7,
    "start_time": "2024-04-25T15:09:32.308Z"
   },
   {
    "duration": 15,
    "start_time": "2024-04-25T15:09:37.104Z"
   },
   {
    "duration": 7,
    "start_time": "2024-04-25T15:10:24.578Z"
   },
   {
    "duration": 27,
    "start_time": "2024-04-25T15:10:26.911Z"
   },
   {
    "duration": 8,
    "start_time": "2024-04-25T15:13:07.080Z"
   },
   {
    "duration": 8,
    "start_time": "2024-04-25T15:13:09.331Z"
   },
   {
    "duration": 7,
    "start_time": "2024-04-25T15:13:11.471Z"
   },
   {
    "duration": 25,
    "start_time": "2024-04-25T15:13:13.540Z"
   },
   {
    "duration": 7,
    "start_time": "2024-04-25T15:13:37.555Z"
   },
   {
    "duration": 26,
    "start_time": "2024-04-25T15:13:39.234Z"
   },
   {
    "duration": 102,
    "start_time": "2024-04-25T15:16:02.804Z"
   },
   {
    "duration": 28,
    "start_time": "2024-04-25T15:16:04.031Z"
   },
   {
    "duration": 30,
    "start_time": "2024-04-25T15:16:10.388Z"
   },
   {
    "duration": 29,
    "start_time": "2024-04-25T15:16:23.799Z"
   },
   {
    "duration": 15,
    "start_time": "2024-04-25T15:16:24.447Z"
   },
   {
    "duration": 21,
    "start_time": "2024-04-25T15:16:24.779Z"
   },
   {
    "duration": 1915,
    "start_time": "2024-04-25T15:16:25.067Z"
   },
   {
    "duration": 9,
    "start_time": "2024-04-25T15:16:26.984Z"
   },
   {
    "duration": 20,
    "start_time": "2024-04-25T15:16:26.995Z"
   },
   {
    "duration": 5,
    "start_time": "2024-04-25T15:16:27.016Z"
   },
   {
    "duration": 5,
    "start_time": "2024-04-25T15:16:29.618Z"
   },
   {
    "duration": 6,
    "start_time": "2024-04-25T15:16:29.768Z"
   },
   {
    "duration": 5,
    "start_time": "2024-04-25T15:16:29.911Z"
   },
   {
    "duration": 4,
    "start_time": "2024-04-25T15:16:30.049Z"
   },
   {
    "duration": 4,
    "start_time": "2024-04-25T15:16:30.190Z"
   },
   {
    "duration": 18,
    "start_time": "2024-04-25T15:16:30.340Z"
   },
   {
    "duration": 14,
    "start_time": "2024-04-25T15:16:30.499Z"
   },
   {
    "duration": 273,
    "start_time": "2024-04-25T15:16:30.659Z"
   },
   {
    "duration": 26,
    "start_time": "2024-04-25T15:16:30.934Z"
   },
   {
    "duration": 25,
    "start_time": "2024-04-25T15:16:31.001Z"
   },
   {
    "duration": 4,
    "start_time": "2024-04-25T15:16:31.361Z"
   },
   {
    "duration": 3,
    "start_time": "2024-04-25T15:16:31.534Z"
   },
   {
    "duration": 10,
    "start_time": "2024-04-25T15:16:32.088Z"
   },
   {
    "duration": 3,
    "start_time": "2024-04-25T15:16:32.700Z"
   },
   {
    "duration": 5,
    "start_time": "2024-04-25T15:16:32.912Z"
   },
   {
    "duration": 5,
    "start_time": "2024-04-25T15:16:33.083Z"
   },
   {
    "duration": 5,
    "start_time": "2024-04-25T15:16:33.217Z"
   },
   {
    "duration": 8,
    "start_time": "2024-04-25T15:16:33.343Z"
   },
   {
    "duration": 4,
    "start_time": "2024-04-25T15:16:33.492Z"
   },
   {
    "duration": 4,
    "start_time": "2024-04-25T15:16:33.633Z"
   },
   {
    "duration": 6,
    "start_time": "2024-04-25T15:16:33.896Z"
   },
   {
    "duration": 8,
    "start_time": "2024-04-25T15:16:34.025Z"
   },
   {
    "duration": 7,
    "start_time": "2024-04-25T15:16:34.292Z"
   },
   {
    "duration": 8,
    "start_time": "2024-04-25T15:16:34.468Z"
   },
   {
    "duration": 8,
    "start_time": "2024-04-25T15:16:34.799Z"
   },
   {
    "duration": 25,
    "start_time": "2024-04-25T15:16:36.080Z"
   },
   {
    "duration": 20,
    "start_time": "2024-04-25T15:18:32.407Z"
   },
   {
    "duration": 15,
    "start_time": "2024-04-25T15:20:10.899Z"
   },
   {
    "duration": 13,
    "start_time": "2024-04-25T15:20:23.826Z"
   },
   {
    "duration": 13,
    "start_time": "2024-04-25T15:20:24.517Z"
   },
   {
    "duration": 17,
    "start_time": "2024-04-25T15:20:25.105Z"
   },
   {
    "duration": 19,
    "start_time": "2024-04-25T15:20:25.624Z"
   },
   {
    "duration": 15,
    "start_time": "2024-04-25T15:20:26.129Z"
   },
   {
    "duration": 26,
    "start_time": "2024-04-25T15:20:28.617Z"
   },
   {
    "duration": 18,
    "start_time": "2024-04-25T15:20:35.437Z"
   },
   {
    "duration": 16,
    "start_time": "2024-04-25T15:21:37.439Z"
   },
   {
    "duration": 8,
    "start_time": "2024-04-25T15:21:52.597Z"
   },
   {
    "duration": 26,
    "start_time": "2024-04-25T15:21:57.220Z"
   },
   {
    "duration": 18,
    "start_time": "2024-04-25T15:21:59.221Z"
   },
   {
    "duration": 7,
    "start_time": "2024-04-25T15:22:17.685Z"
   },
   {
    "duration": 27,
    "start_time": "2024-04-25T15:22:20.303Z"
   },
   {
    "duration": 18,
    "start_time": "2024-04-25T15:22:22.193Z"
   },
   {
    "duration": 12,
    "start_time": "2024-04-25T15:22:36.712Z"
   },
   {
    "duration": 25,
    "start_time": "2024-04-25T15:22:39.348Z"
   },
   {
    "duration": 19,
    "start_time": "2024-04-25T15:22:44.488Z"
   },
   {
    "duration": 279,
    "start_time": "2024-04-25T15:23:04.555Z"
   },
   {
    "duration": 22,
    "start_time": "2024-04-25T15:23:18.041Z"
   },
   {
    "duration": 12,
    "start_time": "2024-04-25T15:23:54.302Z"
   },
   {
    "duration": 14,
    "start_time": "2024-04-25T15:24:12.289Z"
   },
   {
    "duration": 29,
    "start_time": "2024-04-25T15:24:14.603Z"
   },
   {
    "duration": 19,
    "start_time": "2024-04-25T15:24:17.682Z"
   },
   {
    "duration": 13,
    "start_time": "2024-04-25T15:26:23.885Z"
   },
   {
    "duration": 29,
    "start_time": "2024-04-25T15:26:28.578Z"
   },
   {
    "duration": 20,
    "start_time": "2024-04-25T15:26:30.746Z"
   },
   {
    "duration": 13,
    "start_time": "2024-04-25T15:27:09.448Z"
   },
   {
    "duration": 25,
    "start_time": "2024-04-25T15:27:12.368Z"
   },
   {
    "duration": 18,
    "start_time": "2024-04-25T15:27:14.287Z"
   },
   {
    "duration": 11,
    "start_time": "2024-04-25T15:27:23.380Z"
   },
   {
    "duration": 24,
    "start_time": "2024-04-25T15:27:26.022Z"
   },
   {
    "duration": 18,
    "start_time": "2024-04-25T15:27:27.952Z"
   },
   {
    "duration": 26,
    "start_time": "2024-04-25T15:27:52.441Z"
   },
   {
    "duration": 16,
    "start_time": "2024-04-25T15:27:55.212Z"
   },
   {
    "duration": 97,
    "start_time": "2024-04-25T15:28:04.634Z"
   },
   {
    "duration": 31,
    "start_time": "2024-04-25T15:28:04.924Z"
   },
   {
    "duration": 13,
    "start_time": "2024-04-25T15:28:05.354Z"
   },
   {
    "duration": 27,
    "start_time": "2024-04-25T15:28:05.669Z"
   },
   {
    "duration": 1972,
    "start_time": "2024-04-25T15:28:05.989Z"
   },
   {
    "duration": 9,
    "start_time": "2024-04-25T15:28:07.963Z"
   },
   {
    "duration": 5,
    "start_time": "2024-04-25T15:28:07.973Z"
   },
   {
    "duration": 4,
    "start_time": "2024-04-25T15:28:07.980Z"
   },
   {
    "duration": 5,
    "start_time": "2024-04-25T15:28:07.985Z"
   },
   {
    "duration": 29,
    "start_time": "2024-04-25T15:28:07.991Z"
   },
   {
    "duration": 17,
    "start_time": "2024-04-25T15:28:08.021Z"
   },
   {
    "duration": 4,
    "start_time": "2024-04-25T15:28:08.118Z"
   },
   {
    "duration": 3,
    "start_time": "2024-04-25T15:28:08.289Z"
   },
   {
    "duration": 19,
    "start_time": "2024-04-25T15:28:08.448Z"
   },
   {
    "duration": 14,
    "start_time": "2024-04-25T15:28:08.622Z"
   },
   {
    "duration": 260,
    "start_time": "2024-04-25T15:28:08.793Z"
   },
   {
    "duration": 29,
    "start_time": "2024-04-25T15:28:09.055Z"
   },
   {
    "duration": 5,
    "start_time": "2024-04-25T15:28:09.162Z"
   },
   {
    "duration": 4,
    "start_time": "2024-04-25T15:28:09.657Z"
   },
   {
    "duration": 3,
    "start_time": "2024-04-25T15:28:09.848Z"
   },
   {
    "duration": 9,
    "start_time": "2024-04-25T15:28:10.499Z"
   },
   {
    "duration": 4,
    "start_time": "2024-04-25T15:28:12.419Z"
   },
   {
    "duration": 4,
    "start_time": "2024-04-25T15:28:12.897Z"
   },
   {
    "duration": 4,
    "start_time": "2024-04-25T15:28:13.196Z"
   },
   {
    "duration": 4,
    "start_time": "2024-04-25T15:28:13.457Z"
   },
   {
    "duration": 9,
    "start_time": "2024-04-25T15:28:13.845Z"
   },
   {
    "duration": 4,
    "start_time": "2024-04-25T15:28:14.672Z"
   },
   {
    "duration": 4,
    "start_time": "2024-04-25T15:28:15.084Z"
   },
   {
    "duration": 29,
    "start_time": "2024-04-25T15:28:16.300Z"
   },
   {
    "duration": 13,
    "start_time": "2024-04-25T15:28:17.872Z"
   },
   {
    "duration": 1287,
    "start_time": "2024-04-25T15:32:15.249Z"
   },
   {
    "duration": 6,
    "start_time": "2024-04-25T15:32:23.690Z"
   },
   {
    "duration": 27,
    "start_time": "2024-04-25T15:32:39.369Z"
   },
   {
    "duration": 6,
    "start_time": "2024-04-25T15:36:25.170Z"
   },
   {
    "duration": 5,
    "start_time": "2024-04-25T15:36:52.507Z"
   },
   {
    "duration": 6,
    "start_time": "2024-04-25T15:37:11.070Z"
   },
   {
    "duration": 27,
    "start_time": "2024-04-25T15:37:19.850Z"
   },
   {
    "duration": 6,
    "start_time": "2024-04-25T15:37:40.853Z"
   },
   {
    "duration": 6,
    "start_time": "2024-04-25T15:37:43.030Z"
   },
   {
    "duration": 6,
    "start_time": "2024-04-25T15:37:43.420Z"
   },
   {
    "duration": 5,
    "start_time": "2024-04-25T15:37:43.905Z"
   },
   {
    "duration": 23,
    "start_time": "2024-04-25T15:37:44.611Z"
   },
   {
    "duration": 1033,
    "start_time": "2024-04-25T15:42:32.368Z"
   },
   {
    "duration": 94,
    "start_time": "2024-04-25T15:42:49.257Z"
   },
   {
    "duration": 270,
    "start_time": "2024-04-25T15:43:11.361Z"
   },
   {
    "duration": 274,
    "start_time": "2024-04-25T15:43:27.525Z"
   },
   {
    "duration": 280,
    "start_time": "2024-04-25T15:44:14.488Z"
   },
   {
    "duration": 94,
    "start_time": "2024-04-25T15:44:21.464Z"
   },
   {
    "duration": 29,
    "start_time": "2024-04-25T15:44:21.752Z"
   },
   {
    "duration": 15,
    "start_time": "2024-04-25T15:44:21.972Z"
   },
   {
    "duration": 22,
    "start_time": "2024-04-25T15:44:22.212Z"
   },
   {
    "duration": 1991,
    "start_time": "2024-04-25T15:44:22.507Z"
   },
   {
    "duration": 20,
    "start_time": "2024-04-25T15:44:24.499Z"
   },
   {
    "duration": 26,
    "start_time": "2024-04-25T15:44:24.521Z"
   },
   {
    "duration": 22,
    "start_time": "2024-04-25T15:44:24.549Z"
   },
   {
    "duration": 14,
    "start_time": "2024-04-25T15:44:24.573Z"
   },
   {
    "duration": 20,
    "start_time": "2024-04-25T15:44:24.588Z"
   },
   {
    "duration": 42,
    "start_time": "2024-04-25T15:44:24.610Z"
   },
   {
    "duration": 23,
    "start_time": "2024-04-25T15:44:24.654Z"
   },
   {
    "duration": 3,
    "start_time": "2024-04-25T15:44:24.731Z"
   },
   {
    "duration": 20,
    "start_time": "2024-04-25T15:44:24.906Z"
   },
   {
    "duration": 14,
    "start_time": "2024-04-25T15:44:25.114Z"
   },
   {
    "duration": 275,
    "start_time": "2024-04-25T15:44:25.306Z"
   },
   {
    "duration": 36,
    "start_time": "2024-04-25T15:44:25.583Z"
   },
   {
    "duration": 6,
    "start_time": "2024-04-25T15:44:25.683Z"
   },
   {
    "duration": 3,
    "start_time": "2024-04-25T15:44:26.064Z"
   },
   {
    "duration": 3,
    "start_time": "2024-04-25T15:44:26.234Z"
   },
   {
    "duration": 9,
    "start_time": "2024-04-25T15:44:26.759Z"
   },
   {
    "duration": 3,
    "start_time": "2024-04-25T15:44:27.317Z"
   },
   {
    "duration": 4,
    "start_time": "2024-04-25T15:44:27.490Z"
   },
   {
    "duration": 4,
    "start_time": "2024-04-25T15:44:27.665Z"
   },
   {
    "duration": 4,
    "start_time": "2024-04-25T15:44:27.834Z"
   },
   {
    "duration": 8,
    "start_time": "2024-04-25T15:44:28.001Z"
   },
   {
    "duration": 4,
    "start_time": "2024-04-25T15:44:28.168Z"
   },
   {
    "duration": 4,
    "start_time": "2024-04-25T15:44:28.360Z"
   },
   {
    "duration": 29,
    "start_time": "2024-04-25T15:44:28.724Z"
   },
   {
    "duration": 14,
    "start_time": "2024-04-25T15:44:28.988Z"
   },
   {
    "duration": 4,
    "start_time": "2024-04-25T15:44:29.751Z"
   },
   {
    "duration": 5,
    "start_time": "2024-04-25T15:44:29.930Z"
   },
   {
    "duration": 5,
    "start_time": "2024-04-25T15:44:30.106Z"
   },
   {
    "duration": 5,
    "start_time": "2024-04-25T15:44:30.281Z"
   },
   {
    "duration": 369,
    "start_time": "2024-04-25T15:44:30.962Z"
   },
   {
    "duration": 262,
    "start_time": "2024-04-25T15:46:03.533Z"
   },
   {
    "duration": 266,
    "start_time": "2024-04-25T15:46:26.914Z"
   },
   {
    "duration": 4,
    "start_time": "2024-04-25T15:48:27.097Z"
   },
   {
    "duration": 27,
    "start_time": "2024-04-25T15:48:28.822Z"
   },
   {
    "duration": 259,
    "start_time": "2024-04-25T15:51:37.410Z"
   },
   {
    "duration": 266,
    "start_time": "2024-04-25T15:51:53.919Z"
   },
   {
    "duration": 8,
    "start_time": "2024-04-25T15:53:03.474Z"
   },
   {
    "duration": 329,
    "start_time": "2024-04-25T15:53:36.850Z"
   },
   {
    "duration": 17,
    "start_time": "2024-04-25T15:54:29.176Z"
   },
   {
    "duration": 314,
    "start_time": "2024-04-25T15:54:53.553Z"
   },
   {
    "duration": 4,
    "start_time": "2024-04-25T15:54:57.662Z"
   },
   {
    "duration": 312,
    "start_time": "2024-04-25T15:55:05.753Z"
   },
   {
    "duration": 4,
    "start_time": "2024-04-25T15:55:06.946Z"
   },
   {
    "duration": 23,
    "start_time": "2024-04-25T15:55:07.936Z"
   },
   {
    "duration": 25,
    "start_time": "2024-04-25T15:56:27.711Z"
   },
   {
    "duration": 24,
    "start_time": "2024-04-25T15:56:39.708Z"
   },
   {
    "duration": 89,
    "start_time": "2024-04-25T15:56:43.944Z"
   },
   {
    "duration": 33,
    "start_time": "2024-04-25T15:56:44.357Z"
   },
   {
    "duration": 15,
    "start_time": "2024-04-25T15:56:44.713Z"
   },
   {
    "duration": 22,
    "start_time": "2024-04-25T15:56:44.972Z"
   },
   {
    "duration": 1960,
    "start_time": "2024-04-25T15:56:45.268Z"
   },
   {
    "duration": 9,
    "start_time": "2024-04-25T15:56:47.230Z"
   },
   {
    "duration": 11,
    "start_time": "2024-04-25T15:56:47.240Z"
   },
   {
    "duration": 23,
    "start_time": "2024-04-25T15:56:47.253Z"
   },
   {
    "duration": 6,
    "start_time": "2024-04-25T15:56:47.278Z"
   },
   {
    "duration": 14,
    "start_time": "2024-04-25T15:56:47.285Z"
   },
   {
    "duration": 6,
    "start_time": "2024-04-25T15:56:47.362Z"
   },
   {
    "duration": 4,
    "start_time": "2024-04-25T15:56:47.552Z"
   },
   {
    "duration": 3,
    "start_time": "2024-04-25T15:56:47.728Z"
   },
   {
    "duration": 24,
    "start_time": "2024-04-25T15:56:47.910Z"
   },
   {
    "duration": 24,
    "start_time": "2024-04-25T15:56:48.086Z"
   },
   {
    "duration": 253,
    "start_time": "2024-04-25T15:56:48.263Z"
   },
   {
    "duration": 26,
    "start_time": "2024-04-25T15:56:48.518Z"
   },
   {
    "duration": 5,
    "start_time": "2024-04-25T15:56:48.606Z"
   },
   {
    "duration": 4,
    "start_time": "2024-04-25T15:56:48.989Z"
   },
   {
    "duration": 4,
    "start_time": "2024-04-25T15:56:49.220Z"
   },
   {
    "duration": 9,
    "start_time": "2024-04-25T15:56:49.785Z"
   },
   {
    "duration": 4,
    "start_time": "2024-04-25T15:56:51.301Z"
   },
   {
    "duration": 5,
    "start_time": "2024-04-25T15:56:51.507Z"
   },
   {
    "duration": 4,
    "start_time": "2024-04-25T15:56:51.780Z"
   },
   {
    "duration": 4,
    "start_time": "2024-04-25T15:56:52.171Z"
   },
   {
    "duration": 8,
    "start_time": "2024-04-25T15:56:52.498Z"
   },
   {
    "duration": 5,
    "start_time": "2024-04-25T15:56:52.741Z"
   },
   {
    "duration": 4,
    "start_time": "2024-04-25T15:56:53.072Z"
   },
   {
    "duration": 29,
    "start_time": "2024-04-25T15:56:53.858Z"
   },
   {
    "duration": 17,
    "start_time": "2024-04-25T15:56:54.073Z"
   },
   {
    "duration": 5,
    "start_time": "2024-04-25T15:56:54.606Z"
   },
   {
    "duration": 5,
    "start_time": "2024-04-25T15:56:54.864Z"
   },
   {
    "duration": 6,
    "start_time": "2024-04-25T15:56:55.074Z"
   },
   {
    "duration": 5,
    "start_time": "2024-04-25T15:56:55.260Z"
   },
   {
    "duration": 310,
    "start_time": "2024-04-25T15:56:55.473Z"
   },
   {
    "duration": 4,
    "start_time": "2024-04-25T15:56:56.069Z"
   },
   {
    "duration": 24,
    "start_time": "2024-04-25T15:56:58.054Z"
   },
   {
    "duration": 31,
    "start_time": "2024-04-25T16:05:00.489Z"
   },
   {
    "duration": 46,
    "start_time": "2024-04-25T16:05:12.467Z"
   },
   {
    "duration": 4,
    "start_time": "2024-04-25T16:05:34.781Z"
   },
   {
    "duration": 26,
    "start_time": "2024-04-25T16:05:42.517Z"
   },
   {
    "duration": 92,
    "start_time": "2024-04-25T16:05:48.514Z"
   },
   {
    "duration": 30,
    "start_time": "2024-04-25T16:05:48.787Z"
   },
   {
    "duration": 19,
    "start_time": "2024-04-25T16:05:49.062Z"
   },
   {
    "duration": 21,
    "start_time": "2024-04-25T16:05:49.301Z"
   },
   {
    "duration": 1971,
    "start_time": "2024-04-25T16:05:49.547Z"
   },
   {
    "duration": 9,
    "start_time": "2024-04-25T16:05:51.520Z"
   },
   {
    "duration": 3,
    "start_time": "2024-04-25T16:05:51.531Z"
   },
   {
    "duration": 9,
    "start_time": "2024-04-25T16:05:51.536Z"
   },
   {
    "duration": 6,
    "start_time": "2024-04-25T16:05:51.546Z"
   },
   {
    "duration": 5,
    "start_time": "2024-04-25T16:05:51.553Z"
   },
   {
    "duration": 6,
    "start_time": "2024-04-25T16:05:51.584Z"
   },
   {
    "duration": 3,
    "start_time": "2024-04-25T16:05:51.744Z"
   },
   {
    "duration": 4,
    "start_time": "2024-04-25T16:05:51.915Z"
   },
   {
    "duration": 20,
    "start_time": "2024-04-25T16:05:52.087Z"
   },
   {
    "duration": 14,
    "start_time": "2024-04-25T16:05:52.256Z"
   },
   {
    "duration": 250,
    "start_time": "2024-04-25T16:05:52.428Z"
   },
   {
    "duration": 26,
    "start_time": "2024-04-25T16:05:52.680Z"
   },
   {
    "duration": 5,
    "start_time": "2024-04-25T16:05:52.760Z"
   },
   {
    "duration": 4,
    "start_time": "2024-04-25T16:05:53.116Z"
   },
   {
    "duration": 3,
    "start_time": "2024-04-25T16:05:53.281Z"
   },
   {
    "duration": 10,
    "start_time": "2024-04-25T16:05:53.788Z"
   },
   {
    "duration": 4,
    "start_time": "2024-04-25T16:05:54.322Z"
   },
   {
    "duration": 5,
    "start_time": "2024-04-25T16:05:54.490Z"
   },
   {
    "duration": 5,
    "start_time": "2024-04-25T16:05:54.661Z"
   },
   {
    "duration": 4,
    "start_time": "2024-04-25T16:05:54.825Z"
   },
   {
    "duration": 11,
    "start_time": "2024-04-25T16:05:54.981Z"
   },
   {
    "duration": 4,
    "start_time": "2024-04-25T16:05:55.148Z"
   },
   {
    "duration": 4,
    "start_time": "2024-04-25T16:05:55.335Z"
   },
   {
    "duration": 28,
    "start_time": "2024-04-25T16:05:55.603Z"
   },
   {
    "duration": 14,
    "start_time": "2024-04-25T16:05:55.774Z"
   },
   {
    "duration": 4,
    "start_time": "2024-04-25T16:05:56.797Z"
   },
   {
    "duration": 6,
    "start_time": "2024-04-25T16:05:57.000Z"
   },
   {
    "duration": 6,
    "start_time": "2024-04-25T16:05:57.206Z"
   },
   {
    "duration": 5,
    "start_time": "2024-04-25T16:05:57.411Z"
   },
   {
    "duration": 330,
    "start_time": "2024-04-25T16:05:57.567Z"
   },
   {
    "duration": 4,
    "start_time": "2024-04-25T16:05:57.899Z"
   },
   {
    "duration": 4,
    "start_time": "2024-04-25T16:08:04.352Z"
   },
   {
    "duration": 4,
    "start_time": "2024-04-25T16:08:05.430Z"
   },
   {
    "duration": 5,
    "start_time": "2024-04-25T16:08:05.591Z"
   },
   {
    "duration": 3,
    "start_time": "2024-04-25T16:08:05.754Z"
   },
   {
    "duration": 4,
    "start_time": "2024-04-25T16:08:05.900Z"
   },
   {
    "duration": 3,
    "start_time": "2024-04-25T16:08:06.072Z"
   },
   {
    "duration": 30,
    "start_time": "2024-04-25T16:08:06.227Z"
   },
   {
    "duration": 16,
    "start_time": "2024-04-25T16:08:06.387Z"
   },
   {
    "duration": 239,
    "start_time": "2024-04-25T16:08:06.551Z"
   },
   {
    "duration": 31,
    "start_time": "2024-04-25T16:08:06.792Z"
   },
   {
    "duration": 6,
    "start_time": "2024-04-25T16:08:06.867Z"
   },
   {
    "duration": 3,
    "start_time": "2024-04-25T16:08:07.205Z"
   },
   {
    "duration": 4,
    "start_time": "2024-04-25T16:08:07.369Z"
   },
   {
    "duration": 11,
    "start_time": "2024-04-25T16:08:07.852Z"
   },
   {
    "duration": 3,
    "start_time": "2024-04-25T16:08:08.387Z"
   },
   {
    "duration": 3,
    "start_time": "2024-04-25T16:08:08.559Z"
   },
   {
    "duration": 3,
    "start_time": "2024-04-25T16:08:08.730Z"
   },
   {
    "duration": 4,
    "start_time": "2024-04-25T16:08:08.912Z"
   },
   {
    "duration": 12,
    "start_time": "2024-04-25T16:08:09.067Z"
   },
   {
    "duration": 4,
    "start_time": "2024-04-25T16:08:09.240Z"
   },
   {
    "duration": 3,
    "start_time": "2024-04-25T16:08:09.408Z"
   },
   {
    "duration": 26,
    "start_time": "2024-04-25T16:08:09.753Z"
   },
   {
    "duration": 15,
    "start_time": "2024-04-25T16:08:09.931Z"
   },
   {
    "duration": 4,
    "start_time": "2024-04-25T16:08:10.698Z"
   },
   {
    "duration": 5,
    "start_time": "2024-04-25T16:08:10.877Z"
   },
   {
    "duration": 5,
    "start_time": "2024-04-25T16:08:11.057Z"
   },
   {
    "duration": 5,
    "start_time": "2024-04-25T16:08:11.228Z"
   },
   {
    "duration": 325,
    "start_time": "2024-04-25T16:08:11.387Z"
   },
   {
    "duration": 4,
    "start_time": "2024-04-25T16:08:11.716Z"
   },
   {
    "duration": 48,
    "start_time": "2024-04-25T16:08:11.888Z"
   },
   {
    "duration": 94,
    "start_time": "2024-04-25T16:08:29.630Z"
   },
   {
    "duration": 29,
    "start_time": "2024-04-25T16:08:29.904Z"
   },
   {
    "duration": 14,
    "start_time": "2024-04-25T16:08:30.169Z"
   },
   {
    "duration": 20,
    "start_time": "2024-04-25T16:08:30.443Z"
   },
   {
    "duration": 1989,
    "start_time": "2024-04-25T16:08:30.726Z"
   },
   {
    "duration": 10,
    "start_time": "2024-04-25T16:08:32.717Z"
   },
   {
    "duration": 17,
    "start_time": "2024-04-25T16:08:32.728Z"
   },
   {
    "duration": 6,
    "start_time": "2024-04-25T16:08:32.747Z"
   },
   {
    "duration": 22,
    "start_time": "2024-04-25T16:08:32.754Z"
   },
   {
    "duration": 11,
    "start_time": "2024-04-25T16:08:32.778Z"
   },
   {
    "duration": 12,
    "start_time": "2024-04-25T16:08:32.791Z"
   },
   {
    "duration": 27,
    "start_time": "2024-04-25T16:08:32.805Z"
   },
   {
    "duration": 16,
    "start_time": "2024-04-25T16:08:32.834Z"
   },
   {
    "duration": 19,
    "start_time": "2024-04-25T16:08:32.998Z"
   },
   {
    "duration": 14,
    "start_time": "2024-04-25T16:08:33.150Z"
   },
   {
    "duration": 249,
    "start_time": "2024-04-25T16:08:33.335Z"
   },
   {
    "duration": 32,
    "start_time": "2024-04-25T16:08:33.586Z"
   },
   {
    "duration": 6,
    "start_time": "2024-04-25T16:08:33.673Z"
   },
   {
    "duration": 3,
    "start_time": "2024-04-25T16:08:34.013Z"
   },
   {
    "duration": 4,
    "start_time": "2024-04-25T16:08:34.180Z"
   },
   {
    "duration": 9,
    "start_time": "2024-04-25T16:08:34.732Z"
   },
   {
    "duration": 3,
    "start_time": "2024-04-25T16:08:35.264Z"
   },
   {
    "duration": 4,
    "start_time": "2024-04-25T16:08:35.497Z"
   },
   {
    "duration": 4,
    "start_time": "2024-04-25T16:08:35.701Z"
   },
   {
    "duration": 4,
    "start_time": "2024-04-25T16:08:35.806Z"
   },
   {
    "duration": 8,
    "start_time": "2024-04-25T16:08:35.962Z"
   },
   {
    "duration": 5,
    "start_time": "2024-04-25T16:08:36.128Z"
   },
   {
    "duration": 5,
    "start_time": "2024-04-25T16:08:36.297Z"
   },
   {
    "duration": 28,
    "start_time": "2024-04-25T16:08:36.665Z"
   },
   {
    "duration": 14,
    "start_time": "2024-04-25T16:08:36.837Z"
   },
   {
    "duration": 4,
    "start_time": "2024-04-25T16:08:37.856Z"
   },
   {
    "duration": 6,
    "start_time": "2024-04-25T16:08:38.126Z"
   },
   {
    "duration": 6,
    "start_time": "2024-04-25T16:08:38.318Z"
   },
   {
    "duration": 5,
    "start_time": "2024-04-25T16:08:38.491Z"
   },
   {
    "duration": 344,
    "start_time": "2024-04-25T16:08:38.639Z"
   },
   {
    "duration": 4,
    "start_time": "2024-04-25T16:08:38.985Z"
   },
   {
    "duration": 48,
    "start_time": "2024-04-25T16:08:39.132Z"
   },
   {
    "duration": 23,
    "start_time": "2024-04-25T16:08:50.431Z"
   },
   {
    "duration": 14,
    "start_time": "2024-04-25T16:08:55.135Z"
   },
   {
    "duration": 23,
    "start_time": "2024-04-25T16:09:40.093Z"
   },
   {
    "duration": 25,
    "start_time": "2024-04-25T16:09:47.865Z"
   },
   {
    "duration": 796,
    "start_time": "2024-04-26T08:46:03.837Z"
   },
   {
    "duration": 40,
    "start_time": "2024-04-26T08:46:04.635Z"
   },
   {
    "duration": 24,
    "start_time": "2024-04-26T08:46:04.980Z"
   },
   {
    "duration": 26,
    "start_time": "2024-04-26T08:46:05.400Z"
   },
   {
    "duration": 2595,
    "start_time": "2024-04-26T08:46:05.854Z"
   },
   {
    "duration": 11,
    "start_time": "2024-04-26T08:46:08.451Z"
   },
   {
    "duration": 13,
    "start_time": "2024-04-26T08:46:08.464Z"
   },
   {
    "duration": 6,
    "start_time": "2024-04-26T08:46:08.479Z"
   },
   {
    "duration": 4,
    "start_time": "2024-04-26T08:46:08.487Z"
   },
   {
    "duration": 17,
    "start_time": "2024-04-26T08:46:08.493Z"
   },
   {
    "duration": 6,
    "start_time": "2024-04-26T08:46:08.590Z"
   },
   {
    "duration": 3,
    "start_time": "2024-04-26T08:46:08.840Z"
   },
   {
    "duration": 3,
    "start_time": "2024-04-26T08:46:09.041Z"
   },
   {
    "duration": 20,
    "start_time": "2024-04-26T08:46:09.301Z"
   },
   {
    "duration": 16,
    "start_time": "2024-04-26T08:46:09.521Z"
   },
   {
    "duration": 293,
    "start_time": "2024-04-26T08:46:09.770Z"
   },
   {
    "duration": 33,
    "start_time": "2024-04-26T08:46:10.065Z"
   },
   {
    "duration": 5,
    "start_time": "2024-04-26T08:46:10.215Z"
   },
   {
    "duration": 3,
    "start_time": "2024-04-26T08:46:10.853Z"
   },
   {
    "duration": 4,
    "start_time": "2024-04-26T08:46:11.137Z"
   },
   {
    "duration": 11,
    "start_time": "2024-04-26T08:46:11.958Z"
   },
   {
    "duration": 4,
    "start_time": "2024-04-26T08:46:13.296Z"
   },
   {
    "duration": 5,
    "start_time": "2024-04-26T08:46:13.495Z"
   },
   {
    "duration": 5,
    "start_time": "2024-04-26T08:46:13.687Z"
   },
   {
    "duration": 4,
    "start_time": "2024-04-26T08:46:13.865Z"
   },
   {
    "duration": 9,
    "start_time": "2024-04-26T08:46:14.050Z"
   },
   {
    "duration": 4,
    "start_time": "2024-04-26T08:46:14.226Z"
   },
   {
    "duration": 30,
    "start_time": "2024-04-26T08:46:14.871Z"
   },
   {
    "duration": 20,
    "start_time": "2024-04-26T08:46:16.148Z"
   },
   {
    "duration": 6,
    "start_time": "2024-04-26T08:46:17.501Z"
   },
   {
    "duration": 6,
    "start_time": "2024-04-26T08:46:17.729Z"
   },
   {
    "duration": 7,
    "start_time": "2024-04-26T08:46:17.936Z"
   },
   {
    "duration": 6,
    "start_time": "2024-04-26T08:46:18.139Z"
   },
   {
    "duration": 401,
    "start_time": "2024-04-26T08:46:18.379Z"
   },
   {
    "duration": 4,
    "start_time": "2024-04-26T08:46:18.782Z"
   },
   {
    "duration": 27,
    "start_time": "2024-04-26T08:46:20.108Z"
   },
   {
    "duration": 4,
    "start_time": "2024-04-26T08:47:17.325Z"
   },
   {
    "duration": 27,
    "start_time": "2024-04-26T08:47:18.861Z"
   },
   {
    "duration": 5,
    "start_time": "2024-04-26T08:51:57.712Z"
   },
   {
    "duration": 25,
    "start_time": "2024-04-26T08:51:59.101Z"
   },
   {
    "duration": 4,
    "start_time": "2024-04-26T08:52:11.545Z"
   },
   {
    "duration": 27,
    "start_time": "2024-04-26T08:52:12.516Z"
   },
   {
    "duration": 5,
    "start_time": "2024-04-26T08:54:10.533Z"
   },
   {
    "duration": 25,
    "start_time": "2024-04-26T08:54:11.301Z"
   },
   {
    "duration": 4,
    "start_time": "2024-04-26T08:54:33.140Z"
   },
   {
    "duration": 25,
    "start_time": "2024-04-26T08:54:38.154Z"
   },
   {
    "duration": 3,
    "start_time": "2024-04-26T08:54:46.304Z"
   },
   {
    "duration": 28,
    "start_time": "2024-04-26T08:54:47.312Z"
   },
   {
    "duration": 4,
    "start_time": "2024-04-26T08:54:58.307Z"
   },
   {
    "duration": 25,
    "start_time": "2024-04-26T08:54:59.133Z"
   },
   {
    "duration": 4,
    "start_time": "2024-04-26T08:55:07.759Z"
   },
   {
    "duration": 3,
    "start_time": "2024-04-26T09:12:09.305Z"
   },
   {
    "duration": 10,
    "start_time": "2024-04-26T09:13:48.862Z"
   },
   {
    "duration": 137,
    "start_time": "2024-04-26T09:15:58.492Z"
   },
   {
    "duration": 204,
    "start_time": "2024-04-26T09:16:08.632Z"
   },
   {
    "duration": 261,
    "start_time": "2024-04-26T09:16:43.506Z"
   },
   {
    "duration": 209,
    "start_time": "2024-04-26T09:16:53.682Z"
   },
   {
    "duration": 250,
    "start_time": "2024-04-26T09:17:13.416Z"
   },
   {
    "duration": 137,
    "start_time": "2024-04-26T09:17:18.313Z"
   },
   {
    "duration": 182,
    "start_time": "2024-04-26T09:17:24.851Z"
   },
   {
    "duration": 283,
    "start_time": "2024-04-26T09:18:12.425Z"
   },
   {
    "duration": 182,
    "start_time": "2024-04-26T09:18:45.909Z"
   },
   {
    "duration": 189,
    "start_time": "2024-04-26T09:21:07.265Z"
   },
   {
    "duration": 193,
    "start_time": "2024-04-26T09:24:04.466Z"
   },
   {
    "duration": 172,
    "start_time": "2024-04-26T09:24:40.035Z"
   },
   {
    "duration": 293,
    "start_time": "2024-04-26T09:24:52.336Z"
   },
   {
    "duration": 193,
    "start_time": "2024-04-26T09:25:05.910Z"
   },
   {
    "duration": 185,
    "start_time": "2024-04-26T09:25:19.521Z"
   },
   {
    "duration": 103,
    "start_time": "2024-04-26T09:25:28.320Z"
   },
   {
    "duration": 90,
    "start_time": "2024-04-26T09:26:58.939Z"
   },
   {
    "duration": 2,
    "start_time": "2024-04-26T09:27:04.939Z"
   },
   {
    "duration": 9,
    "start_time": "2024-04-26T09:27:06.804Z"
   },
   {
    "duration": 68,
    "start_time": "2024-04-26T09:27:07.514Z"
   },
   {
    "duration": 178,
    "start_time": "2024-04-26T09:27:18.897Z"
   },
   {
    "duration": 109,
    "start_time": "2024-04-26T09:28:16.335Z"
   },
   {
    "duration": 252,
    "start_time": "2024-04-26T09:28:23.290Z"
   },
   {
    "duration": 308,
    "start_time": "2024-04-26T09:28:39.788Z"
   },
   {
    "duration": 266,
    "start_time": "2024-04-26T09:28:57.209Z"
   },
   {
    "duration": 381,
    "start_time": "2024-04-26T09:29:32.217Z"
   },
   {
    "duration": 252,
    "start_time": "2024-04-26T09:29:46.943Z"
   },
   {
    "duration": 248,
    "start_time": "2024-04-26T09:29:54.234Z"
   },
   {
    "duration": 288,
    "start_time": "2024-04-26T09:30:00.053Z"
   },
   {
    "duration": 253,
    "start_time": "2024-04-26T09:30:35.262Z"
   },
   {
    "duration": 369,
    "start_time": "2024-04-26T09:31:21.199Z"
   },
   {
    "duration": 266,
    "start_time": "2024-04-26T09:36:25.300Z"
   },
   {
    "duration": 281,
    "start_time": "2024-04-26T09:36:33.802Z"
   },
   {
    "duration": 279,
    "start_time": "2024-04-26T09:36:48.543Z"
   },
   {
    "duration": 265,
    "start_time": "2024-04-26T09:37:01.816Z"
   },
   {
    "duration": 267,
    "start_time": "2024-04-26T09:37:11.394Z"
   },
   {
    "duration": 397,
    "start_time": "2024-04-26T09:37:20.883Z"
   },
   {
    "duration": 11,
    "start_time": "2024-04-26T09:41:59.309Z"
   },
   {
    "duration": 270,
    "start_time": "2024-04-26T09:43:08.778Z"
   },
   {
    "duration": 270,
    "start_time": "2024-04-26T09:43:27.250Z"
   },
   {
    "duration": 10,
    "start_time": "2024-04-26T09:48:10.957Z"
   },
   {
    "duration": 9,
    "start_time": "2024-04-26T09:48:26.063Z"
   },
   {
    "duration": 271,
    "start_time": "2024-04-26T09:48:56.380Z"
   },
   {
    "duration": 118,
    "start_time": "2024-04-26T09:49:09.212Z"
   },
   {
    "duration": 260,
    "start_time": "2024-04-26T09:49:19.313Z"
   },
   {
    "duration": 384,
    "start_time": "2024-04-26T09:49:27.772Z"
   },
   {
    "duration": 280,
    "start_time": "2024-04-26T09:50:26.759Z"
   },
   {
    "duration": 262,
    "start_time": "2024-04-26T09:50:32.190Z"
   },
   {
    "duration": 279,
    "start_time": "2024-04-26T09:54:14.581Z"
   },
   {
    "duration": 13,
    "start_time": "2024-04-26T09:59:17.233Z"
   },
   {
    "duration": 119,
    "start_time": "2024-04-26T10:00:45.742Z"
   },
   {
    "duration": 261,
    "start_time": "2024-04-26T10:00:56.365Z"
   },
   {
    "duration": 471,
    "start_time": "2024-04-26T10:01:12.203Z"
   },
   {
    "duration": 276,
    "start_time": "2024-04-26T10:01:55.128Z"
   },
   {
    "duration": 210,
    "start_time": "2024-04-26T10:02:05.570Z"
   },
   {
    "duration": 155,
    "start_time": "2024-04-26T10:02:08.333Z"
   },
   {
    "duration": 308,
    "start_time": "2024-04-26T10:02:28.072Z"
   },
   {
    "duration": 294,
    "start_time": "2024-04-26T10:02:38.928Z"
   },
   {
    "duration": 435,
    "start_time": "2024-04-26T10:03:59.678Z"
   },
   {
    "duration": 273,
    "start_time": "2024-04-26T10:04:24.279Z"
   },
   {
    "duration": 12,
    "start_time": "2024-04-26T10:09:04.626Z"
   },
   {
    "duration": 320,
    "start_time": "2024-04-26T10:10:11.575Z"
   },
   {
    "duration": 276,
    "start_time": "2024-04-26T10:10:56.022Z"
   },
   {
    "duration": 121,
    "start_time": "2024-04-26T10:11:13.349Z"
   },
   {
    "duration": 128,
    "start_time": "2024-04-26T10:11:16.060Z"
   },
   {
    "duration": 283,
    "start_time": "2024-04-26T10:11:32.684Z"
   },
   {
    "duration": 521,
    "start_time": "2024-04-26T10:11:44.142Z"
   },
   {
    "duration": 268,
    "start_time": "2024-04-26T10:11:48.455Z"
   },
   {
    "duration": 199,
    "start_time": "2024-04-26T10:11:53.395Z"
   },
   {
    "duration": 236,
    "start_time": "2024-04-26T10:11:56.662Z"
   },
   {
    "duration": 209,
    "start_time": "2024-04-26T10:12:08.314Z"
   },
   {
    "duration": 302,
    "start_time": "2024-04-26T10:12:18.489Z"
   },
   {
    "duration": 187,
    "start_time": "2024-04-26T10:12:29.717Z"
   },
   {
    "duration": 189,
    "start_time": "2024-04-26T10:12:39.787Z"
   },
   {
    "duration": 78,
    "start_time": "2024-04-26T10:14:13.335Z"
   },
   {
    "duration": 9,
    "start_time": "2024-04-26T10:15:11.432Z"
   },
   {
    "duration": 339,
    "start_time": "2024-04-26T10:16:18.895Z"
   },
   {
    "duration": 175,
    "start_time": "2024-04-26T10:16:53.582Z"
   },
   {
    "duration": 82,
    "start_time": "2024-04-26T10:18:25.882Z"
   },
   {
    "duration": 170,
    "start_time": "2024-04-26T10:18:34.042Z"
   },
   {
    "duration": 12,
    "start_time": "2024-04-26T10:20:06.187Z"
   },
   {
    "duration": 6,
    "start_time": "2024-04-26T10:20:15.804Z"
   },
   {
    "duration": 189,
    "start_time": "2024-04-26T10:20:19.133Z"
   },
   {
    "duration": 10,
    "start_time": "2024-04-26T10:20:33.436Z"
   },
   {
    "duration": 4,
    "start_time": "2024-04-26T10:20:41.130Z"
   },
   {
    "duration": 9,
    "start_time": "2024-04-26T10:20:42.945Z"
   },
   {
    "duration": 6,
    "start_time": "2024-04-26T10:20:50.858Z"
   },
   {
    "duration": 11,
    "start_time": "2024-04-26T10:20:56.758Z"
   },
   {
    "duration": 193,
    "start_time": "2024-04-26T10:21:02.171Z"
   },
   {
    "duration": 11,
    "start_time": "2024-04-26T10:21:04.434Z"
   },
   {
    "duration": 4,
    "start_time": "2024-04-26T10:21:10.883Z"
   },
   {
    "duration": 104,
    "start_time": "2024-04-26T10:21:36.801Z"
   },
   {
    "duration": 32,
    "start_time": "2024-04-26T10:21:37.108Z"
   },
   {
    "duration": 17,
    "start_time": "2024-04-26T10:21:37.360Z"
   },
   {
    "duration": 33,
    "start_time": "2024-04-26T10:21:37.632Z"
   },
   {
    "duration": 2214,
    "start_time": "2024-04-26T10:21:37.860Z"
   },
   {
    "duration": 10,
    "start_time": "2024-04-26T10:21:40.080Z"
   },
   {
    "duration": 13,
    "start_time": "2024-04-26T10:21:40.091Z"
   },
   {
    "duration": 19,
    "start_time": "2024-04-26T10:21:40.106Z"
   },
   {
    "duration": 30,
    "start_time": "2024-04-26T10:21:40.127Z"
   },
   {
    "duration": 18,
    "start_time": "2024-04-26T10:21:40.158Z"
   },
   {
    "duration": 15,
    "start_time": "2024-04-26T10:21:40.178Z"
   },
   {
    "duration": 5,
    "start_time": "2024-04-26T10:21:40.195Z"
   },
   {
    "duration": 7,
    "start_time": "2024-04-26T10:21:40.202Z"
   },
   {
    "duration": 23,
    "start_time": "2024-04-26T10:21:40.211Z"
   },
   {
    "duration": 20,
    "start_time": "2024-04-26T10:21:40.236Z"
   },
   {
    "duration": 297,
    "start_time": "2024-04-26T10:21:40.258Z"
   },
   {
    "duration": 39,
    "start_time": "2024-04-26T10:21:40.557Z"
   },
   {
    "duration": 20,
    "start_time": "2024-04-26T10:21:40.598Z"
   },
   {
    "duration": 4,
    "start_time": "2024-04-26T10:21:40.874Z"
   },
   {
    "duration": 4,
    "start_time": "2024-04-26T10:21:40.920Z"
   },
   {
    "duration": 10,
    "start_time": "2024-04-26T10:21:41.341Z"
   },
   {
    "duration": 3,
    "start_time": "2024-04-26T10:21:41.809Z"
   },
   {
    "duration": 5,
    "start_time": "2024-04-26T10:21:41.947Z"
   },
   {
    "duration": 5,
    "start_time": "2024-04-26T10:21:42.107Z"
   },
   {
    "duration": 6,
    "start_time": "2024-04-26T10:21:42.257Z"
   },
   {
    "duration": 10,
    "start_time": "2024-04-26T10:21:42.418Z"
   },
   {
    "duration": 5,
    "start_time": "2024-04-26T10:21:42.558Z"
   },
   {
    "duration": 33,
    "start_time": "2024-04-26T10:21:42.857Z"
   },
   {
    "duration": 15,
    "start_time": "2024-04-26T10:21:43.022Z"
   },
   {
    "duration": 6,
    "start_time": "2024-04-26T10:21:43.474Z"
   },
   {
    "duration": 8,
    "start_time": "2024-04-26T10:21:43.753Z"
   },
   {
    "duration": 8,
    "start_time": "2024-04-26T10:21:43.913Z"
   },
   {
    "duration": 7,
    "start_time": "2024-04-26T10:21:44.071Z"
   },
   {
    "duration": 367,
    "start_time": "2024-04-26T10:21:44.225Z"
   },
   {
    "duration": 5,
    "start_time": "2024-04-26T10:21:44.595Z"
   },
   {
    "duration": 27,
    "start_time": "2024-04-26T10:21:44.670Z"
   },
   {
    "duration": 3,
    "start_time": "2024-04-26T10:21:45.108Z"
   },
   {
    "duration": 10,
    "start_time": "2024-04-26T10:21:45.665Z"
   },
   {
    "duration": 287,
    "start_time": "2024-04-26T10:21:46.945Z"
   },
   {
    "duration": 9,
    "start_time": "2024-04-26T10:21:49.591Z"
   },
   {
    "duration": 297,
    "start_time": "2024-04-26T10:21:50.429Z"
   },
   {
    "duration": 12,
    "start_time": "2024-04-26T10:21:53.570Z"
   },
   {
    "duration": 316,
    "start_time": "2024-04-26T10:21:54.275Z"
   },
   {
    "duration": 9,
    "start_time": "2024-04-26T10:21:59.291Z"
   },
   {
    "duration": 421,
    "start_time": "2024-04-26T10:21:59.994Z"
   },
   {
    "duration": 9,
    "start_time": "2024-04-26T10:22:10.350Z"
   },
   {
    "duration": 191,
    "start_time": "2024-04-26T10:22:29.478Z"
   },
   {
    "duration": 11,
    "start_time": "2024-04-26T10:22:34.051Z"
   },
   {
    "duration": 5,
    "start_time": "2024-04-26T10:22:45.396Z"
   },
   {
    "duration": 11,
    "start_time": "2024-04-26T10:24:53.730Z"
   },
   {
    "duration": 190,
    "start_time": "2024-04-26T10:25:07.801Z"
   },
   {
    "duration": 67,
    "start_time": "2024-04-26T10:26:15.930Z"
   },
   {
    "duration": 11,
    "start_time": "2024-04-26T10:27:32.207Z"
   },
   {
    "duration": 1113,
    "start_time": "2024-04-26T10:29:58.152Z"
   },
   {
    "duration": 19,
    "start_time": "2024-04-26T10:30:08.982Z"
   },
   {
    "duration": 25,
    "start_time": "2024-04-26T10:30:16.897Z"
   },
   {
    "duration": 286,
    "start_time": "2024-04-26T10:30:55.709Z"
   },
   {
    "duration": 77,
    "start_time": "2024-04-26T10:32:30.229Z"
   },
   {
    "duration": 68,
    "start_time": "2024-04-26T10:32:47.813Z"
   },
   {
    "duration": 15,
    "start_time": "2024-04-26T10:32:52.744Z"
   },
   {
    "duration": 16,
    "start_time": "2024-04-26T10:33:07.167Z"
   },
   {
    "duration": 80,
    "start_time": "2024-04-26T10:35:49.821Z"
   },
   {
    "duration": 230,
    "start_time": "2024-04-26T10:36:02.466Z"
   },
   {
    "duration": 231,
    "start_time": "2024-04-26T10:36:13.871Z"
   },
   {
    "duration": 17,
    "start_time": "2024-04-26T10:36:32.036Z"
   },
   {
    "duration": 17,
    "start_time": "2024-04-26T10:36:39.939Z"
   },
   {
    "duration": 15,
    "start_time": "2024-04-26T10:36:47.857Z"
   },
   {
    "duration": 19,
    "start_time": "2024-04-26T10:36:56.257Z"
   },
   {
    "duration": 416,
    "start_time": "2024-04-26T10:40:07.900Z"
   },
   {
    "duration": 9,
    "start_time": "2024-04-26T10:41:37.331Z"
   },
   {
    "duration": 191,
    "start_time": "2024-04-26T10:41:45.899Z"
   },
   {
    "duration": 189,
    "start_time": "2024-04-26T10:42:05.189Z"
   },
   {
    "duration": 182,
    "start_time": "2024-04-26T10:42:21.765Z"
   },
   {
    "duration": 165,
    "start_time": "2024-04-26T10:42:52.848Z"
   },
   {
    "duration": 22,
    "start_time": "2024-04-26T10:43:28.399Z"
   },
   {
    "duration": 3258,
    "start_time": "2024-04-26T10:43:43.477Z"
   },
   {
    "duration": 22,
    "start_time": "2024-04-26T10:43:55.200Z"
   },
   {
    "duration": 33,
    "start_time": "2024-04-26T10:44:01.004Z"
   },
   {
    "duration": 22,
    "start_time": "2024-04-26T10:44:14.123Z"
   },
   {
    "duration": 22,
    "start_time": "2024-04-26T10:44:21.605Z"
   },
   {
    "duration": 22,
    "start_time": "2024-04-26T10:44:29.089Z"
   },
   {
    "duration": 370,
    "start_time": "2024-04-26T10:44:36.090Z"
   },
   {
    "duration": 22,
    "start_time": "2024-04-26T10:44:44.293Z"
   },
   {
    "duration": 1057,
    "start_time": "2024-04-26T10:44:52.993Z"
   },
   {
    "duration": 1259,
    "start_time": "2024-04-26T10:45:29.886Z"
   },
   {
    "duration": 159,
    "start_time": "2024-04-26T10:46:17.757Z"
   },
   {
    "duration": 9,
    "start_time": "2024-04-26T10:48:48.249Z"
   },
   {
    "duration": 181,
    "start_time": "2024-04-26T10:49:37.988Z"
   },
   {
    "duration": 184,
    "start_time": "2024-04-26T10:50:01.710Z"
   },
   {
    "duration": 194,
    "start_time": "2024-04-26T10:50:21.510Z"
   },
   {
    "duration": 202,
    "start_time": "2024-04-26T10:50:26.305Z"
   },
   {
    "duration": 1119,
    "start_time": "2024-04-26T10:54:28.146Z"
   },
   {
    "duration": 10,
    "start_time": "2024-04-26T10:54:56.553Z"
   },
   {
    "duration": 209,
    "start_time": "2024-04-26T10:55:36.084Z"
   },
   {
    "duration": 201,
    "start_time": "2024-04-26T10:56:00.824Z"
   },
   {
    "duration": 200,
    "start_time": "2024-04-26T10:56:19.295Z"
   },
   {
    "duration": 265,
    "start_time": "2024-04-26T10:56:29.504Z"
   },
   {
    "duration": 10,
    "start_time": "2024-04-26T11:01:11.910Z"
   },
   {
    "duration": 270,
    "start_time": "2024-04-26T11:01:49.473Z"
   },
   {
    "duration": 469,
    "start_time": "2024-04-26T11:02:00.522Z"
   },
   {
    "duration": 271,
    "start_time": "2024-04-26T11:02:08.853Z"
   },
   {
    "duration": 270,
    "start_time": "2024-04-26T11:02:26.836Z"
   },
   {
    "duration": 276,
    "start_time": "2024-04-26T11:02:36.600Z"
   },
   {
    "duration": 13,
    "start_time": "2024-04-26T11:16:17.009Z"
   },
   {
    "duration": 272,
    "start_time": "2024-04-26T11:16:54.877Z"
   },
   {
    "duration": 260,
    "start_time": "2024-04-26T11:17:33.042Z"
   },
   {
    "duration": 4,
    "start_time": "2024-04-26T11:18:33.958Z"
   },
   {
    "duration": 262,
    "start_time": "2024-04-26T11:19:36.042Z"
   },
   {
    "duration": 5,
    "start_time": "2024-04-26T11:36:37.128Z"
   },
   {
    "duration": 73,
    "start_time": "2024-04-26T11:36:50.599Z"
   },
   {
    "duration": 18,
    "start_time": "2024-04-26T11:37:01.213Z"
   },
   {
    "duration": 20,
    "start_time": "2024-04-26T11:37:11.530Z"
   },
   {
    "duration": 333,
    "start_time": "2024-04-26T11:38:52.580Z"
   },
   {
    "duration": 13,
    "start_time": "2024-04-26T11:39:49.495Z"
   },
   {
    "duration": 82,
    "start_time": "2024-04-26T11:40:05.078Z"
   },
   {
    "duration": 17,
    "start_time": "2024-04-26T11:40:12.756Z"
   },
   {
    "duration": 15,
    "start_time": "2024-04-26T11:40:39.865Z"
   },
   {
    "duration": 148,
    "start_time": "2024-04-26T11:42:22.171Z"
   },
   {
    "duration": 130,
    "start_time": "2024-04-26T11:44:12.219Z"
   },
   {
    "duration": 588,
    "start_time": "2024-04-27T06:55:16.834Z"
   },
   {
    "duration": 30,
    "start_time": "2024-04-27T06:55:17.424Z"
   },
   {
    "duration": 19,
    "start_time": "2024-04-27T06:55:17.455Z"
   },
   {
    "duration": 19,
    "start_time": "2024-04-27T06:55:17.499Z"
   },
   {
    "duration": 2021,
    "start_time": "2024-04-27T06:55:17.564Z"
   },
   {
    "duration": 9,
    "start_time": "2024-04-27T06:55:19.587Z"
   },
   {
    "duration": 21,
    "start_time": "2024-04-27T06:55:19.597Z"
   },
   {
    "duration": 5,
    "start_time": "2024-04-27T06:55:19.619Z"
   },
   {
    "duration": 13,
    "start_time": "2024-04-27T06:55:19.625Z"
   },
   {
    "duration": 13,
    "start_time": "2024-04-27T06:55:19.640Z"
   },
   {
    "duration": 8,
    "start_time": "2024-04-27T06:55:19.654Z"
   },
   {
    "duration": 4,
    "start_time": "2024-04-27T06:55:19.663Z"
   },
   {
    "duration": 3,
    "start_time": "2024-04-27T06:55:19.668Z"
   },
   {
    "duration": 15,
    "start_time": "2024-04-27T06:55:19.673Z"
   },
   {
    "duration": 12,
    "start_time": "2024-04-27T06:55:19.689Z"
   },
   {
    "duration": 228,
    "start_time": "2024-04-27T06:55:19.702Z"
   },
   {
    "duration": 21,
    "start_time": "2024-04-27T06:55:19.931Z"
   },
   {
    "duration": 15,
    "start_time": "2024-04-27T06:55:19.953Z"
   },
   {
    "duration": 3,
    "start_time": "2024-04-27T06:55:19.969Z"
   },
   {
    "duration": 4,
    "start_time": "2024-04-27T06:55:19.973Z"
   },
   {
    "duration": 12,
    "start_time": "2024-04-27T06:55:19.978Z"
   },
   {
    "duration": 3,
    "start_time": "2024-04-27T06:55:19.991Z"
   },
   {
    "duration": 29,
    "start_time": "2024-04-27T06:55:19.995Z"
   },
   {
    "duration": 8,
    "start_time": "2024-04-27T06:55:20.025Z"
   },
   {
    "duration": 39,
    "start_time": "2024-04-27T06:55:20.035Z"
   },
   {
    "duration": 20,
    "start_time": "2024-04-27T06:55:20.076Z"
   },
   {
    "duration": 12,
    "start_time": "2024-04-27T06:55:20.098Z"
   },
   {
    "duration": 9,
    "start_time": "2024-04-27T06:55:20.112Z"
   },
   {
    "duration": 51,
    "start_time": "2024-04-27T06:55:20.122Z"
   },
   {
    "duration": 12,
    "start_time": "2024-04-27T06:55:20.175Z"
   },
   {
    "duration": 5,
    "start_time": "2024-04-27T06:55:20.188Z"
   },
   {
    "duration": 4,
    "start_time": "2024-04-27T06:55:20.197Z"
   },
   {
    "duration": 4,
    "start_time": "2024-04-27T06:55:20.202Z"
   },
   {
    "duration": 5,
    "start_time": "2024-04-27T06:55:20.207Z"
   },
   {
    "duration": 323,
    "start_time": "2024-04-27T06:55:20.213Z"
   },
   {
    "duration": 3,
    "start_time": "2024-04-27T06:55:20.538Z"
   },
   {
    "duration": 23,
    "start_time": "2024-04-27T06:55:20.542Z"
   },
   {
    "duration": 2,
    "start_time": "2024-04-27T06:55:20.567Z"
   },
   {
    "duration": 23,
    "start_time": "2024-04-27T06:55:20.570Z"
   },
   {
    "duration": 216,
    "start_time": "2024-04-27T06:55:20.594Z"
   },
   {
    "duration": 7,
    "start_time": "2024-04-27T06:55:20.812Z"
   },
   {
    "duration": 264,
    "start_time": "2024-04-27T06:55:20.820Z"
   },
   {
    "duration": 7,
    "start_time": "2024-04-27T06:55:21.085Z"
   },
   {
    "duration": 218,
    "start_time": "2024-04-27T06:55:21.094Z"
   },
   {
    "duration": 8,
    "start_time": "2024-04-27T06:55:21.313Z"
   },
   {
    "duration": 221,
    "start_time": "2024-04-27T06:55:21.322Z"
   },
   {
    "duration": 7,
    "start_time": "2024-04-27T06:55:21.544Z"
   },
   {
    "duration": 157,
    "start_time": "2024-04-27T06:55:21.553Z"
   },
   {
    "duration": 7,
    "start_time": "2024-04-27T06:55:21.711Z"
   },
   {
    "duration": 10,
    "start_time": "2024-04-27T06:55:21.720Z"
   },
   {
    "duration": 44,
    "start_time": "2024-04-27T06:55:21.732Z"
   },
   {
    "duration": 158,
    "start_time": "2024-04-27T06:55:21.778Z"
   },
   {
    "duration": 137,
    "start_time": "2024-04-27T06:55:21.938Z"
   },
   {
    "duration": 11,
    "start_time": "2024-04-27T06:55:22.076Z"
   },
   {
    "duration": 169,
    "start_time": "2024-04-27T06:55:22.088Z"
   },
   {
    "duration": 7,
    "start_time": "2024-04-27T06:55:22.260Z"
   },
   {
    "duration": 280,
    "start_time": "2024-04-27T06:55:22.268Z"
   },
   {
    "duration": 8,
    "start_time": "2024-04-27T06:55:22.550Z"
   },
   {
    "duration": 233,
    "start_time": "2024-04-27T06:55:22.559Z"
   },
   {
    "duration": 7,
    "start_time": "2024-04-27T06:55:22.794Z"
   },
   {
    "duration": 204,
    "start_time": "2024-04-27T06:55:22.802Z"
   },
   {
    "duration": 78,
    "start_time": "2024-04-27T06:55:23.007Z"
   },
   {
    "duration": 0,
    "start_time": "2024-04-27T06:55:23.086Z"
   },
   {
    "duration": 5,
    "start_time": "2024-04-27T06:56:35.310Z"
   },
   {
    "duration": 8,
    "start_time": "2024-04-27T06:57:54.205Z"
   },
   {
    "duration": 10,
    "start_time": "2024-04-27T06:58:34.140Z"
   },
   {
    "duration": 7,
    "start_time": "2024-04-27T07:00:53.108Z"
   },
   {
    "duration": 666,
    "start_time": "2024-04-27T07:01:59.344Z"
   },
   {
    "duration": 88,
    "start_time": "2024-04-27T07:02:06.133Z"
   },
   {
    "duration": 6,
    "start_time": "2024-04-27T07:02:42.890Z"
   },
   {
    "duration": 85,
    "start_time": "2024-04-27T07:02:47.577Z"
   },
   {
    "duration": 272,
    "start_time": "2024-04-27T07:04:05.247Z"
   },
   {
    "duration": 80,
    "start_time": "2024-04-27T07:04:24.585Z"
   },
   {
    "duration": 84,
    "start_time": "2024-04-27T07:04:28.629Z"
   },
   {
    "duration": 93,
    "start_time": "2024-04-27T07:04:44.137Z"
   },
   {
    "duration": 7,
    "start_time": "2024-04-27T07:04:57.747Z"
   },
   {
    "duration": 87,
    "start_time": "2024-04-27T07:05:04.373Z"
   },
   {
    "duration": 100,
    "start_time": "2024-04-27T07:05:28.187Z"
   },
   {
    "duration": 13,
    "start_time": "2024-04-27T07:05:52.858Z"
   },
   {
    "duration": 442,
    "start_time": "2024-04-27T07:06:08.261Z"
   },
   {
    "duration": 156,
    "start_time": "2024-04-27T07:06:20.932Z"
   },
   {
    "duration": 86,
    "start_time": "2024-04-27T07:10:47.832Z"
   },
   {
    "duration": 10,
    "start_time": "2024-04-27T07:12:07.593Z"
   },
   {
    "duration": 143,
    "start_time": "2024-04-27T07:12:12.315Z"
   },
   {
    "duration": 207,
    "start_time": "2024-04-27T07:12:16.199Z"
   },
   {
    "duration": 82,
    "start_time": "2024-04-27T07:12:36.841Z"
   },
   {
    "duration": 24,
    "start_time": "2024-04-27T07:12:37.383Z"
   },
   {
    "duration": 13,
    "start_time": "2024-04-27T07:12:37.447Z"
   },
   {
    "duration": 19,
    "start_time": "2024-04-27T07:12:37.510Z"
   },
   {
    "duration": 1589,
    "start_time": "2024-04-27T07:12:37.572Z"
   },
   {
    "duration": 8,
    "start_time": "2024-04-27T07:12:39.163Z"
   },
   {
    "duration": 14,
    "start_time": "2024-04-27T07:12:39.172Z"
   },
   {
    "duration": 5,
    "start_time": "2024-04-27T07:12:39.188Z"
   },
   {
    "duration": 4,
    "start_time": "2024-04-27T07:12:39.194Z"
   },
   {
    "duration": 7,
    "start_time": "2024-04-27T07:12:39.199Z"
   },
   {
    "duration": 8,
    "start_time": "2024-04-27T07:12:39.207Z"
   },
   {
    "duration": 7,
    "start_time": "2024-04-27T07:12:39.216Z"
   },
   {
    "duration": 4,
    "start_time": "2024-04-27T07:12:39.224Z"
   },
   {
    "duration": 15,
    "start_time": "2024-04-27T07:12:39.230Z"
   },
   {
    "duration": 37,
    "start_time": "2024-04-27T07:12:39.247Z"
   },
   {
    "duration": 308,
    "start_time": "2024-04-27T07:12:39.285Z"
   },
   {
    "duration": 23,
    "start_time": "2024-04-27T07:12:39.594Z"
   },
   {
    "duration": 4,
    "start_time": "2024-04-27T07:12:39.618Z"
   },
   {
    "duration": 38,
    "start_time": "2024-04-27T07:12:39.624Z"
   },
   {
    "duration": 8,
    "start_time": "2024-04-27T07:12:39.664Z"
   },
   {
    "duration": 41,
    "start_time": "2024-04-27T07:12:39.673Z"
   },
   {
    "duration": 10,
    "start_time": "2024-04-27T07:12:39.715Z"
   },
   {
    "duration": 13,
    "start_time": "2024-04-27T07:12:39.727Z"
   },
   {
    "duration": 23,
    "start_time": "2024-04-27T07:12:39.741Z"
   },
   {
    "duration": 6,
    "start_time": "2024-04-27T07:12:39.765Z"
   },
   {
    "duration": 20,
    "start_time": "2024-04-27T07:12:39.773Z"
   },
   {
    "duration": 11,
    "start_time": "2024-04-27T07:12:39.794Z"
   },
   {
    "duration": 14,
    "start_time": "2024-04-27T07:12:39.806Z"
   },
   {
    "duration": 31,
    "start_time": "2024-04-27T07:12:39.821Z"
   },
   {
    "duration": 12,
    "start_time": "2024-04-27T07:12:39.854Z"
   },
   {
    "duration": 4,
    "start_time": "2024-04-27T07:12:39.867Z"
   },
   {
    "duration": 15,
    "start_time": "2024-04-27T07:12:39.874Z"
   },
   {
    "duration": 7,
    "start_time": "2024-04-27T07:12:39.890Z"
   },
   {
    "duration": 22,
    "start_time": "2024-04-27T07:12:39.899Z"
   },
   {
    "duration": 307,
    "start_time": "2024-04-27T07:12:39.922Z"
   },
   {
    "duration": 4,
    "start_time": "2024-04-27T07:12:40.230Z"
   },
   {
    "duration": 25,
    "start_time": "2024-04-27T07:12:40.235Z"
   },
   {
    "duration": 2,
    "start_time": "2024-04-27T07:12:40.261Z"
   },
   {
    "duration": 20,
    "start_time": "2024-04-27T07:12:40.265Z"
   },
   {
    "duration": 200,
    "start_time": "2024-04-27T07:12:40.286Z"
   },
   {
    "duration": 7,
    "start_time": "2024-04-27T07:12:40.488Z"
   },
   {
    "duration": 210,
    "start_time": "2024-04-27T07:12:40.496Z"
   },
   {
    "duration": 9,
    "start_time": "2024-04-27T07:12:40.707Z"
   },
   {
    "duration": 218,
    "start_time": "2024-04-27T07:12:40.717Z"
   },
   {
    "duration": 7,
    "start_time": "2024-04-27T07:12:40.936Z"
   },
   {
    "duration": 219,
    "start_time": "2024-04-27T07:12:40.944Z"
   },
   {
    "duration": 8,
    "start_time": "2024-04-27T07:12:41.164Z"
   },
   {
    "duration": 240,
    "start_time": "2024-04-27T07:12:41.174Z"
   },
   {
    "duration": 7,
    "start_time": "2024-04-27T07:12:41.415Z"
   },
   {
    "duration": 4,
    "start_time": "2024-04-27T07:12:41.423Z"
   },
   {
    "duration": 14,
    "start_time": "2024-04-27T07:12:41.430Z"
   },
   {
    "duration": 158,
    "start_time": "2024-04-27T07:12:41.446Z"
   },
   {
    "duration": 127,
    "start_time": "2024-04-27T07:12:41.606Z"
   },
   {
    "duration": 7,
    "start_time": "2024-04-27T07:12:41.734Z"
   },
   {
    "duration": 164,
    "start_time": "2024-04-27T07:12:41.743Z"
   },
   {
    "duration": 9,
    "start_time": "2024-04-27T07:12:41.908Z"
   },
   {
    "duration": 209,
    "start_time": "2024-04-27T07:12:41.918Z"
   },
   {
    "duration": 10,
    "start_time": "2024-04-27T07:12:42.128Z"
   },
   {
    "duration": 247,
    "start_time": "2024-04-27T07:12:42.140Z"
   },
   {
    "duration": 8,
    "start_time": "2024-04-27T07:12:42.388Z"
   },
   {
    "duration": 214,
    "start_time": "2024-04-27T07:12:42.397Z"
   },
   {
    "duration": 10,
    "start_time": "2024-04-27T07:12:42.612Z"
   },
   {
    "duration": 108,
    "start_time": "2024-04-27T07:12:42.623Z"
   },
   {
    "duration": 5,
    "start_time": "2024-04-27T07:12:42.732Z"
   },
   {
    "duration": 119,
    "start_time": "2024-04-27T07:12:42.739Z"
   },
   {
    "duration": 98,
    "start_time": "2024-04-27T07:13:12.538Z"
   },
   {
    "duration": 206,
    "start_time": "2024-04-27T07:13:32.247Z"
   },
   {
    "duration": 96,
    "start_time": "2024-04-27T07:13:44.608Z"
   },
   {
    "duration": 89,
    "start_time": "2024-04-27T07:13:50.434Z"
   },
   {
    "duration": 83,
    "start_time": "2024-04-27T07:13:55.027Z"
   },
   {
    "duration": 84,
    "start_time": "2024-04-27T07:13:59.423Z"
   },
   {
    "duration": 88,
    "start_time": "2024-04-27T07:14:02.255Z"
   },
   {
    "duration": 83,
    "start_time": "2024-04-27T07:14:05.984Z"
   },
   {
    "duration": 84,
    "start_time": "2024-04-27T07:14:08.864Z"
   },
   {
    "duration": 92,
    "start_time": "2024-04-27T07:14:14.242Z"
   },
   {
    "duration": 93,
    "start_time": "2024-04-27T07:14:24.023Z"
   },
   {
    "duration": 92,
    "start_time": "2024-04-27T07:14:29.228Z"
   },
   {
    "duration": 88,
    "start_time": "2024-04-27T07:14:33.725Z"
   },
   {
    "duration": 102,
    "start_time": "2024-04-27T07:14:46.448Z"
   },
   {
    "duration": 87,
    "start_time": "2024-04-27T07:15:05.394Z"
   },
   {
    "duration": 103,
    "start_time": "2024-04-27T07:15:14.354Z"
   },
   {
    "duration": 133,
    "start_time": "2024-04-27T07:15:26.766Z"
   },
   {
    "duration": 97,
    "start_time": "2024-04-27T07:16:56.631Z"
   },
   {
    "duration": 7,
    "start_time": "2024-04-27T07:18:47.279Z"
   },
   {
    "duration": 7,
    "start_time": "2024-04-27T07:33:20.158Z"
   },
   {
    "duration": 137,
    "start_time": "2024-04-27T07:33:24.940Z"
   },
   {
    "duration": 4,
    "start_time": "2024-04-27T07:33:54.386Z"
   },
   {
    "duration": 95,
    "start_time": "2024-04-27T07:36:46.790Z"
   },
   {
    "duration": 87,
    "start_time": "2024-04-27T07:37:45.881Z"
   },
   {
    "duration": 145,
    "start_time": "2024-04-27T07:37:48.384Z"
   },
   {
    "duration": 13,
    "start_time": "2024-04-27T07:38:40.363Z"
   },
   {
    "duration": 201,
    "start_time": "2024-04-27T07:49:07.104Z"
   },
   {
    "duration": 88,
    "start_time": "2024-04-27T07:49:19.088Z"
   },
   {
    "duration": 76,
    "start_time": "2024-04-27T07:49:26.561Z"
   },
   {
    "duration": 9,
    "start_time": "2024-04-27T07:49:48.911Z"
   },
   {
    "duration": 212,
    "start_time": "2024-04-27T07:50:02.668Z"
   },
   {
    "duration": 1147,
    "start_time": "2024-04-27T07:50:47.350Z"
   },
   {
    "duration": 63,
    "start_time": "2024-04-27T07:52:36.731Z"
   },
   {
    "duration": 74,
    "start_time": "2024-04-27T07:52:51.982Z"
   },
   {
    "duration": 143,
    "start_time": "2024-04-27T07:53:01.069Z"
   },
   {
    "duration": 162,
    "start_time": "2024-04-27T07:53:12.061Z"
   },
   {
    "duration": 146,
    "start_time": "2024-04-27T07:53:25.646Z"
   },
   {
    "duration": 81,
    "start_time": "2024-04-27T07:53:38.206Z"
   },
   {
    "duration": 28,
    "start_time": "2024-04-27T07:53:38.751Z"
   },
   {
    "duration": 11,
    "start_time": "2024-04-27T07:53:38.812Z"
   },
   {
    "duration": 19,
    "start_time": "2024-04-27T07:53:38.885Z"
   },
   {
    "duration": 1703,
    "start_time": "2024-04-27T07:53:38.937Z"
   },
   {
    "duration": 9,
    "start_time": "2024-04-27T07:53:40.642Z"
   },
   {
    "duration": 6,
    "start_time": "2024-04-27T07:53:40.652Z"
   },
   {
    "duration": 37,
    "start_time": "2024-04-27T07:53:40.660Z"
   },
   {
    "duration": 19,
    "start_time": "2024-04-27T07:53:40.698Z"
   },
   {
    "duration": 7,
    "start_time": "2024-04-27T07:53:40.718Z"
   },
   {
    "duration": 10,
    "start_time": "2024-04-27T07:53:40.727Z"
   },
   {
    "duration": 4,
    "start_time": "2024-04-27T07:53:40.738Z"
   },
   {
    "duration": 4,
    "start_time": "2024-04-27T07:53:40.743Z"
   },
   {
    "duration": 18,
    "start_time": "2024-04-27T07:53:40.749Z"
   },
   {
    "duration": 21,
    "start_time": "2024-04-27T07:53:40.769Z"
   },
   {
    "duration": 249,
    "start_time": "2024-04-27T07:53:40.792Z"
   },
   {
    "duration": 23,
    "start_time": "2024-04-27T07:53:41.042Z"
   },
   {
    "duration": 4,
    "start_time": "2024-04-27T07:53:41.066Z"
   },
   {
    "duration": 15,
    "start_time": "2024-04-27T07:53:41.071Z"
   },
   {
    "duration": 6,
    "start_time": "2024-04-27T07:53:41.087Z"
   },
   {
    "duration": 10,
    "start_time": "2024-04-27T07:53:41.094Z"
   },
   {
    "duration": 7,
    "start_time": "2024-04-27T07:53:41.105Z"
   },
   {
    "duration": 13,
    "start_time": "2024-04-27T07:53:41.113Z"
   },
   {
    "duration": 6,
    "start_time": "2024-04-27T07:53:41.127Z"
   },
   {
    "duration": 4,
    "start_time": "2024-04-27T07:53:41.134Z"
   },
   {
    "duration": 11,
    "start_time": "2024-04-27T07:53:41.139Z"
   },
   {
    "duration": 3,
    "start_time": "2024-04-27T07:53:41.151Z"
   },
   {
    "duration": 5,
    "start_time": "2024-04-27T07:53:41.156Z"
   },
   {
    "duration": 35,
    "start_time": "2024-04-27T07:53:41.162Z"
   },
   {
    "duration": 12,
    "start_time": "2024-04-27T07:53:41.198Z"
   },
   {
    "duration": 3,
    "start_time": "2024-04-27T07:53:41.212Z"
   },
   {
    "duration": 5,
    "start_time": "2024-04-27T07:53:41.218Z"
   },
   {
    "duration": 5,
    "start_time": "2024-04-27T07:53:41.224Z"
   },
   {
    "duration": 4,
    "start_time": "2024-04-27T07:53:41.230Z"
   },
   {
    "duration": 321,
    "start_time": "2024-04-27T07:53:41.236Z"
   },
   {
    "duration": 3,
    "start_time": "2024-04-27T07:53:41.559Z"
   },
   {
    "duration": 27,
    "start_time": "2024-04-27T07:53:41.563Z"
   },
   {
    "duration": 2,
    "start_time": "2024-04-27T07:53:41.591Z"
   },
   {
    "duration": 7,
    "start_time": "2024-04-27T07:53:41.595Z"
   },
   {
    "duration": 213,
    "start_time": "2024-04-27T07:53:41.603Z"
   },
   {
    "duration": 7,
    "start_time": "2024-04-27T07:53:41.817Z"
   },
   {
    "duration": 211,
    "start_time": "2024-04-27T07:53:41.825Z"
   },
   {
    "duration": 8,
    "start_time": "2024-04-27T07:53:42.037Z"
   },
   {
    "duration": 248,
    "start_time": "2024-04-27T07:53:42.046Z"
   },
   {
    "duration": 8,
    "start_time": "2024-04-27T07:53:42.295Z"
   },
   {
    "duration": 236,
    "start_time": "2024-04-27T07:53:42.304Z"
   },
   {
    "duration": 7,
    "start_time": "2024-04-27T07:53:42.542Z"
   },
   {
    "duration": 295,
    "start_time": "2024-04-27T07:53:42.551Z"
   },
   {
    "duration": 7,
    "start_time": "2024-04-27T07:53:42.849Z"
   },
   {
    "duration": 4,
    "start_time": "2024-04-27T07:53:42.857Z"
   },
   {
    "duration": 23,
    "start_time": "2024-04-27T07:53:42.862Z"
   },
   {
    "duration": 158,
    "start_time": "2024-04-27T07:53:42.886Z"
   },
   {
    "duration": 133,
    "start_time": "2024-04-27T07:53:43.046Z"
   },
   {
    "duration": 7,
    "start_time": "2024-04-27T07:53:43.184Z"
   },
   {
    "duration": 194,
    "start_time": "2024-04-27T07:53:43.192Z"
   },
   {
    "duration": 7,
    "start_time": "2024-04-27T07:53:43.388Z"
   },
   {
    "duration": 200,
    "start_time": "2024-04-27T07:53:43.396Z"
   },
   {
    "duration": 8,
    "start_time": "2024-04-27T07:53:43.597Z"
   },
   {
    "duration": 215,
    "start_time": "2024-04-27T07:53:43.606Z"
   },
   {
    "duration": 7,
    "start_time": "2024-04-27T07:53:43.823Z"
   },
   {
    "duration": 205,
    "start_time": "2024-04-27T07:53:43.832Z"
   },
   {
    "duration": 4,
    "start_time": "2024-04-27T07:53:44.038Z"
   },
   {
    "duration": 101,
    "start_time": "2024-04-27T07:53:44.043Z"
   },
   {
    "duration": 104,
    "start_time": "2024-04-27T07:53:44.146Z"
   },
   {
    "duration": 158,
    "start_time": "2024-04-27T07:53:44.252Z"
   },
   {
    "duration": 140,
    "start_time": "2024-04-27T07:53:58.663Z"
   },
   {
    "duration": 135,
    "start_time": "2024-04-27T07:54:41.137Z"
   },
   {
    "duration": 100,
    "start_time": "2024-04-27T07:54:51.070Z"
   },
   {
    "duration": 141,
    "start_time": "2024-04-27T07:54:56.059Z"
   },
   {
    "duration": 127,
    "start_time": "2024-04-27T07:55:10.165Z"
   },
   {
    "duration": 5,
    "start_time": "2024-04-27T08:05:58.652Z"
   },
   {
    "duration": 102,
    "start_time": "2024-04-27T08:06:14.123Z"
   },
   {
    "duration": 254,
    "start_time": "2024-04-27T08:06:55.182Z"
   },
   {
    "duration": 103,
    "start_time": "2024-04-27T08:07:07.797Z"
   },
   {
    "duration": 120,
    "start_time": "2024-04-27T08:07:15.066Z"
   },
   {
    "duration": 124,
    "start_time": "2024-04-27T08:07:19.463Z"
   },
   {
    "duration": 108,
    "start_time": "2024-04-27T08:07:24.412Z"
   },
   {
    "duration": 104,
    "start_time": "2024-04-27T08:07:29.572Z"
   },
   {
    "duration": 111,
    "start_time": "2024-04-27T08:07:40.143Z"
   },
   {
    "duration": 100,
    "start_time": "2024-04-27T08:07:49.597Z"
   },
   {
    "duration": 100,
    "start_time": "2024-04-27T08:07:53.823Z"
   },
   {
    "duration": 94,
    "start_time": "2024-04-27T08:09:12.921Z"
   },
   {
    "duration": 132,
    "start_time": "2024-04-27T08:09:38.977Z"
   },
   {
    "duration": 2,
    "start_time": "2024-04-27T08:14:38.984Z"
   },
   {
    "duration": 5,
    "start_time": "2024-04-27T08:15:01.493Z"
   },
   {
    "duration": 84,
    "start_time": "2024-04-27T08:18:51.933Z"
   },
   {
    "duration": 3,
    "start_time": "2024-04-27T08:23:30.725Z"
   },
   {
    "duration": 6,
    "start_time": "2024-04-27T08:23:57.416Z"
   },
   {
    "duration": 9,
    "start_time": "2024-04-27T08:24:03.323Z"
   },
   {
    "duration": 104,
    "start_time": "2024-04-27T08:25:54.687Z"
   },
   {
    "duration": 103,
    "start_time": "2024-04-27T08:26:02.145Z"
   },
   {
    "duration": 108,
    "start_time": "2024-04-27T08:26:06.581Z"
   },
   {
    "duration": 99,
    "start_time": "2024-04-27T08:26:12.610Z"
   },
   {
    "duration": 125,
    "start_time": "2024-04-27T08:26:49.358Z"
   },
   {
    "duration": 5,
    "start_time": "2024-04-27T08:34:40.157Z"
   },
   {
    "duration": 94,
    "start_time": "2024-04-27T08:35:52.213Z"
   },
   {
    "duration": 88,
    "start_time": "2024-04-27T08:36:22.779Z"
   },
   {
    "duration": 87,
    "start_time": "2024-04-27T08:36:27.660Z"
   },
   {
    "duration": 116,
    "start_time": "2024-04-27T08:37:23.318Z"
   },
   {
    "duration": 119,
    "start_time": "2024-04-27T08:37:59.470Z"
   },
   {
    "duration": 390,
    "start_time": "2024-04-27T08:43:57.942Z"
   },
   {
    "duration": 339,
    "start_time": "2024-04-27T08:45:02.491Z"
   },
   {
    "duration": 110,
    "start_time": "2024-04-27T08:45:06.279Z"
   },
   {
    "duration": 84,
    "start_time": "2024-04-27T08:45:56.626Z"
   },
   {
    "duration": 22,
    "start_time": "2024-04-27T08:45:57.185Z"
   },
   {
    "duration": 11,
    "start_time": "2024-04-27T08:45:57.240Z"
   },
   {
    "duration": 18,
    "start_time": "2024-04-27T08:45:57.297Z"
   },
   {
    "duration": 1612,
    "start_time": "2024-04-27T08:45:57.358Z"
   },
   {
    "duration": 16,
    "start_time": "2024-04-27T08:45:58.971Z"
   },
   {
    "duration": 3,
    "start_time": "2024-04-27T08:45:58.988Z"
   },
   {
    "duration": 4,
    "start_time": "2024-04-27T08:45:58.993Z"
   },
   {
    "duration": 3,
    "start_time": "2024-04-27T08:45:58.998Z"
   },
   {
    "duration": 5,
    "start_time": "2024-04-27T08:45:59.002Z"
   },
   {
    "duration": 4,
    "start_time": "2024-04-27T08:45:59.008Z"
   },
   {
    "duration": 3,
    "start_time": "2024-04-27T08:45:59.013Z"
   },
   {
    "duration": 6,
    "start_time": "2024-04-27T08:45:59.018Z"
   },
   {
    "duration": 20,
    "start_time": "2024-04-27T08:45:59.027Z"
   },
   {
    "duration": 10,
    "start_time": "2024-04-27T08:45:59.048Z"
   },
   {
    "duration": 239,
    "start_time": "2024-04-27T08:45:59.059Z"
   },
   {
    "duration": 22,
    "start_time": "2024-04-27T08:45:59.299Z"
   },
   {
    "duration": 4,
    "start_time": "2024-04-27T08:45:59.322Z"
   },
   {
    "duration": 13,
    "start_time": "2024-04-27T08:45:59.327Z"
   },
   {
    "duration": 5,
    "start_time": "2024-04-27T08:45:59.342Z"
   },
   {
    "duration": 16,
    "start_time": "2024-04-27T08:45:59.348Z"
   },
   {
    "duration": 3,
    "start_time": "2024-04-27T08:45:59.365Z"
   },
   {
    "duration": 8,
    "start_time": "2024-04-27T08:45:59.369Z"
   },
   {
    "duration": 34,
    "start_time": "2024-04-27T08:45:59.379Z"
   },
   {
    "duration": 8,
    "start_time": "2024-04-27T08:45:59.414Z"
   },
   {
    "duration": 31,
    "start_time": "2024-04-27T08:45:59.424Z"
   },
   {
    "duration": 12,
    "start_time": "2024-04-27T08:45:59.457Z"
   },
   {
    "duration": 11,
    "start_time": "2024-04-27T08:45:59.471Z"
   },
   {
    "duration": 25,
    "start_time": "2024-04-27T08:45:59.483Z"
   },
   {
    "duration": 19,
    "start_time": "2024-04-27T08:45:59.509Z"
   },
   {
    "duration": 4,
    "start_time": "2024-04-27T08:45:59.529Z"
   },
   {
    "duration": 10,
    "start_time": "2024-04-27T08:45:59.536Z"
   },
   {
    "duration": 15,
    "start_time": "2024-04-27T08:45:59.547Z"
   },
   {
    "duration": 11,
    "start_time": "2024-04-27T08:45:59.563Z"
   },
   {
    "duration": 280,
    "start_time": "2024-04-27T08:45:59.576Z"
   },
   {
    "duration": 3,
    "start_time": "2024-04-27T08:45:59.858Z"
   },
   {
    "duration": 24,
    "start_time": "2024-04-27T08:45:59.862Z"
   },
   {
    "duration": 2,
    "start_time": "2024-04-27T08:45:59.888Z"
   },
   {
    "duration": 10,
    "start_time": "2024-04-27T08:45:59.891Z"
   },
   {
    "duration": 201,
    "start_time": "2024-04-27T08:45:59.902Z"
   },
   {
    "duration": 7,
    "start_time": "2024-04-27T08:46:00.104Z"
   },
   {
    "duration": 219,
    "start_time": "2024-04-27T08:46:00.113Z"
   },
   {
    "duration": 7,
    "start_time": "2024-04-27T08:46:00.334Z"
   },
   {
    "duration": 372,
    "start_time": "2024-04-27T08:46:00.342Z"
   },
   {
    "duration": 7,
    "start_time": "2024-04-27T08:46:00.716Z"
   },
   {
    "duration": 239,
    "start_time": "2024-04-27T08:46:00.724Z"
   },
   {
    "duration": 7,
    "start_time": "2024-04-27T08:46:00.964Z"
   },
   {
    "duration": 192,
    "start_time": "2024-04-27T08:46:00.984Z"
   },
   {
    "duration": 12,
    "start_time": "2024-04-27T08:46:01.177Z"
   },
   {
    "duration": 19,
    "start_time": "2024-04-27T08:46:01.191Z"
   },
   {
    "duration": 38,
    "start_time": "2024-04-27T08:46:01.211Z"
   },
   {
    "duration": 170,
    "start_time": "2024-04-27T08:46:01.251Z"
   },
   {
    "duration": 130,
    "start_time": "2024-04-27T08:46:01.422Z"
   },
   {
    "duration": 7,
    "start_time": "2024-04-27T08:46:01.554Z"
   },
   {
    "duration": 181,
    "start_time": "2024-04-27T08:46:01.563Z"
   },
   {
    "duration": 9,
    "start_time": "2024-04-27T08:46:01.746Z"
   },
   {
    "duration": 298,
    "start_time": "2024-04-27T08:46:01.756Z"
   },
   {
    "duration": 8,
    "start_time": "2024-04-27T08:46:02.055Z"
   },
   {
    "duration": 268,
    "start_time": "2024-04-27T08:46:02.065Z"
   },
   {
    "duration": 8,
    "start_time": "2024-04-27T08:46:02.334Z"
   },
   {
    "duration": 207,
    "start_time": "2024-04-27T08:46:02.343Z"
   },
   {
    "duration": 5,
    "start_time": "2024-04-27T08:46:02.551Z"
   },
   {
    "duration": 111,
    "start_time": "2024-04-27T08:46:02.557Z"
   },
   {
    "duration": 120,
    "start_time": "2024-04-27T08:46:02.669Z"
   },
   {
    "duration": 137,
    "start_time": "2024-04-27T08:46:02.790Z"
   },
   {
    "duration": 4,
    "start_time": "2024-04-27T08:46:02.929Z"
   },
   {
    "duration": 105,
    "start_time": "2024-04-27T08:46:02.934Z"
   },
   {
    "duration": 98,
    "start_time": "2024-04-27T08:46:03.040Z"
   },
   {
    "duration": 279,
    "start_time": "2024-04-27T08:46:03.140Z"
   },
   {
    "duration": 4,
    "start_time": "2024-04-27T08:46:03.420Z"
   },
   {
    "duration": 97,
    "start_time": "2024-04-27T08:46:03.425Z"
   },
   {
    "duration": 101,
    "start_time": "2024-04-27T08:46:03.525Z"
   },
   {
    "duration": 130,
    "start_time": "2024-04-27T08:46:03.627Z"
   },
   {
    "duration": 4,
    "start_time": "2024-04-27T08:46:03.758Z"
   },
   {
    "duration": 110,
    "start_time": "2024-04-27T08:46:03.763Z"
   },
   {
    "duration": 94,
    "start_time": "2024-04-27T08:46:03.874Z"
   },
   {
    "duration": 130,
    "start_time": "2024-04-27T08:46:03.969Z"
   },
   {
    "duration": 125,
    "start_time": "2024-04-27T08:46:04.100Z"
   },
   {
    "duration": 245,
    "start_time": "2024-04-27T08:50:48.862Z"
   },
   {
    "duration": 208,
    "start_time": "2024-04-27T08:51:10.212Z"
   },
   {
    "duration": 153,
    "start_time": "2024-04-27T08:53:02.320Z"
   },
   {
    "duration": 123,
    "start_time": "2024-04-27T08:53:14.326Z"
   },
   {
    "duration": 128,
    "start_time": "2024-04-27T08:53:25.485Z"
   },
   {
    "duration": 117,
    "start_time": "2024-04-27T08:53:38.330Z"
   },
   {
    "duration": 124,
    "start_time": "2024-04-27T08:54:04.991Z"
   },
   {
    "duration": 125,
    "start_time": "2024-04-27T08:54:13.545Z"
   },
   {
    "duration": 129,
    "start_time": "2024-04-27T08:54:27.109Z"
   },
   {
    "duration": 113,
    "start_time": "2024-04-27T08:54:36.904Z"
   },
   {
    "duration": 115,
    "start_time": "2024-04-27T08:54:57.765Z"
   },
   {
    "duration": 125,
    "start_time": "2024-04-27T08:55:21.445Z"
   },
   {
    "duration": 135,
    "start_time": "2024-04-27T08:55:36.865Z"
   },
   {
    "duration": 136,
    "start_time": "2024-04-27T09:26:20.562Z"
   },
   {
    "duration": 26,
    "start_time": "2024-04-27T09:26:28.118Z"
   },
   {
    "duration": 9,
    "start_time": "2024-04-27T09:27:27.808Z"
   },
   {
    "duration": 10,
    "start_time": "2024-04-27T09:28:16.743Z"
   },
   {
    "duration": 13,
    "start_time": "2024-04-27T09:28:29.067Z"
   },
   {
    "duration": 13,
    "start_time": "2024-04-27T09:28:32.587Z"
   },
   {
    "duration": 13,
    "start_time": "2024-04-27T09:28:38.044Z"
   },
   {
    "duration": 14,
    "start_time": "2024-04-27T09:28:43.504Z"
   },
   {
    "duration": 16,
    "start_time": "2024-04-27T09:29:12.275Z"
   },
   {
    "duration": 13,
    "start_time": "2024-04-27T09:29:18.760Z"
   },
   {
    "duration": 14,
    "start_time": "2024-04-27T09:29:29.853Z"
   },
   {
    "duration": 10,
    "start_time": "2024-04-27T09:29:44.021Z"
   },
   {
    "duration": 11,
    "start_time": "2024-04-27T09:29:52.889Z"
   },
   {
    "duration": 16,
    "start_time": "2024-04-27T09:31:01.099Z"
   },
   {
    "duration": 12,
    "start_time": "2024-04-27T09:33:27.409Z"
   },
   {
    "duration": 1073,
    "start_time": "2024-04-27T09:34:46.705Z"
   },
   {
    "duration": 18,
    "start_time": "2024-04-27T09:35:13.493Z"
   },
   {
    "duration": 17,
    "start_time": "2024-04-27T09:35:25.949Z"
   },
   {
    "duration": 13,
    "start_time": "2024-04-27T09:35:29.258Z"
   },
   {
    "duration": 18,
    "start_time": "2024-04-27T09:35:30.090Z"
   },
   {
    "duration": 437,
    "start_time": "2024-04-27T09:37:02.709Z"
   },
   {
    "duration": 80,
    "start_time": "2024-04-27T09:37:11.929Z"
   },
   {
    "duration": 24,
    "start_time": "2024-04-27T09:37:12.465Z"
   },
   {
    "duration": 12,
    "start_time": "2024-04-27T09:37:12.531Z"
   },
   {
    "duration": 21,
    "start_time": "2024-04-27T09:37:12.590Z"
   },
   {
    "duration": 1637,
    "start_time": "2024-04-27T09:37:12.654Z"
   },
   {
    "duration": 7,
    "start_time": "2024-04-27T09:37:14.292Z"
   },
   {
    "duration": 10,
    "start_time": "2024-04-27T09:37:14.300Z"
   },
   {
    "duration": 6,
    "start_time": "2024-04-27T09:37:14.312Z"
   },
   {
    "duration": 5,
    "start_time": "2024-04-27T09:37:14.319Z"
   },
   {
    "duration": 6,
    "start_time": "2024-04-27T09:37:14.325Z"
   },
   {
    "duration": 4,
    "start_time": "2024-04-27T09:37:14.333Z"
   },
   {
    "duration": 5,
    "start_time": "2024-04-27T09:37:14.339Z"
   },
   {
    "duration": 17,
    "start_time": "2024-04-27T09:37:14.345Z"
   },
   {
    "duration": 16,
    "start_time": "2024-04-27T09:37:14.364Z"
   },
   {
    "duration": 10,
    "start_time": "2024-04-27T09:37:14.381Z"
   },
   {
    "duration": 223,
    "start_time": "2024-04-27T09:37:14.392Z"
   },
   {
    "duration": 19,
    "start_time": "2024-04-27T09:37:14.617Z"
   },
   {
    "duration": 4,
    "start_time": "2024-04-27T09:37:14.638Z"
   },
   {
    "duration": 5,
    "start_time": "2024-04-27T09:37:14.643Z"
   },
   {
    "duration": 5,
    "start_time": "2024-04-27T09:37:14.649Z"
   },
   {
    "duration": 8,
    "start_time": "2024-04-27T09:37:14.655Z"
   },
   {
    "duration": 2,
    "start_time": "2024-04-27T09:37:14.664Z"
   },
   {
    "duration": 18,
    "start_time": "2024-04-27T09:37:14.668Z"
   },
   {
    "duration": 6,
    "start_time": "2024-04-27T09:37:14.688Z"
   },
   {
    "duration": 11,
    "start_time": "2024-04-27T09:37:14.696Z"
   },
   {
    "duration": 9,
    "start_time": "2024-04-27T09:37:14.709Z"
   },
   {
    "duration": 5,
    "start_time": "2024-04-27T09:37:14.719Z"
   },
   {
    "duration": 4,
    "start_time": "2024-04-27T09:37:14.725Z"
   },
   {
    "duration": 23,
    "start_time": "2024-04-27T09:37:14.730Z"
   },
   {
    "duration": 10,
    "start_time": "2024-04-27T09:37:14.755Z"
   },
   {
    "duration": 19,
    "start_time": "2024-04-27T09:37:14.766Z"
   },
   {
    "duration": 4,
    "start_time": "2024-04-27T09:37:14.788Z"
   },
   {
    "duration": 4,
    "start_time": "2024-04-27T09:37:14.793Z"
   },
   {
    "duration": 15,
    "start_time": "2024-04-27T09:37:14.799Z"
   },
   {
    "duration": 299,
    "start_time": "2024-04-27T09:37:14.815Z"
   },
   {
    "duration": 3,
    "start_time": "2024-04-27T09:37:15.116Z"
   },
   {
    "duration": 45,
    "start_time": "2024-04-27T09:37:15.120Z"
   },
   {
    "duration": 18,
    "start_time": "2024-04-27T09:37:15.166Z"
   },
   {
    "duration": 36,
    "start_time": "2024-04-27T09:37:15.185Z"
   },
   {
    "duration": 220,
    "start_time": "2024-04-27T09:37:15.223Z"
   },
   {
    "duration": 8,
    "start_time": "2024-04-27T09:37:15.444Z"
   },
   {
    "duration": 213,
    "start_time": "2024-04-27T09:37:15.453Z"
   },
   {
    "duration": 7,
    "start_time": "2024-04-27T09:37:15.667Z"
   },
   {
    "duration": 220,
    "start_time": "2024-04-27T09:37:15.684Z"
   },
   {
    "duration": 6,
    "start_time": "2024-04-27T09:37:15.905Z"
   },
   {
    "duration": 215,
    "start_time": "2024-04-27T09:37:15.912Z"
   },
   {
    "duration": 6,
    "start_time": "2024-04-27T09:37:16.129Z"
   },
   {
    "duration": 169,
    "start_time": "2024-04-27T09:37:16.137Z"
   },
   {
    "duration": 6,
    "start_time": "2024-04-27T09:37:16.307Z"
   },
   {
    "duration": 18,
    "start_time": "2024-04-27T09:37:16.315Z"
   },
   {
    "duration": 28,
    "start_time": "2024-04-27T09:37:16.334Z"
   },
   {
    "duration": 163,
    "start_time": "2024-04-27T09:37:16.364Z"
   },
   {
    "duration": 285,
    "start_time": "2024-04-27T09:37:16.529Z"
   },
   {
    "duration": 7,
    "start_time": "2024-04-27T09:37:16.816Z"
   },
   {
    "duration": 166,
    "start_time": "2024-04-27T09:37:16.825Z"
   },
   {
    "duration": 8,
    "start_time": "2024-04-27T09:37:16.993Z"
   },
   {
    "duration": 197,
    "start_time": "2024-04-27T09:37:17.002Z"
   },
   {
    "duration": 8,
    "start_time": "2024-04-27T09:37:17.201Z"
   },
   {
    "duration": 197,
    "start_time": "2024-04-27T09:37:17.210Z"
   },
   {
    "duration": 8,
    "start_time": "2024-04-27T09:37:17.409Z"
   },
   {
    "duration": 206,
    "start_time": "2024-04-27T09:37:17.419Z"
   },
   {
    "duration": 5,
    "start_time": "2024-04-27T09:37:17.626Z"
   },
   {
    "duration": 131,
    "start_time": "2024-04-27T09:37:17.632Z"
   },
   {
    "duration": 94,
    "start_time": "2024-04-27T09:37:17.764Z"
   },
   {
    "duration": 133,
    "start_time": "2024-04-27T09:37:17.859Z"
   },
   {
    "duration": 4,
    "start_time": "2024-04-27T09:37:17.993Z"
   },
   {
    "duration": 143,
    "start_time": "2024-04-27T09:37:17.998Z"
   },
   {
    "duration": 94,
    "start_time": "2024-04-27T09:37:18.142Z"
   },
   {
    "duration": 147,
    "start_time": "2024-04-27T09:37:18.237Z"
   },
   {
    "duration": 4,
    "start_time": "2024-04-27T09:37:18.387Z"
   },
   {
    "duration": 99,
    "start_time": "2024-04-27T09:37:18.393Z"
   },
   {
    "duration": 102,
    "start_time": "2024-04-27T09:37:18.493Z"
   },
   {
    "duration": 135,
    "start_time": "2024-04-27T09:37:18.597Z"
   },
   {
    "duration": 4,
    "start_time": "2024-04-27T09:37:18.733Z"
   },
   {
    "duration": 107,
    "start_time": "2024-04-27T09:37:18.738Z"
   },
   {
    "duration": 102,
    "start_time": "2024-04-27T09:37:18.846Z"
   },
   {
    "duration": 127,
    "start_time": "2024-04-27T09:37:18.949Z"
   },
   {
    "duration": 118,
    "start_time": "2024-04-27T09:37:19.077Z"
   },
   {
    "duration": 129,
    "start_time": "2024-04-27T09:37:19.197Z"
   },
   {
    "duration": 134,
    "start_time": "2024-04-27T09:37:19.328Z"
   },
   {
    "duration": 129,
    "start_time": "2024-04-27T09:37:19.464Z"
   },
   {
    "duration": 22,
    "start_time": "2024-04-27T09:37:19.594Z"
   },
   {
    "duration": 21,
    "start_time": "2024-04-27T09:37:46.422Z"
   },
   {
    "duration": 18,
    "start_time": "2024-04-27T09:48:59.181Z"
   },
   {
    "duration": 21,
    "start_time": "2024-04-27T09:49:23.542Z"
   },
   {
    "duration": 22,
    "start_time": "2024-04-27T09:49:29.477Z"
   },
   {
    "duration": 16,
    "start_time": "2024-04-27T09:50:52.382Z"
   },
   {
    "duration": 101,
    "start_time": "2024-04-27T09:52:33.187Z"
   },
   {
    "duration": 106,
    "start_time": "2024-04-27T09:52:46.395Z"
   },
   {
    "duration": 17,
    "start_time": "2024-04-27T09:53:41.739Z"
   },
   {
    "duration": 13,
    "start_time": "2024-04-27T09:53:55.155Z"
   },
   {
    "duration": 19,
    "start_time": "2024-04-27T09:54:04.187Z"
   },
   {
    "duration": 16,
    "start_time": "2024-04-27T09:54:09.624Z"
   },
   {
    "duration": 17,
    "start_time": "2024-04-27T09:54:17.718Z"
   },
   {
    "duration": 119,
    "start_time": "2024-04-27T09:55:01.094Z"
   },
   {
    "duration": 121,
    "start_time": "2024-04-27T09:55:30.423Z"
   },
   {
    "duration": 17,
    "start_time": "2024-04-27T09:56:22.130Z"
   },
   {
    "duration": 118,
    "start_time": "2024-04-27T09:56:27.456Z"
   },
   {
    "duration": 82,
    "start_time": "2024-04-27T09:59:12.900Z"
   },
   {
    "duration": 22,
    "start_time": "2024-04-27T09:59:13.449Z"
   },
   {
    "duration": 11,
    "start_time": "2024-04-27T09:59:13.525Z"
   },
   {
    "duration": 21,
    "start_time": "2024-04-27T09:59:13.597Z"
   },
   {
    "duration": 1650,
    "start_time": "2024-04-27T09:59:13.647Z"
   },
   {
    "duration": 7,
    "start_time": "2024-04-27T09:59:15.298Z"
   },
   {
    "duration": 13,
    "start_time": "2024-04-27T09:59:15.307Z"
   },
   {
    "duration": 28,
    "start_time": "2024-04-27T09:59:15.322Z"
   },
   {
    "duration": 9,
    "start_time": "2024-04-27T09:59:15.352Z"
   },
   {
    "duration": 11,
    "start_time": "2024-04-27T09:59:15.362Z"
   },
   {
    "duration": 18,
    "start_time": "2024-04-27T09:59:15.374Z"
   },
   {
    "duration": 7,
    "start_time": "2024-04-27T09:59:15.393Z"
   },
   {
    "duration": 29,
    "start_time": "2024-04-27T09:59:15.401Z"
   },
   {
    "duration": 43,
    "start_time": "2024-04-27T09:59:15.432Z"
   },
   {
    "duration": 10,
    "start_time": "2024-04-27T09:59:15.476Z"
   },
   {
    "duration": 234,
    "start_time": "2024-04-27T09:59:15.487Z"
   },
   {
    "duration": 26,
    "start_time": "2024-04-27T09:59:15.723Z"
   },
   {
    "duration": 4,
    "start_time": "2024-04-27T09:59:15.751Z"
   },
   {
    "duration": 25,
    "start_time": "2024-04-27T09:59:15.756Z"
   },
   {
    "duration": 10,
    "start_time": "2024-04-27T09:59:15.782Z"
   },
   {
    "duration": 16,
    "start_time": "2024-04-27T09:59:15.793Z"
   },
   {
    "duration": 2,
    "start_time": "2024-04-27T09:59:15.811Z"
   },
   {
    "duration": 6,
    "start_time": "2024-04-27T09:59:15.814Z"
   },
   {
    "duration": 5,
    "start_time": "2024-04-27T09:59:15.821Z"
   },
   {
    "duration": 4,
    "start_time": "2024-04-27T09:59:15.827Z"
   },
   {
    "duration": 30,
    "start_time": "2024-04-27T09:59:15.833Z"
   },
   {
    "duration": 46,
    "start_time": "2024-04-27T09:59:15.865Z"
   },
   {
    "duration": 35,
    "start_time": "2024-04-27T09:59:15.912Z"
   },
   {
    "duration": 40,
    "start_time": "2024-04-27T09:59:15.949Z"
   },
   {
    "duration": 18,
    "start_time": "2024-04-27T09:59:15.990Z"
   },
   {
    "duration": 28,
    "start_time": "2024-04-27T09:59:16.009Z"
   },
   {
    "duration": 25,
    "start_time": "2024-04-27T09:59:16.040Z"
   },
   {
    "duration": 45,
    "start_time": "2024-04-27T09:59:16.066Z"
   },
   {
    "duration": 36,
    "start_time": "2024-04-27T09:59:16.113Z"
   },
   {
    "duration": 285,
    "start_time": "2024-04-27T09:59:16.150Z"
   },
   {
    "duration": 3,
    "start_time": "2024-04-27T09:59:16.437Z"
   },
   {
    "duration": 40,
    "start_time": "2024-04-27T09:59:16.441Z"
   },
   {
    "duration": 23,
    "start_time": "2024-04-27T09:59:16.482Z"
   },
   {
    "duration": 22,
    "start_time": "2024-04-27T09:59:16.506Z"
   },
   {
    "duration": 193,
    "start_time": "2024-04-27T09:59:16.529Z"
   },
   {
    "duration": 7,
    "start_time": "2024-04-27T09:59:16.723Z"
   },
   {
    "duration": 232,
    "start_time": "2024-04-27T09:59:16.731Z"
   },
   {
    "duration": 7,
    "start_time": "2024-04-27T09:59:16.964Z"
   },
   {
    "duration": 226,
    "start_time": "2024-04-27T09:59:16.972Z"
   },
   {
    "duration": 7,
    "start_time": "2024-04-27T09:59:17.199Z"
   },
   {
    "duration": 221,
    "start_time": "2024-04-27T09:59:17.207Z"
   },
   {
    "duration": 7,
    "start_time": "2024-04-27T09:59:17.430Z"
   },
   {
    "duration": 353,
    "start_time": "2024-04-27T09:59:17.439Z"
   },
   {
    "duration": 7,
    "start_time": "2024-04-27T09:59:17.793Z"
   },
   {
    "duration": 32,
    "start_time": "2024-04-27T09:59:17.801Z"
   },
   {
    "duration": 40,
    "start_time": "2024-04-27T09:59:17.834Z"
   },
   {
    "duration": 158,
    "start_time": "2024-04-27T09:59:17.875Z"
   },
   {
    "duration": 125,
    "start_time": "2024-04-27T09:59:18.037Z"
   },
   {
    "duration": 7,
    "start_time": "2024-04-27T09:59:18.163Z"
   },
   {
    "duration": 167,
    "start_time": "2024-04-27T09:59:18.171Z"
   },
   {
    "duration": 7,
    "start_time": "2024-04-27T09:59:18.339Z"
   },
   {
    "duration": 208,
    "start_time": "2024-04-27T09:59:18.347Z"
   },
   {
    "duration": 7,
    "start_time": "2024-04-27T09:59:18.556Z"
   },
   {
    "duration": 201,
    "start_time": "2024-04-27T09:59:18.564Z"
   },
   {
    "duration": 7,
    "start_time": "2024-04-27T09:59:18.767Z"
   },
   {
    "duration": 195,
    "start_time": "2024-04-27T09:59:18.775Z"
   },
   {
    "duration": 4,
    "start_time": "2024-04-27T09:59:18.971Z"
   },
   {
    "duration": 124,
    "start_time": "2024-04-27T09:59:18.976Z"
   },
   {
    "duration": 104,
    "start_time": "2024-04-27T09:59:19.101Z"
   },
   {
    "duration": 133,
    "start_time": "2024-04-27T09:59:19.206Z"
   },
   {
    "duration": 3,
    "start_time": "2024-04-27T09:59:19.341Z"
   },
   {
    "duration": 101,
    "start_time": "2024-04-27T09:59:19.345Z"
   },
   {
    "duration": 93,
    "start_time": "2024-04-27T09:59:19.448Z"
   },
   {
    "duration": 151,
    "start_time": "2024-04-27T09:59:19.542Z"
   },
   {
    "duration": 4,
    "start_time": "2024-04-27T09:59:19.694Z"
   },
   {
    "duration": 98,
    "start_time": "2024-04-27T09:59:19.699Z"
   },
   {
    "duration": 100,
    "start_time": "2024-04-27T09:59:19.798Z"
   },
   {
    "duration": 132,
    "start_time": "2024-04-27T09:59:19.899Z"
   },
   {
    "duration": 3,
    "start_time": "2024-04-27T09:59:20.032Z"
   },
   {
    "duration": 108,
    "start_time": "2024-04-27T09:59:20.037Z"
   },
   {
    "duration": 90,
    "start_time": "2024-04-27T09:59:20.147Z"
   },
   {
    "duration": 126,
    "start_time": "2024-04-27T09:59:20.238Z"
   },
   {
    "duration": 119,
    "start_time": "2024-04-27T09:59:20.365Z"
   },
   {
    "duration": 124,
    "start_time": "2024-04-27T09:59:20.485Z"
   },
   {
    "duration": 126,
    "start_time": "2024-04-27T09:59:20.610Z"
   },
   {
    "duration": 115,
    "start_time": "2024-04-27T09:59:20.737Z"
   },
   {
    "duration": 22,
    "start_time": "2024-04-27T09:59:20.853Z"
   },
   {
    "duration": 43,
    "start_time": "2024-04-27T09:59:20.884Z"
   },
   {
    "duration": 143,
    "start_time": "2024-04-27T09:59:20.928Z"
   },
   {
    "duration": 25,
    "start_time": "2024-04-27T10:02:43.562Z"
   },
   {
    "duration": 129,
    "start_time": "2024-04-27T10:02:52.137Z"
   },
   {
    "duration": 18,
    "start_time": "2024-04-27T10:03:42.325Z"
   },
   {
    "duration": 17,
    "start_time": "2024-04-27T10:03:52.955Z"
   },
   {
    "duration": 16,
    "start_time": "2024-04-27T10:04:13.231Z"
   },
   {
    "duration": 23,
    "start_time": "2024-04-27T10:04:33.756Z"
   },
   {
    "duration": 17,
    "start_time": "2024-04-27T10:05:31.931Z"
   },
   {
    "duration": 15,
    "start_time": "2024-04-27T10:05:37.743Z"
   },
   {
    "duration": 84,
    "start_time": "2024-04-27T10:07:23.353Z"
   },
   {
    "duration": 23,
    "start_time": "2024-04-27T10:07:30.969Z"
   },
   {
    "duration": 90,
    "start_time": "2024-04-27T10:10:00.621Z"
   },
   {
    "duration": 22,
    "start_time": "2024-04-27T10:10:04.031Z"
   },
   {
    "duration": 22,
    "start_time": "2024-04-27T10:10:32.324Z"
   },
   {
    "duration": 25,
    "start_time": "2024-04-27T10:10:44.164Z"
   },
   {
    "duration": 23,
    "start_time": "2024-04-27T10:11:08.502Z"
   },
   {
    "duration": 23,
    "start_time": "2024-04-27T10:11:19.458Z"
   },
   {
    "duration": 23,
    "start_time": "2024-04-27T10:11:29.764Z"
   },
   {
    "duration": 31,
    "start_time": "2024-04-27T10:12:51.756Z"
   },
   {
    "duration": 31,
    "start_time": "2024-04-27T10:12:58.421Z"
   },
   {
    "duration": 315,
    "start_time": "2024-04-27T10:13:06.781Z"
   },
   {
    "duration": 24,
    "start_time": "2024-04-27T10:13:15.941Z"
   },
   {
    "duration": 32,
    "start_time": "2024-04-27T10:13:29.181Z"
   },
   {
    "duration": 10,
    "start_time": "2024-04-27T10:13:51.535Z"
   },
   {
    "duration": 10,
    "start_time": "2024-04-27T10:13:54.247Z"
   },
   {
    "duration": 13,
    "start_time": "2024-04-27T10:14:01.702Z"
   },
   {
    "duration": 21,
    "start_time": "2024-04-27T10:14:16.065Z"
   },
   {
    "duration": 15,
    "start_time": "2024-04-27T10:16:10.269Z"
   },
   {
    "duration": 15,
    "start_time": "2024-04-27T10:16:39.840Z"
   },
   {
    "duration": 167,
    "start_time": "2024-04-27T10:16:56.278Z"
   },
   {
    "duration": 162,
    "start_time": "2024-04-27T10:17:07.104Z"
   },
   {
    "duration": 83,
    "start_time": "2024-04-27T10:17:43.113Z"
   },
   {
    "duration": 23,
    "start_time": "2024-04-27T10:17:43.663Z"
   },
   {
    "duration": 11,
    "start_time": "2024-04-27T10:17:43.728Z"
   },
   {
    "duration": 20,
    "start_time": "2024-04-27T10:17:43.789Z"
   },
   {
    "duration": 1695,
    "start_time": "2024-04-27T10:17:43.853Z"
   },
   {
    "duration": 10,
    "start_time": "2024-04-27T10:17:45.550Z"
   },
   {
    "duration": 17,
    "start_time": "2024-04-27T10:17:45.562Z"
   },
   {
    "duration": 25,
    "start_time": "2024-04-27T10:17:45.584Z"
   },
   {
    "duration": 19,
    "start_time": "2024-04-27T10:17:45.611Z"
   },
   {
    "duration": 32,
    "start_time": "2024-04-27T10:17:45.632Z"
   },
   {
    "duration": 32,
    "start_time": "2024-04-27T10:17:45.665Z"
   },
   {
    "duration": 40,
    "start_time": "2024-04-27T10:17:45.699Z"
   },
   {
    "duration": 33,
    "start_time": "2024-04-27T10:17:45.741Z"
   },
   {
    "duration": 50,
    "start_time": "2024-04-27T10:17:45.777Z"
   },
   {
    "duration": 11,
    "start_time": "2024-04-27T10:17:45.828Z"
   },
   {
    "duration": 233,
    "start_time": "2024-04-27T10:17:45.840Z"
   },
   {
    "duration": 25,
    "start_time": "2024-04-27T10:17:46.074Z"
   },
   {
    "duration": 45,
    "start_time": "2024-04-27T10:17:46.100Z"
   },
   {
    "duration": 29,
    "start_time": "2024-04-27T10:17:46.146Z"
   },
   {
    "duration": 35,
    "start_time": "2024-04-27T10:17:46.176Z"
   },
   {
    "duration": 44,
    "start_time": "2024-04-27T10:17:46.212Z"
   },
   {
    "duration": 32,
    "start_time": "2024-04-27T10:17:46.257Z"
   },
   {
    "duration": 24,
    "start_time": "2024-04-27T10:17:46.290Z"
   },
   {
    "duration": 20,
    "start_time": "2024-04-27T10:17:46.315Z"
   },
   {
    "duration": 20,
    "start_time": "2024-04-27T10:17:46.336Z"
   },
   {
    "duration": 47,
    "start_time": "2024-04-27T10:17:46.357Z"
   },
   {
    "duration": 19,
    "start_time": "2024-04-27T10:17:46.406Z"
   },
   {
    "duration": 24,
    "start_time": "2024-04-27T10:17:46.426Z"
   },
   {
    "duration": 41,
    "start_time": "2024-04-27T10:17:46.451Z"
   },
   {
    "duration": 18,
    "start_time": "2024-04-27T10:17:46.493Z"
   },
   {
    "duration": 16,
    "start_time": "2024-04-27T10:17:46.513Z"
   },
   {
    "duration": 34,
    "start_time": "2024-04-27T10:17:46.533Z"
   },
   {
    "duration": 34,
    "start_time": "2024-04-27T10:17:46.568Z"
   },
   {
    "duration": 36,
    "start_time": "2024-04-27T10:17:46.603Z"
   },
   {
    "duration": 332,
    "start_time": "2024-04-27T10:17:46.640Z"
   },
   {
    "duration": 4,
    "start_time": "2024-04-27T10:17:46.973Z"
   },
   {
    "duration": 37,
    "start_time": "2024-04-27T10:17:46.978Z"
   },
   {
    "duration": 18,
    "start_time": "2024-04-27T10:17:47.017Z"
   },
   {
    "duration": 36,
    "start_time": "2024-04-27T10:17:47.036Z"
   },
   {
    "duration": 235,
    "start_time": "2024-04-27T10:17:47.074Z"
   },
   {
    "duration": 7,
    "start_time": "2024-04-27T10:17:47.310Z"
   },
   {
    "duration": 204,
    "start_time": "2024-04-27T10:17:47.318Z"
   },
   {
    "duration": 7,
    "start_time": "2024-04-27T10:17:47.523Z"
   },
   {
    "duration": 214,
    "start_time": "2024-04-27T10:17:47.531Z"
   },
   {
    "duration": 6,
    "start_time": "2024-04-27T10:17:47.747Z"
   },
   {
    "duration": 225,
    "start_time": "2024-04-27T10:17:47.754Z"
   },
   {
    "duration": 6,
    "start_time": "2024-04-27T10:17:47.984Z"
   },
   {
    "duration": 150,
    "start_time": "2024-04-27T10:17:47.991Z"
   },
   {
    "duration": 6,
    "start_time": "2024-04-27T10:17:48.143Z"
   },
   {
    "duration": 11,
    "start_time": "2024-04-27T10:17:48.150Z"
   },
   {
    "duration": 22,
    "start_time": "2024-04-27T10:17:48.162Z"
   },
   {
    "duration": 139,
    "start_time": "2024-04-27T10:17:48.185Z"
   },
   {
    "duration": 132,
    "start_time": "2024-04-27T10:17:48.325Z"
   },
   {
    "duration": 6,
    "start_time": "2024-04-27T10:17:48.459Z"
   },
   {
    "duration": 172,
    "start_time": "2024-04-27T10:17:48.466Z"
   },
   {
    "duration": 8,
    "start_time": "2024-04-27T10:17:48.640Z"
   },
   {
    "duration": 412,
    "start_time": "2024-04-27T10:17:48.651Z"
   },
   {
    "duration": 8,
    "start_time": "2024-04-27T10:17:49.064Z"
   },
   {
    "duration": 198,
    "start_time": "2024-04-27T10:17:49.073Z"
   },
   {
    "duration": 12,
    "start_time": "2024-04-27T10:17:49.272Z"
   },
   {
    "duration": 202,
    "start_time": "2024-04-27T10:17:49.285Z"
   },
   {
    "duration": 5,
    "start_time": "2024-04-27T10:17:49.488Z"
   },
   {
    "duration": 97,
    "start_time": "2024-04-27T10:17:49.495Z"
   },
   {
    "duration": 92,
    "start_time": "2024-04-27T10:17:49.593Z"
   },
   {
    "duration": 133,
    "start_time": "2024-04-27T10:17:49.686Z"
   },
   {
    "duration": 4,
    "start_time": "2024-04-27T10:17:49.820Z"
   },
   {
    "duration": 109,
    "start_time": "2024-04-27T10:17:49.825Z"
   },
   {
    "duration": 99,
    "start_time": "2024-04-27T10:17:49.935Z"
   },
   {
    "duration": 143,
    "start_time": "2024-04-27T10:17:50.035Z"
   },
   {
    "duration": 6,
    "start_time": "2024-04-27T10:17:50.180Z"
   },
   {
    "duration": 98,
    "start_time": "2024-04-27T10:17:50.187Z"
   },
   {
    "duration": 101,
    "start_time": "2024-04-27T10:17:50.286Z"
   },
   {
    "duration": 133,
    "start_time": "2024-04-27T10:17:50.388Z"
   },
   {
    "duration": 5,
    "start_time": "2024-04-27T10:17:50.522Z"
   },
   {
    "duration": 108,
    "start_time": "2024-04-27T10:17:50.528Z"
   },
   {
    "duration": 102,
    "start_time": "2024-04-27T10:17:50.637Z"
   },
   {
    "duration": 126,
    "start_time": "2024-04-27T10:17:50.741Z"
   },
   {
    "duration": 120,
    "start_time": "2024-04-27T10:17:50.868Z"
   },
   {
    "duration": 132,
    "start_time": "2024-04-27T10:17:50.989Z"
   },
   {
    "duration": 131,
    "start_time": "2024-04-27T10:17:51.123Z"
   },
   {
    "duration": 125,
    "start_time": "2024-04-27T10:17:51.256Z"
   },
   {
    "duration": 23,
    "start_time": "2024-04-27T10:17:51.382Z"
   },
   {
    "duration": 161,
    "start_time": "2024-04-27T10:17:51.407Z"
   },
   {
    "duration": 25,
    "start_time": "2024-04-27T10:17:51.569Z"
   },
   {
    "duration": 122,
    "start_time": "2024-04-27T10:17:51.595Z"
   },
   {
    "duration": 70,
    "start_time": "2024-04-27T10:23:11.116Z"
   },
   {
    "duration": 16,
    "start_time": "2024-04-27T10:57:53.919Z"
   },
   {
    "duration": 16,
    "start_time": "2024-04-27T10:58:17.128Z"
   },
   {
    "duration": 76,
    "start_time": "2024-04-27T11:03:14.830Z"
   },
   {
    "duration": 26,
    "start_time": "2024-04-27T11:03:15.378Z"
   },
   {
    "duration": 12,
    "start_time": "2024-04-27T11:03:15.451Z"
   },
   {
    "duration": 18,
    "start_time": "2024-04-27T11:03:15.515Z"
   },
   {
    "duration": 1500,
    "start_time": "2024-04-27T11:03:15.575Z"
   },
   {
    "duration": 11,
    "start_time": "2024-04-27T11:03:17.076Z"
   },
   {
    "duration": 16,
    "start_time": "2024-04-27T11:03:17.088Z"
   },
   {
    "duration": 27,
    "start_time": "2024-04-27T11:03:17.106Z"
   },
   {
    "duration": 12,
    "start_time": "2024-04-27T11:03:17.134Z"
   },
   {
    "duration": 17,
    "start_time": "2024-04-27T11:03:17.147Z"
   },
   {
    "duration": 33,
    "start_time": "2024-04-27T11:03:17.165Z"
   },
   {
    "duration": 15,
    "start_time": "2024-04-27T11:03:17.199Z"
   },
   {
    "duration": 17,
    "start_time": "2024-04-27T11:03:17.215Z"
   },
   {
    "duration": 32,
    "start_time": "2024-04-27T11:03:17.234Z"
   },
   {
    "duration": 16,
    "start_time": "2024-04-27T11:03:17.267Z"
   },
   {
    "duration": 245,
    "start_time": "2024-04-27T11:03:17.284Z"
   },
   {
    "duration": 21,
    "start_time": "2024-04-27T11:03:17.530Z"
   },
   {
    "duration": 28,
    "start_time": "2024-04-27T11:03:17.553Z"
   },
   {
    "duration": 49,
    "start_time": "2024-04-27T11:03:17.583Z"
   },
   {
    "duration": 259,
    "start_time": "2024-04-27T11:03:17.633Z"
   },
   {
    "duration": 30,
    "start_time": "2024-04-27T11:03:17.894Z"
   },
   {
    "duration": 9,
    "start_time": "2024-04-27T11:03:17.925Z"
   },
   {
    "duration": 14,
    "start_time": "2024-04-27T11:03:17.935Z"
   },
   {
    "duration": 18,
    "start_time": "2024-04-27T11:03:17.951Z"
   },
   {
    "duration": 25,
    "start_time": "2024-04-27T11:03:17.970Z"
   },
   {
    "duration": 43,
    "start_time": "2024-04-27T11:03:17.997Z"
   },
   {
    "duration": 31,
    "start_time": "2024-04-27T11:03:18.042Z"
   },
   {
    "duration": 28,
    "start_time": "2024-04-27T11:03:18.074Z"
   },
   {
    "duration": 38,
    "start_time": "2024-04-27T11:03:18.103Z"
   },
   {
    "duration": 12,
    "start_time": "2024-04-27T11:03:18.142Z"
   },
   {
    "duration": 23,
    "start_time": "2024-04-27T11:03:18.155Z"
   },
   {
    "duration": 27,
    "start_time": "2024-04-27T11:03:18.182Z"
   },
   {
    "duration": 22,
    "start_time": "2024-04-27T11:03:18.210Z"
   },
   {
    "duration": 26,
    "start_time": "2024-04-27T11:03:18.234Z"
   },
   {
    "duration": 303,
    "start_time": "2024-04-27T11:03:18.261Z"
   },
   {
    "duration": 3,
    "start_time": "2024-04-27T11:03:18.566Z"
   },
   {
    "duration": 55,
    "start_time": "2024-04-27T11:03:18.571Z"
   },
   {
    "duration": 17,
    "start_time": "2024-04-27T11:03:18.627Z"
   },
   {
    "duration": 59,
    "start_time": "2024-04-27T11:03:18.646Z"
   },
   {
    "duration": 224,
    "start_time": "2024-04-27T11:03:18.707Z"
   },
   {
    "duration": 7,
    "start_time": "2024-04-27T11:03:18.932Z"
   },
   {
    "duration": 208,
    "start_time": "2024-04-27T11:03:18.940Z"
   },
   {
    "duration": 9,
    "start_time": "2024-04-27T11:03:19.149Z"
   },
   {
    "duration": 229,
    "start_time": "2024-04-27T11:03:19.160Z"
   },
   {
    "duration": 8,
    "start_time": "2024-04-27T11:03:19.391Z"
   },
   {
    "duration": 218,
    "start_time": "2024-04-27T11:03:19.400Z"
   },
   {
    "duration": 6,
    "start_time": "2024-04-27T11:03:19.620Z"
   },
   {
    "duration": 153,
    "start_time": "2024-04-27T11:03:19.628Z"
   },
   {
    "duration": 8,
    "start_time": "2024-04-27T11:03:19.784Z"
   },
   {
    "duration": 5,
    "start_time": "2024-04-27T11:03:19.793Z"
   },
   {
    "duration": 14,
    "start_time": "2024-04-27T11:03:19.800Z"
   },
   {
    "duration": 151,
    "start_time": "2024-04-27T11:03:19.815Z"
   },
   {
    "duration": 155,
    "start_time": "2024-04-27T11:03:19.967Z"
   },
   {
    "duration": 7,
    "start_time": "2024-04-27T11:03:20.123Z"
   },
   {
    "duration": 163,
    "start_time": "2024-04-27T11:03:20.131Z"
   },
   {
    "duration": 8,
    "start_time": "2024-04-27T11:03:20.298Z"
   },
   {
    "duration": 208,
    "start_time": "2024-04-27T11:03:20.307Z"
   },
   {
    "duration": 9,
    "start_time": "2024-04-27T11:03:20.516Z"
   },
   {
    "duration": 225,
    "start_time": "2024-04-27T11:03:20.527Z"
   },
   {
    "duration": 8,
    "start_time": "2024-04-27T11:03:20.753Z"
   },
   {
    "duration": 200,
    "start_time": "2024-04-27T11:03:20.762Z"
   },
   {
    "duration": 4,
    "start_time": "2024-04-27T11:03:20.963Z"
   },
   {
    "duration": 97,
    "start_time": "2024-04-27T11:03:20.968Z"
   },
   {
    "duration": 98,
    "start_time": "2024-04-27T11:03:21.067Z"
   },
   {
    "duration": 148,
    "start_time": "2024-04-27T11:03:21.166Z"
   },
   {
    "duration": 5,
    "start_time": "2024-04-27T11:03:21.315Z"
   },
   {
    "duration": 106,
    "start_time": "2024-04-27T11:03:21.321Z"
   },
   {
    "duration": 104,
    "start_time": "2024-04-27T11:03:21.428Z"
   },
   {
    "duration": 139,
    "start_time": "2024-04-27T11:03:21.534Z"
   },
   {
    "duration": 11,
    "start_time": "2024-04-27T11:03:21.674Z"
   },
   {
    "duration": 98,
    "start_time": "2024-04-27T11:03:21.686Z"
   },
   {
    "duration": 110,
    "start_time": "2024-04-27T11:03:21.787Z"
   },
   {
    "duration": 136,
    "start_time": "2024-04-27T11:03:21.898Z"
   },
   {
    "duration": 4,
    "start_time": "2024-04-27T11:03:22.036Z"
   },
   {
    "duration": 116,
    "start_time": "2024-04-27T11:03:22.041Z"
   },
   {
    "duration": 103,
    "start_time": "2024-04-27T11:03:22.158Z"
   },
   {
    "duration": 130,
    "start_time": "2024-04-27T11:03:22.262Z"
   },
   {
    "duration": 118,
    "start_time": "2024-04-27T11:03:22.393Z"
   },
   {
    "duration": 133,
    "start_time": "2024-04-27T11:03:22.513Z"
   },
   {
    "duration": 158,
    "start_time": "2024-04-27T11:03:22.647Z"
   },
   {
    "duration": 397,
    "start_time": "2024-04-27T11:03:22.807Z"
   },
   {
    "duration": 28,
    "start_time": "2024-04-27T11:03:23.205Z"
   },
   {
    "duration": 17,
    "start_time": "2024-04-27T11:03:23.234Z"
   },
   {
    "duration": 159,
    "start_time": "2024-04-27T11:03:23.252Z"
   },
   {
    "duration": 2,
    "start_time": "2024-04-27T11:07:03.746Z"
   },
   {
    "duration": 81,
    "start_time": "2024-04-27T11:07:08.936Z"
   },
   {
    "duration": 24,
    "start_time": "2024-04-27T11:07:09.483Z"
   },
   {
    "duration": 12,
    "start_time": "2024-04-27T11:07:09.549Z"
   },
   {
    "duration": 18,
    "start_time": "2024-04-27T11:07:09.611Z"
   },
   {
    "duration": 1515,
    "start_time": "2024-04-27T11:07:09.675Z"
   },
   {
    "duration": 8,
    "start_time": "2024-04-27T11:07:11.191Z"
   },
   {
    "duration": 16,
    "start_time": "2024-04-27T11:07:11.200Z"
   },
   {
    "duration": 3,
    "start_time": "2024-04-27T11:07:11.218Z"
   },
   {
    "duration": 3,
    "start_time": "2024-04-27T11:07:11.222Z"
   },
   {
    "duration": 6,
    "start_time": "2024-04-27T11:07:11.227Z"
   },
   {
    "duration": 6,
    "start_time": "2024-04-27T11:07:11.234Z"
   },
   {
    "duration": 6,
    "start_time": "2024-04-27T11:07:11.241Z"
   },
   {
    "duration": 5,
    "start_time": "2024-04-27T11:07:11.248Z"
   },
   {
    "duration": 14,
    "start_time": "2024-04-27T11:07:11.255Z"
   },
   {
    "duration": 10,
    "start_time": "2024-04-27T11:07:11.284Z"
   },
   {
    "duration": 221,
    "start_time": "2024-04-27T11:07:11.295Z"
   },
   {
    "duration": 19,
    "start_time": "2024-04-27T11:07:11.518Z"
   },
   {
    "duration": 10,
    "start_time": "2024-04-27T11:07:11.538Z"
   },
   {
    "duration": 5,
    "start_time": "2024-04-27T11:07:11.549Z"
   },
   {
    "duration": 10,
    "start_time": "2024-04-27T11:07:11.555Z"
   },
   {
    "duration": 8,
    "start_time": "2024-04-27T11:07:11.566Z"
   },
   {
    "duration": 2,
    "start_time": "2024-04-27T11:07:11.576Z"
   },
   {
    "duration": 3,
    "start_time": "2024-04-27T11:07:11.584Z"
   },
   {
    "duration": 11,
    "start_time": "2024-04-27T11:07:11.588Z"
   },
   {
    "duration": 3,
    "start_time": "2024-04-27T11:07:11.600Z"
   },
   {
    "duration": 6,
    "start_time": "2024-04-27T11:07:11.604Z"
   },
   {
    "duration": 14,
    "start_time": "2024-04-27T11:07:11.611Z"
   },
   {
    "duration": 22,
    "start_time": "2024-04-27T11:07:11.626Z"
   },
   {
    "duration": 31,
    "start_time": "2024-04-27T11:07:11.649Z"
   },
   {
    "duration": 11,
    "start_time": "2024-04-27T11:07:11.681Z"
   },
   {
    "duration": 3,
    "start_time": "2024-04-27T11:07:11.694Z"
   },
   {
    "duration": 12,
    "start_time": "2024-04-27T11:07:11.700Z"
   },
   {
    "duration": 12,
    "start_time": "2024-04-27T11:07:11.714Z"
   },
   {
    "duration": 9,
    "start_time": "2024-04-27T11:07:11.727Z"
   },
   {
    "duration": 302,
    "start_time": "2024-04-27T11:07:11.737Z"
   },
   {
    "duration": 3,
    "start_time": "2024-04-27T11:07:12.040Z"
   },
   {
    "duration": 24,
    "start_time": "2024-04-27T11:07:12.044Z"
   },
   {
    "duration": 13,
    "start_time": "2024-04-27T11:07:12.069Z"
   },
   {
    "duration": 9,
    "start_time": "2024-04-27T11:07:12.083Z"
   },
   {
    "duration": 224,
    "start_time": "2024-04-27T11:07:12.093Z"
   },
   {
    "duration": 7,
    "start_time": "2024-04-27T11:07:12.318Z"
   },
   {
    "duration": 203,
    "start_time": "2024-04-27T11:07:12.326Z"
   },
   {
    "duration": 7,
    "start_time": "2024-04-27T11:07:12.530Z"
   },
   {
    "duration": 224,
    "start_time": "2024-04-27T11:07:12.538Z"
   },
   {
    "duration": 7,
    "start_time": "2024-04-27T11:07:12.764Z"
   },
   {
    "duration": 225,
    "start_time": "2024-04-27T11:07:12.773Z"
   },
   {
    "duration": 8,
    "start_time": "2024-04-27T11:07:12.999Z"
   },
   {
    "duration": 174,
    "start_time": "2024-04-27T11:07:13.008Z"
   },
   {
    "duration": 7,
    "start_time": "2024-04-27T11:07:13.184Z"
   },
   {
    "duration": 34,
    "start_time": "2024-04-27T11:07:13.192Z"
   },
   {
    "duration": 24,
    "start_time": "2024-04-27T11:07:13.228Z"
   },
   {
    "duration": 150,
    "start_time": "2024-04-27T11:07:13.253Z"
   },
   {
    "duration": 130,
    "start_time": "2024-04-27T11:07:13.404Z"
   },
   {
    "duration": 6,
    "start_time": "2024-04-27T11:07:13.535Z"
   },
   {
    "duration": 165,
    "start_time": "2024-04-27T11:07:13.542Z"
   },
   {
    "duration": 9,
    "start_time": "2024-04-27T11:07:13.708Z"
   },
   {
    "duration": 205,
    "start_time": "2024-04-27T11:07:13.718Z"
   },
   {
    "duration": 8,
    "start_time": "2024-04-27T11:07:13.925Z"
   },
   {
    "duration": 470,
    "start_time": "2024-04-27T11:07:13.935Z"
   },
   {
    "duration": 7,
    "start_time": "2024-04-27T11:07:14.407Z"
   },
   {
    "duration": 197,
    "start_time": "2024-04-27T11:07:14.416Z"
   },
   {
    "duration": 5,
    "start_time": "2024-04-27T11:07:14.615Z"
   },
   {
    "duration": 113,
    "start_time": "2024-04-27T11:07:14.623Z"
   },
   {
    "duration": 95,
    "start_time": "2024-04-27T11:07:14.737Z"
   },
   {
    "duration": 146,
    "start_time": "2024-04-27T11:07:14.834Z"
   },
   {
    "duration": 6,
    "start_time": "2024-04-27T11:07:14.981Z"
   },
   {
    "duration": 114,
    "start_time": "2024-04-27T11:07:14.988Z"
   },
   {
    "duration": 100,
    "start_time": "2024-04-27T11:07:15.103Z"
   },
   {
    "duration": 147,
    "start_time": "2024-04-27T11:07:15.205Z"
   },
   {
    "duration": 4,
    "start_time": "2024-04-27T11:07:15.354Z"
   },
   {
    "duration": 105,
    "start_time": "2024-04-27T11:07:15.360Z"
   },
   {
    "duration": 120,
    "start_time": "2024-04-27T11:07:15.467Z"
   },
   {
    "duration": 136,
    "start_time": "2024-04-27T11:07:15.588Z"
   },
   {
    "duration": 5,
    "start_time": "2024-04-27T11:07:15.726Z"
   },
   {
    "duration": 111,
    "start_time": "2024-04-27T11:07:15.732Z"
   },
   {
    "duration": 98,
    "start_time": "2024-04-27T11:07:15.844Z"
   },
   {
    "duration": 128,
    "start_time": "2024-04-27T11:07:15.944Z"
   },
   {
    "duration": 120,
    "start_time": "2024-04-27T11:07:16.074Z"
   },
   {
    "duration": 138,
    "start_time": "2024-04-27T11:07:16.195Z"
   },
   {
    "duration": 130,
    "start_time": "2024-04-27T11:07:16.334Z"
   },
   {
    "duration": 127,
    "start_time": "2024-04-27T11:07:16.466Z"
   },
   {
    "duration": 25,
    "start_time": "2024-04-27T11:07:16.594Z"
   },
   {
    "duration": 16,
    "start_time": "2024-04-27T11:07:16.621Z"
   },
   {
    "duration": 155,
    "start_time": "2024-04-27T11:07:16.638Z"
   },
   {
    "duration": 16,
    "start_time": "2024-04-27T11:18:14.315Z"
   },
   {
    "duration": 17,
    "start_time": "2024-04-27T11:18:19.719Z"
   },
   {
    "duration": 125,
    "start_time": "2024-04-27T11:18:22.361Z"
   },
   {
    "duration": 81,
    "start_time": "2024-04-27T11:18:27.205Z"
   },
   {
    "duration": 24,
    "start_time": "2024-04-27T11:18:27.751Z"
   },
   {
    "duration": 11,
    "start_time": "2024-04-27T11:18:27.821Z"
   },
   {
    "duration": 18,
    "start_time": "2024-04-27T11:18:27.882Z"
   },
   {
    "duration": 1475,
    "start_time": "2024-04-27T11:18:27.948Z"
   },
   {
    "duration": 7,
    "start_time": "2024-04-27T11:18:29.424Z"
   },
   {
    "duration": 5,
    "start_time": "2024-04-27T11:18:29.433Z"
   },
   {
    "duration": 4,
    "start_time": "2024-04-27T11:18:29.439Z"
   },
   {
    "duration": 3,
    "start_time": "2024-04-27T11:18:29.444Z"
   },
   {
    "duration": 4,
    "start_time": "2024-04-27T11:18:29.448Z"
   },
   {
    "duration": 21,
    "start_time": "2024-04-27T11:18:29.453Z"
   },
   {
    "duration": 37,
    "start_time": "2024-04-27T11:18:29.475Z"
   },
   {
    "duration": 73,
    "start_time": "2024-04-27T11:18:29.513Z"
   },
   {
    "duration": 53,
    "start_time": "2024-04-27T11:18:29.589Z"
   },
   {
    "duration": 32,
    "start_time": "2024-04-27T11:18:29.644Z"
   },
   {
    "duration": 218,
    "start_time": "2024-04-27T11:18:29.678Z"
   },
   {
    "duration": 19,
    "start_time": "2024-04-27T11:18:29.897Z"
   },
   {
    "duration": 3,
    "start_time": "2024-04-27T11:18:29.918Z"
   },
   {
    "duration": 5,
    "start_time": "2024-04-27T11:18:29.922Z"
   },
   {
    "duration": 13,
    "start_time": "2024-04-27T11:18:29.928Z"
   },
   {
    "duration": 8,
    "start_time": "2024-04-27T11:18:29.942Z"
   },
   {
    "duration": 3,
    "start_time": "2024-04-27T11:18:29.951Z"
   },
   {
    "duration": 4,
    "start_time": "2024-04-27T11:18:29.955Z"
   },
   {
    "duration": 3,
    "start_time": "2024-04-27T11:18:29.960Z"
   },
   {
    "duration": 21,
    "start_time": "2024-04-27T11:18:29.964Z"
   },
   {
    "duration": 8,
    "start_time": "2024-04-27T11:18:29.987Z"
   },
   {
    "duration": 6,
    "start_time": "2024-04-27T11:18:29.996Z"
   },
   {
    "duration": 3,
    "start_time": "2024-04-27T11:18:30.003Z"
   },
   {
    "duration": 40,
    "start_time": "2024-04-27T11:18:30.007Z"
   },
   {
    "duration": 30,
    "start_time": "2024-04-27T11:18:30.048Z"
   },
   {
    "duration": 35,
    "start_time": "2024-04-27T11:18:30.079Z"
   },
   {
    "duration": 45,
    "start_time": "2024-04-27T11:18:30.117Z"
   },
   {
    "duration": 43,
    "start_time": "2024-04-27T11:18:30.164Z"
   },
   {
    "duration": 97,
    "start_time": "2024-04-27T11:18:30.209Z"
   },
   {
    "duration": 325,
    "start_time": "2024-04-27T11:18:30.307Z"
   },
   {
    "duration": 4,
    "start_time": "2024-04-27T11:18:30.633Z"
   },
   {
    "duration": 121,
    "start_time": "2024-04-27T11:18:30.638Z"
   },
   {
    "duration": 163,
    "start_time": "2024-04-27T11:18:30.761Z"
   },
   {
    "duration": 72,
    "start_time": "2024-04-27T11:18:30.925Z"
   },
   {
    "duration": 235,
    "start_time": "2024-04-27T11:18:30.998Z"
   },
   {
    "duration": 7,
    "start_time": "2024-04-27T11:18:31.235Z"
   },
   {
    "duration": 235,
    "start_time": "2024-04-27T11:18:31.243Z"
   },
   {
    "duration": 7,
    "start_time": "2024-04-27T11:18:31.484Z"
   },
   {
    "duration": 219,
    "start_time": "2024-04-27T11:18:31.492Z"
   },
   {
    "duration": 7,
    "start_time": "2024-04-27T11:18:31.712Z"
   },
   {
    "duration": 523,
    "start_time": "2024-04-27T11:18:31.720Z"
   },
   {
    "duration": 7,
    "start_time": "2024-04-27T11:18:32.244Z"
   },
   {
    "duration": 147,
    "start_time": "2024-04-27T11:18:32.252Z"
   },
   {
    "duration": 6,
    "start_time": "2024-04-27T11:18:32.403Z"
   },
   {
    "duration": 19,
    "start_time": "2024-04-27T11:18:32.410Z"
   },
   {
    "duration": 14,
    "start_time": "2024-04-27T11:18:32.430Z"
   },
   {
    "duration": 158,
    "start_time": "2024-04-27T11:18:32.445Z"
   },
   {
    "duration": 134,
    "start_time": "2024-04-27T11:18:32.604Z"
   },
   {
    "duration": 8,
    "start_time": "2024-04-27T11:18:32.740Z"
   },
   {
    "duration": 170,
    "start_time": "2024-04-27T11:18:32.750Z"
   },
   {
    "duration": 7,
    "start_time": "2024-04-27T11:18:32.922Z"
   },
   {
    "duration": 191,
    "start_time": "2024-04-27T11:18:32.930Z"
   },
   {
    "duration": 7,
    "start_time": "2024-04-27T11:18:33.122Z"
   },
   {
    "duration": 206,
    "start_time": "2024-04-27T11:18:33.130Z"
   },
   {
    "duration": 7,
    "start_time": "2024-04-27T11:18:33.337Z"
   },
   {
    "duration": 197,
    "start_time": "2024-04-27T11:18:33.345Z"
   },
   {
    "duration": 4,
    "start_time": "2024-04-27T11:18:33.543Z"
   },
   {
    "duration": 88,
    "start_time": "2024-04-27T11:18:33.549Z"
   },
   {
    "duration": 88,
    "start_time": "2024-04-27T11:18:33.639Z"
   },
   {
    "duration": 139,
    "start_time": "2024-04-27T11:18:33.729Z"
   },
   {
    "duration": 5,
    "start_time": "2024-04-27T11:18:33.869Z"
   },
   {
    "duration": 117,
    "start_time": "2024-04-27T11:18:33.875Z"
   },
   {
    "duration": 105,
    "start_time": "2024-04-27T11:18:33.994Z"
   },
   {
    "duration": 152,
    "start_time": "2024-04-27T11:18:34.100Z"
   },
   {
    "duration": 5,
    "start_time": "2024-04-27T11:18:34.254Z"
   },
   {
    "duration": 98,
    "start_time": "2024-04-27T11:18:34.260Z"
   },
   {
    "duration": 110,
    "start_time": "2024-04-27T11:18:34.360Z"
   },
   {
    "duration": 130,
    "start_time": "2024-04-27T11:18:34.471Z"
   },
   {
    "duration": 4,
    "start_time": "2024-04-27T11:18:34.602Z"
   },
   {
    "duration": 106,
    "start_time": "2024-04-27T11:18:34.607Z"
   },
   {
    "duration": 95,
    "start_time": "2024-04-27T11:18:34.714Z"
   },
   {
    "duration": 119,
    "start_time": "2024-04-27T11:18:34.810Z"
   },
   {
    "duration": 119,
    "start_time": "2024-04-27T11:18:34.930Z"
   },
   {
    "duration": 135,
    "start_time": "2024-04-27T11:18:35.051Z"
   },
   {
    "duration": 127,
    "start_time": "2024-04-27T11:18:35.187Z"
   },
   {
    "duration": 124,
    "start_time": "2024-04-27T11:18:35.315Z"
   },
   {
    "duration": 24,
    "start_time": "2024-04-27T11:18:35.440Z"
   },
   {
    "duration": 28,
    "start_time": "2024-04-27T11:18:35.465Z"
   },
   {
    "duration": 124,
    "start_time": "2024-04-27T11:18:35.494Z"
   },
   {
    "duration": 753,
    "start_time": "2024-04-28T11:32:56.854Z"
   },
   {
    "duration": 285,
    "start_time": "2024-04-28T11:32:59.144Z"
   },
   {
    "duration": 35,
    "start_time": "2024-04-28T11:33:29.063Z"
   },
   {
    "duration": 15,
    "start_time": "2024-04-28T11:33:29.594Z"
   },
   {
    "duration": 24,
    "start_time": "2024-04-28T11:33:30.010Z"
   },
   {
    "duration": 1916,
    "start_time": "2024-04-28T11:33:30.462Z"
   },
   {
    "duration": 9,
    "start_time": "2024-04-28T11:33:32.380Z"
   },
   {
    "duration": 25,
    "start_time": "2024-04-28T11:33:32.391Z"
   },
   {
    "duration": 5,
    "start_time": "2024-04-28T11:33:32.635Z"
   },
   {
    "duration": 4,
    "start_time": "2024-04-28T11:33:33.647Z"
   },
   {
    "duration": 6,
    "start_time": "2024-04-28T11:33:33.943Z"
   },
   {
    "duration": 6,
    "start_time": "2024-04-28T11:33:34.209Z"
   },
   {
    "duration": 4,
    "start_time": "2024-04-28T11:33:34.460Z"
   },
   {
    "duration": 3,
    "start_time": "2024-04-28T11:33:34.703Z"
   },
   {
    "duration": 21,
    "start_time": "2024-04-28T11:33:34.950Z"
   },
   {
    "duration": 15,
    "start_time": "2024-04-28T11:33:35.223Z"
   },
   {
    "duration": 252,
    "start_time": "2024-04-28T11:33:35.513Z"
   },
   {
    "duration": 27,
    "start_time": "2024-04-28T11:33:35.774Z"
   },
   {
    "duration": 5,
    "start_time": "2024-04-28T11:33:36.608Z"
   },
   {
    "duration": 3,
    "start_time": "2024-04-28T11:33:37.393Z"
   },
   {
    "duration": 4,
    "start_time": "2024-04-28T11:33:37.800Z"
   },
   {
    "duration": 8,
    "start_time": "2024-04-28T11:33:38.789Z"
   },
   {
    "duration": 3,
    "start_time": "2024-04-28T11:33:40.135Z"
   },
   {
    "duration": 5,
    "start_time": "2024-04-28T11:33:40.454Z"
   },
   {
    "duration": 4,
    "start_time": "2024-04-28T11:33:40.798Z"
   },
   {
    "duration": 4,
    "start_time": "2024-04-28T11:33:41.176Z"
   },
   {
    "duration": 9,
    "start_time": "2024-04-28T11:33:41.500Z"
   },
   {
    "duration": 5,
    "start_time": "2024-04-28T11:33:41.826Z"
   },
   {
    "duration": 4,
    "start_time": "2024-04-28T11:33:42.188Z"
   },
   {
    "duration": 29,
    "start_time": "2024-04-28T11:33:43.332Z"
   },
   {
    "duration": 15,
    "start_time": "2024-04-28T11:33:43.757Z"
   },
   {
    "duration": 5,
    "start_time": "2024-04-28T11:33:44.829Z"
   },
   {
    "duration": 6,
    "start_time": "2024-04-28T11:33:45.188Z"
   },
   {
    "duration": 107,
    "start_time": "2024-04-28T11:33:45.421Z"
   },
   {
    "duration": 6,
    "start_time": "2024-04-28T11:33:45.668Z"
   },
   {
    "duration": 324,
    "start_time": "2024-04-28T11:33:46.049Z"
   },
   {
    "duration": 4,
    "start_time": "2024-04-28T11:33:46.510Z"
   },
   {
    "duration": 22,
    "start_time": "2024-04-28T11:33:47.615Z"
   },
   {
    "duration": 264,
    "start_time": "2024-04-28T11:35:19.990Z"
   },
   {
    "duration": 299,
    "start_time": "2024-04-28T11:35:46.160Z"
   },
   {
    "duration": 266,
    "start_time": "2024-04-28T11:36:13.175Z"
   },
   {
    "duration": 86,
    "start_time": "2024-04-28T11:36:45.148Z"
   },
   {
    "duration": 94,
    "start_time": "2024-04-28T11:36:48.873Z"
   },
   {
    "duration": 263,
    "start_time": "2024-04-28T11:36:51.243Z"
   },
   {
    "duration": 175,
    "start_time": "2024-04-28T11:37:23.074Z"
   },
   {
    "duration": 183,
    "start_time": "2024-04-28T11:37:47.177Z"
   },
   {
    "duration": 190,
    "start_time": "2024-04-28T11:38:32.670Z"
   },
   {
    "duration": 239,
    "start_time": "2024-04-28T11:38:58.171Z"
   },
   {
    "duration": 336,
    "start_time": "2024-04-28T11:39:01.925Z"
   },
   {
    "duration": 254,
    "start_time": "2024-04-28T11:39:20.018Z"
   },
   {
    "duration": 225,
    "start_time": "2024-04-28T11:40:23.533Z"
   },
   {
    "duration": 164,
    "start_time": "2024-04-28T11:40:55.699Z"
   },
   {
    "duration": 154,
    "start_time": "2024-04-28T11:41:56.618Z"
   },
   {
    "duration": 151,
    "start_time": "2024-04-28T11:43:57.197Z"
   },
   {
    "duration": 147,
    "start_time": "2024-04-28T11:44:05.061Z"
   },
   {
    "duration": 92,
    "start_time": "2024-04-28T11:44:22.657Z"
   },
   {
    "duration": 149,
    "start_time": "2024-04-28T11:44:25.836Z"
   },
   {
    "duration": 147,
    "start_time": "2024-04-28T11:44:37.148Z"
   },
   {
    "duration": 234,
    "start_time": "2024-04-28T11:45:06.531Z"
   },
   {
    "duration": 3,
    "start_time": "2024-04-28T11:46:03.888Z"
   },
   {
    "duration": 90,
    "start_time": "2024-04-28T11:46:04.399Z"
   },
   {
    "duration": 28,
    "start_time": "2024-04-28T11:46:04.534Z"
   },
   {
    "duration": 15,
    "start_time": "2024-04-28T11:46:04.609Z"
   },
   {
    "duration": 21,
    "start_time": "2024-04-28T11:46:04.674Z"
   },
   {
    "duration": 1886,
    "start_time": "2024-04-28T11:46:04.738Z"
   },
   {
    "duration": 9,
    "start_time": "2024-04-28T11:46:06.626Z"
   },
   {
    "duration": 32,
    "start_time": "2024-04-28T11:46:06.637Z"
   },
   {
    "duration": 12,
    "start_time": "2024-04-28T11:46:06.671Z"
   },
   {
    "duration": 68,
    "start_time": "2024-04-28T11:46:06.685Z"
   },
   {
    "duration": 75,
    "start_time": "2024-04-28T11:46:06.754Z"
   },
   {
    "duration": 43,
    "start_time": "2024-04-28T11:46:06.830Z"
   },
   {
    "duration": 6,
    "start_time": "2024-04-28T11:46:06.875Z"
   },
   {
    "duration": 12,
    "start_time": "2024-04-28T11:46:06.883Z"
   },
   {
    "duration": 21,
    "start_time": "2024-04-28T11:46:06.897Z"
   },
   {
    "duration": 14,
    "start_time": "2024-04-28T11:46:06.919Z"
   },
   {
    "duration": 291,
    "start_time": "2024-04-28T11:46:06.935Z"
   },
   {
    "duration": 26,
    "start_time": "2024-04-28T11:46:07.228Z"
   },
   {
    "duration": 4,
    "start_time": "2024-04-28T11:46:07.256Z"
   },
   {
    "duration": 20,
    "start_time": "2024-04-28T11:46:07.262Z"
   },
   {
    "duration": 38,
    "start_time": "2024-04-28T11:46:07.284Z"
   },
   {
    "duration": 95,
    "start_time": "2024-04-28T11:46:07.324Z"
   },
   {
    "duration": 14,
    "start_time": "2024-04-28T11:46:07.421Z"
   },
   {
    "duration": 12,
    "start_time": "2024-04-28T11:46:07.437Z"
   },
   {
    "duration": 6,
    "start_time": "2024-04-28T11:46:07.450Z"
   },
   {
    "duration": 20,
    "start_time": "2024-04-28T11:46:07.458Z"
   },
   {
    "duration": 12,
    "start_time": "2024-04-28T11:46:07.480Z"
   },
   {
    "duration": 11,
    "start_time": "2024-04-28T11:46:07.494Z"
   },
   {
    "duration": 18,
    "start_time": "2024-04-28T11:46:07.506Z"
   },
   {
    "duration": 64,
    "start_time": "2024-04-28T11:46:07.526Z"
   },
   {
    "duration": 13,
    "start_time": "2024-04-28T11:46:07.592Z"
   },
   {
    "duration": 24,
    "start_time": "2024-04-28T11:46:07.606Z"
   },
   {
    "duration": 25,
    "start_time": "2024-04-28T11:46:07.633Z"
   },
   {
    "duration": 14,
    "start_time": "2024-04-28T11:46:07.660Z"
   },
   {
    "duration": 6,
    "start_time": "2024-04-28T11:46:07.675Z"
   },
   {
    "duration": 416,
    "start_time": "2024-04-28T11:46:07.682Z"
   },
   {
    "duration": 5,
    "start_time": "2024-04-28T11:46:08.099Z"
   },
   {
    "duration": 37,
    "start_time": "2024-04-28T11:46:08.105Z"
   },
   {
    "duration": 31,
    "start_time": "2024-04-28T11:46:08.143Z"
   },
   {
    "duration": 251,
    "start_time": "2024-04-28T11:46:08.175Z"
   },
   {
    "duration": 10,
    "start_time": "2024-04-28T11:46:08.427Z"
   },
   {
    "duration": 260,
    "start_time": "2024-04-28T11:46:08.438Z"
   },
   {
    "duration": 9,
    "start_time": "2024-04-28T11:46:08.700Z"
   },
   {
    "duration": 287,
    "start_time": "2024-04-28T11:46:08.710Z"
   },
   {
    "duration": 11,
    "start_time": "2024-04-28T11:46:08.999Z"
   },
   {
    "duration": 290,
    "start_time": "2024-04-28T11:46:09.012Z"
   },
   {
    "duration": 8,
    "start_time": "2024-04-28T11:46:09.304Z"
   },
   {
    "duration": 195,
    "start_time": "2024-04-28T11:46:09.314Z"
   },
   {
    "duration": 7,
    "start_time": "2024-04-28T11:46:09.511Z"
   },
   {
    "duration": 29,
    "start_time": "2024-04-28T11:46:09.520Z"
   },
   {
    "duration": 25,
    "start_time": "2024-04-28T11:46:09.550Z"
   },
   {
    "duration": 275,
    "start_time": "2024-04-28T11:46:09.576Z"
   },
   {
    "duration": 160,
    "start_time": "2024-04-28T11:46:09.853Z"
   },
   {
    "duration": 9,
    "start_time": "2024-04-28T11:46:10.014Z"
   },
   {
    "duration": 221,
    "start_time": "2024-04-28T11:46:10.024Z"
   },
   {
    "duration": 8,
    "start_time": "2024-04-28T11:46:10.249Z"
   },
   {
    "duration": 279,
    "start_time": "2024-04-28T11:46:10.259Z"
   },
   {
    "duration": 12,
    "start_time": "2024-04-28T11:46:10.540Z"
   },
   {
    "duration": 302,
    "start_time": "2024-04-28T11:46:10.554Z"
   },
   {
    "duration": 8,
    "start_time": "2024-04-28T11:46:10.857Z"
   },
   {
    "duration": 267,
    "start_time": "2024-04-28T11:46:10.867Z"
   },
   {
    "duration": 5,
    "start_time": "2024-04-28T11:46:11.136Z"
   },
   {
    "duration": 207,
    "start_time": "2024-04-28T11:46:11.142Z"
   },
   {
    "duration": 170,
    "start_time": "2024-04-28T11:46:11.350Z"
   },
   {
    "duration": 173,
    "start_time": "2024-04-28T11:46:11.521Z"
   },
   {
    "duration": 6,
    "start_time": "2024-04-28T11:46:11.696Z"
   },
   {
    "duration": 254,
    "start_time": "2024-04-28T11:46:11.703Z"
   },
   {
    "duration": 140,
    "start_time": "2024-04-28T11:46:11.958Z"
   },
   {
    "duration": 177,
    "start_time": "2024-04-28T11:46:12.100Z"
   },
   {
    "duration": 5,
    "start_time": "2024-04-28T11:46:12.278Z"
   },
   {
    "duration": 127,
    "start_time": "2024-04-28T11:46:12.284Z"
   },
   {
    "duration": 123,
    "start_time": "2024-04-28T11:46:12.413Z"
   },
   {
    "duration": 162,
    "start_time": "2024-04-28T11:46:12.538Z"
   },
   {
    "duration": 5,
    "start_time": "2024-04-28T11:46:12.701Z"
   },
   {
    "duration": 144,
    "start_time": "2024-04-28T11:46:12.708Z"
   },
   {
    "duration": 112,
    "start_time": "2024-04-28T11:46:12.854Z"
   },
   {
    "duration": 155,
    "start_time": "2024-04-28T11:46:12.968Z"
   },
   {
    "duration": 154,
    "start_time": "2024-04-28T11:46:13.125Z"
   },
   {
    "duration": 169,
    "start_time": "2024-04-28T11:46:13.281Z"
   },
   {
    "duration": 171,
    "start_time": "2024-04-28T11:46:13.452Z"
   },
   {
    "duration": 156,
    "start_time": "2024-04-28T11:46:13.625Z"
   },
   {
    "duration": 27,
    "start_time": "2024-04-28T11:46:13.783Z"
   },
   {
    "duration": 19,
    "start_time": "2024-04-28T11:46:13.812Z"
   },
   {
    "duration": 178,
    "start_time": "2024-04-28T11:46:13.833Z"
   },
   {
    "duration": 237,
    "start_time": "2024-04-28T11:48:10.889Z"
   },
   {
    "duration": 175,
    "start_time": "2024-04-28T11:49:34.865Z"
   },
   {
    "duration": 148,
    "start_time": "2024-04-28T11:49:48.046Z"
   },
   {
    "duration": 264,
    "start_time": "2024-04-28T11:49:55.222Z"
   },
   {
    "duration": 160,
    "start_time": "2024-04-28T11:50:01.287Z"
   }
  ],
  "colab": {
   "provenance": []
  },
  "kernelspec": {
   "display_name": "Python 3 (ipykernel)",
   "language": "python",
   "name": "python3"
  },
  "language_info": {
   "codemirror_mode": {
    "name": "ipython",
    "version": 3
   },
   "file_extension": ".py",
   "mimetype": "text/x-python",
   "name": "python",
   "nbconvert_exporter": "python",
   "pygments_lexer": "ipython3",
   "version": "3.11.7"
  },
  "toc": {
   "base_numbering": 1,
   "nav_menu": {},
   "number_sections": true,
   "sideBar": true,
   "skip_h1_title": true,
   "title_cell": "Table of Contents",
   "title_sidebar": "Contents",
   "toc_cell": false,
   "toc_position": {},
   "toc_section_display": true,
   "toc_window_display": false
  }
 },
 "nbformat": 4,
 "nbformat_minor": 4
}
