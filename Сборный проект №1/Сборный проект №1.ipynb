{
 "cells": [
  {
   "cell_type": "markdown",
   "metadata": {},
   "source": [
    "# Сборный проект"
   ]
  },
  {
   "cell_type": "markdown",
   "metadata": {},
   "source": [
    "# Введение:\n",
    "\n",
    "**Вы работаете в интернет-магазине «Стримчик», который продаёт по всему миру компьютерные игры. Из открытых источников доступны исторические данные о продажах игр, оценки пользователей и экспертов, жанры и платформы (например, Xbox или PlayStation).**"
   ]
  },
  {
   "cell_type": "markdown",
   "metadata": {},
   "source": [
    "# Цель исследования:\n",
    "\n",
    "**Необходимо выявить определяющие успешность игры закономерности. Это позволит сделать ставку на потенциально популярный продукт и спланировать рекламные кампании.**"
   ]
  },
  {
   "cell_type": "markdown",
   "metadata": {},
   "source": [
    "# План исследования:\n",
    "\n",
    "1. Изучить общую информацию.\n",
    "\n",
    "2. Выполнить предобработку данных.\n",
    "\n",
    "3. Провести исследовательский анализ данных.\n",
    "\n",
    "4. Составить портрет пользователя каждого региона:\n",
    "\n",
    "    Определить для пользователя каждого региона (NA, EU, JP):\n",
    "      - Самые популярные платформы (топ-5).\n",
    "      - Самые популярные жанры (топ-5). \n",
    "      - Влияет ли рейтинг ESRB на продажи в отдельном регионе?\n",
    "      \n",
    "      \n",
    "5. Проверить гипотезы:\n",
    "\n",
    "   - Средние пользовательские рейтинги платформ Xbox One и PC одинаковые;\n",
    "   - Средние пользовательские рейтинги жанров Action (англ. «действие», экшен-игры) и Sports (англ. «спортивные соревнования») разные.\n",
    "   "
   ]
  },
  {
   "cell_type": "code",
   "execution_count": 1,
   "metadata": {},
   "outputs": [],
   "source": [
    "import pandas as pd\n",
    "import matplotlib.pyplot as plt\n",
    "import seaborn as sns\n",
    "import numpy as np\n",
    "from scipy import stats as st\n",
    "from scipy.stats import binom"
   ]
  },
  {
   "cell_type": "markdown",
   "metadata": {},
   "source": [
    "## Шаг 1. Загрузка данных"
   ]
  },
  {
   "cell_type": "markdown",
   "metadata": {},
   "source": [
    "### Сохраним данные в датафреймы"
   ]
  },
  {
   "cell_type": "code",
   "execution_count": 2,
   "metadata": {},
   "outputs": [],
   "source": [
    "games = pd.read_csv('/datasets/games.csv')"
   ]
  },
  {
   "cell_type": "markdown",
   "metadata": {},
   "source": [
    "### Выведим первые строки каждого набора данных, основную информацию о датафреймах с помощью метода `info()` и найдем явные дубликаты:"
   ]
  },
  {
   "cell_type": "code",
   "execution_count": 3,
   "metadata": {},
   "outputs": [
    {
     "data": {
      "text/html": [
       "<div>\n",
       "<style scoped>\n",
       "    .dataframe tbody tr th:only-of-type {\n",
       "        vertical-align: middle;\n",
       "    }\n",
       "\n",
       "    .dataframe tbody tr th {\n",
       "        vertical-align: top;\n",
       "    }\n",
       "\n",
       "    .dataframe thead th {\n",
       "        text-align: right;\n",
       "    }\n",
       "</style>\n",
       "<table border=\"1\" class=\"dataframe\">\n",
       "  <thead>\n",
       "    <tr style=\"text-align: right;\">\n",
       "      <th></th>\n",
       "      <th>Name</th>\n",
       "      <th>Platform</th>\n",
       "      <th>Year_of_Release</th>\n",
       "      <th>Genre</th>\n",
       "      <th>NA_sales</th>\n",
       "      <th>EU_sales</th>\n",
       "      <th>JP_sales</th>\n",
       "      <th>Other_sales</th>\n",
       "      <th>Critic_Score</th>\n",
       "      <th>User_Score</th>\n",
       "      <th>Rating</th>\n",
       "    </tr>\n",
       "  </thead>\n",
       "  <tbody>\n",
       "    <tr>\n",
       "      <th>0</th>\n",
       "      <td>Wii Sports</td>\n",
       "      <td>Wii</td>\n",
       "      <td>2006.0</td>\n",
       "      <td>Sports</td>\n",
       "      <td>41.36</td>\n",
       "      <td>28.96</td>\n",
       "      <td>3.77</td>\n",
       "      <td>8.45</td>\n",
       "      <td>76.0</td>\n",
       "      <td>8</td>\n",
       "      <td>E</td>\n",
       "    </tr>\n",
       "    <tr>\n",
       "      <th>1</th>\n",
       "      <td>Super Mario Bros.</td>\n",
       "      <td>NES</td>\n",
       "      <td>1985.0</td>\n",
       "      <td>Platform</td>\n",
       "      <td>29.08</td>\n",
       "      <td>3.58</td>\n",
       "      <td>6.81</td>\n",
       "      <td>0.77</td>\n",
       "      <td>NaN</td>\n",
       "      <td>NaN</td>\n",
       "      <td>NaN</td>\n",
       "    </tr>\n",
       "    <tr>\n",
       "      <th>2</th>\n",
       "      <td>Mario Kart Wii</td>\n",
       "      <td>Wii</td>\n",
       "      <td>2008.0</td>\n",
       "      <td>Racing</td>\n",
       "      <td>15.68</td>\n",
       "      <td>12.76</td>\n",
       "      <td>3.79</td>\n",
       "      <td>3.29</td>\n",
       "      <td>82.0</td>\n",
       "      <td>8.3</td>\n",
       "      <td>E</td>\n",
       "    </tr>\n",
       "    <tr>\n",
       "      <th>3</th>\n",
       "      <td>Wii Sports Resort</td>\n",
       "      <td>Wii</td>\n",
       "      <td>2009.0</td>\n",
       "      <td>Sports</td>\n",
       "      <td>15.61</td>\n",
       "      <td>10.93</td>\n",
       "      <td>3.28</td>\n",
       "      <td>2.95</td>\n",
       "      <td>80.0</td>\n",
       "      <td>8</td>\n",
       "      <td>E</td>\n",
       "    </tr>\n",
       "    <tr>\n",
       "      <th>4</th>\n",
       "      <td>Pokemon Red/Pokemon Blue</td>\n",
       "      <td>GB</td>\n",
       "      <td>1996.0</td>\n",
       "      <td>Role-Playing</td>\n",
       "      <td>11.27</td>\n",
       "      <td>8.89</td>\n",
       "      <td>10.22</td>\n",
       "      <td>1.00</td>\n",
       "      <td>NaN</td>\n",
       "      <td>NaN</td>\n",
       "      <td>NaN</td>\n",
       "    </tr>\n",
       "  </tbody>\n",
       "</table>\n",
       "</div>"
      ],
      "text/plain": [
       "                       Name Platform  Year_of_Release         Genre  NA_sales  \\\n",
       "0                Wii Sports      Wii           2006.0        Sports     41.36   \n",
       "1         Super Mario Bros.      NES           1985.0      Platform     29.08   \n",
       "2            Mario Kart Wii      Wii           2008.0        Racing     15.68   \n",
       "3         Wii Sports Resort      Wii           2009.0        Sports     15.61   \n",
       "4  Pokemon Red/Pokemon Blue       GB           1996.0  Role-Playing     11.27   \n",
       "\n",
       "   EU_sales  JP_sales  Other_sales  Critic_Score User_Score Rating  \n",
       "0     28.96      3.77         8.45          76.0          8      E  \n",
       "1      3.58      6.81         0.77           NaN        NaN    NaN  \n",
       "2     12.76      3.79         3.29          82.0        8.3      E  \n",
       "3     10.93      3.28         2.95          80.0          8      E  \n",
       "4      8.89     10.22         1.00           NaN        NaN    NaN  "
      ]
     },
     "execution_count": 3,
     "metadata": {},
     "output_type": "execute_result"
    }
   ],
   "source": [
    "games.head()"
   ]
  },
  {
   "cell_type": "code",
   "execution_count": 4,
   "metadata": {},
   "outputs": [
    {
     "name": "stdout",
     "output_type": "stream",
     "text": [
      "<class 'pandas.core.frame.DataFrame'>\n",
      "RangeIndex: 16715 entries, 0 to 16714\n",
      "Data columns (total 11 columns):\n",
      " #   Column           Non-Null Count  Dtype  \n",
      "---  ------           --------------  -----  \n",
      " 0   Name             16713 non-null  object \n",
      " 1   Platform         16715 non-null  object \n",
      " 2   Year_of_Release  16446 non-null  float64\n",
      " 3   Genre            16713 non-null  object \n",
      " 4   NA_sales         16715 non-null  float64\n",
      " 5   EU_sales         16715 non-null  float64\n",
      " 6   JP_sales         16715 non-null  float64\n",
      " 7   Other_sales      16715 non-null  float64\n",
      " 8   Critic_Score     8137 non-null   float64\n",
      " 9   User_Score       10014 non-null  object \n",
      " 10  Rating           9949 non-null   object \n",
      "dtypes: float64(6), object(5)\n",
      "memory usage: 1.4+ MB\n"
     ]
    }
   ],
   "source": [
    "games.info()"
   ]
  },
  {
   "cell_type": "code",
   "execution_count": 5,
   "metadata": {},
   "outputs": [
    {
     "data": {
      "text/plain": [
       "0"
      ]
     },
     "execution_count": 5,
     "metadata": {},
     "output_type": "execute_result"
    }
   ],
   "source": [
    "games.duplicated().sum()"
   ]
  },
  {
   "cell_type": "code",
   "execution_count": 6,
   "metadata": {},
   "outputs": [
    {
     "data": {
      "text/plain": [
       "{nan,\n",
       " 'Anarchy Reigns',\n",
       " 'Championship Motocross 2001 featuring Ricky Carmichael',\n",
       " 'Broken Sword II: The Smoking Mirror',\n",
       " 'Yakuza 3',\n",
       " 'Fatal Fury: Battle Archives Volume 1 (JP sales)',\n",
       " 'Tom and Jerry in War of the Whiskers',\n",
       " 'Demon Gaze 2',\n",
       " 'Bleach: Blade Battlers',\n",
       " 'Burnout 3: Takedown',\n",
       " 'Girls und Panzer: I Will Master Tankery',\n",
       " 'The Sims 3: Late Night Expansion Pack',\n",
       " 'Mortal Kombat',\n",
       " 'River King: Wonderful Journey',\n",
       " 'Rad Racer',\n",
       " 'NBA Live 2001',\n",
       " 'War Leaders: Clash of Nations',\n",
       " 'Amplitude',\n",
       " 'Hunter x Hunter: Wonder Adventure',\n",
       " 'Harvest Moon GB',\n",
       " 'NFL 2K2',\n",
       " 'King Kong',\n",
       " 'Mario & Wario',\n",
       " \"Disney's The Little Mermaid: Ariel's Undersea Adventure\",\n",
       " 'Mah Jong Quest: Expeditions',\n",
       " 'Titanfall 2',\n",
       " 'DoDonPachi Saidaioujou',\n",
       " 'International Superstar Soccer 2000',\n",
       " 'Knockout Kings 2002',\n",
       " 'Taiko no Tatsujin: Waku Waku Anime Matsuri',\n",
       " 'Apex',\n",
       " 'Winter Blast: 9 Snow & Ice Games',\n",
       " 'Minna to Kimi no Piramekino!',\n",
       " 'Bejeweled 3',\n",
       " 'Playboy: The Mansion',\n",
       " 'Xena: Warrior Princess - The Talisman of Fate',\n",
       " 'Air Conflicts: Secret Wars',\n",
       " 'NBA ShootOut 2000',\n",
       " 'Horse Life 4: My Horse, My Friend, My Champion',\n",
       " 'Sound Novel Tsukuru',\n",
       " 'Final Fantasy VI Advance',\n",
       " 'Suzumiya Haruhi no Chokuretsu',\n",
       " 'Dynasty Warriors 3',\n",
       " 'Hakuouki: Reimeiroku',\n",
       " 'Tokimeki Mahjong Paradise: Koi no Tenpai Beat',\n",
       " 'Radiant Silvergun',\n",
       " 'Iron Man 2',\n",
       " 'Battle Spirits: Kiseki no Hasha',\n",
       " 'Legacy of Ys: Books I & II',\n",
       " 'Hot Wheels: Stunt Track Challenge / World Race',\n",
       " 'Kung Fu Panda: Legendary Warriors',\n",
       " 'Super Robot Taisen OG Saga: Masou Kishin III - Pride of Justice',\n",
       " 'God Eater Off Shot: Tachibana Sakuya-hen Twin Pack & Animation Vol.7',\n",
       " 'Echo Night Beyond',\n",
       " 'Mazes of Fate DS',\n",
       " 'Batman Beyond: Return of the Joker',\n",
       " 'Strike Witches 2: Iyasu Naosu Punipunisuru',\n",
       " 'Super Baseball Simulator 1.000',\n",
       " 'EverQuest Online Adventures',\n",
       " 'Mame Goma 2: Uchi no Ko ga Ichiban!',\n",
       " 'Thrillville',\n",
       " 'Unchained Blades ',\n",
       " 'Breakdown',\n",
       " 'Kinetica',\n",
       " 'Super Bust-A-Move',\n",
       " 'California Speed',\n",
       " 'Ready 2 Rumble Boxing: Round 2',\n",
       " 'Pony Friends',\n",
       " 'FairlyLife: MiracleDays',\n",
       " 'Saru! Get You! Million Monkeys',\n",
       " 'Uncharted: The Nathan Drake Collection',\n",
       " 'Tron 2.0: Killer App',\n",
       " 'Tales of the Abyss',\n",
       " 'Killer7',\n",
       " 'Peggle: Dual Shot',\n",
       " 'Bomberman Party Edition',\n",
       " 'Super Black Bass Fishing',\n",
       " 'Space Station Silicon Valley',\n",
       " 'R.U.S.E.',\n",
       " 'Shinken de Watashi ni Koi Shinasai! R',\n",
       " 'Zoey 101: Field Trip Fiasco',\n",
       " 'Bomberman II',\n",
       " 'Hot Shots Golf 2',\n",
       " 'Cartoon Network Battle Crashers',\n",
       " 'Juiced: Eliminator',\n",
       " 'Harukanaru Toki no Naka de: Maihitoyo',\n",
       " 'Mushihimesama Futari Ver 1.5',\n",
       " 'Yahari Game Demo Ore no Seishun Love-Kome wa Machigatteiru. Zoku',\n",
       " \"Katekyoo Hitman Reborn!! Let's Ansatsu!? Nerawareta 10 Daime!\",\n",
       " 'Skate 3',\n",
       " 'Momotarou Dentetsu World',\n",
       " 'Dead or Alive Paradise',\n",
       " 'Yu-Gi-Oh! GX: Tag Force 2',\n",
       " 'Book of Spells',\n",
       " 'Project: Snowblind',\n",
       " \"Resident Evil Director's Cut: Dual Shock Edition\",\n",
       " 'Wario Land II (GBC)',\n",
       " 'GRID',\n",
       " 'Fire Emblem',\n",
       " \"Gekido Advance: Kintaro's Revenge\",\n",
       " \"Slam 'n Jam '96 featuring Magic & Kareem\",\n",
       " 'Naruto: Ninja Destiny (US sales)',\n",
       " 'Jak 3',\n",
       " 'Petz Bunnyz',\n",
       " 'Gretzky NHL 06',\n",
       " \"Mirror's Edge\",\n",
       " 'Romance of the Three Kingdoms XI',\n",
       " 'Action Force',\n",
       " 'Street Racer',\n",
       " 'Dead or Alive Xtreme 2',\n",
       " 'Silent Scope',\n",
       " 'Sly Cooper: Thieves in Time',\n",
       " 'NHL FaceOff 2001',\n",
       " 'Siren',\n",
       " 'Arabians Lost: The Engagement on Desert',\n",
       " 'IndyCar Series',\n",
       " \"Pop'n Music 13 Carnival\",\n",
       " \"That's So Raven 2: Supernatural Style\",\n",
       " 'htoL#NiQ: The Firefly Diary',\n",
       " 'Magical Starsign (JP sales)',\n",
       " \"Disney's Kim Possible: Kimmunicator\",\n",
       " 'Novastorm',\n",
       " 'True Crime: Streets of LA',\n",
       " 'Myth Makers: Super Kart GP',\n",
       " 'Mind Zero',\n",
       " \"Disney's Kim Possible: Revenge of Monkey Fist\",\n",
       " '4x4 Evolution',\n",
       " 'Monster Hunter 4',\n",
       " 'Chaos Rings III',\n",
       " 'Battle Arena Toshinden URA',\n",
       " 'Maximum Racing: GP Classic Racing',\n",
       " \"Mahou Shoujo Lyrical Nanoha A's Portable: The Gears of Destiny\",\n",
       " 'Medabots: Metabee',\n",
       " 'Puzzle & Dragons Z + Super Mario Bros. Edition',\n",
       " 'Dungeon Travelers 2: The Royal Library & The Monster Seal',\n",
       " 'My Baby Boy',\n",
       " 'Trauma Center: Second Opinion',\n",
       " 'J-League Winning Eleven 2010: Club Championship',\n",
       " 'The Legend of Heroes: Trails in the Sky First Chapter',\n",
       " 'Far Cry 2',\n",
       " 'I Spy: Castle',\n",
       " 'Bio FREAKS',\n",
       " 'Tomba! 2: The Evil Swine Return',\n",
       " 'Art Academy: Lessons for Everyone',\n",
       " 'Fishdom',\n",
       " 'Vanishing Point',\n",
       " \"Smuggler's Run\",\n",
       " 'Ninja Gaiden',\n",
       " 'Young Justice: Legacy',\n",
       " 'Supreme Commander',\n",
       " 'Caesar III',\n",
       " 'Daito Giken Premium Pachi-Slot Collection: Yoshimune',\n",
       " 'Kimi ni Todoke: Sodateru Omoi',\n",
       " 'Jissen Pachi-Slot Hisshouhou! Hokuto no Ken SE',\n",
       " 'Your Shape: Fitness Evolved 2013',\n",
       " 'Professor Layton vs Phoenix Wright: Ace Attorney',\n",
       " 'Far East of Eden II: Manji Maru',\n",
       " 'Durarara!! 3way Standoff: Alley',\n",
       " 'Jampack Winter 2000',\n",
       " 'Triple Play 2000',\n",
       " 'Prehistorik Man',\n",
       " 'Brothers Conflict: Passion Pink',\n",
       " 'Derby Stallion',\n",
       " \"Cruis'n USA\",\n",
       " 'Street Hoops',\n",
       " 'NASCAR Racing',\n",
       " 'Tennis no Oji-Sama: DokiDoki Survival - Umibe no Secret',\n",
       " 'Medabots AX: Metabee',\n",
       " 'Serious Sam Advance',\n",
       " 'Casual Mania!',\n",
       " 'SingStar R&B',\n",
       " 'Mega Man 64',\n",
       " 'Mystery Case Files: Ravenhearst',\n",
       " 'E·O·E: Eve of Extinction',\n",
       " 'TrackMania DS',\n",
       " 'Smarty Pants',\n",
       " 'Fighter Within',\n",
       " 'Fatal Fury: Battle Archives Volume 2',\n",
       " 'Tecmo Classic Arcade',\n",
       " 'Rocket: Robot on Wheels',\n",
       " 'Daito Giken Koushiki Pachi-Slot Simulator: Shin Yoshimune',\n",
       " 'Lips: Number One Hits',\n",
       " 'Colony Wars: Vengeance',\n",
       " 'Yu-Gi-Oh! Forbidden Memories',\n",
       " 'Neo Contra',\n",
       " 'Busou Renkin: Youkoso Papillon Park e',\n",
       " 'Dragon Ball Z: Ultime Menace',\n",
       " 'DS Yamamura Misa Suspense: Maiko Kogiku - Kisha Katherine - Sougiya Isa Akashi - Koto ni Maru Hana Sanrin: Kyoto Satujin Jinken File',\n",
       " 'Battle Arena Toshinden',\n",
       " 'Battleborn',\n",
       " 'Motto NUGA-CEL!',\n",
       " 'Gaist Crusher God',\n",
       " 'Aedis Eclipse: Generation of Chaos',\n",
       " 'Creeper World 3: Arc Eternal',\n",
       " 'Squinkies',\n",
       " 'The Walking Dead: Survival Instinct',\n",
       " 'Empire Earth',\n",
       " \"Calvin Tucker's Redneck Jamboree\",\n",
       " 'Hamtaro: Ham-Ham Heartbreak',\n",
       " 'J-League Winning Eleven 9: Asia Championship',\n",
       " 'Middle-Earth: Shadow of Mordor',\n",
       " 'The Price is Right 2010 Edition',\n",
       " 'Shin Megami Tensei IV: Final',\n",
       " 'Finding Nemo: Escape to the Big Blue',\n",
       " 'Nights of Azure',\n",
       " 'Lumines ll',\n",
       " \"Backyard Wrestling: Don't Try This at Home\",\n",
       " 'Kawa no Nushi Tsuri',\n",
       " 'Vampire Knight DS',\n",
       " 'Dino Pets',\n",
       " \"Yoshi's Island DS\",\n",
       " 'Star Wars Jedi Knight: Jedi Academy',\n",
       " 'Resident Evil 2: Dual Shock Edition',\n",
       " \"Jikkyou Powerful Pro Yakyuu '97 Kaimakuban\",\n",
       " 'Conception II: Children of the Seven Stars',\n",
       " 'DropCast',\n",
       " 'Yoake Yori Ruriiro na Portable',\n",
       " 'Ore no Shikabane o Koete Yuke',\n",
       " 'The Godfather: Blackhand Edition',\n",
       " 'Storm Lover 2nd V',\n",
       " 'DokiDoki Majo Shinpan! 2',\n",
       " 'Frontier Gate',\n",
       " 'Shiren the Wanderer',\n",
       " 'Test Drive Off-Road Wide Open',\n",
       " 'Air Combat',\n",
       " 'Namco Museum Battle Collection',\n",
       " 'Press Your Luck 2010 Edition',\n",
       " 'Rune: Viking Warlord',\n",
       " 'Dynasty Warriors 6 (JP sales)',\n",
       " 'StarCraft',\n",
       " 'Planescape: Torment',\n",
       " 'Skate City Heroes',\n",
       " 'Dead Rising 2: Off the Record',\n",
       " 'Samurai Shodown III',\n",
       " 'Vitamin Z',\n",
       " 'No More Heroes: Red Zone',\n",
       " 'TMNT: Mutant Melee',\n",
       " 'Fairy Tail: Zelef Kakusei',\n",
       " 'Infinite Stratos 2: Ignition Hearts',\n",
       " 'World of Warcraft',\n",
       " 'Codename: Panzers Cold War',\n",
       " 'Polar Bowler',\n",
       " 'Ar tonelico 2: Melody of Metafalica',\n",
       " 'Guess the Logos',\n",
       " 'Great Edo Blacksmith',\n",
       " 'ESPN International Track & Field',\n",
       " 'X-Blades',\n",
       " \"Hunted: The Demon's Forge\",\n",
       " 'NFL Xtreme 2',\n",
       " 'Zoo Tycoon 2',\n",
       " 'Carnival Games',\n",
       " 'Mobile Suit Gundam 00: Gundam Meisters',\n",
       " 'Hisshou Pachinko*Pachi-Slot Kouryaku Series Vol. 1: CR Shinseiki Evangelion',\n",
       " 'Franklin the Turtle',\n",
       " 'Phantom Kingdom Portable',\n",
       " 'Spectrobes: Beyond the Portals',\n",
       " 'Rondo of Swords (US sales)',\n",
       " \"King's Bounty: Armored Princess\",\n",
       " 'Teenage Mutant Ninja Turtles: Tournament Fighters',\n",
       " 'Grooverider: Slot Car Thunder',\n",
       " 'The Legend of Zelda: The Wind Waker',\n",
       " \"Lock's Quest\",\n",
       " 'Rurouni Kenshin: Meiji Kenkaku Romantan Saisen',\n",
       " 'Short Track Racing: Trading Paint',\n",
       " 'Battlestar Galactica',\n",
       " 'Lilpri DS: Hime-Chen! Apple Pink',\n",
       " 'F1 2016 (Codemasters)',\n",
       " 'Dave Mirra Freestyle BMX 2',\n",
       " 'Roogoo Twisted Towers',\n",
       " 'Board Game: Top Shop',\n",
       " 'Dragon Warrior I&II',\n",
       " 'Rhythm Heaven: The Best+',\n",
       " 'Conflict: Desert Storm',\n",
       " 'Time Crisis: Crisis Zone',\n",
       " 'Canvas 2',\n",
       " 'Pro Yaky? Spirits 2010',\n",
       " 'IL-2 Sturmovik: 1946',\n",
       " 'Maximum Capacity: Hotel Giant',\n",
       " 'Parasite Eve II',\n",
       " 'SpongeBob SquigglePants',\n",
       " 'Luxor: The Wrath of Set',\n",
       " 'The LEGO Movie Videogame',\n",
       " 'Katekyoo Hitman Reborn! Dream Hyper Battle! Wii',\n",
       " 'Dynasty Warriors 5',\n",
       " 'Minna no Sukkiri',\n",
       " 'Brothers In Arms: Road to Hill 30',\n",
       " 'Summer Athletics',\n",
       " 'Madden NFL 11',\n",
       " 'Resident Evil (Remake)',\n",
       " 'Skylanders: SuperChargers',\n",
       " 'NHL 13',\n",
       " 'Puzzle City',\n",
       " 'Neon Genesis Evangelion 2nd Impression',\n",
       " 'Bomberman Land',\n",
       " 'Fight Night 2004',\n",
       " 'DeathSmiles II',\n",
       " 'Help Wanted: 50 Wacky Jobs (jp sales)',\n",
       " 'Wolfenstein: The New Order',\n",
       " 'Tao Feng: Fist of the Lotus',\n",
       " 'Sled Shred featuring the Jamaican Bobsled Team',\n",
       " \"Disney's Lilo & Stitch\",\n",
       " 'Yakuza',\n",
       " 'Malice',\n",
       " 'God of War III',\n",
       " 'StormLover',\n",
       " 'Element Girl: Love, Fashion and Friends',\n",
       " 'Mega Man Zero 4',\n",
       " 'In The Groove',\n",
       " 'Railroad Tycoon 3',\n",
       " \"J-League Excite Stage '95\",\n",
       " 'Walt Disney Pictures Presents: The Wild',\n",
       " 'Moe Moe 2-Ji Daisenryaku 2',\n",
       " 'Last Ranker',\n",
       " 'Pokemon Ruby/Pokemon Sapphire',\n",
       " 'Harukanaru Toki no Naka de 3: Unmei no Meikyuu Aizouban',\n",
       " 'Reversal Challenge',\n",
       " 'Midnight Club 3: DUB Edition (America weekly sales)',\n",
       " 'Lord of Arcana',\n",
       " 'Crash Superpack: Crash Bandicoot 2: N-Tranced / Crash Nitro Kart',\n",
       " '3D Dot Game Heroes',\n",
       " 'Hana to Otome ni Shukufuku o: Harekaze no Okurimono',\n",
       " 'Dragon Quest X: All in One Package',\n",
       " 'Hannah Montana: The Movie',\n",
       " 'Nogizaka Haruka no Himitsu Cosplay, Hajime Mashita',\n",
       " 'Tenchu: Wrath of Heaven',\n",
       " 'Emergency Room: Real Life Rescues',\n",
       " 'Eternal Poison',\n",
       " 'Danball Senki Boost',\n",
       " 'Super Mario Strikers',\n",
       " 'V-Rally Edition 99',\n",
       " 'Metal Gear Solid: The Legacy Collection',\n",
       " 'ATV Offroad Fury',\n",
       " 'Deception IV: Blood Ties',\n",
       " 'Crazy Machines',\n",
       " \"The King of Fighters '98: Dream Match Never Ends\",\n",
       " 'Panzer Dragoon Orta',\n",
       " 'Petz: Dogz Pack',\n",
       " \"I'm A Celebrity: Get Me Out of Here!\",\n",
       " 'BeatMania Append 3rdMix',\n",
       " 'RollerCoaster Tycoon World',\n",
       " 'World Soccer Winning Eleven 7 International (JP version)',\n",
       " 'Gunvalkyrie',\n",
       " 'Yokai Watch 2 Shinuchi',\n",
       " 'Busou Shinki: Battle Masters',\n",
       " 'Bayonetta 2',\n",
       " 'The Amazing Spider-Man 2 (2014)',\n",
       " 'Dark Souls III',\n",
       " 'Plants vs. Zombies: Garden Warfare 2',\n",
       " 'Uchida Yasuou Mystery: Meitantei Senken Mitsuhiko Series: Fukutoshin Renzoku Satsujin Jiken',\n",
       " 'Hitman: Blood Money',\n",
       " 'SD Gundam G Generation Neo',\n",
       " 'Racquet Sports',\n",
       " 'Super Mario Bros.',\n",
       " 'Otometeki Koi Kakumei * Love Revo!! DS',\n",
       " 'Yowamushi Pedal',\n",
       " 'Fallout: Brotherhood of Steel',\n",
       " 'Shin Ken to Mah? to Gakuenmono. Toki no Gakuen',\n",
       " 'Dissidia 012: Duodecim Final Fantasy',\n",
       " \"Herc's Adventures\",\n",
       " 'Lalaloopsy',\n",
       " 'The Idolmaster: Gravure For You! Vol. 3',\n",
       " 'Taiko no Tatsujin Wii',\n",
       " 'I Heart Geeks',\n",
       " 'Mario Party',\n",
       " 'Bank Heist',\n",
       " 'Kilari: Na-san, Mon Meilleur Ami',\n",
       " 'Justice League Heroes: The Flash',\n",
       " 'Shrek 2',\n",
       " 'Spyro: Season of Ice',\n",
       " 'Front Mission 2',\n",
       " \"Assassin's Creed II: Discovery\",\n",
       " 'Dragon Ball GT: Transformation',\n",
       " 'Lowrider',\n",
       " 'Metal Gear Solid 2: Substance',\n",
       " 'All-Star Baseball 2004',\n",
       " 'Forza Motorsport 3',\n",
       " 'Looney Tunes: Space Race',\n",
       " 'Qix',\n",
       " 'Uchi no 3 Shimai DS',\n",
       " 'Disgaea DS',\n",
       " 'Jissen Pachi-Slot Hisshouhou! Aladdin A',\n",
       " 'Primal',\n",
       " 'Chrono Trigger',\n",
       " 'The Monkey King: The Legend Begins',\n",
       " 'Yokai Sangokushi',\n",
       " 'NHL 17',\n",
       " 'Dream C Club Zero',\n",
       " 'Mario & Sonic at the Rio 2016 Olympic Games',\n",
       " 'Onechanbara: Bikini Samurai Squad',\n",
       " 'Shape Up',\n",
       " 'Sunrise Eiyuutan R',\n",
       " 'Tekken 3D: Prime Edition',\n",
       " 'Super Street Fighter II',\n",
       " \"Sid Meier's Civilization IV\",\n",
       " 'PDC World Championship Darts 2008',\n",
       " 'Yu-Gi-Oh! GX: The Beginning of Destiny (US sales)',\n",
       " 'X-Men Origins: Wolverine',\n",
       " '.hack//Link',\n",
       " 'Exit DS',\n",
       " 'Digimon Digital Card Battle',\n",
       " 'Atelier Rorona: Alchemist of Arland',\n",
       " '7 Wonders II',\n",
       " 'GunGriffon',\n",
       " 'Bust-A-Move DS',\n",
       " \"Tony Hawk's American Wasteland\",\n",
       " 'Major League Baseball 2K6',\n",
       " \"America's Test Kitchen: Let's Get Cooking\",\n",
       " 'Geometry Wars: Galaxies',\n",
       " 'Rogue Trip: Vacation 2012',\n",
       " 'World Stadium 5',\n",
       " 'Petz: Catz Playground',\n",
       " 'ESPN MLS ExtraTime 2002',\n",
       " 'Super Smash Bros. Melee',\n",
       " 'Madden NFL 16',\n",
       " 'Demon Attack',\n",
       " 'The Sims 4: City Living',\n",
       " 'Hakuouki: Reimeiroku Portable',\n",
       " 'Kikou Heidan J-Phoenix: Cobalt Shoutaihen',\n",
       " 'Pachi-Slot Aruze Oukoku 4',\n",
       " 'Dynasty Warriors',\n",
       " 'NHL 14',\n",
       " \"LEGO Legends of Chima: Laval's Journey\",\n",
       " 'Armored Core: Nine Breaker',\n",
       " 'Iron Man / X-O Manowar in Heavy Metal',\n",
       " 'WSC REAL 09: World Snooker Championship',\n",
       " \"Mario's Picross\",\n",
       " 'Namco Soccer Prime Goal',\n",
       " 'Life is Strange',\n",
       " 'Minna de Jibun no Setsumeisho: B-Kata, A-Kata, AB-Kata, O-Kata',\n",
       " 'Jet Impulse',\n",
       " 'PlayStation Move Heroes',\n",
       " 'Medieval Games',\n",
       " 'SBK: Snowboard Kids',\n",
       " 'Monster Hunter Frontier Online: Forward 2',\n",
       " 'Custom Beat Battle: Draglade 2',\n",
       " 'Champion Jockey: G1 Jockey & Gallop Racer',\n",
       " 'Hot Wheels: Beat That!',\n",
       " 'Dolphin',\n",
       " 'Nobunaga no Yabou: Tenshoki',\n",
       " 'World League Soccer',\n",
       " 'Touhoku Daigaku Mirai Kagaku Gijutsu Kyoudou Kenkyuu Center Kawashima Ryuuta Kyouju Kanshu: Nou Ryoku Trainer Portable',\n",
       " 'Heisei Kyouiku linkai DS',\n",
       " 'SingStar Amped',\n",
       " 'Sword of the Samurai',\n",
       " 'Mytran Wars',\n",
       " 'Cold War',\n",
       " 'Mobile Suit Gundam: Gundam vs. Gundam NEXT PLUS',\n",
       " \"Pro Yakyuu Family Stadium '87\",\n",
       " 'Medal of Honor: European Assault',\n",
       " 'Judge Dredd',\n",
       " 'Kenka Bancho: Badass Rumble',\n",
       " 'I Spy: Universe',\n",
       " 'Ridge Racer V',\n",
       " 'Monsters, Inc. Scream Team',\n",
       " 'Chessmaster',\n",
       " 'Daytona USA Championship Circuit Edition',\n",
       " 'Final Fantasy V',\n",
       " 'Corpse Party: Blood Covered - Repeated Fear',\n",
       " \"Chuck E. Cheese's Super Collection\",\n",
       " 'Drome Racers',\n",
       " 'Lagoon',\n",
       " 'Star Wars The Clone Wars: Republic Heroes',\n",
       " 'Valkyrie Profile 2: Silmeria',\n",
       " 'Codename Tenka',\n",
       " 'Brothers Conflict: Brilliant Blue',\n",
       " 'Dance Dance Revolution Extreme 2',\n",
       " 'Mobile Light Force 2',\n",
       " 'A Collection of Classic Games from the Intellivision',\n",
       " 'Beyblade VForce: Ultimate Blader Jam',\n",
       " \"Infernal: Hell's Vengeance\",\n",
       " 'Final Fantasy Fables: Chocobo Tales',\n",
       " 'Crayon Shin-chan: Arashi o Yobu Kasukabe Eiga Stars!',\n",
       " 'Dogz',\n",
       " 'CV Casting Voice',\n",
       " 'Macross Digital Mission VF-X',\n",
       " 'Bomberman 2',\n",
       " 'Final Fantasy III',\n",
       " 'Konami Classics Vol. 2',\n",
       " 'T.R.A.G. - Tactical Rescue Assault Group: Mission of Mercy',\n",
       " 'Spore Hero Arena',\n",
       " 'Digimon World DS (JP sales)',\n",
       " 'Conflict: Global Terror',\n",
       " 'Digimon World Re:Digitize Decode',\n",
       " 'Classic NES Series: Excitebike',\n",
       " 'Romance of the Three Kingdoms VI: Awakening of the Dragon',\n",
       " 'Fantastic Four',\n",
       " 'EA Sports Active',\n",
       " 'Tearaway',\n",
       " 'Haikyuu!! Tsunage! Itadaki no Keshiki!!',\n",
       " 'Just Dance',\n",
       " 'Madden NFL 2002',\n",
       " 'Nihon Keizai Shinbunsha Kanshuu: Shiranai Mamade wa Son o Suru Mono ya Okane no Shikumi DS',\n",
       " 'Who Wants to be a Millionaire: 2nd Edition',\n",
       " 'Diddy Kong Racing',\n",
       " 'Ikki Tousen: Shining Dragon',\n",
       " 'Sudoku Ball Detective',\n",
       " 'Dream Club Zero Portable',\n",
       " 'Trivial Pursuit: Bet You Know It',\n",
       " 'Godai: Elemental Force',\n",
       " 'Risen',\n",
       " \"Aquanaut's Holiday\",\n",
       " 'F1 Championship Season 2000',\n",
       " 'Shinobi',\n",
       " 'Suggoi! Arcana Heart 2',\n",
       " 'Blender Bros.',\n",
       " 'Zaidan Houjin Nippon Kanji Nouryoku Kentei Kyoukai Koushiki Soft: 200 Mannin no KanKen: Tokoton Kanji Nou',\n",
       " 'Urban Reign',\n",
       " 'Grand Theft Auto',\n",
       " 'Fear Factor: Unleashed',\n",
       " 'Sentou Kokka Air Land Battle',\n",
       " 'Hotel for Dogs',\n",
       " 'Cake Mania 3',\n",
       " 'Amnesia Later',\n",
       " 'Zathura',\n",
       " 'Gummy Bears Magical Medallion',\n",
       " 'Mega Man 2',\n",
       " 'Wordfish',\n",
       " 'X-Men: Mutant Academy 2',\n",
       " \"Gabrielle's Ghostly Groove 3D\",\n",
       " 'Jurassic: The Hunted',\n",
       " 'Momu-chan Diet Wii: Figurobics by Chon Dayon',\n",
       " 'Little Busters! Converted Edition',\n",
       " 'We Love Katamari',\n",
       " 'GoldenEye: Rogue Agent',\n",
       " 'Kawaii Koinu DS 3',\n",
       " 'Minute to Win It',\n",
       " 'Raiden IV',\n",
       " 'Sammy Sosa High Heat Baseball 2001',\n",
       " 'Mighty No. 9',\n",
       " 'Jewel Quest Mysteries',\n",
       " 'Ratchet & Clank Future: A Crack in Time',\n",
       " 'Uta no * Prince-Sama',\n",
       " 'Ms. Pac-Man',\n",
       " 'Valhalla Knights',\n",
       " 'Lupin Sansei: Shijou Saidai no Zunousen',\n",
       " 'Warhammer: Battle March',\n",
       " 'Modnation Racers: Road Trip',\n",
       " 'Dead Rising',\n",
       " 'Shining Wind',\n",
       " 'Bejeweled Blitz',\n",
       " 'Sekirei: Mirai Kara no Okurimono',\n",
       " \"Devil May Cry 3: Dante's Awakening Special Edition\",\n",
       " 'Tokimeki no Houkago',\n",
       " 'WWE SmackDown! Here Comes the Pain',\n",
       " 'Resistance 2',\n",
       " 'Muv-Luv Alternative',\n",
       " \"Cabela's Adventure Camp\",\n",
       " 'SpongeBob vs The Big One: Beach Party Cook Off',\n",
       " 'Gears of War 2',\n",
       " 'CSI: Dark Motives',\n",
       " 'Rocket League',\n",
       " 'Forza Motorsport 6',\n",
       " 'Hikaru no Go: Heian Gensou Ibunroku',\n",
       " 'Boxing',\n",
       " 'Transworld Snowboarding',\n",
       " 'Madden NFL 2001',\n",
       " 'Luminous Arc 2',\n",
       " 'Final Fantasy Tactics',\n",
       " 'Planet 51',\n",
       " 'World Soccer Winning Eleven 8: Liveware Evolution',\n",
       " 'American Bass Challenge',\n",
       " 'Gekiatsu!! Pachi Game Tamashi Vol. 2: CR Evangelion - Shinjitsu no Tsubasa',\n",
       " \"Mat Hoffman's Pro BMX\",\n",
       " 'Seaman',\n",
       " 'Nounai Aeshe: IQ Suppli DS 2 - Sukkiri King Ketteisen',\n",
       " 'The Grinch',\n",
       " 'ZhuZhu Pets',\n",
       " 'SingStar: Made In Germany',\n",
       " 'GachiTora! Abarenbou Kyoushi in High School',\n",
       " 'MotorHead',\n",
       " 'Dance Dance Revolution: Disney Channel Edition',\n",
       " 'My Pet Chimp',\n",
       " 'Super Mario All-Stars',\n",
       " 'Metal Gear Solid: Portable Ops Plus',\n",
       " 'Dangerous Ji-San to 1000-nin no Otomodachi Yokoshima',\n",
       " 'Ecco the Dolphin',\n",
       " 'Crazy Taxi 2',\n",
       " 'Apassionata: Die Galanacht der Pferde',\n",
       " 'Kidou Senshi Gundam UC',\n",
       " 'Need for Speed: Most Wanted',\n",
       " 'MDK',\n",
       " 'Ghost Pirates of Vooju Island',\n",
       " 'Wildstar',\n",
       " 'Walt Disney World Quest: Magical Racing Tour',\n",
       " 'F1 2012',\n",
       " 'NBA Street V3',\n",
       " 'Metroid: Zero Mission',\n",
       " 'Sengoku Basara: Sanada Yukimura-Den',\n",
       " 'Volleyball',\n",
       " 'Ishin no Arashi: Shippuu Ryuumeden',\n",
       " 'Tiger Woods PGA Tour 11',\n",
       " 'Fire Emblem: Path of Radiance',\n",
       " 'Front Mission Evolved',\n",
       " 'Remington Super Slam Hunting: North America',\n",
       " 'Growlanser IV: Over Reloaded',\n",
       " 'The Awakened Fate Ultimatum',\n",
       " 'Shin Sangoku Musou 5 Special',\n",
       " 'Pro Yaky? Spirits 3',\n",
       " 'My Virtual Tutor: Reading Adventure Kindergarten to First',\n",
       " 'Pachi-Slot Aruze Oukoku 3',\n",
       " 'Clannad: Mitsumi Mamoru Sakamichi de - Gekan',\n",
       " 'Trine',\n",
       " 'The ICO & Shadow of the Colossus Collection',\n",
       " 'Sherlock Holmes: Secret of The Silver Earring',\n",
       " 'Mega Man Battle Network 5: Double Team DS (JP sales)',\n",
       " 'Fossil Fighters',\n",
       " 'Famista Returns',\n",
       " 'Blazing Angels: Squadrons of WWII',\n",
       " 'Mount & Blade Collection',\n",
       " 'Checkers',\n",
       " 'J-League Pro Soccer Club wo Tsukurou!',\n",
       " 'Watchmen: The End is Nigh - The Complete Experience',\n",
       " 'Mighty Beanz: Pocket Puzzles',\n",
       " 'Animal Planet: Vet Life',\n",
       " '24: The Game',\n",
       " 'Harukanaru Toki no Naka de 5',\n",
       " 'Mario & Sonic at the Sochi 2014 Olympic Winter Games',\n",
       " 'The Sims: Unleashed',\n",
       " 'Konami Classics Series: Arcade Hits',\n",
       " 'X Rebirth',\n",
       " 'Emblem of Gundam',\n",
       " 'Challenge Me: Brain Puzzles',\n",
       " 'Alien Breed Trilogy',\n",
       " 'Misshitsu no Sacrifice',\n",
       " 'Captain Rainbow',\n",
       " 'Learn Geography',\n",
       " 'Imagine: Soccer Captain',\n",
       " 'Mega Man Zero',\n",
       " 'Mega Man Battle Network 5: Double Team DS (US sales)',\n",
       " 'Rabbids Land',\n",
       " 'Jumping Flash! 2',\n",
       " 'Jake Power: Policeman',\n",
       " 'Summon Night Granthese: Horobi no Ken to Yakusoku no Kishi',\n",
       " \"Akiba's Trip\",\n",
       " 'Carmageddon 64',\n",
       " 'Outlaw Volleyball',\n",
       " 'DS Bimoji Training',\n",
       " 'Earthworm Jim',\n",
       " 'Tao Adventure: Curse Demon',\n",
       " 'Sports Champions',\n",
       " 'Quiz Magic Academy DS: Futatsu no Jikuu Koku',\n",
       " 'Amnesia',\n",
       " 'Beyblade Evolution',\n",
       " 'Mario Party 2',\n",
       " \"Yu-Gi-Oh! 5D's Stardust Accelerator: World Championship 2009\",\n",
       " 'Power Poke Dash',\n",
       " 'Hot Shots Tennis: Get a Grip',\n",
       " 'Dance Dance Revolution: Mario Mix (JP sales)',\n",
       " 'Smart Bomb',\n",
       " 'Kirby & the Amazing Mirror',\n",
       " 'Super Power League',\n",
       " 'Robotech: Battlecry',\n",
       " 'Silent Hill: Homecoming',\n",
       " 'Lumines: Puzzle Fusion',\n",
       " 'Mario & Luigi: Partners in Time',\n",
       " 'Barbie: Groom and Glam Pups',\n",
       " 'King Arthur II',\n",
       " 'Yu Yu Hakusho: Dark Tournament',\n",
       " 'Battles of Prince of Persia',\n",
       " 'Petz Wild Animals: Tigerz',\n",
       " \"Disney's Chicken Little: Ace In Action\",\n",
       " 'Alundra 2: A New Legend Begins',\n",
       " 'Mega Man Star Force Dragon / Leo / Pegasus',\n",
       " 'Mobile Suit Gundam Age: Universe Accel / Cosmic Drive',\n",
       " 'Carnival',\n",
       " \"Kirby's Pinball Land\",\n",
       " 'Rabbids Invasion: The Interactive TV Show',\n",
       " 'Donkey Kong Land III',\n",
       " 'Azurik: Rise of Perathia',\n",
       " 'Blades of Time',\n",
       " 'Destiny: The Taken King',\n",
       " 'Pirates of the Burning Sea',\n",
       " 'Langrisser: Re:Incarnation Tensei',\n",
       " 'Penguin no Mondai X: Tenkuu no 7 Senshi',\n",
       " 'Momotarou Dentetsu 16',\n",
       " 'Tales of Destiny 2',\n",
       " 'Momotaro Douchuuki',\n",
       " 'Yuusha Shisu.',\n",
       " 'Napoleon: Total War',\n",
       " 'Death By Degrees',\n",
       " 'Famicom Mini: Mario Bros.',\n",
       " 'Fantastic Pets',\n",
       " 'NBA Inside Drive 2004',\n",
       " 'Farm Frenzy: Animal Country',\n",
       " 'Draglade (JP sales)',\n",
       " 'Chopper Command',\n",
       " 'Harvest Moon: Frantic Farming',\n",
       " \"World Soccer Jikkyou Winning Eleven 3: World Cup France '98\",\n",
       " 'PGA European Tour',\n",
       " 'Princess Frontier Portable',\n",
       " 'Guilty Gear Judgment',\n",
       " \"Kirby's Block Ball\",\n",
       " 'Etrian Odyssey III: The Drowned City',\n",
       " 'Diablo II: Lord of Destruction',\n",
       " 'TouchMaster: Connect',\n",
       " 'TRON: Evolution - Battle Grids',\n",
       " 'Army Men: Air Attack 2',\n",
       " 'Transformers: Dark of the Moon',\n",
       " 'Savage Skies',\n",
       " 'Bleach: Versus Crusade',\n",
       " 'Happiness! De-Lucks',\n",
       " 'Suikoden V',\n",
       " 'Virtua Fighter 2',\n",
       " 'Strike Witches: Anata to Dekiru Koto - A Little Peaceful Days',\n",
       " 'Desire',\n",
       " 'Super Bomberman 3',\n",
       " 'Go! Sudoku',\n",
       " 'Spectral Force Genesis',\n",
       " 'Mafia',\n",
       " 'Brutal Legend',\n",
       " 'Tennis',\n",
       " \"SpongeBob SquarePants: Plankton's Robotic Revenge\",\n",
       " 'Jet Moto 2',\n",
       " 'Hisshou Pachinko*Pachi-Slot Kouryaku Series Vol. 9: CR Fever Captain Harlock',\n",
       " 'NHL 2001',\n",
       " 'Dynasty Warriors: Gundam 2',\n",
       " 'Wipeout 2',\n",
       " 'Descent',\n",
       " 'Touch Shot! Love Application',\n",
       " 'Brain Age: Concentration Training',\n",
       " 'Captain Toad: Treasure Tracker',\n",
       " 'Diablo II',\n",
       " 'Assault Rigs',\n",
       " 'NBA Street Homecourt',\n",
       " 'Gintama DS: Yorozuya Daisoudou',\n",
       " 'Ganbare Goemon: Toukai Douchuu Ooedo Tengurigaeshi no Maki',\n",
       " 'Royal Palace of White Sword and The City of Gentiles',\n",
       " '50 Classic Games',\n",
       " 'Mobile Suit Gundam: Lost War Chronicles',\n",
       " 'WWII Aces',\n",
       " 'Petz Fantasy 3D',\n",
       " 'Vitamin X: Detective B6',\n",
       " 'Madagascar',\n",
       " 'Final Fantasy Type-0',\n",
       " 'Mario Kart 64',\n",
       " 'Yomawari',\n",
       " 'Warhammer 40,000: Dawn of War',\n",
       " 'Tetris 2 (All region sales)',\n",
       " 'Battle Arena Toshinden 3',\n",
       " 'Silent Hill 3',\n",
       " 'Operation Flashpoint: Elite',\n",
       " 'Fairytale Fights',\n",
       " 'Donkey Kong 64',\n",
       " 'Marvel vs. Capcom: Clash of Super Heroes',\n",
       " 'City Crisis',\n",
       " 'Deep Labyrinth',\n",
       " 'Romeo Vs. Juliet',\n",
       " 'Hunter: The Reckoning  Wayward',\n",
       " 'Naruto: Ultimate Ninja',\n",
       " 'Second Sight',\n",
       " 'Fireblade',\n",
       " 'Kidz Sports: Crazy Golf',\n",
       " 'Alien Hominid',\n",
       " 'Gacharoku',\n",
       " 'Boulder Dash: Rocks!',\n",
       " 'Sushi Academy',\n",
       " 'Until Dawn',\n",
       " 'Reign of Fire',\n",
       " 'Conception: Please Give Birth to My Child!',\n",
       " 'Army Men: Major Malfunction',\n",
       " 'Dark Arena',\n",
       " 'The Idolm@ster: Live for You!',\n",
       " 'Tears to Tiara: Kakan no Daichi Portable',\n",
       " 'Pryzm Chapter One: The Dark Unicorn',\n",
       " 'Van Helsing',\n",
       " 'Final Fight 2',\n",
       " 'Crysis 2',\n",
       " 'Rune Factory 3: A Fantasy Harvest Moon',\n",
       " 'Big Family Games',\n",
       " \"Professor Heinz Wolff's Gravity\",\n",
       " 'Wario Land 3',\n",
       " 'Naval Ops: Warship Gunner',\n",
       " 'NBA 2K12',\n",
       " 'Cities in Motion',\n",
       " 'Negima!? 3-Jikanme ~Koi to Mahou to Sekaiju Densetsu~',\n",
       " 'Gundam Assault Survive',\n",
       " 'Saint',\n",
       " 'Freelancer',\n",
       " \"Syphon Filter: Logan's Shadow\",\n",
       " 'Tennis no Oji-Sama: Doubles no Oji-Sama - Boys, Be Glorious!',\n",
       " 'MLB 11: The Show',\n",
       " 'Yu-Gi-Oh! Monster Capsule Breed & Battle',\n",
       " 'Alvin and the Chipmunks: The Squeakquel',\n",
       " '1701 A.D.',\n",
       " 'Batman & Robin',\n",
       " 'Tales of Phantasia (PS1 & PSP Versions)',\n",
       " 'X-Men: Destiny',\n",
       " 'MiniCopter: Adventure Flight',\n",
       " 'Dragon Tamer: Sound Spirit',\n",
       " 'Gitaroo Man Lives!',\n",
       " 'Eyeshield 21: Field Saikyou no Senshi Tachi',\n",
       " 'State of Emergency 2',\n",
       " 'Monster Strike 3DS',\n",
       " 'Higurashi Daybreak Portable',\n",
       " 'Shin Megami Tensei x Fire Emblem',\n",
       " \"Assassin's Creed\",\n",
       " 'Resonance of Fate',\n",
       " 'Sentimental Graffiti: First Window',\n",
       " \"Smart Kid's Party Fun Pak\",\n",
       " \"Command & Conquer 3: Kane's Wrath\",\n",
       " 'Doom 3',\n",
       " 'Caligula',\n",
       " 'Mass Effect',\n",
       " 'Sigma Harmonics',\n",
       " 'The Sims 3: Outdoor Living Stuff',\n",
       " 'Nuclear Strike',\n",
       " 'Keystone Kapers',\n",
       " \"Crazy Chicken: Pharaoh's Treasure\",\n",
       " 'The Final Round',\n",
       " 'Classic NES Series: Donkey Kong',\n",
       " 'Future Card Buddy Fight: Yuujou no Bakunetsu Fight',\n",
       " 'Playmobil Circus',\n",
       " 'Infinite Stratos 2: Love and Purge',\n",
       " 'Colin McRae Rally',\n",
       " 'Bigfoot King of Crush',\n",
       " 'Mary-Kate and Ashley: Sweet 16 - Licenced to Drive',\n",
       " 'Just Dance 2',\n",
       " 'Gundam the 3D Battle',\n",
       " \"Mr. Do!'s Castle\",\n",
       " 'Wing Commander: Prophecy',\n",
       " 'Moto Racer Advance',\n",
       " 'Cyber Troopers Virtual-On Marz',\n",
       " 'Dragonseeds',\n",
       " 'OverBlood',\n",
       " 'Epic Mickey',\n",
       " 'DaGeDar',\n",
       " 'Asteroids',\n",
       " 'Who wants to be a millionaire',\n",
       " 'Shining Force CD',\n",
       " 'Fire Emblem: Radiant Dawn',\n",
       " 'Star Wars: Shadows of the Empire',\n",
       " 'Pure Pinball',\n",
       " 'Transformers: War for Cybertron (DS Version)',\n",
       " 'Killzone: Mercenary',\n",
       " 'Enchanted Arms (JP sales)',\n",
       " 'WarioWare: Twisted!',\n",
       " 'NFL Head Coach 09',\n",
       " 'Pac-Man Party',\n",
       " 'New Tokyo Legacy: Operation Babel',\n",
       " 'Heavenly Guardian',\n",
       " 'Bully: Scholarship Edition',\n",
       " 'Culdcept DS',\n",
       " 'Trivial Pursuit unhinged',\n",
       " 'Top Gun: Hard Lock',\n",
       " 'Wedding Dash',\n",
       " 'Kenka Banchou 4: Ichinen Sensou',\n",
       " 'Jackie Chan Adventures: Legend of the Dark Hand',\n",
       " 'NHL Slapshot',\n",
       " '2 Games in 1: SpongeBob SquarePants: SuperSponge & Rugrats Go Wild',\n",
       " 'NBA 2K10',\n",
       " 'New Atelier Rorona: Hajimari no Monogatari',\n",
       " 'Petz: Horseshoe Ranch',\n",
       " 'Ferrari Challenge Trofeo Pirelli Deluxe',\n",
       " 'Roswell Conspiracies: Aliens, Myths & Legends',\n",
       " 'Red Ninja: End of Honor',\n",
       " 'Heroes Phantasia',\n",
       " 'Hakuoki: Reimeiroku - Omouhase Kara',\n",
       " 'Smash Court Tennis Pro Tournament 2',\n",
       " 'Gunslingers',\n",
       " 'The Idolm@ster',\n",
       " 'Higurashi no Nakukoru ni Kizuna: Dai-Ni-Kan - Sou',\n",
       " \"Charlie's Angels\",\n",
       " 'Valhalla Knights 2',\n",
       " 'Midnight Play! Pack',\n",
       " 'Romance of the Three Kingdoms 13',\n",
       " 'Super Robot Taisen Neo',\n",
       " \"FunkMaster Flex's Digital Hitz Factory\",\n",
       " 'Duel Love: Koisuru Otome wa Shouri no Megami',\n",
       " 'WCW Mayhem',\n",
       " 'Elebits: The Adventures of Kai and Zero',\n",
       " 'Bishoujo Senshi Sailormoon R',\n",
       " 'My Word Coach',\n",
       " 'UFC Undisputed 2010',\n",
       " 'Resident Evil: The Umbrella Chronicles',\n",
       " 'Prince of Stride',\n",
       " 'MySims Collection',\n",
       " 'Machi-Ing Maker 3 x Tousouchuu',\n",
       " 'The Bureau: XCOM Declassified',\n",
       " 'Crush3D',\n",
       " 'Katekyoo Hitman Reborn Nerae!? Ring x Bongole Returns',\n",
       " 'Rapala Pro Bass Fishing 2010',\n",
       " 'Puzzle & Dragons',\n",
       " 'Oreshika: Tainted Bloodlines',\n",
       " 'Fate/Unlimited Codes',\n",
       " 'Animorphs: Shattered Reality',\n",
       " 'Teenage Mutant Ninja Turtles: Smash-Up',\n",
       " 'Magic Carpet',\n",
       " 'Jak and Daxter: The Precursor Legacy',\n",
       " 'Virtua Tennis: World Tour (jp sales)',\n",
       " 'Virtua Pro Football',\n",
       " 'Jan Sangoku Musou',\n",
       " 'Roadsters',\n",
       " 'Fuzion Frenzy',\n",
       " 'Caesars Palace 2000: Millennium Gold Edition',\n",
       " \"The Fairly OddParents: Breakin' Da Rules\",\n",
       " 'Petz Fantasy: Sunshine Magic',\n",
       " 'MLB 09: The Show',\n",
       " 'Bravely Default: Flying Fairy',\n",
       " 'Space Venus starring Morning Musume',\n",
       " \"King's Field\",\n",
       " \"Chuck E. Cheese's Party Games\",\n",
       " 'Road & Track Presents: The Need for Speed',\n",
       " \"Dood's Big Adventure\",\n",
       " 'Ford vs. Chevy',\n",
       " 'Digimon World',\n",
       " 'Stellaris',\n",
       " 'Jinsei Game Q DS: Shouwa no Dekigoto',\n",
       " 'GoldenEye 007 (2010)',\n",
       " 'Flushed Away',\n",
       " 'Romance of the Three Kingdoms VIII',\n",
       " 'Pro Pinball: Big Race USA',\n",
       " 'Zone of the Enders HD Collection',\n",
       " 'Charlie and the Chocolate Factory',\n",
       " 'The 7th Guest',\n",
       " 'Mega Man X7',\n",
       " 'MVP Baseball 2005',\n",
       " 'Syphon Filter: The Omega Strain',\n",
       " 'Sengoku Basara: Chronicle Heroes',\n",
       " 'DEATH NOTE: Kira Game',\n",
       " 'Ford Bold Moves Street Racing',\n",
       " 'World Sports Competition',\n",
       " 'Cool Boarders 4',\n",
       " 'Halloween',\n",
       " 'Armored Core: Last Raven',\n",
       " 'Sneakers',\n",
       " 'Dance Dance Revolution: Hottest Party 2',\n",
       " 'Dragon Quest & Final Fantasy in Itadaki Street Portable',\n",
       " 'Micro Machines',\n",
       " 'Death Jr.',\n",
       " 'Hands On! Tangrams',\n",
       " 'Giants: Citizen Kabuto',\n",
       " \"Broken Sword: Shadow of the Templars - The Director's Cut\",\n",
       " 'Hyperdimension Idol Neptunia PP',\n",
       " 'Shawn Johnson Gymnastics',\n",
       " 'Rat Attack!',\n",
       " 'Saenai Kanojo no Sodatekata: Blessing Flowers',\n",
       " 'Shining Force III: Scenario 2',\n",
       " 'HappinessCharge PreCure! Kawarun Collection',\n",
       " 'World Tour Soccer 2006',\n",
       " 'Fatal Frame',\n",
       " 'The Incredibles',\n",
       " 'Dragon Ball: Xenoverse 2',\n",
       " 'Mortal Kombat Trilogy',\n",
       " 'The Mummy: Tomb of the Dragon Emperor',\n",
       " 'Astrology DS',\n",
       " 'The Heavy Rain and Beyond: Two Souls Collection',\n",
       " 'G-Force',\n",
       " 'Wappy Dog',\n",
       " 'PGR4 - Project Gotham Racing 4',\n",
       " 'The Legend of Heroes: Trails of Cold Steel II',\n",
       " 'Backyard Sports: Sandlot Sluggers',\n",
       " 'Idol Janshi Suchie-Pai IV',\n",
       " 'Dai-4-Ji Super Robot Taisen',\n",
       " 'J-League Pro Striker 2',\n",
       " 'MLB SlugFest 20-04',\n",
       " 'Driv3r',\n",
       " 'FIFA 16',\n",
       " 'Famicom Mini: Makaimura',\n",
       " 'Yoshi Touch & Go (JP sales)',\n",
       " 'SD Gundam G Generation Zero',\n",
       " 'Harvest Moon: Save the Homeland',\n",
       " 'Pac-Man: Adventures in Time',\n",
       " 'Cosmic Ark',\n",
       " 'Test Drive 6',\n",
       " 'Daxter',\n",
       " 'Far Cry Instincts Predator',\n",
       " 'Tribes: Aerial Assault',\n",
       " \"Yu-Gi-Oh! 5D's Tag Force 6\",\n",
       " 'LEGO Star Wars III: The Clone Wars',\n",
       " 'Brain Age: Train Your Brain in Minutes a Day',\n",
       " 'Tiger Woods PGA Tour 06',\n",
       " 'Pet Pals: New Leash on Life',\n",
       " 'Ansatsu Kyoushitsu: Assassin Ikusei Keikaku!!',\n",
       " \"TRINITY: Souls of Zill O'll\",\n",
       " 'Power Pro Kun Pocket 1+2',\n",
       " 'Mojo!',\n",
       " 'Hamster Heroes',\n",
       " 'Harvest Moon 2 GBC',\n",
       " 'Suujin Taisen',\n",
       " 'Nervous Brickdown',\n",
       " 'Warship Gunner 2 Portable',\n",
       " 'Highschool Terra Story',\n",
       " 'Stake: Fortune Fighters',\n",
       " 'Super Robot Taisen α',\n",
       " 'Gaku ? Ou: The Royal Seven Stars',\n",
       " 'Impossible Creatures',\n",
       " 'House M.D.',\n",
       " 'Driver: Renegade',\n",
       " 'Gadget Racers (PAL)',\n",
       " '.hack//Quarantine Part 4: The Final Chapter',\n",
       " 'Tropico 3: Gold Edition',\n",
       " 'Rumble Racing',\n",
       " 'Nazotoki Battle Tore! Densetsu no Makyuu o Fukkatsu Saseyo! ',\n",
       " 'Makai Senki Disgaea Portable: Tsuushin Taisen Hajime Mashita',\n",
       " \"Chuck E. Cheese's Sports Games\",\n",
       " 'Skies of Arcadia',\n",
       " 'Galaxy Angel II: Mugen Kairou no Kagi',\n",
       " 'MVP Baseball 2003',\n",
       " 'Zatch Bell! Mamodo Fury',\n",
       " 'Soviet Strike',\n",
       " ...}"
      ]
     },
     "execution_count": 6,
     "metadata": {},
     "output_type": "execute_result"
    }
   ],
   "source": [
    "set(games['Name'].unique())"
   ]
  },
  {
   "cell_type": "code",
   "execution_count": 7,
   "metadata": {},
   "outputs": [],
   "source": [
    "# Приведем к нижнему регисту имена игр, чтобы устранить неяные дубликаты\n",
    "games['Name'] = games['Name'].str.lower()"
   ]
  },
  {
   "cell_type": "code",
   "execution_count": 8,
   "metadata": {},
   "outputs": [
    {
     "data": {
      "text/plain": [
       "16715"
      ]
     },
     "execution_count": 8,
     "metadata": {},
     "output_type": "execute_result"
    }
   ],
   "source": [
    "len(games['Name'])"
   ]
  },
  {
   "cell_type": "markdown",
   "metadata": {},
   "source": [
    "Количество не изменилось, значит дубликатов не было с разным регистром."
   ]
  },
  {
   "cell_type": "code",
   "execution_count": 9,
   "metadata": {},
   "outputs": [
    {
     "data": {
      "text/plain": [
       "need for speed: most wanted                      12\n",
       "madden nfl 07                                     9\n",
       "fifa 14                                           9\n",
       "lego marvel super heroes                          9\n",
       "ratatouille                                       9\n",
       "                                                 ..\n",
       "the amazing spider-man (ds & mobile versions)     1\n",
       "zhuzhu pets 2: featuring the wild bunch           1\n",
       "descent                                           1\n",
       "geten no hana                                     1\n",
       "fireball                                          1\n",
       "Name: Name, Length: 11559, dtype: int64"
      ]
     },
     "execution_count": 9,
     "metadata": {},
     "output_type": "execute_result"
    }
   ],
   "source": [
    "# посмотрим сколько раз повторяется игра:\n",
    "games['Name'].value_counts()"
   ]
  },
  {
   "cell_type": "code",
   "execution_count": 10,
   "metadata": {},
   "outputs": [
    {
     "data": {
      "text/html": [
       "<div>\n",
       "<style scoped>\n",
       "    .dataframe tbody tr th:only-of-type {\n",
       "        vertical-align: middle;\n",
       "    }\n",
       "\n",
       "    .dataframe tbody tr th {\n",
       "        vertical-align: top;\n",
       "    }\n",
       "\n",
       "    .dataframe thead th {\n",
       "        text-align: right;\n",
       "    }\n",
       "</style>\n",
       "<table border=\"1\" class=\"dataframe\">\n",
       "  <thead>\n",
       "    <tr style=\"text-align: right;\">\n",
       "      <th></th>\n",
       "      <th>Name</th>\n",
       "      <th>Platform</th>\n",
       "      <th>Year_of_Release</th>\n",
       "      <th>Genre</th>\n",
       "      <th>NA_sales</th>\n",
       "      <th>EU_sales</th>\n",
       "      <th>JP_sales</th>\n",
       "      <th>Other_sales</th>\n",
       "      <th>Critic_Score</th>\n",
       "      <th>User_Score</th>\n",
       "      <th>Rating</th>\n",
       "    </tr>\n",
       "  </thead>\n",
       "  <tbody>\n",
       "    <tr>\n",
       "      <th>253</th>\n",
       "      <td>need for speed: most wanted</td>\n",
       "      <td>PS2</td>\n",
       "      <td>2005.0</td>\n",
       "      <td>Racing</td>\n",
       "      <td>2.03</td>\n",
       "      <td>1.79</td>\n",
       "      <td>0.08</td>\n",
       "      <td>0.47</td>\n",
       "      <td>82.0</td>\n",
       "      <td>9.1</td>\n",
       "      <td>T</td>\n",
       "    </tr>\n",
       "    <tr>\n",
       "      <th>523</th>\n",
       "      <td>need for speed: most wanted</td>\n",
       "      <td>PS3</td>\n",
       "      <td>2012.0</td>\n",
       "      <td>Racing</td>\n",
       "      <td>0.71</td>\n",
       "      <td>1.46</td>\n",
       "      <td>0.06</td>\n",
       "      <td>0.58</td>\n",
       "      <td>NaN</td>\n",
       "      <td>NaN</td>\n",
       "      <td>NaN</td>\n",
       "    </tr>\n",
       "    <tr>\n",
       "      <th>1190</th>\n",
       "      <td>need for speed: most wanted</td>\n",
       "      <td>X360</td>\n",
       "      <td>2012.0</td>\n",
       "      <td>Racing</td>\n",
       "      <td>0.62</td>\n",
       "      <td>0.78</td>\n",
       "      <td>0.01</td>\n",
       "      <td>0.15</td>\n",
       "      <td>83.0</td>\n",
       "      <td>8.5</td>\n",
       "      <td>T</td>\n",
       "    </tr>\n",
       "    <tr>\n",
       "      <th>1591</th>\n",
       "      <td>need for speed: most wanted</td>\n",
       "      <td>X360</td>\n",
       "      <td>2005.0</td>\n",
       "      <td>Racing</td>\n",
       "      <td>1.00</td>\n",
       "      <td>0.13</td>\n",
       "      <td>0.02</td>\n",
       "      <td>0.10</td>\n",
       "      <td>83.0</td>\n",
       "      <td>8.5</td>\n",
       "      <td>T</td>\n",
       "    </tr>\n",
       "    <tr>\n",
       "      <th>1998</th>\n",
       "      <td>need for speed: most wanted</td>\n",
       "      <td>XB</td>\n",
       "      <td>2005.0</td>\n",
       "      <td>Racing</td>\n",
       "      <td>0.53</td>\n",
       "      <td>0.46</td>\n",
       "      <td>0.00</td>\n",
       "      <td>0.05</td>\n",
       "      <td>83.0</td>\n",
       "      <td>8.8</td>\n",
       "      <td>T</td>\n",
       "    </tr>\n",
       "    <tr>\n",
       "      <th>2048</th>\n",
       "      <td>need for speed: most wanted</td>\n",
       "      <td>PSV</td>\n",
       "      <td>2012.0</td>\n",
       "      <td>Racing</td>\n",
       "      <td>0.33</td>\n",
       "      <td>0.45</td>\n",
       "      <td>0.01</td>\n",
       "      <td>0.22</td>\n",
       "      <td>NaN</td>\n",
       "      <td>NaN</td>\n",
       "      <td>NaN</td>\n",
       "    </tr>\n",
       "    <tr>\n",
       "      <th>3581</th>\n",
       "      <td>need for speed: most wanted</td>\n",
       "      <td>GC</td>\n",
       "      <td>2005.0</td>\n",
       "      <td>Racing</td>\n",
       "      <td>0.43</td>\n",
       "      <td>0.11</td>\n",
       "      <td>0.00</td>\n",
       "      <td>0.02</td>\n",
       "      <td>80.0</td>\n",
       "      <td>9.1</td>\n",
       "      <td>T</td>\n",
       "    </tr>\n",
       "    <tr>\n",
       "      <th>5972</th>\n",
       "      <td>need for speed: most wanted</td>\n",
       "      <td>PC</td>\n",
       "      <td>2005.0</td>\n",
       "      <td>Racing</td>\n",
       "      <td>0.02</td>\n",
       "      <td>0.23</td>\n",
       "      <td>0.00</td>\n",
       "      <td>0.04</td>\n",
       "      <td>82.0</td>\n",
       "      <td>8.5</td>\n",
       "      <td>T</td>\n",
       "    </tr>\n",
       "    <tr>\n",
       "      <th>6273</th>\n",
       "      <td>need for speed: most wanted</td>\n",
       "      <td>WiiU</td>\n",
       "      <td>2013.0</td>\n",
       "      <td>Racing</td>\n",
       "      <td>0.13</td>\n",
       "      <td>0.12</td>\n",
       "      <td>0.00</td>\n",
       "      <td>0.02</td>\n",
       "      <td>NaN</td>\n",
       "      <td>NaN</td>\n",
       "      <td>NaN</td>\n",
       "    </tr>\n",
       "    <tr>\n",
       "      <th>6410</th>\n",
       "      <td>need for speed: most wanted</td>\n",
       "      <td>DS</td>\n",
       "      <td>2005.0</td>\n",
       "      <td>Racing</td>\n",
       "      <td>0.24</td>\n",
       "      <td>0.01</td>\n",
       "      <td>0.00</td>\n",
       "      <td>0.02</td>\n",
       "      <td>45.0</td>\n",
       "      <td>6.1</td>\n",
       "      <td>E</td>\n",
       "    </tr>\n",
       "    <tr>\n",
       "      <th>6473</th>\n",
       "      <td>need for speed: most wanted</td>\n",
       "      <td>GBA</td>\n",
       "      <td>2005.0</td>\n",
       "      <td>Racing</td>\n",
       "      <td>0.19</td>\n",
       "      <td>0.07</td>\n",
       "      <td>0.00</td>\n",
       "      <td>0.00</td>\n",
       "      <td>NaN</td>\n",
       "      <td>8.3</td>\n",
       "      <td>E</td>\n",
       "    </tr>\n",
       "    <tr>\n",
       "      <th>11715</th>\n",
       "      <td>need for speed: most wanted</td>\n",
       "      <td>PC</td>\n",
       "      <td>2012.0</td>\n",
       "      <td>Racing</td>\n",
       "      <td>0.00</td>\n",
       "      <td>0.06</td>\n",
       "      <td>0.00</td>\n",
       "      <td>0.02</td>\n",
       "      <td>82.0</td>\n",
       "      <td>8.5</td>\n",
       "      <td>T</td>\n",
       "    </tr>\n",
       "  </tbody>\n",
       "</table>\n",
       "</div>"
      ],
      "text/plain": [
       "                              Name Platform  Year_of_Release   Genre  \\\n",
       "253    need for speed: most wanted      PS2           2005.0  Racing   \n",
       "523    need for speed: most wanted      PS3           2012.0  Racing   \n",
       "1190   need for speed: most wanted     X360           2012.0  Racing   \n",
       "1591   need for speed: most wanted     X360           2005.0  Racing   \n",
       "1998   need for speed: most wanted       XB           2005.0  Racing   \n",
       "2048   need for speed: most wanted      PSV           2012.0  Racing   \n",
       "3581   need for speed: most wanted       GC           2005.0  Racing   \n",
       "5972   need for speed: most wanted       PC           2005.0  Racing   \n",
       "6273   need for speed: most wanted     WiiU           2013.0  Racing   \n",
       "6410   need for speed: most wanted       DS           2005.0  Racing   \n",
       "6473   need for speed: most wanted      GBA           2005.0  Racing   \n",
       "11715  need for speed: most wanted       PC           2012.0  Racing   \n",
       "\n",
       "       NA_sales  EU_sales  JP_sales  Other_sales  Critic_Score User_Score  \\\n",
       "253        2.03      1.79      0.08         0.47          82.0        9.1   \n",
       "523        0.71      1.46      0.06         0.58           NaN        NaN   \n",
       "1190       0.62      0.78      0.01         0.15          83.0        8.5   \n",
       "1591       1.00      0.13      0.02         0.10          83.0        8.5   \n",
       "1998       0.53      0.46      0.00         0.05          83.0        8.8   \n",
       "2048       0.33      0.45      0.01         0.22           NaN        NaN   \n",
       "3581       0.43      0.11      0.00         0.02          80.0        9.1   \n",
       "5972       0.02      0.23      0.00         0.04          82.0        8.5   \n",
       "6273       0.13      0.12      0.00         0.02           NaN        NaN   \n",
       "6410       0.24      0.01      0.00         0.02          45.0        6.1   \n",
       "6473       0.19      0.07      0.00         0.00           NaN        8.3   \n",
       "11715      0.00      0.06      0.00         0.02          82.0        8.5   \n",
       "\n",
       "      Rating  \n",
       "253        T  \n",
       "523      NaN  \n",
       "1190       T  \n",
       "1591       T  \n",
       "1998       T  \n",
       "2048     NaN  \n",
       "3581       T  \n",
       "5972       T  \n",
       "6273     NaN  \n",
       "6410       E  \n",
       "6473       E  \n",
       "11715      T  "
      ]
     },
     "execution_count": 10,
     "metadata": {},
     "output_type": "execute_result"
    }
   ],
   "source": [
    "# Проверим дубликатность игры need for speed: most wanted:\n",
    "games[games['Name'] == 'need for speed: most wanted']"
   ]
  },
  {
   "cell_type": "markdown",
   "metadata": {},
   "source": [
    "Вероятней всего игра вносилась под разные продажи с обновлениями для разных платформ в разные годы. Аналогично и с другими играми."
   ]
  },
  {
   "cell_type": "code",
   "execution_count": 11,
   "metadata": {},
   "outputs": [
    {
     "data": {
      "text/plain": [
       "array(['2600', '3DO', '3DS', 'DC', 'DS', 'GB', 'GBA', 'GC', 'GEN', 'GG',\n",
       "       'N64', 'NES', 'NG', 'PC', 'PCFX', 'PS', 'PS2', 'PS3', 'PS4', 'PSP',\n",
       "       'PSV', 'SAT', 'SCD', 'SNES', 'TG16', 'WS', 'Wii', 'WiiU', 'X360',\n",
       "       'XB', 'XOne'], dtype=object)"
      ]
     },
     "execution_count": 11,
     "metadata": {},
     "output_type": "execute_result"
    }
   ],
   "source": [
    "games['Platform'].sort_values().unique()"
   ]
  },
  {
   "cell_type": "markdown",
   "metadata": {},
   "source": [
    "Неявных дубликатов необнаружено у Platform."
   ]
  },
  {
   "cell_type": "code",
   "execution_count": 12,
   "metadata": {},
   "outputs": [
    {
     "data": {
      "text/plain": [
       "array([1980., 1981., 1982., 1983., 1984., 1985., 1986., 1987., 1988.,\n",
       "       1989., 1990., 1991., 1992., 1993., 1994., 1995., 1996., 1997.,\n",
       "       1998., 1999., 2000., 2001., 2002., 2003., 2004., 2005., 2006.,\n",
       "       2007., 2008., 2009., 2010., 2011., 2012., 2013., 2014., 2015.,\n",
       "       2016.,   nan])"
      ]
     },
     "execution_count": 12,
     "metadata": {},
     "output_type": "execute_result"
    }
   ],
   "source": [
    "games['Year_of_Release'].sort_values().unique()"
   ]
  },
  {
   "cell_type": "markdown",
   "metadata": {},
   "source": [
    "Неявных дубликатов необнаружено у Year_of_Release."
   ]
  },
  {
   "cell_type": "code",
   "execution_count": 13,
   "metadata": {},
   "outputs": [
    {
     "data": {
      "text/html": [
       "<div>\n",
       "<style scoped>\n",
       "    .dataframe tbody tr th:only-of-type {\n",
       "        vertical-align: middle;\n",
       "    }\n",
       "\n",
       "    .dataframe tbody tr th {\n",
       "        vertical-align: top;\n",
       "    }\n",
       "\n",
       "    .dataframe thead th {\n",
       "        text-align: right;\n",
       "    }\n",
       "</style>\n",
       "<table border=\"1\" class=\"dataframe\">\n",
       "  <thead>\n",
       "    <tr style=\"text-align: right;\">\n",
       "      <th></th>\n",
       "      <th>Name</th>\n",
       "      <th>Platform</th>\n",
       "      <th>Year_of_Release</th>\n",
       "      <th>Genre</th>\n",
       "      <th>NA_sales</th>\n",
       "      <th>EU_sales</th>\n",
       "      <th>JP_sales</th>\n",
       "      <th>Other_sales</th>\n",
       "      <th>Critic_Score</th>\n",
       "      <th>User_Score</th>\n",
       "      <th>Rating</th>\n",
       "    </tr>\n",
       "  </thead>\n",
       "  <tbody>\n",
       "    <tr>\n",
       "      <th>604</th>\n",
       "      <td>madden nfl 13</td>\n",
       "      <td>PS3</td>\n",
       "      <td>2012.0</td>\n",
       "      <td>Sports</td>\n",
       "      <td>2.11</td>\n",
       "      <td>0.22</td>\n",
       "      <td>0.00</td>\n",
       "      <td>0.23</td>\n",
       "      <td>83.0</td>\n",
       "      <td>5.5</td>\n",
       "      <td>E</td>\n",
       "    </tr>\n",
       "    <tr>\n",
       "      <th>659</th>\n",
       "      <td>NaN</td>\n",
       "      <td>GEN</td>\n",
       "      <td>1993.0</td>\n",
       "      <td>NaN</td>\n",
       "      <td>1.78</td>\n",
       "      <td>0.53</td>\n",
       "      <td>0.00</td>\n",
       "      <td>0.08</td>\n",
       "      <td>NaN</td>\n",
       "      <td>NaN</td>\n",
       "      <td>NaN</td>\n",
       "    </tr>\n",
       "    <tr>\n",
       "      <th>14244</th>\n",
       "      <td>NaN</td>\n",
       "      <td>GEN</td>\n",
       "      <td>1993.0</td>\n",
       "      <td>NaN</td>\n",
       "      <td>0.00</td>\n",
       "      <td>0.00</td>\n",
       "      <td>0.03</td>\n",
       "      <td>0.00</td>\n",
       "      <td>NaN</td>\n",
       "      <td>NaN</td>\n",
       "      <td>NaN</td>\n",
       "    </tr>\n",
       "    <tr>\n",
       "      <th>16230</th>\n",
       "      <td>madden nfl 13</td>\n",
       "      <td>PS3</td>\n",
       "      <td>2012.0</td>\n",
       "      <td>Sports</td>\n",
       "      <td>0.00</td>\n",
       "      <td>0.01</td>\n",
       "      <td>0.00</td>\n",
       "      <td>0.00</td>\n",
       "      <td>83.0</td>\n",
       "      <td>5.5</td>\n",
       "      <td>E</td>\n",
       "    </tr>\n",
       "  </tbody>\n",
       "</table>\n",
       "</div>"
      ],
      "text/plain": [
       "                Name Platform  Year_of_Release   Genre  NA_sales  EU_sales  \\\n",
       "604    madden nfl 13      PS3           2012.0  Sports      2.11      0.22   \n",
       "659              NaN      GEN           1993.0     NaN      1.78      0.53   \n",
       "14244            NaN      GEN           1993.0     NaN      0.00      0.00   \n",
       "16230  madden nfl 13      PS3           2012.0  Sports      0.00      0.01   \n",
       "\n",
       "       JP_sales  Other_sales  Critic_Score User_Score Rating  \n",
       "604        0.00         0.23          83.0        5.5      E  \n",
       "659        0.00         0.08           NaN        NaN    NaN  \n",
       "14244      0.03         0.00           NaN        NaN    NaN  \n",
       "16230      0.00         0.00          83.0        5.5      E  "
      ]
     },
     "execution_count": 13,
     "metadata": {},
     "output_type": "execute_result"
    }
   ],
   "source": [
    "# найдем неявные дубликаты \n",
    "temp = games.copy()\n",
    "temp[temp[['Name', 'Platform','Year_of_Release']].duplicated(keep=False)]"
   ]
  },
  {
   "cell_type": "code",
   "execution_count": 14,
   "metadata": {},
   "outputs": [],
   "source": [
    "games = games.drop(index=[604, 659, 14244, 16230 ])"
   ]
  },
  {
   "cell_type": "markdown",
   "metadata": {},
   "source": [
    "**Промежуточный вывод на основе изученной общей информации:**\n",
    "<p></p>\n",
    "\n",
    "<div style=\"border:solid green 2px; padding: 10px\">\n",
    "\n",
    "1. Таблица состоит из 16715 записей.\n",
    "2. Найдено 0 явных и неявных дубликатов.\n",
    "3. Найдены пропуски.\n",
    "4. Есть некорректный тип данных.\n",
    "5. Название столбцов некорректны.\n",
    "   \n",
    "</div>"
   ]
  },
  {
   "cell_type": "markdown",
   "metadata": {},
   "source": [
    "## Шаг 2. Подготовка данных"
   ]
  },
  {
   "cell_type": "markdown",
   "metadata": {},
   "source": [
    "### Заменим названия столбцов (приведем к нижнему регистру):"
   ]
  },
  {
   "cell_type": "code",
   "execution_count": 15,
   "metadata": {},
   "outputs": [],
   "source": [
    "games.columns = [x.lower() for x in games.columns]"
   ]
  },
  {
   "cell_type": "code",
   "execution_count": 16,
   "metadata": {},
   "outputs": [
    {
     "data": {
      "text/html": [
       "<div>\n",
       "<style scoped>\n",
       "    .dataframe tbody tr th:only-of-type {\n",
       "        vertical-align: middle;\n",
       "    }\n",
       "\n",
       "    .dataframe tbody tr th {\n",
       "        vertical-align: top;\n",
       "    }\n",
       "\n",
       "    .dataframe thead th {\n",
       "        text-align: right;\n",
       "    }\n",
       "</style>\n",
       "<table border=\"1\" class=\"dataframe\">\n",
       "  <thead>\n",
       "    <tr style=\"text-align: right;\">\n",
       "      <th></th>\n",
       "      <th>name</th>\n",
       "      <th>platform</th>\n",
       "      <th>year_of_release</th>\n",
       "      <th>genre</th>\n",
       "      <th>na_sales</th>\n",
       "      <th>eu_sales</th>\n",
       "      <th>jp_sales</th>\n",
       "      <th>other_sales</th>\n",
       "      <th>critic_score</th>\n",
       "      <th>user_score</th>\n",
       "      <th>rating</th>\n",
       "    </tr>\n",
       "  </thead>\n",
       "  <tbody>\n",
       "    <tr>\n",
       "      <th>0</th>\n",
       "      <td>wii sports</td>\n",
       "      <td>Wii</td>\n",
       "      <td>2006.0</td>\n",
       "      <td>Sports</td>\n",
       "      <td>41.36</td>\n",
       "      <td>28.96</td>\n",
       "      <td>3.77</td>\n",
       "      <td>8.45</td>\n",
       "      <td>76.0</td>\n",
       "      <td>8</td>\n",
       "      <td>E</td>\n",
       "    </tr>\n",
       "    <tr>\n",
       "      <th>1</th>\n",
       "      <td>super mario bros.</td>\n",
       "      <td>NES</td>\n",
       "      <td>1985.0</td>\n",
       "      <td>Platform</td>\n",
       "      <td>29.08</td>\n",
       "      <td>3.58</td>\n",
       "      <td>6.81</td>\n",
       "      <td>0.77</td>\n",
       "      <td>NaN</td>\n",
       "      <td>NaN</td>\n",
       "      <td>NaN</td>\n",
       "    </tr>\n",
       "    <tr>\n",
       "      <th>2</th>\n",
       "      <td>mario kart wii</td>\n",
       "      <td>Wii</td>\n",
       "      <td>2008.0</td>\n",
       "      <td>Racing</td>\n",
       "      <td>15.68</td>\n",
       "      <td>12.76</td>\n",
       "      <td>3.79</td>\n",
       "      <td>3.29</td>\n",
       "      <td>82.0</td>\n",
       "      <td>8.3</td>\n",
       "      <td>E</td>\n",
       "    </tr>\n",
       "    <tr>\n",
       "      <th>3</th>\n",
       "      <td>wii sports resort</td>\n",
       "      <td>Wii</td>\n",
       "      <td>2009.0</td>\n",
       "      <td>Sports</td>\n",
       "      <td>15.61</td>\n",
       "      <td>10.93</td>\n",
       "      <td>3.28</td>\n",
       "      <td>2.95</td>\n",
       "      <td>80.0</td>\n",
       "      <td>8</td>\n",
       "      <td>E</td>\n",
       "    </tr>\n",
       "    <tr>\n",
       "      <th>4</th>\n",
       "      <td>pokemon red/pokemon blue</td>\n",
       "      <td>GB</td>\n",
       "      <td>1996.0</td>\n",
       "      <td>Role-Playing</td>\n",
       "      <td>11.27</td>\n",
       "      <td>8.89</td>\n",
       "      <td>10.22</td>\n",
       "      <td>1.00</td>\n",
       "      <td>NaN</td>\n",
       "      <td>NaN</td>\n",
       "      <td>NaN</td>\n",
       "    </tr>\n",
       "    <tr>\n",
       "      <th>5</th>\n",
       "      <td>tetris</td>\n",
       "      <td>GB</td>\n",
       "      <td>1989.0</td>\n",
       "      <td>Puzzle</td>\n",
       "      <td>23.20</td>\n",
       "      <td>2.26</td>\n",
       "      <td>4.22</td>\n",
       "      <td>0.58</td>\n",
       "      <td>NaN</td>\n",
       "      <td>NaN</td>\n",
       "      <td>NaN</td>\n",
       "    </tr>\n",
       "    <tr>\n",
       "      <th>6</th>\n",
       "      <td>new super mario bros.</td>\n",
       "      <td>DS</td>\n",
       "      <td>2006.0</td>\n",
       "      <td>Platform</td>\n",
       "      <td>11.28</td>\n",
       "      <td>9.14</td>\n",
       "      <td>6.50</td>\n",
       "      <td>2.88</td>\n",
       "      <td>89.0</td>\n",
       "      <td>8.5</td>\n",
       "      <td>E</td>\n",
       "    </tr>\n",
       "    <tr>\n",
       "      <th>7</th>\n",
       "      <td>wii play</td>\n",
       "      <td>Wii</td>\n",
       "      <td>2006.0</td>\n",
       "      <td>Misc</td>\n",
       "      <td>13.96</td>\n",
       "      <td>9.18</td>\n",
       "      <td>2.93</td>\n",
       "      <td>2.84</td>\n",
       "      <td>58.0</td>\n",
       "      <td>6.6</td>\n",
       "      <td>E</td>\n",
       "    </tr>\n",
       "    <tr>\n",
       "      <th>8</th>\n",
       "      <td>new super mario bros. wii</td>\n",
       "      <td>Wii</td>\n",
       "      <td>2009.0</td>\n",
       "      <td>Platform</td>\n",
       "      <td>14.44</td>\n",
       "      <td>6.94</td>\n",
       "      <td>4.70</td>\n",
       "      <td>2.24</td>\n",
       "      <td>87.0</td>\n",
       "      <td>8.4</td>\n",
       "      <td>E</td>\n",
       "    </tr>\n",
       "    <tr>\n",
       "      <th>9</th>\n",
       "      <td>duck hunt</td>\n",
       "      <td>NES</td>\n",
       "      <td>1984.0</td>\n",
       "      <td>Shooter</td>\n",
       "      <td>26.93</td>\n",
       "      <td>0.63</td>\n",
       "      <td>0.28</td>\n",
       "      <td>0.47</td>\n",
       "      <td>NaN</td>\n",
       "      <td>NaN</td>\n",
       "      <td>NaN</td>\n",
       "    </tr>\n",
       "  </tbody>\n",
       "</table>\n",
       "</div>"
      ],
      "text/plain": [
       "                        name platform  year_of_release         genre  \\\n",
       "0                 wii sports      Wii           2006.0        Sports   \n",
       "1          super mario bros.      NES           1985.0      Platform   \n",
       "2             mario kart wii      Wii           2008.0        Racing   \n",
       "3          wii sports resort      Wii           2009.0        Sports   \n",
       "4   pokemon red/pokemon blue       GB           1996.0  Role-Playing   \n",
       "5                     tetris       GB           1989.0        Puzzle   \n",
       "6      new super mario bros.       DS           2006.0      Platform   \n",
       "7                   wii play      Wii           2006.0          Misc   \n",
       "8  new super mario bros. wii      Wii           2009.0      Platform   \n",
       "9                  duck hunt      NES           1984.0       Shooter   \n",
       "\n",
       "   na_sales  eu_sales  jp_sales  other_sales  critic_score user_score rating  \n",
       "0     41.36     28.96      3.77         8.45          76.0          8      E  \n",
       "1     29.08      3.58      6.81         0.77           NaN        NaN    NaN  \n",
       "2     15.68     12.76      3.79         3.29          82.0        8.3      E  \n",
       "3     15.61     10.93      3.28         2.95          80.0          8      E  \n",
       "4     11.27      8.89     10.22         1.00           NaN        NaN    NaN  \n",
       "5     23.20      2.26      4.22         0.58           NaN        NaN    NaN  \n",
       "6     11.28      9.14      6.50         2.88          89.0        8.5      E  \n",
       "7     13.96      9.18      2.93         2.84          58.0        6.6      E  \n",
       "8     14.44      6.94      4.70         2.24          87.0        8.4      E  \n",
       "9     26.93      0.63      0.28         0.47           NaN        NaN    NaN  "
      ]
     },
     "execution_count": 16,
     "metadata": {},
     "output_type": "execute_result"
    }
   ],
   "source": [
    "games.head(10)"
   ]
  },
  {
   "cell_type": "markdown",
   "metadata": {},
   "source": [
    "### Обработаем пропуски "
   ]
  },
  {
   "cell_type": "code",
   "execution_count": 17,
   "metadata": {},
   "outputs": [],
   "source": [
    "# Заменим NaN на unknown:\n",
    "games['genre'] = games['genre'].fillna('unknown')"
   ]
  },
  {
   "cell_type": "code",
   "execution_count": 18,
   "metadata": {},
   "outputs": [],
   "source": [
    "# Заменим NaN на unknown:\n",
    "games['name'] = games['name'].fillna('unknown')"
   ]
  },
  {
   "cell_type": "code",
   "execution_count": 19,
   "metadata": {},
   "outputs": [
    {
     "data": {
      "text/html": [
       "<div>\n",
       "<style scoped>\n",
       "    .dataframe tbody tr th:only-of-type {\n",
       "        vertical-align: middle;\n",
       "    }\n",
       "\n",
       "    .dataframe tbody tr th {\n",
       "        vertical-align: top;\n",
       "    }\n",
       "\n",
       "    .dataframe thead th {\n",
       "        text-align: right;\n",
       "    }\n",
       "</style>\n",
       "<table border=\"1\" class=\"dataframe\">\n",
       "  <thead>\n",
       "    <tr style=\"text-align: right;\">\n",
       "      <th></th>\n",
       "      <th>name</th>\n",
       "      <th>platform</th>\n",
       "      <th>year_of_release</th>\n",
       "      <th>genre</th>\n",
       "      <th>na_sales</th>\n",
       "      <th>eu_sales</th>\n",
       "      <th>jp_sales</th>\n",
       "      <th>other_sales</th>\n",
       "      <th>critic_score</th>\n",
       "      <th>user_score</th>\n",
       "      <th>rating</th>\n",
       "    </tr>\n",
       "  </thead>\n",
       "  <tbody>\n",
       "  </tbody>\n",
       "</table>\n",
       "</div>"
      ],
      "text/plain": [
       "Empty DataFrame\n",
       "Columns: [name, platform, year_of_release, genre, na_sales, eu_sales, jp_sales, other_sales, critic_score, user_score, rating]\n",
       "Index: []"
      ]
     },
     "execution_count": 19,
     "metadata": {},
     "output_type": "execute_result"
    }
   ],
   "source": [
    "# Убедимся были ли взаимосвязаны пропуски name с genre\n",
    "games.query('name == \"unknown\"')"
   ]
  },
  {
   "cell_type": "code",
   "execution_count": 20,
   "metadata": {},
   "outputs": [],
   "source": [
    "# Процент пропуска по годам составляет 1.6 %, данные не повлияют на анализ\n",
    "# Удалим строки с пропусками:\n",
    "games = games.dropna(subset = ['year_of_release'])"
   ]
  },
  {
   "cell_type": "code",
   "execution_count": 21,
   "metadata": {},
   "outputs": [
    {
     "data": {
      "text/plain": [
       "array(['8', nan, '8.3', '8.5', '6.6', '8.4', '8.6', '7.7', '6.3', '7.4',\n",
       "       '8.2', '9', '7.9', '8.1', '8.7', '7.1', '3.4', '5.3', '4.8', '3.2',\n",
       "       '8.9', '6.4', '7.8', '7.5', '2.6', '7.2', '9.2', '7', '7.3', '4.3',\n",
       "       '7.6', '5.7', '5', '9.1', '6.5', 'tbd', '8.8', '6.9', '9.4', '6.8',\n",
       "       '6.1', '6.7', '5.4', '4', '4.9', '4.5', '9.3', '6.2', '4.2', '6',\n",
       "       '3.7', '4.1', '5.8', '5.6', '5.5', '4.4', '4.6', '5.9', '3.9',\n",
       "       '3.1', '2.9', '5.2', '3.3', '4.7', '5.1', '3.5', '2.5', '1.9', '3',\n",
       "       '2.7', '2.2', '2', '9.5', '2.1', '3.6', '2.8', '1.8', '3.8', '0',\n",
       "       '1.6', '9.6', '2.4', '1.7', '1.1', '0.3', '1.5', '0.7', '1.2',\n",
       "       '2.3', '0.5', '1.3', '0.2', '0.6', '1.4', '0.9', '1', '9.7'],\n",
       "      dtype=object)"
      ]
     },
     "execution_count": 21,
     "metadata": {},
     "output_type": "execute_result"
    }
   ],
   "source": [
    "# Посмотрим уникальные значения у user_score:\n",
    "games['user_score'].unique()"
   ]
  },
  {
   "cell_type": "markdown",
   "metadata": {},
   "source": [
    "tbd - to be determined. Означает, что будет определено. Получается, что рейтинг еще не выставлен, то есть отсутствует."
   ]
  },
  {
   "cell_type": "code",
   "execution_count": 22,
   "metadata": {},
   "outputs": [
    {
     "data": {
      "text/html": [
       "<div>\n",
       "<style scoped>\n",
       "    .dataframe tbody tr th:only-of-type {\n",
       "        vertical-align: middle;\n",
       "    }\n",
       "\n",
       "    .dataframe tbody tr th {\n",
       "        vertical-align: top;\n",
       "    }\n",
       "\n",
       "    .dataframe thead th {\n",
       "        text-align: right;\n",
       "    }\n",
       "</style>\n",
       "<table border=\"1\" class=\"dataframe\">\n",
       "  <thead>\n",
       "    <tr style=\"text-align: right;\">\n",
       "      <th></th>\n",
       "      <th>name</th>\n",
       "      <th>platform</th>\n",
       "      <th>year_of_release</th>\n",
       "      <th>genre</th>\n",
       "      <th>na_sales</th>\n",
       "      <th>eu_sales</th>\n",
       "      <th>jp_sales</th>\n",
       "      <th>other_sales</th>\n",
       "      <th>critic_score</th>\n",
       "      <th>user_score</th>\n",
       "      <th>rating</th>\n",
       "    </tr>\n",
       "  </thead>\n",
       "  <tbody>\n",
       "    <tr>\n",
       "      <th>2835</th>\n",
       "      <td>my little pony: pinkie pie's party</td>\n",
       "      <td>DS</td>\n",
       "      <td>2008.0</td>\n",
       "      <td>Adventure</td>\n",
       "      <td>0.66</td>\n",
       "      <td>0.0</td>\n",
       "      <td>0.0</td>\n",
       "      <td>0.06</td>\n",
       "      <td>NaN</td>\n",
       "      <td>0</td>\n",
       "      <td>E</td>\n",
       "    </tr>\n",
       "  </tbody>\n",
       "</table>\n",
       "</div>"
      ],
      "text/plain": [
       "                                    name platform  year_of_release      genre  \\\n",
       "2835  my little pony: pinkie pie's party       DS           2008.0  Adventure   \n",
       "\n",
       "      na_sales  eu_sales  jp_sales  other_sales  critic_score user_score  \\\n",
       "2835      0.66       0.0       0.0         0.06           NaN          0   \n",
       "\n",
       "     rating  \n",
       "2835      E  "
      ]
     },
     "execution_count": 22,
     "metadata": {},
     "output_type": "execute_result"
    }
   ],
   "source": [
    "# Посмотрим, сколько игр имеет рейтинг 0:\n",
    "games.query('user_score == \"0\"').head()"
   ]
  },
  {
   "cell_type": "code",
   "execution_count": 23,
   "metadata": {},
   "outputs": [],
   "source": [
    "# Заменим tbd на NaN, а после на -1, так как ноль уже присутсвует в рейтинге:\n",
    "games['user_score'] = games['user_score'].replace('tbd', np.NaN)\n",
    "games['user_score'] = games['user_score'].fillna(-1)"
   ]
  },
  {
   "cell_type": "code",
   "execution_count": 24,
   "metadata": {},
   "outputs": [
    {
     "data": {
      "text/html": [
       "<div>\n",
       "<style scoped>\n",
       "    .dataframe tbody tr th:only-of-type {\n",
       "        vertical-align: middle;\n",
       "    }\n",
       "\n",
       "    .dataframe tbody tr th {\n",
       "        vertical-align: top;\n",
       "    }\n",
       "\n",
       "    .dataframe thead th {\n",
       "        text-align: right;\n",
       "    }\n",
       "</style>\n",
       "<table border=\"1\" class=\"dataframe\">\n",
       "  <thead>\n",
       "    <tr style=\"text-align: right;\">\n",
       "      <th></th>\n",
       "      <th>name</th>\n",
       "      <th>platform</th>\n",
       "      <th>year_of_release</th>\n",
       "      <th>genre</th>\n",
       "      <th>na_sales</th>\n",
       "      <th>eu_sales</th>\n",
       "      <th>jp_sales</th>\n",
       "      <th>other_sales</th>\n",
       "      <th>critic_score</th>\n",
       "      <th>user_score</th>\n",
       "      <th>rating</th>\n",
       "    </tr>\n",
       "  </thead>\n",
       "  <tbody>\n",
       "    <tr>\n",
       "      <th>1</th>\n",
       "      <td>super mario bros.</td>\n",
       "      <td>NES</td>\n",
       "      <td>1985.0</td>\n",
       "      <td>Platform</td>\n",
       "      <td>29.08</td>\n",
       "      <td>3.58</td>\n",
       "      <td>6.81</td>\n",
       "      <td>0.77</td>\n",
       "      <td>NaN</td>\n",
       "      <td>-1</td>\n",
       "      <td>NaN</td>\n",
       "    </tr>\n",
       "    <tr>\n",
       "      <th>4</th>\n",
       "      <td>pokemon red/pokemon blue</td>\n",
       "      <td>GB</td>\n",
       "      <td>1996.0</td>\n",
       "      <td>Role-Playing</td>\n",
       "      <td>11.27</td>\n",
       "      <td>8.89</td>\n",
       "      <td>10.22</td>\n",
       "      <td>1.00</td>\n",
       "      <td>NaN</td>\n",
       "      <td>-1</td>\n",
       "      <td>NaN</td>\n",
       "    </tr>\n",
       "    <tr>\n",
       "      <th>5</th>\n",
       "      <td>tetris</td>\n",
       "      <td>GB</td>\n",
       "      <td>1989.0</td>\n",
       "      <td>Puzzle</td>\n",
       "      <td>23.20</td>\n",
       "      <td>2.26</td>\n",
       "      <td>4.22</td>\n",
       "      <td>0.58</td>\n",
       "      <td>NaN</td>\n",
       "      <td>-1</td>\n",
       "      <td>NaN</td>\n",
       "    </tr>\n",
       "    <tr>\n",
       "      <th>9</th>\n",
       "      <td>duck hunt</td>\n",
       "      <td>NES</td>\n",
       "      <td>1984.0</td>\n",
       "      <td>Shooter</td>\n",
       "      <td>26.93</td>\n",
       "      <td>0.63</td>\n",
       "      <td>0.28</td>\n",
       "      <td>0.47</td>\n",
       "      <td>NaN</td>\n",
       "      <td>-1</td>\n",
       "      <td>NaN</td>\n",
       "    </tr>\n",
       "    <tr>\n",
       "      <th>12</th>\n",
       "      <td>pokemon gold/pokemon silver</td>\n",
       "      <td>GB</td>\n",
       "      <td>1999.0</td>\n",
       "      <td>Role-Playing</td>\n",
       "      <td>9.00</td>\n",
       "      <td>6.18</td>\n",
       "      <td>7.20</td>\n",
       "      <td>0.71</td>\n",
       "      <td>NaN</td>\n",
       "      <td>-1</td>\n",
       "      <td>NaN</td>\n",
       "    </tr>\n",
       "    <tr>\n",
       "      <th>18</th>\n",
       "      <td>super mario world</td>\n",
       "      <td>SNES</td>\n",
       "      <td>1990.0</td>\n",
       "      <td>Platform</td>\n",
       "      <td>12.78</td>\n",
       "      <td>3.75</td>\n",
       "      <td>3.54</td>\n",
       "      <td>0.55</td>\n",
       "      <td>NaN</td>\n",
       "      <td>-1</td>\n",
       "      <td>NaN</td>\n",
       "    </tr>\n",
       "    <tr>\n",
       "      <th>21</th>\n",
       "      <td>super mario land</td>\n",
       "      <td>GB</td>\n",
       "      <td>1989.0</td>\n",
       "      <td>Platform</td>\n",
       "      <td>10.83</td>\n",
       "      <td>2.71</td>\n",
       "      <td>4.18</td>\n",
       "      <td>0.42</td>\n",
       "      <td>NaN</td>\n",
       "      <td>-1</td>\n",
       "      <td>NaN</td>\n",
       "    </tr>\n",
       "    <tr>\n",
       "      <th>22</th>\n",
       "      <td>super mario bros. 3</td>\n",
       "      <td>NES</td>\n",
       "      <td>1988.0</td>\n",
       "      <td>Platform</td>\n",
       "      <td>9.54</td>\n",
       "      <td>3.44</td>\n",
       "      <td>3.84</td>\n",
       "      <td>0.46</td>\n",
       "      <td>NaN</td>\n",
       "      <td>-1</td>\n",
       "      <td>NaN</td>\n",
       "    </tr>\n",
       "    <tr>\n",
       "      <th>30</th>\n",
       "      <td>pokémon yellow: special pikachu edition</td>\n",
       "      <td>GB</td>\n",
       "      <td>1998.0</td>\n",
       "      <td>Role-Playing</td>\n",
       "      <td>5.89</td>\n",
       "      <td>5.04</td>\n",
       "      <td>3.12</td>\n",
       "      <td>0.59</td>\n",
       "      <td>NaN</td>\n",
       "      <td>-1</td>\n",
       "      <td>NaN</td>\n",
       "    </tr>\n",
       "    <tr>\n",
       "      <th>45</th>\n",
       "      <td>super mario 64</td>\n",
       "      <td>N64</td>\n",
       "      <td>1996.0</td>\n",
       "      <td>Platform</td>\n",
       "      <td>6.91</td>\n",
       "      <td>2.85</td>\n",
       "      <td>1.91</td>\n",
       "      <td>0.23</td>\n",
       "      <td>NaN</td>\n",
       "      <td>-1</td>\n",
       "      <td>NaN</td>\n",
       "    </tr>\n",
       "  </tbody>\n",
       "</table>\n",
       "</div>"
      ],
      "text/plain": [
       "                                       name platform  year_of_release  \\\n",
       "1                         super mario bros.      NES           1985.0   \n",
       "4                  pokemon red/pokemon blue       GB           1996.0   \n",
       "5                                    tetris       GB           1989.0   \n",
       "9                                 duck hunt      NES           1984.0   \n",
       "12              pokemon gold/pokemon silver       GB           1999.0   \n",
       "18                        super mario world     SNES           1990.0   \n",
       "21                         super mario land       GB           1989.0   \n",
       "22                      super mario bros. 3      NES           1988.0   \n",
       "30  pokémon yellow: special pikachu edition       GB           1998.0   \n",
       "45                           super mario 64      N64           1996.0   \n",
       "\n",
       "           genre  na_sales  eu_sales  jp_sales  other_sales  critic_score  \\\n",
       "1       Platform     29.08      3.58      6.81         0.77           NaN   \n",
       "4   Role-Playing     11.27      8.89     10.22         1.00           NaN   \n",
       "5         Puzzle     23.20      2.26      4.22         0.58           NaN   \n",
       "9        Shooter     26.93      0.63      0.28         0.47           NaN   \n",
       "12  Role-Playing      9.00      6.18      7.20         0.71           NaN   \n",
       "18      Platform     12.78      3.75      3.54         0.55           NaN   \n",
       "21      Platform     10.83      2.71      4.18         0.42           NaN   \n",
       "22      Platform      9.54      3.44      3.84         0.46           NaN   \n",
       "30  Role-Playing      5.89      5.04      3.12         0.59           NaN   \n",
       "45      Platform      6.91      2.85      1.91         0.23           NaN   \n",
       "\n",
       "   user_score rating  \n",
       "1          -1    NaN  \n",
       "4          -1    NaN  \n",
       "5          -1    NaN  \n",
       "9          -1    NaN  \n",
       "12         -1    NaN  \n",
       "18         -1    NaN  \n",
       "21         -1    NaN  \n",
       "22         -1    NaN  \n",
       "30         -1    NaN  \n",
       "45         -1    NaN  "
      ]
     },
     "execution_count": 24,
     "metadata": {},
     "output_type": "execute_result"
    }
   ],
   "source": [
    "# Посмотрим данные по годам меньше 2000:\n",
    "games.query('year_of_release < 2000').head(10)"
   ]
  },
  {
   "cell_type": "code",
   "execution_count": 25,
   "metadata": {},
   "outputs": [
    {
     "data": {
      "text/plain": [
       "array([13., 17., 19., 20., 21., 23., 24., 25., 26., 27., 28., 29., 30.,\n",
       "       31., 32., 33., 34., 35., 36., 37., 38., 39., 40., 41., 42., 43.,\n",
       "       44., 45., 46., 47., 48., 49., 50., 51., 52., 53., 54., 55., 56.,\n",
       "       57., 58., 59., 60., 61., 62., 63., 64., 65., 66., 67., 68., 69.,\n",
       "       70., 71., 72., 73., 74., 75., 76., 77., 78., 79., 80., 81., 82.,\n",
       "       83., 84., 85., 86., 87., 88., 89., 90., 91., 92., 93., 94., 95.,\n",
       "       96., 97., 98., nan])"
      ]
     },
     "execution_count": 25,
     "metadata": {},
     "output_type": "execute_result"
    }
   ],
   "source": [
    "# Посмотрим уникальные значения у critic_score:\n",
    "games['critic_score'].sort_values().unique()"
   ]
  },
  {
   "cell_type": "markdown",
   "metadata": {},
   "source": [
    "Пропуски у critic_score, как мы видимо у игр вышедшие раньше 2000 имеются пропуски, что вероятней всего, ранее не ставилась оценка критика, поэтому заменим пропуски на ноль. "
   ]
  },
  {
   "cell_type": "code",
   "execution_count": 26,
   "metadata": {},
   "outputs": [],
   "source": [
    "# Заменим NaN на -1:\n",
    "games['critic_score'] = games['critic_score'].fillna(-1)"
   ]
  },
  {
   "cell_type": "markdown",
   "metadata": {},
   "source": [
    "Также пропуски у rating, как мы видимо у игр вышедшие раньше 2000 имеются пропуски, что вероятней всего, ранее не было рейтинга ESRB, поэтому заменим пропуски на NO ESRB."
   ]
  },
  {
   "cell_type": "code",
   "execution_count": 27,
   "metadata": {},
   "outputs": [],
   "source": [
    "games['rating'] = games['rating'].fillna('NO ESRB')"
   ]
  },
  {
   "cell_type": "code",
   "execution_count": 28,
   "metadata": {},
   "outputs": [
    {
     "data": {
      "text/plain": [
       "name               0\n",
       "platform           0\n",
       "year_of_release    0\n",
       "genre              0\n",
       "na_sales           0\n",
       "eu_sales           0\n",
       "jp_sales           0\n",
       "other_sales        0\n",
       "critic_score       0\n",
       "user_score         0\n",
       "rating             0\n",
       "dtype: int64"
      ]
     },
     "execution_count": 28,
     "metadata": {},
     "output_type": "execute_result"
    }
   ],
   "source": [
    "# Проверим датафрейм на пропуски:\n",
    "games.isna().sum()"
   ]
  },
  {
   "cell_type": "markdown",
   "metadata": {},
   "source": [
    "### Преобразуем данные в нужные типы:"
   ]
  },
  {
   "cell_type": "code",
   "execution_count": 29,
   "metadata": {},
   "outputs": [],
   "source": [
    "# Заменим тип данных у user_score на float, так как эти значения имеют вещестенные числа, а не строкой тип:\n",
    "games['user_score'] = games['user_score'].astype('float')"
   ]
  },
  {
   "cell_type": "code",
   "execution_count": 30,
   "metadata": {},
   "outputs": [],
   "source": [
    "# Заменим тип данных у year_of_release на int, так как года имеют целостное число:\n",
    "games['year_of_release'] = games['year_of_release'].astype('int')"
   ]
  },
  {
   "cell_type": "markdown",
   "metadata": {},
   "source": [
    "### Посчитаем суммарные продажи во всех регионах."
   ]
  },
  {
   "cell_type": "code",
   "execution_count": 31,
   "metadata": {},
   "outputs": [
    {
     "data": {
      "text/html": [
       "<div>\n",
       "<style scoped>\n",
       "    .dataframe tbody tr th:only-of-type {\n",
       "        vertical-align: middle;\n",
       "    }\n",
       "\n",
       "    .dataframe tbody tr th {\n",
       "        vertical-align: top;\n",
       "    }\n",
       "\n",
       "    .dataframe thead th {\n",
       "        text-align: right;\n",
       "    }\n",
       "</style>\n",
       "<table border=\"1\" class=\"dataframe\">\n",
       "  <thead>\n",
       "    <tr style=\"text-align: right;\">\n",
       "      <th></th>\n",
       "      <th>name</th>\n",
       "      <th>platform</th>\n",
       "      <th>year_of_release</th>\n",
       "      <th>genre</th>\n",
       "      <th>na_sales</th>\n",
       "      <th>eu_sales</th>\n",
       "      <th>jp_sales</th>\n",
       "      <th>other_sales</th>\n",
       "      <th>critic_score</th>\n",
       "      <th>user_score</th>\n",
       "      <th>rating</th>\n",
       "      <th>total_sales</th>\n",
       "    </tr>\n",
       "  </thead>\n",
       "  <tbody>\n",
       "    <tr>\n",
       "      <th>0</th>\n",
       "      <td>wii sports</td>\n",
       "      <td>Wii</td>\n",
       "      <td>2006</td>\n",
       "      <td>Sports</td>\n",
       "      <td>41.36</td>\n",
       "      <td>28.96</td>\n",
       "      <td>3.77</td>\n",
       "      <td>8.45</td>\n",
       "      <td>76.0</td>\n",
       "      <td>8.0</td>\n",
       "      <td>E</td>\n",
       "      <td>82.54</td>\n",
       "    </tr>\n",
       "    <tr>\n",
       "      <th>1</th>\n",
       "      <td>super mario bros.</td>\n",
       "      <td>NES</td>\n",
       "      <td>1985</td>\n",
       "      <td>Platform</td>\n",
       "      <td>29.08</td>\n",
       "      <td>3.58</td>\n",
       "      <td>6.81</td>\n",
       "      <td>0.77</td>\n",
       "      <td>-1.0</td>\n",
       "      <td>-1.0</td>\n",
       "      <td>NO ESRB</td>\n",
       "      <td>40.24</td>\n",
       "    </tr>\n",
       "    <tr>\n",
       "      <th>2</th>\n",
       "      <td>mario kart wii</td>\n",
       "      <td>Wii</td>\n",
       "      <td>2008</td>\n",
       "      <td>Racing</td>\n",
       "      <td>15.68</td>\n",
       "      <td>12.76</td>\n",
       "      <td>3.79</td>\n",
       "      <td>3.29</td>\n",
       "      <td>82.0</td>\n",
       "      <td>8.3</td>\n",
       "      <td>E</td>\n",
       "      <td>35.52</td>\n",
       "    </tr>\n",
       "    <tr>\n",
       "      <th>3</th>\n",
       "      <td>wii sports resort</td>\n",
       "      <td>Wii</td>\n",
       "      <td>2009</td>\n",
       "      <td>Sports</td>\n",
       "      <td>15.61</td>\n",
       "      <td>10.93</td>\n",
       "      <td>3.28</td>\n",
       "      <td>2.95</td>\n",
       "      <td>80.0</td>\n",
       "      <td>8.0</td>\n",
       "      <td>E</td>\n",
       "      <td>32.77</td>\n",
       "    </tr>\n",
       "    <tr>\n",
       "      <th>4</th>\n",
       "      <td>pokemon red/pokemon blue</td>\n",
       "      <td>GB</td>\n",
       "      <td>1996</td>\n",
       "      <td>Role-Playing</td>\n",
       "      <td>11.27</td>\n",
       "      <td>8.89</td>\n",
       "      <td>10.22</td>\n",
       "      <td>1.00</td>\n",
       "      <td>-1.0</td>\n",
       "      <td>-1.0</td>\n",
       "      <td>NO ESRB</td>\n",
       "      <td>31.38</td>\n",
       "    </tr>\n",
       "  </tbody>\n",
       "</table>\n",
       "</div>"
      ],
      "text/plain": [
       "                       name platform  year_of_release         genre  na_sales  \\\n",
       "0                wii sports      Wii             2006        Sports     41.36   \n",
       "1         super mario bros.      NES             1985      Platform     29.08   \n",
       "2            mario kart wii      Wii             2008        Racing     15.68   \n",
       "3         wii sports resort      Wii             2009        Sports     15.61   \n",
       "4  pokemon red/pokemon blue       GB             1996  Role-Playing     11.27   \n",
       "\n",
       "   eu_sales  jp_sales  other_sales  critic_score  user_score   rating  \\\n",
       "0     28.96      3.77         8.45          76.0         8.0        E   \n",
       "1      3.58      6.81         0.77          -1.0        -1.0  NO ESRB   \n",
       "2     12.76      3.79         3.29          82.0         8.3        E   \n",
       "3     10.93      3.28         2.95          80.0         8.0        E   \n",
       "4      8.89     10.22         1.00          -1.0        -1.0  NO ESRB   \n",
       "\n",
       "   total_sales  \n",
       "0        82.54  \n",
       "1        40.24  \n",
       "2        35.52  \n",
       "3        32.77  \n",
       "4        31.38  "
      ]
     },
     "execution_count": 31,
     "metadata": {},
     "output_type": "execute_result"
    }
   ],
   "source": [
    "games['total_sales'] = games['na_sales'] + games['eu_sales'] + games['jp_sales'] + games['other_sales'] \n",
    "games.head()"
   ]
  },
  {
   "cell_type": "markdown",
   "metadata": {},
   "source": [
    "<p></p>\n",
    "\n",
    "<div style=\"border:solid green 2px; padding: 10px\">\n",
    "У нас были обнаружены пропуски в столбцах:\n",
    "\n",
    "name, year_of_release, genre, critic_score, user_score и rating.\n",
    "- В столбцах name и genre, были пропуски одновременно, они зависимы друг от друга, зная наименование игры, можно было бы заполнить пропуски с жанрами, возможно пропуск был по технической ошибки или при обработке данных были потеряны данные.  \n",
    "- critic_score и user_score - пользовательские отзывы и отзывы критиков вероятней не ставились до 2000-х годов, поэтому в эти годы имеюся пропуски по отзывам.\n",
    "- rating так ESRB - была основана в 1994 году, поэтому данные до этого года не имели рейтинга, также рейтинг ESRB - это рейтинг для США и Канады. А значит пропуск не связан с ошибкой заполнения данных, просто не только для Северной Америки выпускаются игры.\n"
   ]
  },
  {
   "cell_type": "markdown",
   "metadata": {},
   "source": [
    "**Промежуточный вывод:**\n",
    "<p></p>\n",
    "\n",
    "<div style=\"border:solid green 2px; padding: 10px\">\n",
    "\n",
    "1. Обработали пропуски.\n",
    "2. Заменили некорректые типы на корректные.\n",
    "3. Название столбцов сделали корректными.\n",
    "4. Добавили новый столбец total_sales - суммарные продажи во всех регионах.\n",
    "\n",
    "   \n",
    "</div>"
   ]
  },
  {
   "cell_type": "code",
   "execution_count": 32,
   "metadata": {},
   "outputs": [
    {
     "name": "stdout",
     "output_type": "stream",
     "text": [
      "<class 'pandas.core.frame.DataFrame'>\n",
      "Int64Index: 16442 entries, 0 to 16714\n",
      "Data columns (total 12 columns):\n",
      " #   Column           Non-Null Count  Dtype  \n",
      "---  ------           --------------  -----  \n",
      " 0   name             16442 non-null  object \n",
      " 1   platform         16442 non-null  object \n",
      " 2   year_of_release  16442 non-null  int64  \n",
      " 3   genre            16442 non-null  object \n",
      " 4   na_sales         16442 non-null  float64\n",
      " 5   eu_sales         16442 non-null  float64\n",
      " 6   jp_sales         16442 non-null  float64\n",
      " 7   other_sales      16442 non-null  float64\n",
      " 8   critic_score     16442 non-null  float64\n",
      " 9   user_score       16442 non-null  float64\n",
      " 10  rating           16442 non-null  object \n",
      " 11  total_sales      16442 non-null  float64\n",
      "dtypes: float64(7), int64(1), object(4)\n",
      "memory usage: 1.6+ MB\n",
      "None\n",
      "-------------------------\n",
      "name [' beyblade burst' ' fire emblem fates' \" frozen: olaf's quest\" ...\n",
      " 'zwei!!' 'zyuden sentai kyoryuger: game de gaburincho!!'\n",
      " '¡shin chan flipa en colores!']\n",
      "name  : кол-во 0 0 , процент 0 0.0 %\n",
      "name : кол-во NaN 0 , процент NaN 0.0 %\n",
      "-------------------------\n",
      "platform ['2600' '3DO' '3DS' 'DC' 'DS' 'GB' 'GBA' 'GC' 'GEN' 'GG' 'N64' 'NES' 'NG'\n",
      " 'PC' 'PCFX' 'PS' 'PS2' 'PS3' 'PS4' 'PSP' 'PSV' 'SAT' 'SCD' 'SNES' 'TG16'\n",
      " 'WS' 'Wii' 'WiiU' 'X360' 'XB' 'XOne']\n",
      "platform  : кол-во 0 0 , процент 0 0.0 %\n",
      "platform : кол-во NaN 0 , процент NaN 0.0 %\n",
      "-------------------------\n",
      "year_of_release [1980 1981 1982 1983 1984 1985 1986 1987 1988 1989 1990 1991 1992 1993\n",
      " 1994 1995 1996 1997 1998 1999 2000 2001 2002 2003 2004 2005 2006 2007\n",
      " 2008 2009 2010 2011 2012 2013 2014 2015 2016]\n",
      "year_of_release  : кол-во 0 0 , процент 0 0.0 %\n",
      "year_of_release : кол-во NaN 0 , процент NaN 0.0 %\n",
      "-------------------------\n",
      "genre ['Action' 'Adventure' 'Fighting' 'Misc' 'Platform' 'Puzzle' 'Racing'\n",
      " 'Role-Playing' 'Shooter' 'Simulation' 'Sports' 'Strategy']\n",
      "genre  : кол-во 0 0 , процент 0 0.0 %\n",
      "genre : кол-во NaN 0 , процент NaN 0.0 %\n",
      "-------------------------\n",
      "critic_score [-1. 13. 17. 19. 20. 21. 23. 24. 25. 26. 27. 28. 29. 30. 31. 32. 33. 34.\n",
      " 35. 36. 37. 38. 39. 40. 41. 42. 43. 44. 45. 46. 47. 48. 49. 50. 51. 52.\n",
      " 53. 54. 55. 56. 57. 58. 59. 60. 61. 62. 63. 64. 65. 66. 67. 68. 69. 70.\n",
      " 71. 72. 73. 74. 75. 76. 77. 78. 79. 80. 81. 82. 83. 84. 85. 86. 87. 88.\n",
      " 89. 90. 91. 92. 93. 94. 95. 96. 97. 98.]\n",
      "critic_score  : кол-во 0 0 , процент 0 0.0 %\n",
      "critic_score : кол-во NaN 0 , процент NaN 0.0 %\n",
      "-------------------------\n",
      "user_score [-1.   0.   0.2  0.3  0.5  0.6  0.7  0.9  1.   1.1  1.2  1.3  1.4  1.5\n",
      "  1.6  1.7  1.8  1.9  2.   2.1  2.2  2.3  2.4  2.5  2.6  2.7  2.8  2.9\n",
      "  3.   3.1  3.2  3.3  3.4  3.5  3.6  3.7  3.8  3.9  4.   4.1  4.2  4.3\n",
      "  4.4  4.5  4.6  4.7  4.8  4.9  5.   5.1  5.2  5.3  5.4  5.5  5.6  5.7\n",
      "  5.8  5.9  6.   6.1  6.2  6.3  6.4  6.5  6.6  6.7  6.8  6.9  7.   7.1\n",
      "  7.2  7.3  7.4  7.5  7.6  7.7  7.8  7.9  8.   8.1  8.2  8.3  8.4  8.5\n",
      "  8.6  8.7  8.8  8.9  9.   9.1  9.2  9.3  9.4  9.5  9.6  9.7]\n",
      "user_score  : кол-во 0 1 , процент 0 0.01 %\n",
      "user_score : кол-во NaN 0 , процент NaN 0.0 %\n",
      "-------------------------\n",
      "rating ['AO' 'E' 'E10+' 'EC' 'K-A' 'M' 'NO ESRB' 'RP' 'T']\n",
      "rating  : кол-во 0 0 , процент 0 0.0 %\n",
      "rating : кол-во NaN 0 , процент NaN 0.0 %\n"
     ]
    }
   ],
   "source": [
    "# Посмотрим, что у нас осталось\n",
    "temp = games.copy() \n",
    "list_c = ['name', 'platform', 'year_of_release', 'genre', 'critic_score', 'user_score', 'rating']\n",
    "print(temp.info())\n",
    "for col_l in list_c:\n",
    "  print('-'* 25)\n",
    "  print(col_l, temp[col_l].sort_values().unique())\n",
    "  print(col_l,' : кол-во 0', temp[temp[col_l] == 0][col_l].count(),\n",
    "        ', процент 0', round(temp[temp[col_l] == 0][col_l].count()/len(temp)*100, 2),'%')\n",
    "  print(col_l,': кол-во NaN',temp[col_l].isna().sum(),\n",
    "        ', процент NaN', round(temp[col_l].isna().mean()*100,2),'%') "
   ]
  },
  {
   "cell_type": "markdown",
   "metadata": {},
   "source": [
    "## Шаг 3. Проведем исследовательский анализ данных"
   ]
  },
  {
   "cell_type": "markdown",
   "metadata": {},
   "source": [
    "### Посмотрим, сколько игр выпускалось в разные годы. Важны ли данные за все периоды?"
   ]
  },
  {
   "cell_type": "code",
   "execution_count": 33,
   "metadata": {},
   "outputs": [
    {
     "data": {
      "image/png": "[encoded data removed]",
      "text/plain": [
       "<Figure size 720x360 with 1 Axes>"
      ]
     },
     "metadata": {
      "needs_background": "light"
     },
     "output_type": "display_data"
    }
   ],
   "source": [
    "games.query('year_of_release != 0').pivot_table(index='year_of_release', values = 'name', aggfunc = 'count').sort_values(by='year_of_release', \n",
    "     ascending=True).plot(title = 'Количество игр в разные годы', kind = 'bar', grid = True, figsize=(10,5), color = 'green')\n",
    "plt.xlabel('Год')\n",
    "plt.ylabel('количество игр')\n",
    "plt.show() "
   ]
  },
  {
   "cell_type": "markdown",
   "metadata": {},
   "source": [
    "**Вывод:** \n",
    "\n",
    "По графику можно заменить, чтоб в период с 1980 года по 1994 выпускалось мало игр, не во всех странах в то время были компьютеры, и это было неактуально, также было мало компаний, которые занимались играми. С 2002 года количество игр начало расти в большом количестве. Пик был с 2007 по 2011 год. Потом количество новых игр уменьшилось, вероятно, связано с эрой мобильных телефон и планшетов. Данные за все периоды не важны, актуальные и показательные данные могла быть с 2002 по 2016 год."
   ]
  },
  {
   "cell_type": "markdown",
   "metadata": {},
   "source": [
    "### Посмотрим, как менялись продажи по платформам. Выберите платформы с наибольшими суммарными продажами и постройте распределение по годам. За какой характерный срок появляются новые и исчезают старые платформы?"
   ]
  },
  {
   "cell_type": "code",
   "execution_count": 34,
   "metadata": {},
   "outputs": [
    {
     "data": {
      "image/png": "[encoded data removed]",
      "text/plain": [
       "<Figure size 720x360 with 1 Axes>"
      ]
     },
     "metadata": {
      "needs_background": "light"
     },
     "output_type": "display_data"
    }
   ],
   "source": [
    "games.pivot_table(index='platform', values = 'total_sales', aggfunc = 'sum').sort_values(by='total_sales', \n",
    "     ascending=False).plot(title = 'Продажи по платформам',\n",
    "     kind = 'bar', grid = True, figsize=(10,5), color = 'brown')\n",
    "plt.xlabel('Платформы')\n",
    "plt.ylabel('Млн.')\n",
    "plt.show() "
   ]
  },
  {
   "cell_type": "markdown",
   "metadata": {},
   "source": [
    "Из графика видно, что самые популярные игровые платформы по продажам за весь период это PS2, X360, PS3, Wii, DS, PS.\n"
   ]
  },
  {
   "cell_type": "code",
   "execution_count": 35,
   "metadata": {},
   "outputs": [
    {
     "data": {
      "image/png": "[encoded data removed]",
      "text/plain": [
       "<Figure size 720x360 with 1 Axes>"
      ]
     },
     "metadata": {
      "needs_background": "light"
     },
     "output_type": "display_data"
    }
   ],
   "source": [
    "games.query('platform == [\"PS2\", \"X360\", \"PS3\", \"Wii\", \"DS\", \"PS\"] and year_of_release > 0').pivot_table(index=('year_of_release'), \n",
    "     columns= 'platform', values = 'total_sales', aggfunc = 'sum').plot(title = 'Продажи по платформам',\n",
    "     style = 'o-', grid = True, figsize=(10,5))\n",
    "plt.xlabel('года')\n",
    "plt.ylabel('Млн.')\n",
    "plt.show() "
   ]
  },
  {
   "cell_type": "markdown",
   "metadata": {},
   "source": [
    "**Вывод:** \n",
    "По графику можем оценить за какой период исчезают старые платформы и как скоро появляются новые и какой имеют срок:\n",
    "- платформа PS прожила с 1994 по 2003 год (9 лет).\n",
    "- платформа PS2 начала появляться параллельно живой PS c 2000 года по 2011 год (11 лет).\n",
    "- платформа DS начала появляться параллельно живой PS2 c 2004 года по 2013 год (9 лет).\n",
    "  Как мы видим на графике у платформы DS есть ошибка в 1985 году, DS в это время еще не существовала.\n",
    "- платформа Wii начала появляться параллельно живой DS и PS2 c 2006 года по 2016 год (10 лет).\n",
    "- платформа X360 начала появляться параллельно живой DS, PS2 и Wii  c 2005 года по 2016 год (9 лет).\n",
    "- платформа PS3 начала появляться параллельно живой DS, PS2, X360  и Wii c 2006 года по 2016 год (10 лет).\n",
    "\n",
    "По данным средний срок жизни консоли около 7 лет, возможно они бы продолжали работать дальше, но приходят новые консоли, они обновляются и становятся лучше. В старых уже нет потребности."
   ]
  },
  {
   "cell_type": "code",
   "execution_count": 36,
   "metadata": {},
   "outputs": [
    {
     "data": {
      "text/plain": [
       "7.0"
      ]
     },
     "execution_count": 36,
     "metadata": {},
     "output_type": "execute_result"
    }
   ],
   "source": [
    "# Комментарий ревьюера\n",
    "temp = games[games.year_of_release != 0].copy() \n",
    "time_life = temp.pivot_table(index='platform', values='year_of_release', aggfunc=['min', 'max']).reset_index()\n",
    "time_life['life'] = time_life['max'] - time_life['min'] + 1 # в срок жизни платформы, должны входить границы диапазона, \n",
    "                                                            # поэтому +1\n",
    "time_life['life'].median()"
   ]
  },
  {
   "cell_type": "markdown",
   "metadata": {},
   "source": [
    "### Возьмем данные за соответствующий актуальный период."
   ]
  },
  {
   "cell_type": "markdown",
   "metadata": {},
   "source": [
    "По данным выше, можно увидеть, что наиболее топовые платформы вышли с 2012 года по 2016 год. В этот период есть все данные, чтобы построить прогноз на 2017 год."
   ]
  },
  {
   "cell_type": "code",
   "execution_count": 37,
   "metadata": {},
   "outputs": [
    {
     "data": {
      "text/html": [
       "<div>\n",
       "<style scoped>\n",
       "    .dataframe tbody tr th:only-of-type {\n",
       "        vertical-align: middle;\n",
       "    }\n",
       "\n",
       "    .dataframe tbody tr th {\n",
       "        vertical-align: top;\n",
       "    }\n",
       "\n",
       "    .dataframe thead th {\n",
       "        text-align: right;\n",
       "    }\n",
       "</style>\n",
       "<table border=\"1\" class=\"dataframe\">\n",
       "  <thead>\n",
       "    <tr style=\"text-align: right;\">\n",
       "      <th></th>\n",
       "      <th>name</th>\n",
       "      <th>platform</th>\n",
       "      <th>year_of_release</th>\n",
       "      <th>genre</th>\n",
       "      <th>na_sales</th>\n",
       "      <th>eu_sales</th>\n",
       "      <th>jp_sales</th>\n",
       "      <th>other_sales</th>\n",
       "      <th>critic_score</th>\n",
       "      <th>user_score</th>\n",
       "      <th>rating</th>\n",
       "      <th>total_sales</th>\n",
       "    </tr>\n",
       "  </thead>\n",
       "  <tbody>\n",
       "    <tr>\n",
       "      <th>16</th>\n",
       "      <td>grand theft auto v</td>\n",
       "      <td>PS3</td>\n",
       "      <td>2013</td>\n",
       "      <td>Action</td>\n",
       "      <td>7.02</td>\n",
       "      <td>9.09</td>\n",
       "      <td>0.98</td>\n",
       "      <td>3.96</td>\n",
       "      <td>97.0</td>\n",
       "      <td>8.2</td>\n",
       "      <td>M</td>\n",
       "      <td>21.05</td>\n",
       "    </tr>\n",
       "    <tr>\n",
       "      <th>23</th>\n",
       "      <td>grand theft auto v</td>\n",
       "      <td>X360</td>\n",
       "      <td>2013</td>\n",
       "      <td>Action</td>\n",
       "      <td>9.66</td>\n",
       "      <td>5.14</td>\n",
       "      <td>0.06</td>\n",
       "      <td>1.41</td>\n",
       "      <td>97.0</td>\n",
       "      <td>8.1</td>\n",
       "      <td>M</td>\n",
       "      <td>16.27</td>\n",
       "    </tr>\n",
       "    <tr>\n",
       "      <th>31</th>\n",
       "      <td>call of duty: black ops 3</td>\n",
       "      <td>PS4</td>\n",
       "      <td>2015</td>\n",
       "      <td>Shooter</td>\n",
       "      <td>6.03</td>\n",
       "      <td>5.86</td>\n",
       "      <td>0.36</td>\n",
       "      <td>2.38</td>\n",
       "      <td>-1.0</td>\n",
       "      <td>-1.0</td>\n",
       "      <td>NO ESRB</td>\n",
       "      <td>14.63</td>\n",
       "    </tr>\n",
       "    <tr>\n",
       "      <th>33</th>\n",
       "      <td>pokemon x/pokemon y</td>\n",
       "      <td>3DS</td>\n",
       "      <td>2013</td>\n",
       "      <td>Role-Playing</td>\n",
       "      <td>5.28</td>\n",
       "      <td>4.19</td>\n",
       "      <td>4.35</td>\n",
       "      <td>0.78</td>\n",
       "      <td>-1.0</td>\n",
       "      <td>-1.0</td>\n",
       "      <td>NO ESRB</td>\n",
       "      <td>14.60</td>\n",
       "    </tr>\n",
       "    <tr>\n",
       "      <th>34</th>\n",
       "      <td>call of duty: black ops ii</td>\n",
       "      <td>PS3</td>\n",
       "      <td>2012</td>\n",
       "      <td>Shooter</td>\n",
       "      <td>4.99</td>\n",
       "      <td>5.73</td>\n",
       "      <td>0.65</td>\n",
       "      <td>2.42</td>\n",
       "      <td>83.0</td>\n",
       "      <td>5.3</td>\n",
       "      <td>M</td>\n",
       "      <td>13.79</td>\n",
       "    </tr>\n",
       "  </tbody>\n",
       "</table>\n",
       "</div>"
      ],
      "text/plain": [
       "                          name platform  year_of_release         genre  \\\n",
       "16          grand theft auto v      PS3             2013        Action   \n",
       "23          grand theft auto v     X360             2013        Action   \n",
       "31   call of duty: black ops 3      PS4             2015       Shooter   \n",
       "33         pokemon x/pokemon y      3DS             2013  Role-Playing   \n",
       "34  call of duty: black ops ii      PS3             2012       Shooter   \n",
       "\n",
       "    na_sales  eu_sales  jp_sales  other_sales  critic_score  user_score  \\\n",
       "16      7.02      9.09      0.98         3.96          97.0         8.2   \n",
       "23      9.66      5.14      0.06         1.41          97.0         8.1   \n",
       "31      6.03      5.86      0.36         2.38          -1.0        -1.0   \n",
       "33      5.28      4.19      4.35         0.78          -1.0        -1.0   \n",
       "34      4.99      5.73      0.65         2.42          83.0         5.3   \n",
       "\n",
       "     rating  total_sales  \n",
       "16        M        21.05  \n",
       "23        M        16.27  \n",
       "31  NO ESRB        14.63  \n",
       "33  NO ESRB        14.60  \n",
       "34        M        13.79  "
      ]
     },
     "execution_count": 37,
     "metadata": {},
     "output_type": "execute_result"
    }
   ],
   "source": [
    "games_p = games.query('year_of_release >= 2012')\n",
    "games_p.head()"
   ]
  },
  {
   "cell_type": "markdown",
   "metadata": {},
   "source": [
    "### Какие платформы лидируют по продажам, растут или падают? Выберем несколько потенциально прибыльных платформ."
   ]
  },
  {
   "cell_type": "code",
   "execution_count": 38,
   "metadata": {},
   "outputs": [
    {
     "data": {
      "image/png": "[encoded data removed]",
      "text/plain": [
       "<Figure size 720x360 with 1 Axes>"
      ]
     },
     "metadata": {
      "needs_background": "light"
     },
     "output_type": "display_data"
    }
   ],
   "source": [
    "games_p.pivot_table(index=('year_of_release'), \n",
    "     columns= 'platform', values = 'total_sales', aggfunc = 'sum').plot(title = 'Продажи по платформам',\n",
    "     style = 'o-', grid = True, figsize=(10,5))\n",
    "plt.xlabel('года')\n",
    "plt.ylabel('Млн.')\n",
    "plt.show() "
   ]
  },
  {
   "cell_type": "markdown",
   "metadata": {},
   "source": [
    "**Вывод:**\n",
    "\n",
    "Платформа PS3 больше всех заработала в 2012 году (больше 100 млн.), последующие год также была в топе.\n",
    "В 2013 году вышла новая платформа PS4 и она начала лидировать ближе к 2014 году до конца 2016 года.\n",
    "На 2016 год топ лидирующих платформ:\n",
    "- PS4 \n",
    "- XOne\n",
    "- 3DC"
   ]
  },
  {
   "cell_type": "markdown",
   "metadata": {},
   "source": [
    "### Построим график «ящик с усами» по глобальным продажам игр в разбивке по платформам. Опишем результат."
   ]
  },
  {
   "cell_type": "code",
   "execution_count": 39,
   "metadata": {},
   "outputs": [
    {
     "data": {
      "text/html": [
       "<div>\n",
       "<style scoped>\n",
       "    .dataframe tbody tr th:only-of-type {\n",
       "        vertical-align: middle;\n",
       "    }\n",
       "\n",
       "    .dataframe tbody tr th {\n",
       "        vertical-align: top;\n",
       "    }\n",
       "\n",
       "    .dataframe thead th {\n",
       "        text-align: right;\n",
       "    }\n",
       "</style>\n",
       "<table border=\"1\" class=\"dataframe\">\n",
       "  <thead>\n",
       "    <tr style=\"text-align: right;\">\n",
       "      <th></th>\n",
       "      <th>count</th>\n",
       "      <th>mean</th>\n",
       "      <th>std</th>\n",
       "      <th>min</th>\n",
       "      <th>25%</th>\n",
       "      <th>50%</th>\n",
       "      <th>75%</th>\n",
       "      <th>max</th>\n",
       "    </tr>\n",
       "    <tr>\n",
       "      <th>platform</th>\n",
       "      <th></th>\n",
       "      <th></th>\n",
       "      <th></th>\n",
       "      <th></th>\n",
       "      <th></th>\n",
       "      <th></th>\n",
       "      <th></th>\n",
       "      <th></th>\n",
       "    </tr>\n",
       "  </thead>\n",
       "  <tbody>\n",
       "    <tr>\n",
       "      <th>3DS</th>\n",
       "      <td>396.0</td>\n",
       "      <td>0.491439</td>\n",
       "      <td>1.387161</td>\n",
       "      <td>0.01</td>\n",
       "      <td>0.0400</td>\n",
       "      <td>0.11</td>\n",
       "      <td>0.3125</td>\n",
       "      <td>14.60</td>\n",
       "    </tr>\n",
       "    <tr>\n",
       "      <th>DS</th>\n",
       "      <td>31.0</td>\n",
       "      <td>0.404839</td>\n",
       "      <td>1.439245</td>\n",
       "      <td>0.01</td>\n",
       "      <td>0.0200</td>\n",
       "      <td>0.05</td>\n",
       "      <td>0.1850</td>\n",
       "      <td>8.06</td>\n",
       "    </tr>\n",
       "    <tr>\n",
       "      <th>PC</th>\n",
       "      <td>250.0</td>\n",
       "      <td>0.250600</td>\n",
       "      <td>0.494640</td>\n",
       "      <td>0.01</td>\n",
       "      <td>0.0300</td>\n",
       "      <td>0.08</td>\n",
       "      <td>0.2400</td>\n",
       "      <td>5.14</td>\n",
       "    </tr>\n",
       "    <tr>\n",
       "      <th>PS3</th>\n",
       "      <td>491.0</td>\n",
       "      <td>0.582933</td>\n",
       "      <td>1.462888</td>\n",
       "      <td>0.01</td>\n",
       "      <td>0.0500</td>\n",
       "      <td>0.20</td>\n",
       "      <td>0.6100</td>\n",
       "      <td>21.05</td>\n",
       "    </tr>\n",
       "    <tr>\n",
       "      <th>PS4</th>\n",
       "      <td>392.0</td>\n",
       "      <td>0.801378</td>\n",
       "      <td>1.609456</td>\n",
       "      <td>0.01</td>\n",
       "      <td>0.0600</td>\n",
       "      <td>0.20</td>\n",
       "      <td>0.7300</td>\n",
       "      <td>14.63</td>\n",
       "    </tr>\n",
       "    <tr>\n",
       "      <th>PSP</th>\n",
       "      <td>173.0</td>\n",
       "      <td>0.064682</td>\n",
       "      <td>0.071296</td>\n",
       "      <td>0.01</td>\n",
       "      <td>0.0200</td>\n",
       "      <td>0.03</td>\n",
       "      <td>0.0900</td>\n",
       "      <td>0.36</td>\n",
       "    </tr>\n",
       "    <tr>\n",
       "      <th>PSV</th>\n",
       "      <td>411.0</td>\n",
       "      <td>0.119659</td>\n",
       "      <td>0.203011</td>\n",
       "      <td>0.01</td>\n",
       "      <td>0.0200</td>\n",
       "      <td>0.05</td>\n",
       "      <td>0.1200</td>\n",
       "      <td>1.96</td>\n",
       "    </tr>\n",
       "    <tr>\n",
       "      <th>Wii</th>\n",
       "      <td>54.0</td>\n",
       "      <td>0.655000</td>\n",
       "      <td>1.165447</td>\n",
       "      <td>0.01</td>\n",
       "      <td>0.0625</td>\n",
       "      <td>0.18</td>\n",
       "      <td>0.6875</td>\n",
       "      <td>6.76</td>\n",
       "    </tr>\n",
       "    <tr>\n",
       "      <th>WiiU</th>\n",
       "      <td>147.0</td>\n",
       "      <td>0.559116</td>\n",
       "      <td>1.058836</td>\n",
       "      <td>0.01</td>\n",
       "      <td>0.0800</td>\n",
       "      <td>0.22</td>\n",
       "      <td>0.5250</td>\n",
       "      <td>7.09</td>\n",
       "    </tr>\n",
       "    <tr>\n",
       "      <th>X360</th>\n",
       "      <td>292.0</td>\n",
       "      <td>0.810068</td>\n",
       "      <td>1.712069</td>\n",
       "      <td>0.01</td>\n",
       "      <td>0.1000</td>\n",
       "      <td>0.31</td>\n",
       "      <td>0.8700</td>\n",
       "      <td>16.27</td>\n",
       "    </tr>\n",
       "    <tr>\n",
       "      <th>XOne</th>\n",
       "      <td>247.0</td>\n",
       "      <td>0.645020</td>\n",
       "      <td>1.036139</td>\n",
       "      <td>0.01</td>\n",
       "      <td>0.0600</td>\n",
       "      <td>0.22</td>\n",
       "      <td>0.6850</td>\n",
       "      <td>7.39</td>\n",
       "    </tr>\n",
       "  </tbody>\n",
       "</table>\n",
       "</div>"
      ],
      "text/plain": [
       "          count      mean       std   min     25%   50%     75%    max\n",
       "platform                                                              \n",
       "3DS       396.0  0.491439  1.387161  0.01  0.0400  0.11  0.3125  14.60\n",
       "DS         31.0  0.404839  1.439245  0.01  0.0200  0.05  0.1850   8.06\n",
       "PC        250.0  0.250600  0.494640  0.01  0.0300  0.08  0.2400   5.14\n",
       "PS3       491.0  0.582933  1.462888  0.01  0.0500  0.20  0.6100  21.05\n",
       "PS4       392.0  0.801378  1.609456  0.01  0.0600  0.20  0.7300  14.63\n",
       "PSP       173.0  0.064682  0.071296  0.01  0.0200  0.03  0.0900   0.36\n",
       "PSV       411.0  0.119659  0.203011  0.01  0.0200  0.05  0.1200   1.96\n",
       "Wii        54.0  0.655000  1.165447  0.01  0.0625  0.18  0.6875   6.76\n",
       "WiiU      147.0  0.559116  1.058836  0.01  0.0800  0.22  0.5250   7.09\n",
       "X360      292.0  0.810068  1.712069  0.01  0.1000  0.31  0.8700  16.27\n",
       "XOne      247.0  0.645020  1.036139  0.01  0.0600  0.22  0.6850   7.39"
      ]
     },
     "execution_count": 39,
     "metadata": {},
     "output_type": "execute_result"
    }
   ],
   "source": [
    "games_p.groupby('platform')['total_sales'].describe()"
   ]
  },
  {
   "cell_type": "code",
   "execution_count": 40,
   "metadata": {},
   "outputs": [
    {
     "data": {
      "text/plain": [
       "Text(0, 0.5, 'Глобальные продажи')"
      ]
     },
     "execution_count": 40,
     "metadata": {},
     "output_type": "execute_result"
    },
    {
     "data": {
      "image/png": "[encoded data removed]",
      "text/plain": [
       "<Figure size 1440x720 with 1 Axes>"
      ]
     },
     "metadata": {
      "needs_background": "light"
     },
     "output_type": "display_data"
    }
   ],
   "source": [
    "plt.figure(figsize=(20,10))\n",
    "sns.boxplot(data=games_p, x='platform', y='total_sales')\n",
    "plt.title('Ящик c усами')\n",
    "plt.xlabel('Платформа')\n",
    "plt.ylabel('Глобальные продажи')"
   ]
  },
  {
   "cell_type": "code",
   "execution_count": 41,
   "metadata": {},
   "outputs": [
    {
     "data": {
      "text/plain": [
       "(0.0, 2.0)"
      ]
     },
     "execution_count": 41,
     "metadata": {},
     "output_type": "execute_result"
    },
    {
     "data": {
      "image/png": "[encoded data removed]",
      "text/plain": [
       "<Figure size 1440x720 with 1 Axes>"
      ]
     },
     "metadata": {
      "needs_background": "light"
     },
     "output_type": "display_data"
    }
   ],
   "source": [
    "plt.figure(figsize=(20,10))\n",
    "sns.boxplot(data=games_p, x='platform', y='total_sales')\n",
    "plt.title('Ящик c усами')\n",
    "plt.xlabel('Платформа')\n",
    "plt.ylabel('Глобальные продажи')\n",
    "plt.ylim(0, 2)"
   ]
  },
  {
   "cell_type": "markdown",
   "metadata": {},
   "source": [
    "**Вывод:**\n",
    "\n",
    "- Медиана у всех платформ разная. Минимальная медиана у платформы PSP - 0.03. Максимальная у платформы X360 - 0.31.\n",
    "- Больше всех продаж у X360, PS4, Wii, XOne, PS3.\n",
    "- Платформы PC, DS, PSV и PSP плохо продается в актуальном периоде времени, их прибыль не превышает 250 тыс.\n",
    "- Большинство платформ имеют большое количество выбросов."
   ]
  },
  {
   "cell_type": "markdown",
   "metadata": {},
   "source": [
    "### Посмотрим, как влияют на продажи внутри одной популярной платформы отзывы пользователей и критиков. Построим диаграмму рассеяния и посчитайте корреляцию между отзывами и продажами. Сформулируем выводы."
   ]
  },
  {
   "cell_type": "code",
   "execution_count": 43,
   "metadata": {},
   "outputs": [
    {
     "data": {
      "image/png": "[encoded data removed]",
      "text/plain": [
       "<Figure size 720x360 with 1 Axes>"
      ]
     },
     "metadata": {
      "needs_background": "light"
     },
     "output_type": "display_data"
    }
   ],
   "source": [
    "games_p.query('platform == \"PS3\" and user_score > 0').plot(kind='scatter', \n",
    "                                                                  x='user_score', y='total_sales', figsize=(10, 5))\n",
    "plt.xlabel('Отзывы пользователей')\n",
    "plt.ylabel('Продажи платформы PS3')\n",
    "plt.show()"
   ]
  },
  {
   "cell_type": "code",
   "execution_count": 44,
   "metadata": {},
   "outputs": [
    {
     "data": {
      "text/plain": [
       "-0.0041581894802458766"
      ]
     },
     "execution_count": 44,
     "metadata": {},
     "output_type": "execute_result"
    }
   ],
   "source": [
    "games_p.query('platform == \"PS3\" and user_score > 0')['user_score']\\\n",
    ".corr(games_p.query('platform == \"PS3\" and user_score > 0')['total_sales'])"
   ]
  },
  {
   "cell_type": "code",
   "execution_count": 45,
   "metadata": {},
   "outputs": [
    {
     "data": {
      "image/png": "[encoded data removed]",
      "text/plain": [
       "<Figure size 720x360 with 1 Axes>"
      ]
     },
     "metadata": {
      "needs_background": "light"
     },
     "output_type": "display_data"
    }
   ],
   "source": [
    "games_p.query('platform == \"PS3\" and critic_score > 0').plot(kind='scatter', \n",
    "                                                                  x='critic_score', y='total_sales', figsize=(10, 5))\n",
    "plt.xlabel('Отзывы критиков')\n",
    "plt.ylabel('Продажи платформы PS3')\n",
    "plt.show()"
   ]
  },
  {
   "cell_type": "code",
   "execution_count": 46,
   "metadata": {},
   "outputs": [
    {
     "data": {
      "text/plain": [
       "0.33205850244757606"
      ]
     },
     "execution_count": 46,
     "metadata": {},
     "output_type": "execute_result"
    }
   ],
   "source": [
    "games_p.query('platform == \"PS3\" and critic_score > 0')['critic_score'].corr(games_p.query('platform == \"PS3\" and critic_score > 0')['total_sales'])"
   ]
  },
  {
   "cell_type": "markdown",
   "metadata": {},
   "source": [
    "**Вывод:**\n",
    "\n",
    "По платформе PS3 между продажами и отзывами пользователей, по выше данным, связь отсутствует - 0.005. Аналогичная ситуация с отзывами критиков, только связь между продажами и отзывами составляет небольшую прямую связь 0.33. В двух зависимостях имеются выбросы."
   ]
  },
  {
   "cell_type": "markdown",
   "metadata": {},
   "source": [
    "### Соотнесем выводы с продажами игр на других платформах."
   ]
  },
  {
   "cell_type": "code",
   "execution_count": 47,
   "metadata": {},
   "outputs": [],
   "source": [
    "platform_p = ['X360', 'PS4', '3DS', 'WiiU', 'XOne' ]"
   ]
  },
  {
   "cell_type": "code",
   "execution_count": 48,
   "metadata": {},
   "outputs": [
    {
     "name": "stdout",
     "output_type": "stream",
     "text": [
      "                                         X360                                         \n"
     ]
    },
    {
     "data": {
      "image/png": "[encoded data removed]",
      "text/plain": [
       "<Figure size 720x360 with 1 Axes>"
      ]
     },
     "metadata": {
      "needs_background": "light"
     },
     "output_type": "display_data"
    },
    {
     "name": "stdout",
     "output_type": "stream",
     "text": [
      "Корреляция между отзывыми критиков и продажами платформы X360: 0.006163978646213326\n",
      "------------------------------------------------------------------------------------------\n",
      "                                         PS4                                         \n"
     ]
    },
    {
     "data": {
      "image/png": "[encoded data removed]",
      "text/plain": [
       "<Figure size 720x360 with 1 Axes>"
      ]
     },
     "metadata": {
      "needs_background": "light"
     },
     "output_type": "display_data"
    },
    {
     "name": "stdout",
     "output_type": "stream",
     "text": [
      "Корреляция между отзывыми критиков и продажами платформы PS4: -0.031957110204556376\n",
      "------------------------------------------------------------------------------------------\n",
      "                                         3DS                                         \n"
     ]
    },
    {
     "data": {
      "image/png": "[encoded data removed]",
      "text/plain": [
       "<Figure size 720x360 with 1 Axes>"
      ]
     },
     "metadata": {
      "needs_background": "light"
     },
     "output_type": "display_data"
    },
    {
     "name": "stdout",
     "output_type": "stream",
     "text": [
      "Корреляция между отзывыми критиков и продажами платформы 3DS: 0.19758263411038599\n",
      "------------------------------------------------------------------------------------------\n",
      "                                         WiiU                                         \n"
     ]
    },
    {
     "data": {
      "image/png": "[encoded data removed]",
      "text/plain": [
       "<Figure size 720x360 with 1 Axes>"
      ]
     },
     "metadata": {
      "needs_background": "light"
     },
     "output_type": "display_data"
    },
    {
     "name": "stdout",
     "output_type": "stream",
     "text": [
      "Корреляция между отзывыми критиков и продажами платформы WiiU: 0.4002190202148617\n",
      "------------------------------------------------------------------------------------------\n",
      "                                         XOne                                         \n"
     ]
    },
    {
     "data": {
      "image/png": "[encoded data removed]",
      "text/plain": [
       "<Figure size 720x360 with 1 Axes>"
      ]
     },
     "metadata": {
      "needs_background": "light"
     },
     "output_type": "display_data"
    },
    {
     "name": "stdout",
     "output_type": "stream",
     "text": [
      "Корреляция между отзывыми критиков и продажами платформы XOne: -0.06892505328279414\n",
      "------------------------------------------------------------------------------------------\n"
     ]
    }
   ],
   "source": [
    "for i in platform_p:\n",
    "    print(' '*40, i,' '*40)\n",
    "    games_p.query('platform == @i and user_score > 0').plot(kind='scatter', \n",
    "                                                                      x='user_score', y='total_sales', figsize=(10, 5))\n",
    "    plt.xlabel('Отзывы пользователей')\n",
    "    plt.ylabel('Продажи платформы')\n",
    "    plt.show()\n",
    "    print(f'Корреляция между отзывыми критиков и продажами платформы {i}:', \n",
    "          games_p.query('platform == @i and user_score > 0')['user_score']\\\n",
    "    .corr(games_p.query('platform == @i and user_score > 0')['total_sales']))\n",
    "    print('-'*90)\n",
    "    "
   ]
  },
  {
   "cell_type": "code",
   "execution_count": 49,
   "metadata": {},
   "outputs": [
    {
     "name": "stdout",
     "output_type": "stream",
     "text": [
      "                                         X360                                         \n"
     ]
    },
    {
     "data": {
      "image/png": "[encoded data removed]",
      "text/plain": [
       "<Figure size 720x360 with 1 Axes>"
      ]
     },
     "metadata": {
      "needs_background": "light"
     },
     "output_type": "display_data"
    },
    {
     "name": "stdout",
     "output_type": "stream",
     "text": [
      "Корреляция между отзывами критиков и продажами платформы X360: 0.3605734888507336\n",
      "------------------------------------------------------------------------------------------\n",
      "                                         PS4                                         \n"
     ]
    },
    {
     "data": {
      "image/png": "[encoded data removed]",
      "text/plain": [
       "<Figure size 720x360 with 1 Axes>"
      ]
     },
     "metadata": {
      "needs_background": "light"
     },
     "output_type": "display_data"
    },
    {
     "name": "stdout",
     "output_type": "stream",
     "text": [
      "Корреляция между отзывами критиков и продажами платформы PS4: 0.40656790206178095\n",
      "------------------------------------------------------------------------------------------\n",
      "                                         3DS                                         \n"
     ]
    },
    {
     "data": {
      "image/png": "[encoded data removed]",
      "text/plain": [
       "<Figure size 720x360 with 1 Axes>"
      ]
     },
     "metadata": {
      "needs_background": "light"
     },
     "output_type": "display_data"
    },
    {
     "name": "stdout",
     "output_type": "stream",
     "text": [
      "Корреляция между отзывами критиков и продажами платформы 3DS: 0.3208028695360785\n",
      "------------------------------------------------------------------------------------------\n",
      "                                         WiiU                                         \n"
     ]
    },
    {
     "data": {
      "image/png": "[encoded data removed]",
      "text/plain": [
       "<Figure size 720x360 with 1 Axes>"
      ]
     },
     "metadata": {
      "needs_background": "light"
     },
     "output_type": "display_data"
    },
    {
     "name": "stdout",
     "output_type": "stream",
     "text": [
      "Корреляция между отзывами критиков и продажами платформы WiiU: 0.34837976012017485\n",
      "------------------------------------------------------------------------------------------\n",
      "                                         XOne                                         \n"
     ]
    },
    {
     "data": {
      "image/png": "[encoded data removed]",
      "text/plain": [
       "<Figure size 720x360 with 1 Axes>"
      ]
     },
     "metadata": {
      "needs_background": "light"
     },
     "output_type": "display_data"
    },
    {
     "name": "stdout",
     "output_type": "stream",
     "text": [
      "Корреляция между отзывами критиков и продажами платформы XOne: 0.4169983280084017\n",
      "------------------------------------------------------------------------------------------\n"
     ]
    }
   ],
   "source": [
    "for i in platform_p:\n",
    "    print(' '*40, i,' '*40)\n",
    "    games_p.query('platform == @i and critic_score > 0').plot(kind='scatter', \n",
    "                                                                      x='critic_score', y='total_sales', figsize=(10, 5))\n",
    "    plt.xlabel('Отзывы критиков')\n",
    "    plt.ylabel('Продажи платформы')\n",
    "    plt.show()\n",
    "    print(f'Корреляция между отзывами критиков и продажами платформы {i}:', \n",
    "          games_p.query('platform == @i and critic_score > 0')['critic_score']\\\n",
    "    .corr(games_p.query('platform == @i and critic_score > 0')['total_sales']))\n",
    "    print('-'*90)"
   ]
  },
  {
   "cell_type": "markdown",
   "metadata": {},
   "source": [
    "**Вывод:**\n",
    "\n",
    "По платформам связь между продажами и отзывами пользователей и критиков:\n",
    "- По платформе X360 между продажами и отзывами пользователей, по выше данным, связь очень слабая 0.006. Аналогичная ситуация с отзывами критиков, только связь между продажами и отзывами составляет слабую связь 0.36. Имеются выбросы.\n",
    "- По платформе PS4 между продажами и отзывами пользователей, по выше данным, связь очень слабая - 0.03 Аналогичная ситуация с отзывами критиков, только связь между продажами и отзывами составляет слабую связь 0.41. Имеются выбросы.\n",
    "- По платформе 3DS между продажами и отзывами пользователей, по выше данным, связьочень слабая - 0.20. Аналогичная ситуация с отзывами критиков,  связь между продажами и отзывами составляет слабую связь 0.32. Имеются выбросы.\n",
    "- По платформе WiiU между продажами и отзывами пользователей, по выше данным, слабую связь 0.40. Аналогичная ситуация с отзывами критиков,только связь между продажами и отзывами составляет слабую связь 0.35. Имеются выбросы.\n",
    "- По платформе XOne между продажами и отзывами пользователей, по выше данным, связь очень слабая - 0.07. Аналогичная ситуация с отзывами критиков, только связь между продажами и отзывами составляет слабую связь 0.42. Имеются выбросы."
   ]
  },
  {
   "cell_type": "markdown",
   "metadata": {},
   "source": [
    "### Посмотрим на общее распределение игр по жанрам. Что можно сказать о самых прибыльных жанрах? Выделяются ли жанры с высокими и низкими продажами?"
   ]
  },
  {
   "cell_type": "code",
   "execution_count": 50,
   "metadata": {},
   "outputs": [
    {
     "data": {
      "image/png": "[encoded data removed]",
      "text/plain": [
       "<Figure size 720x360 with 1 Axes>"
      ]
     },
     "metadata": {
      "needs_background": "light"
     },
     "output_type": "display_data"
    }
   ],
   "source": [
    "games_p.pivot_table(index='genre', values = 'total_sales', aggfunc = 'sum').sort_values(by='total_sales', \n",
    "     ascending=False).plot(title = 'Распределение игр по жанрам',\n",
    "     kind = 'bar', grid = True, figsize=(10,5), color = 'green')\n",
    "plt.xlabel('Жанры')\n",
    "plt.ylabel('Сумма')\n",
    "plt.show() "
   ]
  },
  {
   "cell_type": "code",
   "execution_count": 51,
   "metadata": {},
   "outputs": [
    {
     "data": {
      "image/png": "[encoded data removed]",
      "text/plain": [
       "<Figure size 720x360 with 1 Axes>"
      ]
     },
     "metadata": {
      "needs_background": "light"
     },
     "output_type": "display_data"
    }
   ],
   "source": [
    "games_p.pivot_table(index='genre', values = 'total_sales', aggfunc = 'count').sort_values(by='total_sales', \n",
    "     ascending=False).plot(title = 'Распределение игр по жанрам',\n",
    "     kind = 'bar', grid = True, figsize=(10,5), color = 'blue')\n",
    "plt.xlabel('Жанры')\n",
    "plt.ylabel('Кол-во')\n",
    "plt.show() "
   ]
  },
  {
   "cell_type": "code",
   "execution_count": 52,
   "metadata": {},
   "outputs": [
    {
     "data": {
      "text/plain": [
       "Text(0, 0.5, 'Глобальные продажи')"
      ]
     },
     "execution_count": 52,
     "metadata": {},
     "output_type": "execute_result"
    },
    {
     "data": {
      "image/png": "[encoded data removed]",
      "text/plain": [
       "<Figure size 1440x720 with 1 Axes>"
      ]
     },
     "metadata": {
      "needs_background": "light"
     },
     "output_type": "display_data"
    }
   ],
   "source": [
    "plt.figure(figsize=(20,10))\n",
    "sns.boxplot(data=games_p, x='genre', y='total_sales')\n",
    "plt.title('Ящик c усами')\n",
    "plt.xlabel('Жанры')\n",
    "plt.ylabel('Глобальные продажи')"
   ]
  },
  {
   "cell_type": "code",
   "execution_count": 53,
   "metadata": {},
   "outputs": [
    {
     "data": {
      "text/plain": [
       "(0.0, 4.0)"
      ]
     },
     "execution_count": 53,
     "metadata": {},
     "output_type": "execute_result"
    },
    {
     "data": {
      "image/png": "[encoded data removed]",
      "text/plain": [
       "<Figure size 1440x720 with 1 Axes>"
      ]
     },
     "metadata": {
      "needs_background": "light"
     },
     "output_type": "display_data"
    }
   ],
   "source": [
    "plt.figure(figsize=(20,10))\n",
    "sns.boxplot(data=games_p, x='genre', y='total_sales')\n",
    "plt.title('Ящик c усами')\n",
    "plt.xlabel('Жанры')\n",
    "plt.ylabel('Глобальные продажи')\n",
    "plt.ylim(0, 4)"
   ]
  },
  {
   "cell_type": "markdown",
   "metadata": {},
   "source": [
    "**Вывод:**\n",
    "\n",
    "- По прожадам на первом месте жанр Action, после него идет жанр Sports, Shooter, Misc, Role-Playing, но если смотреть медианные продажи то, на первом месте Shooter, после него Sports, Platform, Fighting, Misc, Simulation.\n",
    "- Низкие продажи у жанров Simulation, Fighting, Adventure, Puzzle и самый низкий по продажам Strategy. По медианным значениям низкие продажи у жанров Misc, Simulation, Racing, Strategy, Adventure и Puzzle.\n",
    "- По количеству проданных на первом месте также жанр Action , после него идет жанр Sports, Misc, Role-Playing, Adventure\n",
    "- Меньше проданных копий составило у Racing, Fighting, Platform, Strategy и Puzzle.\n"
   ]
  },
  {
   "cell_type": "markdown",
   "metadata": {},
   "source": [
    "**Промежуточный вывод:**\n",
    "<p></p>\n",
    "\n",
    "<div style=\"border:solid green 2px; padding: 10px\">\n",
    "\n",
    "1. В период с 1980 года по 1994 выпускалось мало игр, не во всех странах в то время были компьютеры, и это было неактуально, также было мало компаний, которые занимались играми. С 2002 года количество игр начало расти в большом количестве. Пик был с 2007 по 2011 год. Потом количество новых игр уменьшилось, вероятно, связано с эрой мобильных телефон и планшетов. Данные за все периоды не важны, актуальные и показательные данные могла быть с 2002 по 2016 год.\n",
    "\n",
    "    \n",
    "2. Самые популярные игровые платформы по продажам за весь период это PS2, X360, PS3, Wii, DS, PS. \n",
    "    \n",
    "\n",
    "3. За какой период исчезают старые платформы и как скоро появляются новые и какой имеют срок:\n",
    "- платформа PS прожила с 1994 по 2003 год (9 лет).\n",
    "- платформа PS2 начала появляться параллельно живой PS c 2000 года по 2011 год (11 лет).\n",
    "- платформа DS появилась в 1985 году, до 2004 года не было данных, скорее всего данне еще не ввелись, она начала появляться параллельно живой PS2 c 2004 года по 2013 год (9 лет).\n",
    "- платформа Wii начала появляться параллельно живой DS и PS2 c 2006 года по 2016 год (10 лет).\n",
    "- платформа X360 начала появляться параллельно живой DS, PS2 и Wii  c 2005 года по 2016 год (9 лет).\n",
    "- платформа PS3 начала появляться параллельно живой DS, PS2, X360  и Wii c 2006 года по 2016 год (10 лет).\n",
    "\n",
    "По данным средний срок жизни консоли около 7 лет, возможно они бы продолжали работать дальше, но приходят новые консоли, они обновляются и становятся лучше. В старых уже нет потребности.\n",
    "    \n",
    "    \n",
    "4. Наиболее топовые платформы вышли с 2005 года по 2016 год. В этот период есть все данные, чтобы построить прогноз на 2017 год.\n",
    "\n",
    "    \n",
    "5. Платформа PS3 больше всех заработала в 2012 году (больше 100 млн.), последующие год также была в топе.\n",
    "В 2013 году вышла новая платформа PS4 и она начала лидировать ближе к 2014 году до конца 2016 года.\n",
    "На 2016 год топ лидирующих платформ:\n",
    "- PS4 \n",
    "- XOne\n",
    "- 3DC\n",
    "    \n",
    "6.  \n",
    "- Медиана у всех платформ разная. Минимальная медиана у платформы PSP - 0.03. Максимальная у платформы X360 - 0.31.\n",
    "- Больше всех продаж у X360, PS4, Wii, XOne, PS3.\n",
    "- Платформы PC, DS, PSV и PSP плохо продается в актуальном периоде времени, их прибыль не превышает 250 тыс.\n",
    "- Большинство платформ имеют большое количество выбросов.\n",
    "    \n",
    "    \n",
    "7. По платформам связь между продажами и отзывами пользователей и критиков:\n",
    "\n",
    "-  По платформе PS3 между продажами и отзывами пользователей, по выше данным, связь отсутствует - 0.005. Аналогичная ситуация с отзывами критиков, только связь между продажами и отзывами составляет небольшую прямую связь 0.33. В двух зависимостях имеются выбросы.\n",
    "- По платформе X360 между продажами и отзывами пользователей, по выше данным, связь отсутствует 0.006. Аналогичная ситуация с отзывами критиков, только связь между продажами и отзывами составляет небольшую прямую связь 0.36. Имеются выбросы.\n",
    "- По платформе PS4 между продажами и отзывами пользователей, по выше данным, связь отсутствует - 0.03 Аналогичная ситуация с отзывами критиков, только связь между продажами и отзывами составляет небольшую прямую связь 0.41. Имеются выбросы.\n",
    "- По платформе 3DS между продажами и отзывами пользователей, по выше данным, связь отсутствует  0.20. Аналогичная ситуация с отзывами критиков,  связь между продажами и отзывами составляет небольшую прямую связь 0.32. Имеются выбросы.\n",
    "- По платформе WiiU между продажами и отзывами пользователей, по выше данным, небольшая прямая связь 0.40. Аналогичная ситуация с отзывами критиков,только связь между продажами и отзывами составляет небольшую прямую связь 0.35.Имеются выбросы.\n",
    "- По платформе XOne между продажами и отзывами пользователей, по выше данным, связь отсутствует - 0.07. Аналогичная ситуация с отзывами критиков, только связь между продажами и отзывами составляет небольшую прямую связь 0.42. Имеются выбросы.   \n",
    "    \n",
    "8.  - По прожадам на первом месте жанр Action, после него идет жанр Sports, Shooter, Misc, Role-Playing, но если смотреть медианные продажи то, на первом месте Shooter, после него Sports, Platform, Fighting, Misc, Simulation.\n",
    "    - Низкие продажи у жанров Simulation, Fighting, Adventure, Puzzle и самый низкий по продажам Strategy. По медианным значениям низкие продажи у жанров Misc, Simulation, Racing, Strategy, Adventure и Puzzle.\n",
    "    - По количеству проданных на первом месте также жанр Action , после него идет жанр Sports, Misc, Role-Playing, Adventure\n",
    "    - Меньше проданных копий составило у Racing, Fighting, Platform, Strategy и Puzzle.\n",
    "\n",
    "</div>"
   ]
  },
  {
   "cell_type": "markdown",
   "metadata": {},
   "source": [
    "## Шаг 4. Составим портрет пользователя каждого региона"
   ]
  },
  {
   "cell_type": "markdown",
   "metadata": {},
   "source": [
    "### Определим для пользователя каждого региона (NA, EU, JP):\n"
   ]
  },
  {
   "cell_type": "markdown",
   "metadata": {},
   "source": [
    "#### Самые популярные платформы (топ-5). Опишим различия в долях продаж."
   ]
  },
  {
   "cell_type": "code",
   "execution_count": 54,
   "metadata": {},
   "outputs": [
    {
     "data": {
      "text/html": [
       "<div>\n",
       "<style scoped>\n",
       "    .dataframe tbody tr th:only-of-type {\n",
       "        vertical-align: middle;\n",
       "    }\n",
       "\n",
       "    .dataframe tbody tr th {\n",
       "        vertical-align: top;\n",
       "    }\n",
       "\n",
       "    .dataframe thead th {\n",
       "        text-align: right;\n",
       "    }\n",
       "</style>\n",
       "<table border=\"1\" class=\"dataframe\">\n",
       "  <thead>\n",
       "    <tr style=\"text-align: right;\">\n",
       "      <th></th>\n",
       "      <th>na_sales</th>\n",
       "    </tr>\n",
       "    <tr>\n",
       "      <th>platform</th>\n",
       "      <th></th>\n",
       "    </tr>\n",
       "  </thead>\n",
       "  <tbody>\n",
       "    <tr>\n",
       "      <th>X360</th>\n",
       "      <td>140.05</td>\n",
       "    </tr>\n",
       "    <tr>\n",
       "      <th>PS4</th>\n",
       "      <td>108.74</td>\n",
       "    </tr>\n",
       "    <tr>\n",
       "      <th>PS3</th>\n",
       "      <td>101.27</td>\n",
       "    </tr>\n",
       "    <tr>\n",
       "      <th>XOne</th>\n",
       "      <td>93.12</td>\n",
       "    </tr>\n",
       "    <tr>\n",
       "      <th>3DS</th>\n",
       "      <td>55.31</td>\n",
       "    </tr>\n",
       "  </tbody>\n",
       "</table>\n",
       "</div>"
      ],
      "text/plain": [
       "          na_sales\n",
       "platform          \n",
       "X360        140.05\n",
       "PS4         108.74\n",
       "PS3         101.27\n",
       "XOne         93.12\n",
       "3DS          55.31"
      ]
     },
     "execution_count": 54,
     "metadata": {},
     "output_type": "execute_result"
    }
   ],
   "source": [
    "games_p.pivot_table(index='platform', values = 'na_sales', aggfunc = 'sum').sort_values(by='na_sales', \n",
    "     ascending=False)[:5]   "
   ]
  },
  {
   "cell_type": "code",
   "execution_count": 55,
   "metadata": {},
   "outputs": [],
   "source": [
    "def platform(i):\n",
    "     if i['platform'] == \"X360\":\n",
    "        return 'X360'\n",
    "     if i['platform'] == \"PS4\":\n",
    "        return 'PS4'\n",
    "     if i['platform'] == \"PS3\":\n",
    "        return 'PS3'\n",
    "     if i['platform'] == \"XOne\":\n",
    "        return 'XOne'\n",
    "     if i['platform'] == \"3DS\":\n",
    "        return '3DS'\n",
    "     else:\n",
    "        return 'другой'\n",
    "games_p = games_p.copy()    \n",
    "games_p['platform_na'] = games_p.apply(platform, axis=1)   "
   ]
  },
  {
   "cell_type": "code",
   "execution_count": 56,
   "metadata": {},
   "outputs": [
    {
     "data": {
      "image/png": "[encoded data removed]",
      "text/plain": [
       "<Figure size 720x360 with 1 Axes>"
      ]
     },
     "metadata": {},
     "output_type": "display_data"
    }
   ],
   "source": [
    "games_p.pivot_table(index='platform_na', values = 'na_sales', aggfunc = 'sum').sort_values(by='na_sales', \n",
    "     ascending=False).plot(title = 'Продажи по платформам в регионе NA',\n",
    "     kind = 'pie',  autopct='%1.1f%%', subplots=True, legend=False, figsize=(10,5))\n",
    "plt.show() "
   ]
  },
  {
   "cell_type": "code",
   "execution_count": 57,
   "metadata": {},
   "outputs": [
    {
     "data": {
      "text/html": [
       "<div>\n",
       "<style scoped>\n",
       "    .dataframe tbody tr th:only-of-type {\n",
       "        vertical-align: middle;\n",
       "    }\n",
       "\n",
       "    .dataframe tbody tr th {\n",
       "        vertical-align: top;\n",
       "    }\n",
       "\n",
       "    .dataframe thead th {\n",
       "        text-align: right;\n",
       "    }\n",
       "</style>\n",
       "<table border=\"1\" class=\"dataframe\">\n",
       "  <thead>\n",
       "    <tr style=\"text-align: right;\">\n",
       "      <th></th>\n",
       "      <th>eu_sales</th>\n",
       "    </tr>\n",
       "    <tr>\n",
       "      <th>platform</th>\n",
       "      <th></th>\n",
       "    </tr>\n",
       "  </thead>\n",
       "  <tbody>\n",
       "    <tr>\n",
       "      <th>PS4</th>\n",
       "      <td>141.09</td>\n",
       "    </tr>\n",
       "    <tr>\n",
       "      <th>PS3</th>\n",
       "      <td>106.63</td>\n",
       "    </tr>\n",
       "    <tr>\n",
       "      <th>X360</th>\n",
       "      <td>74.52</td>\n",
       "    </tr>\n",
       "    <tr>\n",
       "      <th>XOne</th>\n",
       "      <td>51.59</td>\n",
       "    </tr>\n",
       "    <tr>\n",
       "      <th>3DS</th>\n",
       "      <td>42.64</td>\n",
       "    </tr>\n",
       "  </tbody>\n",
       "</table>\n",
       "</div>"
      ],
      "text/plain": [
       "          eu_sales\n",
       "platform          \n",
       "PS4         141.09\n",
       "PS3         106.63\n",
       "X360         74.52\n",
       "XOne         51.59\n",
       "3DS          42.64"
      ]
     },
     "execution_count": 57,
     "metadata": {},
     "output_type": "execute_result"
    }
   ],
   "source": [
    "games_p.pivot_table(index='platform', values = 'eu_sales', aggfunc = 'sum').sort_values(by='eu_sales', \n",
    "     ascending=False)[:5] "
   ]
  },
  {
   "cell_type": "code",
   "execution_count": 58,
   "metadata": {},
   "outputs": [],
   "source": [
    "def platform(i):\n",
    "     if i['platform'] == \"X360\":\n",
    "        return 'X360'\n",
    "     if i['platform'] == \"PS4\":\n",
    "        return 'PS4'\n",
    "     if i['platform'] == \"PS3\":\n",
    "        return 'PS3'\n",
    "     if i['platform'] == \"XOne\":\n",
    "        return 'XOne'\n",
    "     if i['platform'] == \"3DS\":\n",
    "        return '3DS'\n",
    "     else:\n",
    "        return 'другой'\n",
    "games_p = games_p.copy()     \n",
    "games_p['platform_eu'] = games_p.apply(platform, axis=1)   "
   ]
  },
  {
   "cell_type": "code",
   "execution_count": 59,
   "metadata": {},
   "outputs": [
    {
     "data": {
      "image/png": "[encoded data removed]",
      "text/plain": [
       "<Figure size 720x360 with 1 Axes>"
      ]
     },
     "metadata": {},
     "output_type": "display_data"
    }
   ],
   "source": [
    "games_p.pivot_table(index='platform_eu', values = 'eu_sales', aggfunc = 'sum').sort_values(by='eu_sales', \n",
    "     ascending=False).plot(title = 'Продажи по платформам в регионе EU',\n",
    "     kind = 'pie',  autopct='%1.1f%%', subplots=True, legend=False, figsize=(10,5))\n",
    "plt.show() "
   ]
  },
  {
   "cell_type": "code",
   "execution_count": 60,
   "metadata": {},
   "outputs": [
    {
     "data": {
      "text/html": [
       "<div>\n",
       "<style scoped>\n",
       "    .dataframe tbody tr th:only-of-type {\n",
       "        vertical-align: middle;\n",
       "    }\n",
       "\n",
       "    .dataframe tbody tr th {\n",
       "        vertical-align: top;\n",
       "    }\n",
       "\n",
       "    .dataframe thead th {\n",
       "        text-align: right;\n",
       "    }\n",
       "</style>\n",
       "<table border=\"1\" class=\"dataframe\">\n",
       "  <thead>\n",
       "    <tr style=\"text-align: right;\">\n",
       "      <th></th>\n",
       "      <th>jp_sales</th>\n",
       "    </tr>\n",
       "    <tr>\n",
       "      <th>platform</th>\n",
       "      <th></th>\n",
       "    </tr>\n",
       "  </thead>\n",
       "  <tbody>\n",
       "    <tr>\n",
       "      <th>3DS</th>\n",
       "      <td>87.79</td>\n",
       "    </tr>\n",
       "    <tr>\n",
       "      <th>PS3</th>\n",
       "      <td>35.29</td>\n",
       "    </tr>\n",
       "    <tr>\n",
       "      <th>PSV</th>\n",
       "      <td>21.04</td>\n",
       "    </tr>\n",
       "    <tr>\n",
       "      <th>PS4</th>\n",
       "      <td>15.96</td>\n",
       "    </tr>\n",
       "    <tr>\n",
       "      <th>WiiU</th>\n",
       "      <td>13.01</td>\n",
       "    </tr>\n",
       "  </tbody>\n",
       "</table>\n",
       "</div>"
      ],
      "text/plain": [
       "          jp_sales\n",
       "platform          \n",
       "3DS          87.79\n",
       "PS3          35.29\n",
       "PSV          21.04\n",
       "PS4          15.96\n",
       "WiiU         13.01"
      ]
     },
     "execution_count": 60,
     "metadata": {},
     "output_type": "execute_result"
    }
   ],
   "source": [
    "games_p.pivot_table(index='platform', values = 'jp_sales', aggfunc = 'sum').sort_values(by='jp_sales', \n",
    "     ascending=False)[:5] "
   ]
  },
  {
   "cell_type": "code",
   "execution_count": 61,
   "metadata": {},
   "outputs": [],
   "source": [
    "def platform(i):\n",
    "     if i['platform'] == \"3DS\":\n",
    "        return '3DS'\n",
    "     if i['platform'] == \"PS3\":\n",
    "        return 'PS3'\n",
    "     if i['platform'] == \"PSV\":\n",
    "        return 'PSV'\n",
    "     if i['platform'] == \"PS4\":\n",
    "        return 'PS4'\n",
    "     if i['platform'] == \"WiiU\":\n",
    "        return 'WiiU'\n",
    "     else:\n",
    "        return 'другой'\n",
    "games_p = games_p.copy()   \n",
    "games_p['platform_jp'] = games_p.apply(platform, axis=1)   "
   ]
  },
  {
   "cell_type": "code",
   "execution_count": 62,
   "metadata": {},
   "outputs": [
    {
     "data": {
      "image/png": "[encoded data removed]",
      "text/plain": [
       "<Figure size 720x360 with 1 Axes>"
      ]
     },
     "metadata": {},
     "output_type": "display_data"
    }
   ],
   "source": [
    "games_p.pivot_table(index='platform_jp', values = 'jp_sales', aggfunc = 'sum').sort_values(by='jp_sales', \n",
    "     ascending=False).plot(title = 'Продажи по платформам в регионе JP',\n",
    "     kind = 'pie',  autopct='%1.1f%%', subplots=True, legend=False, figsize=(10,5))\n",
    "plt.show() "
   ]
  },
  {
   "cell_type": "markdown",
   "metadata": {},
   "source": [
    "**Вывод:**\n",
    "\n",
    "- Топ-5 продаж платформ в  Северной Америке: X360(23.7%), PS4(18.4%), PS3(17.5%), XOne(15.8%), 3DS(9.4%).\n",
    "- Топ-5 продаж платформ в Европе: PS4(27.8%), PS3(21.1%), X360(14.7%), XOne(10.2%), 3DS(8.4%).\n",
    "- Топ-5 продаж платформ в Японии: 3DS(45.6%), PS3(18.3%), PSV(10.9%), PS4(8.3%), WiiU(6.8%)."
   ]
  },
  {
   "cell_type": "markdown",
   "metadata": {},
   "source": [
    "#### Самые популярные жанры (топ-5). Поясним разницу."
   ]
  },
  {
   "cell_type": "code",
   "execution_count": 63,
   "metadata": {},
   "outputs": [
    {
     "data": {
      "text/html": [
       "<div>\n",
       "<style scoped>\n",
       "    .dataframe tbody tr th:only-of-type {\n",
       "        vertical-align: middle;\n",
       "    }\n",
       "\n",
       "    .dataframe tbody tr th {\n",
       "        vertical-align: top;\n",
       "    }\n",
       "\n",
       "    .dataframe thead th {\n",
       "        text-align: right;\n",
       "    }\n",
       "</style>\n",
       "<table border=\"1\" class=\"dataframe\">\n",
       "  <thead>\n",
       "    <tr style=\"text-align: right;\">\n",
       "      <th></th>\n",
       "      <th>na_sales</th>\n",
       "    </tr>\n",
       "    <tr>\n",
       "      <th>genre</th>\n",
       "      <th></th>\n",
       "    </tr>\n",
       "  </thead>\n",
       "  <tbody>\n",
       "    <tr>\n",
       "      <th>Action</th>\n",
       "      <td>177.84</td>\n",
       "    </tr>\n",
       "    <tr>\n",
       "      <th>Shooter</th>\n",
       "      <td>144.77</td>\n",
       "    </tr>\n",
       "    <tr>\n",
       "      <th>Sports</th>\n",
       "      <td>79.42</td>\n",
       "    </tr>\n",
       "    <tr>\n",
       "      <th>Role-Playing</th>\n",
       "      <td>64.00</td>\n",
       "    </tr>\n",
       "    <tr>\n",
       "      <th>Misc</th>\n",
       "      <td>38.19</td>\n",
       "    </tr>\n",
       "  </tbody>\n",
       "</table>\n",
       "</div>"
      ],
      "text/plain": [
       "              na_sales\n",
       "genre                 \n",
       "Action          177.84\n",
       "Shooter         144.77\n",
       "Sports           79.42\n",
       "Role-Playing     64.00\n",
       "Misc             38.19"
      ]
     },
     "execution_count": 63,
     "metadata": {},
     "output_type": "execute_result"
    }
   ],
   "source": [
    "games_p.pivot_table(index='genre', values = 'na_sales', aggfunc = 'sum').sort_values(by='na_sales', \n",
    "     ascending=False)[:5]   "
   ]
  },
  {
   "cell_type": "code",
   "execution_count": 64,
   "metadata": {},
   "outputs": [],
   "source": [
    "def genre(i):\n",
    "     if i['genre'] == \"Action\":\n",
    "        return 'Action'\n",
    "     if i['genre'] == \"Shooter\":\n",
    "        return 'Shooter'\n",
    "     if i['genre'] == \"Sports\":\n",
    "        return 'Sports'\n",
    "     if i['genre'] == \"Role-Playing\":\n",
    "        return 'Role-Playing'\n",
    "     if i['genre'] == \"Misc\":\n",
    "        return 'Misc'\n",
    "     else:\n",
    "        return 'другой'\n",
    "games_p = games_p.copy()   \n",
    "games_p['genre_na'] = games_p.apply(genre, axis=1)   "
   ]
  },
  {
   "cell_type": "code",
   "execution_count": 65,
   "metadata": {},
   "outputs": [
    {
     "data": {
      "image/png": "[encoded data removed]",
      "text/plain": [
       "<Figure size 720x360 with 1 Axes>"
      ]
     },
     "metadata": {},
     "output_type": "display_data"
    }
   ],
   "source": [
    "games_p.pivot_table(index='genre_na', values = 'na_sales', aggfunc = 'sum').sort_values(by='na_sales', \n",
    "     ascending=False).plot(title = 'Жанры в регионе NA',\n",
    "     kind = 'pie',  autopct='%1.1f%%', subplots=True, legend=False, figsize=(10,5))\n",
    "plt.show() "
   ]
  },
  {
   "cell_type": "code",
   "execution_count": 66,
   "metadata": {},
   "outputs": [
    {
     "data": {
      "text/html": [
       "<div>\n",
       "<style scoped>\n",
       "    .dataframe tbody tr th:only-of-type {\n",
       "        vertical-align: middle;\n",
       "    }\n",
       "\n",
       "    .dataframe tbody tr th {\n",
       "        vertical-align: top;\n",
       "    }\n",
       "\n",
       "    .dataframe thead th {\n",
       "        text-align: right;\n",
       "    }\n",
       "</style>\n",
       "<table border=\"1\" class=\"dataframe\">\n",
       "  <thead>\n",
       "    <tr style=\"text-align: right;\">\n",
       "      <th></th>\n",
       "      <th>eu_sales</th>\n",
       "    </tr>\n",
       "    <tr>\n",
       "      <th>genre</th>\n",
       "      <th></th>\n",
       "    </tr>\n",
       "  </thead>\n",
       "  <tbody>\n",
       "    <tr>\n",
       "      <th>Action</th>\n",
       "      <td>159.34</td>\n",
       "    </tr>\n",
       "    <tr>\n",
       "      <th>Shooter</th>\n",
       "      <td>113.47</td>\n",
       "    </tr>\n",
       "    <tr>\n",
       "      <th>Sports</th>\n",
       "      <td>68.86</td>\n",
       "    </tr>\n",
       "    <tr>\n",
       "      <th>Role-Playing</th>\n",
       "      <td>48.53</td>\n",
       "    </tr>\n",
       "    <tr>\n",
       "      <th>Racing</th>\n",
       "      <td>27.29</td>\n",
       "    </tr>\n",
       "  </tbody>\n",
       "</table>\n",
       "</div>"
      ],
      "text/plain": [
       "              eu_sales\n",
       "genre                 \n",
       "Action          159.34\n",
       "Shooter         113.47\n",
       "Sports           68.86\n",
       "Role-Playing     48.53\n",
       "Racing           27.29"
      ]
     },
     "execution_count": 66,
     "metadata": {},
     "output_type": "execute_result"
    }
   ],
   "source": [
    "games_p.pivot_table(index='genre', values = 'eu_sales', aggfunc = 'sum').sort_values(by='eu_sales', \n",
    "     ascending=False)[:5]  "
   ]
  },
  {
   "cell_type": "code",
   "execution_count": 67,
   "metadata": {},
   "outputs": [],
   "source": [
    "def genre(i):\n",
    "     if i['genre'] == \"Action\":\n",
    "        return 'Action'\n",
    "     if i['genre'] == \"Shooter\":\n",
    "        return 'Shooter'\n",
    "     if i['genre'] == \"Sports\":\n",
    "        return 'Sports'\n",
    "     if i['genre'] == \"Role-Playing\":\n",
    "        return 'Role-Playing'\n",
    "     if i['genre'] == \"Racing\":\n",
    "        return 'Racingsc'\n",
    "     else:\n",
    "        return 'другой'\n",
    "games_p = games_p.copy()   \n",
    "games_p['genre_eu'] = games_p.apply(genre, axis=1)   "
   ]
  },
  {
   "cell_type": "code",
   "execution_count": 68,
   "metadata": {},
   "outputs": [
    {
     "data": {
      "image/png": "[encoded data removed]",
      "text/plain": [
       "<Figure size 720x360 with 1 Axes>"
      ]
     },
     "metadata": {},
     "output_type": "display_data"
    }
   ],
   "source": [
    "games_p.pivot_table(index='genre_eu', values = 'eu_sales', aggfunc = 'sum').sort_values(by='eu_sales', \n",
    "     ascending=False).plot(title = 'Жанры в регионе EU',\n",
    "     kind = 'pie',  autopct='%1.1f%%', subplots=True, legend=False, figsize=(10,5))\n",
    "plt.show() "
   ]
  },
  {
   "cell_type": "code",
   "execution_count": 69,
   "metadata": {},
   "outputs": [
    {
     "data": {
      "text/html": [
       "<div>\n",
       "<style scoped>\n",
       "    .dataframe tbody tr th:only-of-type {\n",
       "        vertical-align: middle;\n",
       "    }\n",
       "\n",
       "    .dataframe tbody tr th {\n",
       "        vertical-align: top;\n",
       "    }\n",
       "\n",
       "    .dataframe thead th {\n",
       "        text-align: right;\n",
       "    }\n",
       "</style>\n",
       "<table border=\"1\" class=\"dataframe\">\n",
       "  <thead>\n",
       "    <tr style=\"text-align: right;\">\n",
       "      <th></th>\n",
       "      <th>jp_sales</th>\n",
       "    </tr>\n",
       "    <tr>\n",
       "      <th>genre</th>\n",
       "      <th></th>\n",
       "    </tr>\n",
       "  </thead>\n",
       "  <tbody>\n",
       "    <tr>\n",
       "      <th>Role-Playing</th>\n",
       "      <td>65.44</td>\n",
       "    </tr>\n",
       "    <tr>\n",
       "      <th>Action</th>\n",
       "      <td>52.80</td>\n",
       "    </tr>\n",
       "    <tr>\n",
       "      <th>Misc</th>\n",
       "      <td>12.86</td>\n",
       "    </tr>\n",
       "    <tr>\n",
       "      <th>Simulation</th>\n",
       "      <td>10.41</td>\n",
       "    </tr>\n",
       "    <tr>\n",
       "      <th>Fighting</th>\n",
       "      <td>9.44</td>\n",
       "    </tr>\n",
       "  </tbody>\n",
       "</table>\n",
       "</div>"
      ],
      "text/plain": [
       "              jp_sales\n",
       "genre                 \n",
       "Role-Playing     65.44\n",
       "Action           52.80\n",
       "Misc             12.86\n",
       "Simulation       10.41\n",
       "Fighting          9.44"
      ]
     },
     "execution_count": 69,
     "metadata": {},
     "output_type": "execute_result"
    }
   ],
   "source": [
    "games_p.pivot_table(index='genre', values = 'jp_sales', aggfunc = 'sum').sort_values(by='jp_sales', \n",
    "     ascending=False)[:5]  "
   ]
  },
  {
   "cell_type": "code",
   "execution_count": 70,
   "metadata": {},
   "outputs": [],
   "source": [
    "def genre(i):\n",
    "     if i['genre'] == \"Action\":\n",
    "        return 'Action'\n",
    "     if i['genre'] == \"Simulation\":\n",
    "        return 'Simulation'\n",
    "     if i['genre'] == \"Misc\":\n",
    "        return 'Misc'\n",
    "     if i['genre'] == \"Role-Playing\":\n",
    "        return 'Role-Playing'\n",
    "     if i['genre'] == \"Fighting\":\n",
    "        return 'Fighting'\n",
    "     else:\n",
    "        return 'другой'\n",
    "games_p = games_p.copy()   \n",
    "games_p['genre_jp'] = games_p.apply(genre, axis=1)  "
   ]
  },
  {
   "cell_type": "code",
   "execution_count": 71,
   "metadata": {},
   "outputs": [
    {
     "data": {
      "image/png": "[encoded data removed]",
      "text/plain": [
       "<Figure size 720x360 with 1 Axes>"
      ]
     },
     "metadata": {},
     "output_type": "display_data"
    }
   ],
   "source": [
    "games_p.pivot_table(index='genre_jp', values = 'jp_sales', aggfunc = 'sum').sort_values(by='jp_sales', \n",
    "     ascending=False).plot(title = 'Жанры в регионе JP',\n",
    "     kind = 'pie', autopct='%1.1f%%', subplots=True, legend=False, figsize=(10,5))\n",
    "plt.show() "
   ]
  },
  {
   "cell_type": "markdown",
   "metadata": {},
   "source": [
    "**Вывод:**\n",
    "\n",
    "- Топ-5 жанров платформ в Северной Америке: Action(30.1%), Shooter(24.5%), Sports(13.8%),Role-Plaing(10.8%) и Misc(6.5%).\n",
    "- Топ-5 жанров платформ в Европе: Action(31.4%), Shooter(22.4%), Sports(13.6%), Role-Plaing(9.6%) и Racingsc(5.4%).\n",
    "- Топ-5 жанров платформ в Японии: Role-Plaing(34.0%), Action(27.4%), Misc(6.7%), Simulation(5.4%) и Fighting(4.9%).\n",
    "\n",
    "В Северной Америке и Европе вкусы пользователей схожи, только 5 место отличается по жанрам.\n",
    "В Японии на первом месте ролевые игры."
   ]
  },
  {
   "cell_type": "markdown",
   "metadata": {},
   "source": [
    "#### Влияет ли рейтинг ESRB на продажи в отдельном регионе?"
   ]
  },
  {
   "cell_type": "code",
   "execution_count": 72,
   "metadata": {},
   "outputs": [
    {
     "data": {
      "image/png": "[encoded data removed]",
      "text/plain": [
       "<Figure size 720x360 with 1 Axes>"
      ]
     },
     "metadata": {
      "needs_background": "light"
     },
     "output_type": "display_data"
    }
   ],
   "source": [
    "games_p.pivot_table(index='rating', values = 'na_sales', aggfunc = 'sum').sort_values(by='na_sales', \n",
    "     ascending=False).plot(title = 'Рейтинг ESRB в регионе NA',\n",
    "     kind = 'bar', grid = True, figsize=(10,5), color = 'brown')\n",
    "plt.xlabel('Рейтинг')\n",
    "plt.ylabel('Млн.')\n",
    "plt.show()"
   ]
  },
  {
   "cell_type": "code",
   "execution_count": 73,
   "metadata": {},
   "outputs": [
    {
     "data": {
      "image/png": "[encoded data removed]",
      "text/plain": [
       "<Figure size 720x360 with 1 Axes>"
      ]
     },
     "metadata": {
      "needs_background": "light"
     },
     "output_type": "display_data"
    }
   ],
   "source": [
    "games_p.pivot_table(index='rating', values = 'eu_sales', aggfunc = 'sum').sort_values(by='eu_sales', \n",
    "     ascending=False).plot(title = 'Рейтинг ESRB в регионе EU',\n",
    "     kind = 'bar', grid = True, figsize=(10,5), color = 'purple')\n",
    "plt.xlabel('Рейтинг')\n",
    "plt.ylabel('Млн.')\n",
    "plt.show() "
   ]
  },
  {
   "cell_type": "code",
   "execution_count": 74,
   "metadata": {},
   "outputs": [
    {
     "data": {
      "image/png": "[encoded data removed]",
      "text/plain": [
       "<Figure size 720x360 with 1 Axes>"
      ]
     },
     "metadata": {
      "needs_background": "light"
     },
     "output_type": "display_data"
    }
   ],
   "source": [
    "games_p.pivot_table(index='rating', values = 'jp_sales', aggfunc = 'sum').sort_values(by='jp_sales', \n",
    "     ascending=False).plot(title = 'Рейтинг ESRB в регионе JP',\n",
    "     kind = 'bar', grid = True, figsize=(10,5), color = 'orange')\n",
    "plt.xlabel('Рейтинг')\n",
    "plt.ylabel('Млн.')\n",
    "plt.show() "
   ]
  },
  {
   "cell_type": "markdown",
   "metadata": {},
   "source": [
    "**Вывод:**\n",
    "\n",
    "Обозначим для себя, что означает данные рейтинг:\n",
    "- EС - для детей от 3-х лет.\n",
    "- E - для всех возрастных категорий.\n",
    "- E10+ - для лиц старше 10 лет.\n",
    "- T - для лиц старше 13 лет.\n",
    "- М - для лиц старше 17 лет.\n",
    "- AO - для лиц старше 17 лет.\n",
    "- RP - возраст неопределен, в процессе.\n",
    "\n",
    "По данным выше: \n",
    "\n",
    "- Самый топовый рейтинг по Северной Америки и Европы рейтинг M, а у Японии NO ESRB (рейтинг ESRB предназначен для маркировки игр для США и Канады. И вероятней он в других регионах не везде заполняется).\n",
    "- Рейтинги у Северной Америки и Европы схожи, имеют по убыванию рейтинги M, E, NO ESRB,  E10+, T.\n",
    "- У Японии на первом месте рейтинг NO ESRB, а уже после идут E, T,  M, E10+.\n"
   ]
  },
  {
   "cell_type": "markdown",
   "metadata": {},
   "source": [
    "**Промежуточный вывод:**\n",
    "<p></p>\n",
    "\n",
    "<div style=\"border:solid green 2px; padding: 10px\">\n",
    "    \n",
    "1.  - Топ-5 продаж платформ в  Северной Америке: X360(23.7%), PS4(18.4%), PS3(17.5%), XOne(15.8%), 3DS(9.4%).\n",
    "    - Топ-5 продаж платформ в Европе: PS4(27.8%), PS3(21.1%), X360(14.7%), XOne(10.2%), 3DS(8.4%).\n",
    "    - Топ-5 продаж платформ в Японии: 3DS(45.6%), PS3(18.3%), PSV(10.9%), PS4(8.3%), WiiU(6.8%).\n",
    "    \n",
    "    \n",
    "2.  - Топ-5 жанров платформ в Северной Америке: Action(30.1%), Shooter(24.5%), Sports(13.8%),Role-Plaing(10.8%) и Misc(6.5%).\n",
    "    - Топ-5 жанров платформ в Европе: Action(31.4%), Shooter(22.4%), Sports(13.6%), Role-Plaing(9.6%) и Racingsc(5.4%).\n",
    "    - Топ-5 жанров платформ в Японии: Role-Plaing(34.0%), Action(27.4%), Misc(6.7%), Simulation(5.4%) и Fighting(4.9%).\n",
    "\n",
    "В Северной Америке и Европе вкусы пользователей схожи, только 5 место отличается по жанрам.\n",
    "В Японии на первом месте ролевые игры.\n",
    "\n",
    "В Северной Америке и Европе вкусы пользователей схожи, только 5 место отличается по жанрам.\n",
    "В Японии на первом месте ролевые игры, причем в большом отрыве от других топовых жанров.\n",
    "        \n",
    "    \n",
    "3. Обозначим для себя, что означает данные рейтинг:\n",
    "- EС - для детей от 3-х лет.\n",
    "- E - для всех возрастных категорий.\n",
    "- E10+ - для лиц старше 10 лет.\n",
    "- T - для лиц старше 13 лет.\n",
    "- М - для лиц старше 17 лет.\n",
    "- AO - для лиц старше 17 лет.\n",
    "- RP - возраст неопределен, в процессе.\n",
    "    \n",
    "    \n",
    "- Самый топовый рейтинг по Северной Америки и Европы рейтинг M, а у Японии NO ESRB (рейтинг ESRB предназначен для маркировки игр для США и Канады. И вероятней он в других регионах не везде заполняется).\n",
    "- Рейтинги у Северной Америки и Европы схожи, имеют по убыванию рейтинги M, E, NO ESRB,  E10+, T.\n",
    "- У Японии на первом месте рейтинг NO ESRB, а уже после идут E, T,  M, E10+.    \n",
    "    "
   ]
  },
  {
   "cell_type": "markdown",
   "metadata": {},
   "source": [
    "## Шаг 5. Проверим гипотезы"
   ]
  },
  {
   "cell_type": "markdown",
   "metadata": {},
   "source": [
    "### Средние пользовательские рейтинги платформ Xbox One и PC одинаковые."
   ]
  },
  {
   "cell_type": "code",
   "execution_count": 75,
   "metadata": {},
   "outputs": [
    {
     "data": {
      "text/html": [
       "<div>\n",
       "<style scoped>\n",
       "    .dataframe tbody tr th:only-of-type {\n",
       "        vertical-align: middle;\n",
       "    }\n",
       "\n",
       "    .dataframe tbody tr th {\n",
       "        vertical-align: top;\n",
       "    }\n",
       "\n",
       "    .dataframe thead th {\n",
       "        text-align: right;\n",
       "    }\n",
       "</style>\n",
       "<table border=\"1\" class=\"dataframe\">\n",
       "  <thead>\n",
       "    <tr style=\"text-align: right;\">\n",
       "      <th></th>\n",
       "      <th>name</th>\n",
       "      <th>platform</th>\n",
       "      <th>year_of_release</th>\n",
       "      <th>genre</th>\n",
       "      <th>na_sales</th>\n",
       "      <th>eu_sales</th>\n",
       "      <th>jp_sales</th>\n",
       "      <th>other_sales</th>\n",
       "      <th>critic_score</th>\n",
       "      <th>user_score</th>\n",
       "      <th>rating</th>\n",
       "      <th>total_sales</th>\n",
       "      <th>platform_na</th>\n",
       "      <th>platform_eu</th>\n",
       "      <th>platform_jp</th>\n",
       "      <th>genre_na</th>\n",
       "      <th>genre_eu</th>\n",
       "      <th>genre_jp</th>\n",
       "    </tr>\n",
       "  </thead>\n",
       "  <tbody>\n",
       "    <tr>\n",
       "      <th>16</th>\n",
       "      <td>grand theft auto v</td>\n",
       "      <td>PS3</td>\n",
       "      <td>2013</td>\n",
       "      <td>Action</td>\n",
       "      <td>7.02</td>\n",
       "      <td>9.09</td>\n",
       "      <td>0.98</td>\n",
       "      <td>3.96</td>\n",
       "      <td>97.0</td>\n",
       "      <td>8.2</td>\n",
       "      <td>M</td>\n",
       "      <td>21.05</td>\n",
       "      <td>PS3</td>\n",
       "      <td>PS3</td>\n",
       "      <td>PS3</td>\n",
       "      <td>Action</td>\n",
       "      <td>Action</td>\n",
       "      <td>Action</td>\n",
       "    </tr>\n",
       "    <tr>\n",
       "      <th>23</th>\n",
       "      <td>grand theft auto v</td>\n",
       "      <td>X360</td>\n",
       "      <td>2013</td>\n",
       "      <td>Action</td>\n",
       "      <td>9.66</td>\n",
       "      <td>5.14</td>\n",
       "      <td>0.06</td>\n",
       "      <td>1.41</td>\n",
       "      <td>97.0</td>\n",
       "      <td>8.1</td>\n",
       "      <td>M</td>\n",
       "      <td>16.27</td>\n",
       "      <td>X360</td>\n",
       "      <td>X360</td>\n",
       "      <td>другой</td>\n",
       "      <td>Action</td>\n",
       "      <td>Action</td>\n",
       "      <td>Action</td>\n",
       "    </tr>\n",
       "    <tr>\n",
       "      <th>31</th>\n",
       "      <td>call of duty: black ops 3</td>\n",
       "      <td>PS4</td>\n",
       "      <td>2015</td>\n",
       "      <td>Shooter</td>\n",
       "      <td>6.03</td>\n",
       "      <td>5.86</td>\n",
       "      <td>0.36</td>\n",
       "      <td>2.38</td>\n",
       "      <td>-1.0</td>\n",
       "      <td>-1.0</td>\n",
       "      <td>NO ESRB</td>\n",
       "      <td>14.63</td>\n",
       "      <td>PS4</td>\n",
       "      <td>PS4</td>\n",
       "      <td>PS4</td>\n",
       "      <td>Shooter</td>\n",
       "      <td>Shooter</td>\n",
       "      <td>другой</td>\n",
       "    </tr>\n",
       "    <tr>\n",
       "      <th>33</th>\n",
       "      <td>pokemon x/pokemon y</td>\n",
       "      <td>3DS</td>\n",
       "      <td>2013</td>\n",
       "      <td>Role-Playing</td>\n",
       "      <td>5.28</td>\n",
       "      <td>4.19</td>\n",
       "      <td>4.35</td>\n",
       "      <td>0.78</td>\n",
       "      <td>-1.0</td>\n",
       "      <td>-1.0</td>\n",
       "      <td>NO ESRB</td>\n",
       "      <td>14.60</td>\n",
       "      <td>3DS</td>\n",
       "      <td>3DS</td>\n",
       "      <td>3DS</td>\n",
       "      <td>Role-Playing</td>\n",
       "      <td>Role-Playing</td>\n",
       "      <td>Role-Playing</td>\n",
       "    </tr>\n",
       "    <tr>\n",
       "      <th>34</th>\n",
       "      <td>call of duty: black ops ii</td>\n",
       "      <td>PS3</td>\n",
       "      <td>2012</td>\n",
       "      <td>Shooter</td>\n",
       "      <td>4.99</td>\n",
       "      <td>5.73</td>\n",
       "      <td>0.65</td>\n",
       "      <td>2.42</td>\n",
       "      <td>83.0</td>\n",
       "      <td>5.3</td>\n",
       "      <td>M</td>\n",
       "      <td>13.79</td>\n",
       "      <td>PS3</td>\n",
       "      <td>PS3</td>\n",
       "      <td>PS3</td>\n",
       "      <td>Shooter</td>\n",
       "      <td>Shooter</td>\n",
       "      <td>другой</td>\n",
       "    </tr>\n",
       "  </tbody>\n",
       "</table>\n",
       "</div>"
      ],
      "text/plain": [
       "                          name platform  year_of_release         genre  \\\n",
       "16          grand theft auto v      PS3             2013        Action   \n",
       "23          grand theft auto v     X360             2013        Action   \n",
       "31   call of duty: black ops 3      PS4             2015       Shooter   \n",
       "33         pokemon x/pokemon y      3DS             2013  Role-Playing   \n",
       "34  call of duty: black ops ii      PS3             2012       Shooter   \n",
       "\n",
       "    na_sales  eu_sales  jp_sales  other_sales  critic_score  user_score  \\\n",
       "16      7.02      9.09      0.98         3.96          97.0         8.2   \n",
       "23      9.66      5.14      0.06         1.41          97.0         8.1   \n",
       "31      6.03      5.86      0.36         2.38          -1.0        -1.0   \n",
       "33      5.28      4.19      4.35         0.78          -1.0        -1.0   \n",
       "34      4.99      5.73      0.65         2.42          83.0         5.3   \n",
       "\n",
       "     rating  total_sales platform_na platform_eu platform_jp      genre_na  \\\n",
       "16        M        21.05         PS3         PS3         PS3        Action   \n",
       "23        M        16.27        X360        X360      другой        Action   \n",
       "31  NO ESRB        14.63         PS4         PS4         PS4       Shooter   \n",
       "33  NO ESRB        14.60         3DS         3DS         3DS  Role-Playing   \n",
       "34        M        13.79         PS3         PS3         PS3       Shooter   \n",
       "\n",
       "        genre_eu      genre_jp  \n",
       "16        Action        Action  \n",
       "23        Action        Action  \n",
       "31       Shooter        другой  \n",
       "33  Role-Playing  Role-Playing  \n",
       "34       Shooter        другой  "
      ]
     },
     "execution_count": 75,
     "metadata": {},
     "output_type": "execute_result"
    }
   ],
   "source": [
    "games_p.head()"
   ]
  },
  {
   "cell_type": "code",
   "execution_count": 76,
   "metadata": {},
   "outputs": [],
   "source": [
    "games_p_1 = games_p[(games_p['platform'] == 'XOne') & (games_p['user_score'] > 0)]['user_score']"
   ]
  },
  {
   "cell_type": "code",
   "execution_count": 77,
   "metadata": {},
   "outputs": [
    {
     "data": {
      "text/plain": [
       "count    182.000000\n",
       "mean       6.521429\n",
       "std        1.380941\n",
       "min        1.600000\n",
       "25%        5.800000\n",
       "50%        6.800000\n",
       "75%        7.500000\n",
       "max        9.200000\n",
       "Name: user_score, dtype: float64"
      ]
     },
     "execution_count": 77,
     "metadata": {},
     "output_type": "execute_result"
    }
   ],
   "source": [
    "games_p_1.describe()"
   ]
  },
  {
   "cell_type": "code",
   "execution_count": 78,
   "metadata": {},
   "outputs": [],
   "source": [
    "games_p_2 = games_p[(games_p['platform'] == 'PC') & (games_p['user_score'] > 0)]['user_score']"
   ]
  },
  {
   "cell_type": "code",
   "execution_count": 79,
   "metadata": {},
   "outputs": [
    {
     "data": {
      "text/plain": [
       "count    206.000000\n",
       "mean       6.428641\n",
       "std        1.664465\n",
       "min        1.400000\n",
       "25%        5.500000\n",
       "50%        6.800000\n",
       "75%        7.700000\n",
       "max        9.300000\n",
       "Name: user_score, dtype: float64"
      ]
     },
     "execution_count": 79,
     "metadata": {},
     "output_type": "execute_result"
    }
   ],
   "source": [
    "games_p_2.describe()"
   ]
  },
  {
   "cell_type": "markdown",
   "metadata": {},
   "source": [
    "H0: Средние пользовательские рейтинги платформ Xbox One и PC одинаковые.\n",
    "\n",
    "H1: Средние пользовательские рейтинги платформ Xbox One и PC разные.\n",
    "    "
   ]
  },
  {
   "cell_type": "markdown",
   "metadata": {},
   "source": [
    "У нас две независимые выборки. Применим метод t-Стьюдента, метод st.ttest_ind.\n",
    "\n",
    "Уровень статистической значимости примем 0.01.\n",
    "\n",
    "Примем equal_var=False, потому что как мы видим выше по данным дисперсии неравны."
   ]
  },
  {
   "cell_type": "code",
   "execution_count": 80,
   "metadata": {},
   "outputs": [
    {
     "name": "stdout",
     "output_type": "stream",
     "text": [
      "p-значение: 0.5489537965134912\n",
      "Не получилось отвергнуть нулевую гипотезу\n"
     ]
    }
   ],
   "source": [
    "alpha = 0.01 # уровень статистической значимости\n",
    "# если p-value окажется меньше него, отвергнем гипотезу\n",
    "\n",
    "\n",
    "results = st.ttest_ind(games_p_2, games_p_1, equal_var=False)\n",
    "\n",
    "print('p-значение:', results.pvalue)\n",
    "\n",
    "if results.pvalue < alpha:\n",
    "    print('Отвергаем нулевую гипотезу')\n",
    "else:\n",
    "    print('Не получилось отвергнуть нулевую гипотезу')"
   ]
  },
  {
   "cell_type": "markdown",
   "metadata": {},
   "source": [
    "**Вывод:**\n",
    "\n",
    "Не получилось отвергнуть нулевую гипотезу. Средние пользовательские рейтинги платформ Xbox One и PC одинаковые. "
   ]
  },
  {
   "cell_type": "markdown",
   "metadata": {},
   "source": [
    "### Средние пользовательские рейтинги жанров Action (англ. «действие», экшен-игры) и Sports (англ. «спортивные соревнования») разные."
   ]
  },
  {
   "cell_type": "code",
   "execution_count": 81,
   "metadata": {},
   "outputs": [],
   "source": [
    "games_p_3 = games_p[(games_p['genre'] == 'Action') & (games_p['user_score'] > 0)]['user_score']"
   ]
  },
  {
   "cell_type": "code",
   "execution_count": 82,
   "metadata": {},
   "outputs": [
    {
     "data": {
      "text/plain": [
       "count    523.000000\n",
       "mean       6.825048\n",
       "std        1.374440\n",
       "min        1.600000\n",
       "25%        6.250000\n",
       "50%        7.100000\n",
       "75%        7.800000\n",
       "max        9.100000\n",
       "Name: user_score, dtype: float64"
      ]
     },
     "execution_count": 82,
     "metadata": {},
     "output_type": "execute_result"
    }
   ],
   "source": [
    "games_p_3.describe()"
   ]
  },
  {
   "cell_type": "code",
   "execution_count": 83,
   "metadata": {},
   "outputs": [],
   "source": [
    "games_p_4 = games_p[(games_p['genre'] == 'Sports') & (games_p['user_score'] > 0)]['user_score']"
   ]
  },
  {
   "cell_type": "code",
   "execution_count": 84,
   "metadata": {},
   "outputs": [
    {
     "data": {
      "text/plain": [
       "count    193.000000\n",
       "mean       5.455440\n",
       "std        1.747672\n",
       "min        0.200000\n",
       "25%        4.300000\n",
       "50%        5.800000\n",
       "75%        6.800000\n",
       "max        8.800000\n",
       "Name: user_score, dtype: float64"
      ]
     },
     "execution_count": 84,
     "metadata": {},
     "output_type": "execute_result"
    }
   ],
   "source": [
    "games_p_4.describe()"
   ]
  },
  {
   "cell_type": "markdown",
   "metadata": {},
   "source": [
    "H0: Средние пользовательские рейтинги жанра Action и Sports одинаковые.\n",
    "\n",
    "H1: Средние пользовательские рейтинги жанра Action и Sports разные."
   ]
  },
  {
   "cell_type": "markdown",
   "metadata": {},
   "source": [
    "У нас две независимые выборки. Применим метод t-Стьюдента, метод st.ttest_ind.\n",
    "\n",
    "Уровень статистической значимости примем 0.01.\n",
    "\n",
    "Примем equal_var=False, потому что как мы видим выше по данным дисперсии неравны."
   ]
  },
  {
   "cell_type": "code",
   "execution_count": 85,
   "metadata": {},
   "outputs": [
    {
     "name": "stdout",
     "output_type": "stream",
     "text": [
      "p-значение: 8.449849446620471e-20\n",
      "Отвергаем нулевую гипотезу\n"
     ]
    }
   ],
   "source": [
    "alpha = 0.01 # уровень статистической значимости\n",
    "# если p-value окажется меньше него, отвергнем гипотезу\n",
    "\n",
    "games_p_3 = games_p[(games_p['genre'] == 'Action') & (games_p['user_score'] > 0)]['user_score']\n",
    "games_p_4 = games_p[(games_p['genre'] == 'Sports') & (games_p['user_score'] > 0)]['user_score']\n",
    "\n",
    "results = st.ttest_ind(games_p_3, games_p_4, equal_var=False)\n",
    "\n",
    "print('p-значение:', results.pvalue)\n",
    "\n",
    "if results.pvalue < alpha:\n",
    "    print('Отвергаем нулевую гипотезу')\n",
    "else:\n",
    "    print('Не получилось отвергнуть нулевую гипотезу')"
   ]
  },
  {
   "cell_type": "markdown",
   "metadata": {},
   "source": [
    "**Вывод:**\n",
    "На имеющихся данных, на уровне значимости 1% есть основания отвергнуть нулевую гипотезу о равенстве средних значений пользовательских рейтингов (отзывов) жанров Action и Sports в пользу альтернативной гипотезы. Средние пользовательские рейтинги жанра Action и Sports неодинаковые. По средним показателям видно, что средний пользовательский рейтинг жанра Action больше жанра Sports."
   ]
  },
  {
   "cell_type": "markdown",
   "metadata": {},
   "source": [
    "**Общий вывод:**\n",
    "<p></p>\n",
    "\n",
    "<div style=\"border:solid green 3px; padding: 10px\">\n",
    "    \n",
    "*1. Изучили общую информацию:*\n",
    "- Таблица состоит из 16715 записей.\n",
    "- Найдено 0 явных и неявных дубликатов.\n",
    "- Найдены пропуски.\n",
    "- Есть некорректный тип данных.\n",
    "- Название столбцов некорректны.\n",
    "   \n",
    "    \n",
    "*2. Выполнили предобработку данных:**  \n",
    "- Обработали пропуски.\n",
    "- Заменили некорректые типы на корректные.\n",
    "- Название столбцов сделали корректными.\n",
    "- Добавили новый столбец total_sales - суммарные продажи во всех регионах.\n",
    "    \n",
    "*3. Провели исследовательский анализ данных:* \n",
    "    \n",
    "    \n",
    "   1. В период с 1980 года по 1994 выпускалось мало игр, не во всех странах в то время были компьютеры, и это было \n",
    "    неактуально, также было мало компаний, которые занимались играми. С 2002 года количество игр начало расти в большом \n",
    "    количестве. Пик был с 2007 по 2011 год. Потом количество новых игр уменьшилось, вероятно, связано с эрой мобильных \n",
    "    телефон и планшетов. Данные за все периоды не важны, актуальные и показательные данные могла быть с 2002 по 2016 год.\n",
    "\n",
    "   2. Самые популярные игровые платформы по продажам за весь период это PS2, X360, PS3, Wii, DS, PS. \n",
    "\n",
    "   3. За какой период исчезают старые платформы и как скоро появляются новые и какой имеют срок:\n",
    "    - платформа PS прожила с 1994 по 2003 год (9 лет).\n",
    "    - платформа PS2 начала появляться параллельно живой PS c 2000 года по 2011 год (11 лет).\n",
    "    - платформа DS появилась в 1985 году, до 2004 года не было данных, скорее всего данне еще не ввелись, она начала \n",
    "    появляться параллельно живой PS2 c 2004 года по 2013 год (9 лет).\n",
    "    - платформа Wii начала появляться параллельно живой DS и PS2 c 2006 года по 2016 год (10 лет).\n",
    "    - платформа X360 начала появляться параллельно живой DS, PS2 и Wii  c 2005 года по 2016 год (9 лет).\n",
    "    - платформа PS3 начала появляться параллельно живой DS, PS2, X360  и Wii c 2006 года по 2016 год (10 лет).\n",
    "\n",
    "    По данным средний срок жизни консоли около 7 лет, возможно они бы продолжали работать дальше, но \n",
    "    приходят новые консоли, они обновляются и становятся лучше. В старых уже нет потребности.\n",
    "\n",
    "    \n",
    "   4. Наиболее топовые платформы вышли с 2012 года по 2016 год. В этот период есть все данные, чтобы построить прогноз \n",
    "    на 2017 год.\n",
    "    \n",
    "\n",
    "   5.    Платформа PS3 больше всех заработала в 2012 году (больше 100 млн.), последующие год также была в топе.\n",
    "        В 2013 году вышла новая платформа PS4 и она начала лидировать ближе к 2014 году до конца 2016 года.\n",
    "        На 2016 год топ лидирующих платформ:\n",
    "        - PS4 \n",
    "        - XOne\n",
    "        - 3DC\n",
    "\n",
    "    \n",
    "   6.  - Медиана у всех платформ разная. Минимальная медиана у платформы PSP - 0.03. Максимальная у платформы X360 - 0.31.\n",
    "       - Больше всех продаж у X360, PS4, Wii, XOne, PS3.\n",
    "       - Платформы PC, DS, PSV и PSP плохо продается в актуальном периоде времени, их прибыль не превышает 250 тыс.\n",
    "       - Большинство платформ имеют большое количество выбросов.\n",
    "    \n",
    "   \n",
    "   7. По платформам связь между продажами и отзывами пользователей и критиков:\n",
    "\n",
    "    - По платформе PS3 между продажами и отзывами пользователей, по выше данным, связь отсутствует - 0.14. Аналогичная \n",
    "    ситуация с отзывами критиков, только связь между продажами и отзывами составляет небольшую прямую связь 0.42 и \n",
    "    имеется больше выбросов. Также заметим, что связь между двумя отзывами прямая (0.63). Получается, чем выше оценивает \n",
    "    критик, тем выше оценит пользователь.\n",
    "    - По платформе X360 между продажами и отзывами пользователей, по выше данным, связь отсутствует - 0.11. Аналогичная \n",
    "    ситуация с отзывами критиков, только связь между продажами и отзывами составляет небольшую прямую связь 0.38. Также \n",
    "    заметим, что связь между двумя отзывами прямая (0.63). Получается, чем выше оценивает критик, тем выше оценит \n",
    "    пользователь.\n",
    "    - По платформе PS2 между продажами и отзывами пользователей, по выше данным, связь отсутствует - 0.18. Аналогичная \n",
    "    ситуация с отзывами критиков, только связь между продажами и отзывами составляет небольшую прямую связь 0.43. Также \n",
    "    заметим, что связь между двумя отзывами прямая (0.50). Получается, чем выше оценивает критик, тем выше оценит \n",
    "    пользователь.\n",
    "    - По платформе Wii между продажами и отзывами пользователей, по выше данным, связь отсутствует - 0.11. Аналогичная \n",
    "    ситуация с отзывами критиков, связь между продажами и отзывами отсутствует - 0.17. Также заметим, что связь между \n",
    "    двумя отзывами прямая (0.63). Получается, чем выше оценивает критик, тем выше оценит пользователь.\n",
    "    - По платформе DS между продажами и отзывами пользователей, по выше данным, связь отсутствует - 0.14. Аналогичная\n",
    "    ситуация с отзывами критиков, связь между продажами и отзывами отсутствует - 0.23. Также заметим, что связь между \n",
    "    двумя отзывами прямая (0.65). Получается, чем выше оценивает критик, тем выше оценит пользователь.   \n",
    "\n",
    "   8.  - По прожадам на первом месте жанр Action, после него идет жанр Sports, Shooter, Misc, Role-Playing\n",
    "        - Низкие продажи у жанров Simulation, Fighting, Adventure, Puzzle и самый низкий по продажам Strategy.\n",
    "        - По количеству проданных на первом месте также жанр Action , после него идет жанр Sports, Misc, Role-Playing,\n",
    "          Adventure.\n",
    "        - Меньше проданных копий составило у Racing, Fighting, Platform, Strategy и Puzzle.\n",
    "\n",
    "    \n",
    "    \n",
    "*4. Составили портрет пользователя каждого региона:*    \n",
    "      \n",
    "   1.   - Топ-5 продаж платформ в Северной Америке: X360(23.7%), PS4(18.4%), PS3(17.5%), XOne(15.8%), 3DS(9.4%).\n",
    "        - Топ-5 продаж платформ в Европе: PS4(27.8%), PS3(21.1%), X360(14.7%), XOne(10.2%), 3DS(8.4%).\n",
    "        - Топ-5 продаж платформ в Японии: 3DS(45.6%), PS3(18.3%), PSV(10.9%), PS4(8.3%), WiiU(6.8%).\n",
    "    \n",
    "    \n",
    "   2.  - Топ-5 жанров платформ в Северной Америке: Action(30.1%), Shooter(24.5%), Sports(13.8%),Role-Plaing(10.8%) и                    Misc(6.5%).\n",
    "       - Топ-5 жанров платформ в Европе: Action(31.4%), Shooter(22.4%), Sports(13.6%), Role-Plaing(9.6%) и Racingsc(5.4%).\n",
    "       - Топ-5 жанров платформ в Японии: Role-Plaing(34.0%), Action(27.4%), Misc(6.7%), Simulation(5.4%) и Fighting(4.9%).\n",
    "\n",
    "В Северной Америке и Европе вкусы пользователей схожи, только 5 место отличается по жанрам.\n",
    "В Японии на первом месте ролевые игры.   \n",
    "         \n",
    "   3. Обозначим для себя, что означает данные рейтинг:\n",
    "       - EС - для детей от 3-х лет.\n",
    "       - E - для всех возрастных категорий.\n",
    "       - E10+ - для лиц старше 10 лет.\n",
    "       - T - для лиц старше 13 лет.\n",
    "       - М - для лиц старше 17 лет.\n",
    "       - AO - для лиц старше 17 лет.\n",
    "       - RP - возраст неопределен, в процессе.\n",
    "\n",
    "    - Самый топовый рейтинг по Северной Америки и Европы рейтинг M, а у Японии NO ESRB (рейтинг ESRB предназначен для маркировки игр для США и Канады. И вероятней он в других регионах не везде заполняется).\n",
    "    - Рейтинги у Северной Америки и Европы схожи, имеют по убыванию рейтинги M, E, NO ESRB,  E10+, T.\n",
    "    - У Японии на первом месте рейтинг NO ESRB, а уже после идут E, T,  M, E10+.     \n",
    "    \n",
    "*5. Проверили гипотезы:*\n",
    "    \n",
    "-  Средние пользовательские рейтинги платформ Xbox One и PC одинаковые. По средним показателям видно, что средний пользовательский рейтинг платформы Xbox One равен платформе PC.    \n",
    "- Средние пользовательские рейтинги жанра Action и Sports неодинаковые. По средним показателям видно, что средний пользовательский рейтинг жанра Action больше жанра Sports.\n",
    "    \n",
    "**Итог:** Выделим по исследованию две платформы: PS4 и X360 c жанром Action, c рейтингом М (для лиц старше 17 лет). Рекламировать стоит в регионах Европы, там и жанр и платформы продаются лучше. На отзывы обращать внимание не стоит, так как  зависимости между продажами нет."
   ]
  }
 ],
 "metadata": {
  "ExecuteTimeLog": [
   {
    "duration": 49,
    "start_time": "2024-05-12T11:00:01.821Z"
   },
   {
    "duration": 1325,
    "start_time": "2024-05-12T11:00:03.948Z"
   },
   {
    "duration": 191,
    "start_time": "2024-05-12T11:00:05.544Z"
   },
   {
    "duration": 19,
    "start_time": "2024-05-12T11:00:17.504Z"
   },
   {
    "duration": 15,
    "start_time": "2024-05-12T11:01:05.387Z"
   },
   {
    "duration": 16,
    "start_time": "2024-05-12T11:01:25.306Z"
   },
   {
    "duration": 4,
    "start_time": "2024-05-12T11:07:59.353Z"
   },
   {
    "duration": 3,
    "start_time": "2024-05-12T11:08:11.042Z"
   },
   {
    "duration": 2,
    "start_time": "2024-05-12T11:08:29.729Z"
   },
   {
    "duration": 3,
    "start_time": "2024-05-12T11:09:32.904Z"
   },
   {
    "duration": 14,
    "start_time": "2024-05-12T11:09:38.104Z"
   },
   {
    "duration": 3,
    "start_time": "2024-05-12T11:12:27.593Z"
   },
   {
    "duration": 13,
    "start_time": "2024-05-12T11:12:29.365Z"
   },
   {
    "duration": 68,
    "start_time": "2024-05-12T11:13:03.018Z"
   },
   {
    "duration": 15,
    "start_time": "2024-05-12T11:13:03.871Z"
   },
   {
    "duration": 2,
    "start_time": "2024-05-12T11:13:44.132Z"
   },
   {
    "duration": 14,
    "start_time": "2024-05-12T11:13:46.940Z"
   },
   {
    "duration": 5,
    "start_time": "2024-05-12T11:15:14.973Z"
   },
   {
    "duration": 10,
    "start_time": "2024-05-12T11:15:18.781Z"
   },
   {
    "duration": 13,
    "start_time": "2024-05-12T11:15:26.501Z"
   },
   {
    "duration": 10,
    "start_time": "2024-05-12T11:16:25.107Z"
   },
   {
    "duration": 15,
    "start_time": "2024-05-12T11:16:27.880Z"
   },
   {
    "duration": 3,
    "start_time": "2024-05-12T11:16:58.727Z"
   },
   {
    "duration": 15,
    "start_time": "2024-05-12T11:17:00.933Z"
   },
   {
    "duration": 3,
    "start_time": "2024-05-12T11:23:24.011Z"
   },
   {
    "duration": 13,
    "start_time": "2024-05-12T11:23:30.746Z"
   },
   {
    "duration": 3,
    "start_time": "2024-05-12T11:24:04.203Z"
   },
   {
    "duration": 63,
    "start_time": "2024-05-12T11:24:11.447Z"
   },
   {
    "duration": 11,
    "start_time": "2024-05-12T11:24:32.031Z"
   },
   {
    "duration": 2,
    "start_time": "2024-05-12T11:24:48.211Z"
   },
   {
    "duration": 8,
    "start_time": "2024-05-12T11:24:53.077Z"
   },
   {
    "duration": 3,
    "start_time": "2024-05-12T11:25:03.068Z"
   },
   {
    "duration": 53,
    "start_time": "2024-05-12T11:25:04.009Z"
   },
   {
    "duration": 14,
    "start_time": "2024-05-12T11:25:04.337Z"
   },
   {
    "duration": 14,
    "start_time": "2024-05-12T11:25:04.490Z"
   },
   {
    "duration": 16,
    "start_time": "2024-05-12T11:25:04.651Z"
   },
   {
    "duration": 3,
    "start_time": "2024-05-12T11:25:06.009Z"
   },
   {
    "duration": 3,
    "start_time": "2024-05-12T11:25:07.158Z"
   },
   {
    "duration": 9,
    "start_time": "2024-05-12T11:25:09.080Z"
   },
   {
    "duration": 2,
    "start_time": "2024-05-12T11:25:16.336Z"
   },
   {
    "duration": 51,
    "start_time": "2024-05-12T11:25:16.788Z"
   },
   {
    "duration": 14,
    "start_time": "2024-05-12T11:25:17.195Z"
   },
   {
    "duration": 14,
    "start_time": "2024-05-12T11:25:17.352Z"
   },
   {
    "duration": 17,
    "start_time": "2024-05-12T11:25:17.517Z"
   },
   {
    "duration": 4,
    "start_time": "2024-05-12T11:25:18.715Z"
   },
   {
    "duration": 8,
    "start_time": "2024-05-12T11:25:19.154Z"
   },
   {
    "duration": 8,
    "start_time": "2024-05-12T11:25:28.356Z"
   },
   {
    "duration": 8,
    "start_time": "2024-05-12T11:25:58.443Z"
   },
   {
    "duration": 8,
    "start_time": "2024-05-12T11:31:50.447Z"
   },
   {
    "duration": 9,
    "start_time": "2024-05-12T11:32:02.133Z"
   },
   {
    "duration": 8,
    "start_time": "2024-05-12T11:35:05.110Z"
   },
   {
    "duration": 8,
    "start_time": "2024-05-12T11:35:11.981Z"
   },
   {
    "duration": 3,
    "start_time": "2024-05-12T11:35:20.302Z"
   },
   {
    "duration": 55,
    "start_time": "2024-05-12T11:35:23.331Z"
   },
   {
    "duration": 14,
    "start_time": "2024-05-12T11:35:25.916Z"
   },
   {
    "duration": 13,
    "start_time": "2024-05-12T11:35:29.119Z"
   },
   {
    "duration": 15,
    "start_time": "2024-05-12T11:35:31.694Z"
   },
   {
    "duration": 3,
    "start_time": "2024-05-12T11:35:34.607Z"
   },
   {
    "duration": 13,
    "start_time": "2024-05-12T11:35:43.947Z"
   },
   {
    "duration": 1080,
    "start_time": "2024-05-12T11:43:38.657Z"
   },
   {
    "duration": 16,
    "start_time": "2024-05-12T11:44:07.635Z"
   },
   {
    "duration": 14,
    "start_time": "2024-05-12T11:44:58.330Z"
   },
   {
    "duration": 21,
    "start_time": "2024-05-12T11:45:03.454Z"
   },
   {
    "duration": 8,
    "start_time": "2024-05-12T11:47:21.149Z"
   },
   {
    "duration": 4,
    "start_time": "2024-05-12T11:47:32.774Z"
   },
   {
    "duration": 5,
    "start_time": "2024-05-12T11:48:05.713Z"
   },
   {
    "duration": 3,
    "start_time": "2024-05-12T11:48:52.647Z"
   },
   {
    "duration": 52,
    "start_time": "2024-05-12T11:48:53.509Z"
   },
   {
    "duration": 14,
    "start_time": "2024-05-12T11:48:54.132Z"
   },
   {
    "duration": 15,
    "start_time": "2024-05-12T11:48:54.560Z"
   },
   {
    "duration": 17,
    "start_time": "2024-05-12T11:48:55.123Z"
   },
   {
    "duration": 3,
    "start_time": "2024-05-12T11:48:58.567Z"
   },
   {
    "duration": 17,
    "start_time": "2024-05-12T11:48:58.727Z"
   },
   {
    "duration": 31,
    "start_time": "2024-05-12T11:49:42.099Z"
   },
   {
    "duration": 27,
    "start_time": "2024-05-12T11:49:58.555Z"
   },
   {
    "duration": 70,
    "start_time": "2024-05-12T11:50:16.316Z"
   },
   {
    "duration": 10,
    "start_time": "2024-05-12T11:50:28.283Z"
   },
   {
    "duration": 11,
    "start_time": "2024-05-12T11:50:49.119Z"
   },
   {
    "duration": 10,
    "start_time": "2024-05-12T11:51:05.582Z"
   },
   {
    "duration": 11,
    "start_time": "2024-05-12T11:51:08.588Z"
   },
   {
    "duration": 10,
    "start_time": "2024-05-12T11:51:28.580Z"
   },
   {
    "duration": 11,
    "start_time": "2024-05-12T11:51:34.490Z"
   },
   {
    "duration": 10,
    "start_time": "2024-05-12T11:51:41.838Z"
   },
   {
    "duration": 4,
    "start_time": "2024-05-12T11:52:02.593Z"
   },
   {
    "duration": 5,
    "start_time": "2024-05-12T11:52:03.099Z"
   },
   {
    "duration": 27,
    "start_time": "2024-05-12T11:53:03.972Z"
   },
   {
    "duration": 15,
    "start_time": "2024-05-12T11:53:14.899Z"
   },
   {
    "duration": 19,
    "start_time": "2024-05-12T11:54:22.398Z"
   },
   {
    "duration": 8,
    "start_time": "2024-05-12T11:55:47.098Z"
   },
   {
    "duration": 5,
    "start_time": "2024-05-12T11:56:00.480Z"
   },
   {
    "duration": 4,
    "start_time": "2024-05-12T11:56:04.865Z"
   },
   {
    "duration": 21,
    "start_time": "2024-05-12T11:57:32.515Z"
   },
   {
    "duration": 21,
    "start_time": "2024-05-12T11:58:13.570Z"
   },
   {
    "duration": 7,
    "start_time": "2024-05-12T11:58:26.217Z"
   },
   {
    "duration": 18,
    "start_time": "2024-05-12T12:03:50.497Z"
   },
   {
    "duration": 263,
    "start_time": "2024-05-12T12:28:58.445Z"
   },
   {
    "duration": 5,
    "start_time": "2024-05-12T12:34:15.870Z"
   },
   {
    "duration": 6,
    "start_time": "2024-05-12T12:40:10.994Z"
   },
   {
    "duration": 5,
    "start_time": "2024-05-12T12:40:17.133Z"
   },
   {
    "duration": 6,
    "start_time": "2024-05-12T12:40:45.408Z"
   },
   {
    "duration": 3,
    "start_time": "2024-05-12T12:50:40.054Z"
   },
   {
    "duration": 293,
    "start_time": "2024-05-12T12:53:43.584Z"
   },
   {
    "duration": 12,
    "start_time": "2024-05-12T12:54:50.332Z"
   },
   {
    "duration": 30,
    "start_time": "2024-05-12T12:56:15.909Z"
   },
   {
    "duration": 12,
    "start_time": "2024-05-12T12:56:34.574Z"
   },
   {
    "duration": 11,
    "start_time": "2024-05-12T12:56:38.543Z"
   },
   {
    "duration": 20,
    "start_time": "2024-05-12T13:00:00.607Z"
   },
   {
    "duration": 18,
    "start_time": "2024-05-12T13:00:15.930Z"
   },
   {
    "duration": 19,
    "start_time": "2024-05-12T13:00:23.785Z"
   },
   {
    "duration": 18,
    "start_time": "2024-05-12T13:00:31.700Z"
   },
   {
    "duration": 9,
    "start_time": "2024-05-12T13:01:52.649Z"
   },
   {
    "duration": 6,
    "start_time": "2024-05-12T13:02:11.997Z"
   },
   {
    "duration": 5,
    "start_time": "2024-05-12T13:02:31.364Z"
   },
   {
    "duration": 6,
    "start_time": "2024-05-12T13:02:48.162Z"
   },
   {
    "duration": 3,
    "start_time": "2024-05-12T13:05:11.549Z"
   },
   {
    "duration": 5,
    "start_time": "2024-05-12T13:06:56.154Z"
   },
   {
    "duration": 9,
    "start_time": "2024-05-12T13:07:12.101Z"
   },
   {
    "duration": 4,
    "start_time": "2024-05-12T13:07:30.969Z"
   },
   {
    "duration": 4,
    "start_time": "2024-05-12T13:07:31.387Z"
   },
   {
    "duration": 5,
    "start_time": "2024-05-12T13:09:28.457Z"
   },
   {
    "duration": 5,
    "start_time": "2024-05-12T13:13:56.474Z"
   },
   {
    "duration": 17,
    "start_time": "2024-05-12T13:14:07.442Z"
   },
   {
    "duration": 361,
    "start_time": "2024-05-12T13:17:17.409Z"
   },
   {
    "duration": 351,
    "start_time": "2024-05-12T13:18:14.194Z"
   },
   {
    "duration": 301,
    "start_time": "2024-05-12T13:34:57.298Z"
   },
   {
    "duration": 69,
    "start_time": "2024-05-12T13:35:43.878Z"
   },
   {
    "duration": 18,
    "start_time": "2024-05-12T13:35:51.362Z"
   },
   {
    "duration": 385,
    "start_time": "2024-05-12T13:36:00.909Z"
   },
   {
    "duration": 292,
    "start_time": "2024-05-12T13:36:12.734Z"
   },
   {
    "duration": 288,
    "start_time": "2024-05-12T13:36:24.048Z"
   },
   {
    "duration": 320,
    "start_time": "2024-05-12T13:43:47.318Z"
   },
   {
    "duration": 1089,
    "start_time": "2024-05-12T13:49:16.284Z"
   },
   {
    "duration": 55,
    "start_time": "2024-05-12T13:49:17.376Z"
   },
   {
    "duration": 21,
    "start_time": "2024-05-12T13:49:17.432Z"
   },
   {
    "duration": 34,
    "start_time": "2024-05-12T13:49:17.455Z"
   },
   {
    "duration": 39,
    "start_time": "2024-05-12T13:49:17.492Z"
   },
   {
    "duration": 34,
    "start_time": "2024-05-12T13:49:17.533Z"
   },
   {
    "duration": 44,
    "start_time": "2024-05-12T13:49:17.568Z"
   },
   {
    "duration": 30,
    "start_time": "2024-05-12T13:49:17.614Z"
   },
   {
    "duration": 31,
    "start_time": "2024-05-12T13:49:17.646Z"
   },
   {
    "duration": 56,
    "start_time": "2024-05-12T13:49:17.679Z"
   },
   {
    "duration": 79,
    "start_time": "2024-05-12T13:49:17.737Z"
   },
   {
    "duration": 66,
    "start_time": "2024-05-12T13:49:17.817Z"
   },
   {
    "duration": 53,
    "start_time": "2024-05-12T13:49:17.885Z"
   },
   {
    "duration": 68,
    "start_time": "2024-05-12T13:49:17.940Z"
   },
   {
    "duration": 6,
    "start_time": "2024-05-12T13:49:18.010Z"
   },
   {
    "duration": 37,
    "start_time": "2024-05-12T13:49:18.017Z"
   },
   {
    "duration": 24,
    "start_time": "2024-05-12T13:49:18.056Z"
   },
   {
    "duration": 41,
    "start_time": "2024-05-12T13:49:18.081Z"
   },
   {
    "duration": 33,
    "start_time": "2024-05-12T13:49:18.123Z"
   },
   {
    "duration": 29,
    "start_time": "2024-05-12T13:49:18.157Z"
   },
   {
    "duration": 31,
    "start_time": "2024-05-12T13:49:18.187Z"
   },
   {
    "duration": 372,
    "start_time": "2024-05-12T13:49:18.219Z"
   },
   {
    "duration": 316,
    "start_time": "2024-05-12T13:49:18.592Z"
   },
   {
    "duration": 109,
    "start_time": "2024-05-12T13:49:18.910Z"
   },
   {
    "duration": 354,
    "start_time": "2024-05-12T13:50:00.770Z"
   },
   {
    "duration": 15,
    "start_time": "2024-05-12T13:50:33.604Z"
   },
   {
    "duration": 4,
    "start_time": "2024-05-12T13:53:36.013Z"
   },
   {
    "duration": 19,
    "start_time": "2024-05-12T13:53:42.408Z"
   },
   {
    "duration": 7,
    "start_time": "2024-05-12T13:53:42.776Z"
   },
   {
    "duration": 4,
    "start_time": "2024-05-12T13:53:43.400Z"
   },
   {
    "duration": 4,
    "start_time": "2024-05-12T13:53:43.873Z"
   },
   {
    "duration": 9,
    "start_time": "2024-05-12T13:53:44.080Z"
   },
   {
    "duration": 3,
    "start_time": "2024-05-12T13:53:44.463Z"
   },
   {
    "duration": 4,
    "start_time": "2024-05-12T13:53:44.592Z"
   },
   {
    "duration": 20,
    "start_time": "2024-05-12T13:53:45.008Z"
   },
   {
    "duration": 348,
    "start_time": "2024-05-12T13:53:45.561Z"
   },
   {
    "duration": 295,
    "start_time": "2024-05-12T13:53:46.129Z"
   },
   {
    "duration": 124,
    "start_time": "2024-05-12T13:55:07.375Z"
   },
   {
    "duration": 108,
    "start_time": "2024-05-12T13:55:48.917Z"
   },
   {
    "duration": 22,
    "start_time": "2024-05-12T13:56:10.394Z"
   },
   {
    "duration": 23,
    "start_time": "2024-05-12T13:59:48.591Z"
   },
   {
    "duration": 4,
    "start_time": "2024-05-12T14:02:12.657Z"
   },
   {
    "duration": 1202,
    "start_time": "2024-05-12T14:02:28.378Z"
   },
   {
    "duration": 62,
    "start_time": "2024-05-12T14:02:29.582Z"
   },
   {
    "duration": 17,
    "start_time": "2024-05-12T14:02:29.646Z"
   },
   {
    "duration": 13,
    "start_time": "2024-05-12T14:02:29.665Z"
   },
   {
    "duration": 21,
    "start_time": "2024-05-12T14:02:29.681Z"
   },
   {
    "duration": 3,
    "start_time": "2024-05-12T14:02:29.703Z"
   },
   {
    "duration": 28,
    "start_time": "2024-05-12T14:02:29.708Z"
   },
   {
    "duration": 20,
    "start_time": "2024-05-12T14:02:29.738Z"
   },
   {
    "duration": 22,
    "start_time": "2024-05-12T14:02:29.759Z"
   },
   {
    "duration": 29,
    "start_time": "2024-05-12T14:02:29.783Z"
   },
   {
    "duration": 9,
    "start_time": "2024-05-12T14:02:29.814Z"
   },
   {
    "duration": 21,
    "start_time": "2024-05-12T14:02:29.825Z"
   },
   {
    "duration": 13,
    "start_time": "2024-05-12T14:02:29.847Z"
   },
   {
    "duration": 27,
    "start_time": "2024-05-12T14:02:29.863Z"
   },
   {
    "duration": 6,
    "start_time": "2024-05-12T14:02:29.891Z"
   },
   {
    "duration": 60,
    "start_time": "2024-05-12T14:02:29.898Z"
   },
   {
    "duration": 22,
    "start_time": "2024-05-12T14:02:29.960Z"
   },
   {
    "duration": 59,
    "start_time": "2024-05-12T14:02:29.984Z"
   },
   {
    "duration": 57,
    "start_time": "2024-05-12T14:02:30.045Z"
   },
   {
    "duration": 72,
    "start_time": "2024-05-12T14:02:30.103Z"
   },
   {
    "duration": 64,
    "start_time": "2024-05-12T14:02:30.177Z"
   },
   {
    "duration": 98,
    "start_time": "2024-05-12T14:02:30.242Z"
   },
   {
    "duration": 266,
    "start_time": "2024-05-12T14:02:30.342Z"
   },
   {
    "duration": 452,
    "start_time": "2024-05-12T14:02:30.609Z"
   },
   {
    "duration": 300,
    "start_time": "2024-05-12T14:02:31.063Z"
   },
   {
    "duration": 130,
    "start_time": "2024-05-12T14:02:31.365Z"
   },
   {
    "duration": 24,
    "start_time": "2024-05-12T14:03:38.662Z"
   },
   {
    "duration": 16,
    "start_time": "2024-05-12T14:10:20.367Z"
   },
   {
    "duration": 14,
    "start_time": "2024-05-12T14:10:34.849Z"
   },
   {
    "duration": 14,
    "start_time": "2024-05-12T14:10:49.230Z"
   },
   {
    "duration": 17,
    "start_time": "2024-05-12T14:11:07.150Z"
   },
   {
    "duration": 287,
    "start_time": "2024-05-12T14:13:17.772Z"
   },
   {
    "duration": 22,
    "start_time": "2024-05-12T14:14:05.919Z"
   },
   {
    "duration": 23,
    "start_time": "2024-05-12T14:14:24.614Z"
   },
   {
    "duration": 23,
    "start_time": "2024-05-12T14:14:47.437Z"
   },
   {
    "duration": 24,
    "start_time": "2024-05-12T14:15:21.776Z"
   },
   {
    "duration": 23,
    "start_time": "2024-05-12T14:16:16.048Z"
   },
   {
    "duration": 11635,
    "start_time": "2024-05-12T14:19:32.091Z"
   },
   {
    "duration": 247,
    "start_time": "2024-05-12T14:20:35.244Z"
   },
   {
    "duration": 132,
    "start_time": "2024-05-12T14:21:43.962Z"
   },
   {
    "duration": 317,
    "start_time": "2024-05-12T14:22:04.533Z"
   },
   {
    "duration": 177,
    "start_time": "2024-05-12T14:23:16.076Z"
   },
   {
    "duration": 1082,
    "start_time": "2024-05-12T14:25:19.161Z"
   },
   {
    "duration": 167,
    "start_time": "2024-05-12T14:27:30.301Z"
   },
   {
    "duration": 162,
    "start_time": "2024-05-12T14:27:45.698Z"
   },
   {
    "duration": 211,
    "start_time": "2024-05-12T14:28:13.441Z"
   },
   {
    "duration": 156,
    "start_time": "2024-05-12T14:29:23.544Z"
   },
   {
    "duration": 154,
    "start_time": "2024-05-12T14:53:08.081Z"
   },
   {
    "duration": 30788,
    "start_time": "2024-05-12T14:53:36.360Z"
   },
   {
    "duration": 27754,
    "start_time": "2024-05-12T14:55:12.082Z"
   },
   {
    "duration": 203,
    "start_time": "2024-05-12T15:07:23.559Z"
   },
   {
    "duration": 23,
    "start_time": "2024-05-12T15:07:56.320Z"
   },
   {
    "duration": 151,
    "start_time": "2024-05-12T15:08:18.176Z"
   },
   {
    "duration": 184,
    "start_time": "2024-05-12T15:09:31.091Z"
   },
   {
    "duration": 183,
    "start_time": "2024-05-12T15:10:24.075Z"
   },
   {
    "duration": 319,
    "start_time": "2024-05-12T15:11:23.762Z"
   },
   {
    "duration": 60,
    "start_time": "2024-05-12T15:12:35.406Z"
   },
   {
    "duration": 43,
    "start_time": "2024-05-12T15:12:55.695Z"
   },
   {
    "duration": 54,
    "start_time": "2024-05-12T15:13:20.307Z"
   },
   {
    "duration": 156,
    "start_time": "2024-05-12T15:13:27.621Z"
   },
   {
    "duration": 67,
    "start_time": "2024-05-12T15:14:21.431Z"
   },
   {
    "duration": 63,
    "start_time": "2024-05-12T15:14:39.006Z"
   },
   {
    "duration": 177,
    "start_time": "2024-05-12T15:14:54.059Z"
   },
   {
    "duration": 70,
    "start_time": "2024-05-12T15:16:43.438Z"
   },
   {
    "duration": 67,
    "start_time": "2024-05-12T15:16:51.055Z"
   },
   {
    "duration": 181,
    "start_time": "2024-05-12T15:17:24.937Z"
   },
   {
    "duration": 178,
    "start_time": "2024-05-12T15:17:49.329Z"
   },
   {
    "duration": 155,
    "start_time": "2024-05-12T15:22:12.852Z"
   },
   {
    "duration": 11,
    "start_time": "2024-05-12T15:23:35.524Z"
   },
   {
    "duration": 22,
    "start_time": "2024-05-12T15:30:09.588Z"
   },
   {
    "duration": 175,
    "start_time": "2024-05-12T15:32:25.930Z"
   },
   {
    "duration": 32,
    "start_time": "2024-05-12T15:33:11.295Z"
   },
   {
    "duration": 292,
    "start_time": "2024-05-12T15:33:21.592Z"
   },
   {
    "duration": 23,
    "start_time": "2024-05-12T15:34:58.993Z"
   },
   {
    "duration": 449,
    "start_time": "2024-05-12T15:35:29.065Z"
   },
   {
    "duration": 202,
    "start_time": "2024-05-12T15:36:05.280Z"
   },
   {
    "duration": 137,
    "start_time": "2024-05-12T15:36:24.468Z"
   },
   {
    "duration": 219,
    "start_time": "2024-05-12T15:36:33.415Z"
   },
   {
    "duration": 25,
    "start_time": "2024-05-12T15:43:29.252Z"
   },
   {
    "duration": 25,
    "start_time": "2024-05-12T15:43:41.303Z"
   },
   {
    "duration": 210,
    "start_time": "2024-05-12T15:43:48.242Z"
   },
   {
    "duration": 224,
    "start_time": "2024-05-12T15:47:23.220Z"
   },
   {
    "duration": 245,
    "start_time": "2024-05-12T15:48:30.613Z"
   },
   {
    "duration": 7,
    "start_time": "2024-05-12T16:08:10.285Z"
   },
   {
    "duration": 17,
    "start_time": "2024-05-12T16:08:18.742Z"
   },
   {
    "duration": 10,
    "start_time": "2024-05-12T16:09:49.715Z"
   },
   {
    "duration": 11,
    "start_time": "2024-05-12T16:10:17.923Z"
   },
   {
    "duration": 197,
    "start_time": "2024-05-12T16:11:08.615Z"
   },
   {
    "duration": 353,
    "start_time": "2024-05-12T16:12:11.290Z"
   },
   {
    "duration": 127,
    "start_time": "2024-05-12T16:23:15.385Z"
   },
   {
    "duration": 3725,
    "start_time": "2024-05-12T16:24:27.962Z"
   },
   {
    "duration": 105,
    "start_time": "2024-05-12T16:25:45.133Z"
   },
   {
    "duration": 8,
    "start_time": "2024-05-12T16:26:37.326Z"
   },
   {
    "duration": 118,
    "start_time": "2024-05-12T16:27:39.407Z"
   },
   {
    "duration": 13,
    "start_time": "2024-05-12T16:33:00.476Z"
   },
   {
    "duration": 156,
    "start_time": "2024-05-12T16:33:55.462Z"
   },
   {
    "duration": 30,
    "start_time": "2024-05-12T16:34:00.955Z"
   },
   {
    "duration": 70,
    "start_time": "2024-05-12T16:36:09.748Z"
   },
   {
    "duration": 357,
    "start_time": "2024-05-12T16:39:34.687Z"
   },
   {
    "duration": 11,
    "start_time": "2024-05-12T16:40:41.681Z"
   },
   {
    "duration": 152,
    "start_time": "2024-05-12T16:41:06.132Z"
   },
   {
    "duration": 168,
    "start_time": "2024-05-12T16:41:36.238Z"
   },
   {
    "duration": 165,
    "start_time": "2024-05-12T16:43:22.860Z"
   },
   {
    "duration": 169,
    "start_time": "2024-05-12T16:43:35.043Z"
   },
   {
    "duration": 190,
    "start_time": "2024-05-12T16:45:07.287Z"
   },
   {
    "duration": 237,
    "start_time": "2024-05-12T16:45:22.495Z"
   },
   {
    "duration": 253,
    "start_time": "2024-05-12T16:45:37.442Z"
   },
   {
    "duration": 250,
    "start_time": "2024-05-12T16:48:03.693Z"
   },
   {
    "duration": 118,
    "start_time": "2024-05-12T16:53:10.809Z"
   },
   {
    "duration": 1041,
    "start_time": "2024-05-13T13:55:07.899Z"
   },
   {
    "duration": 103,
    "start_time": "2024-05-13T13:55:08.941Z"
   },
   {
    "duration": 14,
    "start_time": "2024-05-13T13:55:09.045Z"
   },
   {
    "duration": 14,
    "start_time": "2024-05-13T13:55:09.061Z"
   },
   {
    "duration": 14,
    "start_time": "2024-05-13T13:55:09.077Z"
   },
   {
    "duration": 3,
    "start_time": "2024-05-13T13:55:09.092Z"
   },
   {
    "duration": 16,
    "start_time": "2024-05-13T13:55:09.096Z"
   },
   {
    "duration": 9,
    "start_time": "2024-05-13T13:55:09.113Z"
   },
   {
    "duration": 11,
    "start_time": "2024-05-13T13:55:09.123Z"
   },
   {
    "duration": 16,
    "start_time": "2024-05-13T13:55:09.135Z"
   },
   {
    "duration": 8,
    "start_time": "2024-05-13T13:55:09.152Z"
   },
   {
    "duration": 22,
    "start_time": "2024-05-13T13:55:09.161Z"
   },
   {
    "duration": 12,
    "start_time": "2024-05-13T13:55:09.185Z"
   },
   {
    "duration": 15,
    "start_time": "2024-05-13T13:55:09.199Z"
   },
   {
    "duration": 5,
    "start_time": "2024-05-13T13:55:09.215Z"
   },
   {
    "duration": 60,
    "start_time": "2024-05-13T13:55:09.221Z"
   },
   {
    "duration": 13,
    "start_time": "2024-05-13T13:55:09.283Z"
   },
   {
    "duration": 15,
    "start_time": "2024-05-13T13:55:09.297Z"
   },
   {
    "duration": 14,
    "start_time": "2024-05-13T13:55:09.313Z"
   },
   {
    "duration": 33,
    "start_time": "2024-05-13T13:55:09.328Z"
   },
   {
    "duration": 22,
    "start_time": "2024-05-13T13:55:09.362Z"
   },
   {
    "duration": 17,
    "start_time": "2024-05-13T13:55:09.385Z"
   },
   {
    "duration": 25,
    "start_time": "2024-05-13T13:55:09.403Z"
   },
   {
    "duration": 291,
    "start_time": "2024-05-13T13:55:09.429Z"
   },
   {
    "duration": 252,
    "start_time": "2024-05-13T13:55:09.722Z"
   },
   {
    "duration": 177,
    "start_time": "2024-05-13T13:55:09.975Z"
   },
   {
    "duration": 13,
    "start_time": "2024-05-13T13:55:10.153Z"
   },
   {
    "duration": 325,
    "start_time": "2024-05-13T13:55:10.167Z"
   },
   {
    "duration": 8,
    "start_time": "2024-05-13T13:55:10.494Z"
   },
   {
    "duration": 88,
    "start_time": "2024-05-13T13:55:10.504Z"
   },
   {
    "duration": 254,
    "start_time": "2024-05-13T13:55:10.601Z"
   },
   {
    "duration": 6,
    "start_time": "2024-05-13T13:55:10.857Z"
   },
   {
    "duration": 609,
    "start_time": "2024-05-13T13:55:10.864Z"
   },
   {
    "duration": 7,
    "start_time": "2024-05-13T13:55:11.474Z"
   },
   {
    "duration": 21,
    "start_time": "2024-05-13T13:55:11.482Z"
   },
   {
    "duration": 9,
    "start_time": "2024-05-13T13:55:11.504Z"
   },
   {
    "duration": 12,
    "start_time": "2024-05-13T13:55:11.515Z"
   },
   {
    "duration": 9,
    "start_time": "2024-05-13T13:55:11.528Z"
   },
   {
    "duration": 179,
    "start_time": "2024-05-13T13:55:11.538Z"
   },
   {
    "duration": 160,
    "start_time": "2024-05-13T13:55:11.718Z"
   },
   {
    "duration": 176,
    "start_time": "2024-05-13T13:55:11.882Z"
   },
   {
    "duration": 176,
    "start_time": "2024-05-13T13:55:12.059Z"
   },
   {
    "duration": 188,
    "start_time": "2024-05-13T13:55:12.236Z"
   },
   {
    "duration": 166,
    "start_time": "2024-05-13T13:55:12.425Z"
   },
   {
    "duration": 265,
    "start_time": "2024-05-13T13:55:12.592Z"
   },
   {
    "duration": 163,
    "start_time": "2024-05-13T13:55:12.859Z"
   },
   {
    "duration": 131,
    "start_time": "2024-05-13T13:55:13.024Z"
   },
   {
    "duration": 138,
    "start_time": "2024-05-13T13:55:13.156Z"
   },
   {
    "duration": 146,
    "start_time": "2024-05-13T13:55:13.295Z"
   },
   {
    "duration": 11,
    "start_time": "2024-05-13T13:55:13.442Z"
   },
   {
    "duration": 11,
    "start_time": "2024-05-13T13:55:13.454Z"
   },
   {
    "duration": 11,
    "start_time": "2024-05-13T13:55:13.466Z"
   },
   {
    "duration": 9,
    "start_time": "2024-05-13T13:55:13.478Z"
   },
   {
    "duration": 14,
    "start_time": "2024-05-13T13:55:13.488Z"
   },
   {
    "duration": 8,
    "start_time": "2024-05-13T13:55:13.503Z"
   },
   {
    "duration": 9,
    "start_time": "2024-05-13T13:55:13.512Z"
   },
   {
    "duration": 12,
    "start_time": "2024-05-13T13:55:13.522Z"
   },
   {
    "duration": 5,
    "start_time": "2024-05-13T13:55:13.535Z"
   },
   {
    "duration": 11,
    "start_time": "2024-05-13T13:55:13.541Z"
   },
   {
    "duration": 10,
    "start_time": "2024-05-13T13:55:13.553Z"
   },
   {
    "duration": 81,
    "start_time": "2024-05-13T16:25:37.445Z"
   },
   {
    "duration": 22,
    "start_time": "2024-05-13T16:27:30.085Z"
   },
   {
    "duration": 24,
    "start_time": "2024-05-13T16:27:56.723Z"
   },
   {
    "duration": 6,
    "start_time": "2024-05-13T16:32:13.338Z"
   },
   {
    "duration": 9,
    "start_time": "2024-05-13T16:32:35.045Z"
   },
   {
    "duration": 1177,
    "start_time": "2024-05-15T10:58:04.617Z"
   },
   {
    "duration": 60,
    "start_time": "2024-05-15T10:58:05.796Z"
   },
   {
    "duration": 19,
    "start_time": "2024-05-15T10:58:05.857Z"
   },
   {
    "duration": 31,
    "start_time": "2024-05-15T10:58:05.878Z"
   },
   {
    "duration": 28,
    "start_time": "2024-05-15T10:58:05.911Z"
   },
   {
    "duration": 41,
    "start_time": "2024-05-15T10:58:05.940Z"
   },
   {
    "duration": 27,
    "start_time": "2024-05-15T10:58:05.983Z"
   },
   {
    "duration": 78,
    "start_time": "2024-05-15T10:58:06.011Z"
   },
   {
    "duration": 27,
    "start_time": "2024-05-15T10:58:06.091Z"
   },
   {
    "duration": 54,
    "start_time": "2024-05-15T10:58:06.121Z"
   },
   {
    "duration": 29,
    "start_time": "2024-05-15T10:58:06.177Z"
   },
   {
    "duration": 30,
    "start_time": "2024-05-15T10:58:06.207Z"
   },
   {
    "duration": 35,
    "start_time": "2024-05-15T10:58:06.238Z"
   },
   {
    "duration": 46,
    "start_time": "2024-05-15T10:58:06.274Z"
   },
   {
    "duration": 46,
    "start_time": "2024-05-15T10:58:06.322Z"
   },
   {
    "duration": 27,
    "start_time": "2024-05-15T10:58:06.370Z"
   },
   {
    "duration": 38,
    "start_time": "2024-05-15T10:58:06.399Z"
   },
   {
    "duration": 46,
    "start_time": "2024-05-15T10:58:06.439Z"
   },
   {
    "duration": 35,
    "start_time": "2024-05-15T10:58:06.486Z"
   },
   {
    "duration": 23,
    "start_time": "2024-05-15T10:58:06.522Z"
   },
   {
    "duration": 62,
    "start_time": "2024-05-15T10:58:06.548Z"
   },
   {
    "duration": 19,
    "start_time": "2024-05-15T10:58:06.612Z"
   },
   {
    "duration": 120,
    "start_time": "2024-05-15T10:58:06.633Z"
   },
   {
    "duration": 38,
    "start_time": "2024-05-15T10:58:06.755Z"
   },
   {
    "duration": 30,
    "start_time": "2024-05-15T10:58:06.795Z"
   },
   {
    "duration": 21,
    "start_time": "2024-05-15T10:58:06.827Z"
   },
   {
    "duration": 65,
    "start_time": "2024-05-15T10:58:06.850Z"
   },
   {
    "duration": 50,
    "start_time": "2024-05-15T10:58:06.920Z"
   },
   {
    "duration": 55,
    "start_time": "2024-05-15T10:58:06.972Z"
   },
   {
    "duration": 39,
    "start_time": "2024-05-15T10:58:07.029Z"
   },
   {
    "duration": 115,
    "start_time": "2024-05-15T10:58:07.070Z"
   },
   {
    "duration": 394,
    "start_time": "2024-05-15T10:58:07.187Z"
   },
   {
    "duration": 330,
    "start_time": "2024-05-15T10:58:07.582Z"
   },
   {
    "duration": 249,
    "start_time": "2024-05-15T10:58:07.913Z"
   },
   {
    "duration": 34,
    "start_time": "2024-05-15T10:58:08.163Z"
   },
   {
    "duration": 17,
    "start_time": "2024-05-15T10:58:08.198Z"
   },
   {
    "duration": 381,
    "start_time": "2024-05-15T10:58:08.216Z"
   },
   {
    "duration": 42,
    "start_time": "2024-05-15T10:58:08.599Z"
   },
   {
    "duration": 323,
    "start_time": "2024-05-15T10:58:08.643Z"
   },
   {
    "duration": 419,
    "start_time": "2024-05-15T10:58:08.968Z"
   },
   {
    "duration": 11,
    "start_time": "2024-05-15T10:58:09.389Z"
   },
   {
    "duration": 161,
    "start_time": "2024-05-15T10:58:09.401Z"
   },
   {
    "duration": 17,
    "start_time": "2024-05-15T10:58:09.564Z"
   },
   {
    "duration": 165,
    "start_time": "2024-05-15T10:58:09.583Z"
   },
   {
    "duration": 16,
    "start_time": "2024-05-15T10:58:09.749Z"
   },
   {
    "duration": 27,
    "start_time": "2024-05-15T10:58:09.772Z"
   },
   {
    "duration": 815,
    "start_time": "2024-05-15T10:58:09.801Z"
   },
   {
    "duration": 935,
    "start_time": "2024-05-15T10:58:10.618Z"
   },
   {
    "duration": 219,
    "start_time": "2024-05-15T10:58:11.554Z"
   },
   {
    "duration": 212,
    "start_time": "2024-05-15T10:58:11.775Z"
   },
   {
    "duration": 343,
    "start_time": "2024-05-15T10:58:11.988Z"
   },
   {
    "duration": 362,
    "start_time": "2024-05-15T10:58:12.333Z"
   },
   {
    "duration": 14,
    "start_time": "2024-05-15T10:58:12.697Z"
   },
   {
    "duration": 73,
    "start_time": "2024-05-15T10:58:12.713Z"
   },
   {
    "duration": 136,
    "start_time": "2024-05-15T10:58:12.788Z"
   },
   {
    "duration": 13,
    "start_time": "2024-05-15T10:58:12.926Z"
   },
   {
    "duration": 62,
    "start_time": "2024-05-15T10:58:12.941Z"
   },
   {
    "duration": 133,
    "start_time": "2024-05-15T10:58:13.005Z"
   },
   {
    "duration": 16,
    "start_time": "2024-05-15T10:58:13.140Z"
   },
   {
    "duration": 59,
    "start_time": "2024-05-15T10:58:13.158Z"
   },
   {
    "duration": 129,
    "start_time": "2024-05-15T10:58:13.219Z"
   },
   {
    "duration": 13,
    "start_time": "2024-05-15T10:58:13.350Z"
   },
   {
    "duration": 78,
    "start_time": "2024-05-15T10:58:13.373Z"
   },
   {
    "duration": 213,
    "start_time": "2024-05-15T10:58:13.452Z"
   },
   {
    "duration": 18,
    "start_time": "2024-05-15T10:58:13.667Z"
   },
   {
    "duration": 74,
    "start_time": "2024-05-15T10:58:13.687Z"
   },
   {
    "duration": 124,
    "start_time": "2024-05-15T10:58:13.763Z"
   },
   {
    "duration": 15,
    "start_time": "2024-05-15T10:58:13.888Z"
   },
   {
    "duration": 69,
    "start_time": "2024-05-15T10:58:13.904Z"
   },
   {
    "duration": 130,
    "start_time": "2024-05-15T10:58:13.975Z"
   },
   {
    "duration": 166,
    "start_time": "2024-05-15T10:58:14.108Z"
   },
   {
    "duration": 186,
    "start_time": "2024-05-15T10:58:14.276Z"
   },
   {
    "duration": 163,
    "start_time": "2024-05-15T10:58:14.463Z"
   },
   {
    "duration": 18,
    "start_time": "2024-05-15T10:58:14.627Z"
   },
   {
    "duration": 28,
    "start_time": "2024-05-15T10:58:14.647Z"
   },
   {
    "duration": 28,
    "start_time": "2024-05-15T10:58:14.677Z"
   },
   {
    "duration": 37,
    "start_time": "2024-05-15T10:58:14.707Z"
   },
   {
    "duration": 38,
    "start_time": "2024-05-15T10:58:14.745Z"
   },
   {
    "duration": 28,
    "start_time": "2024-05-15T10:58:14.784Z"
   },
   {
    "duration": 29,
    "start_time": "2024-05-15T10:58:14.813Z"
   },
   {
    "duration": 28,
    "start_time": "2024-05-15T10:58:14.844Z"
   },
   {
    "duration": 15,
    "start_time": "2024-05-15T10:58:14.877Z"
   },
   {
    "duration": 42,
    "start_time": "2024-05-15T10:58:14.893Z"
   },
   {
    "duration": 21,
    "start_time": "2024-05-15T10:58:14.937Z"
   },
   {
    "duration": 102,
    "start_time": "2024-05-15T11:01:30.916Z"
   },
   {
    "duration": 22,
    "start_time": "2024-05-15T11:01:48.672Z"
   },
   {
    "duration": 1235,
    "start_time": "2024-05-15T11:02:17.371Z"
   },
   {
    "duration": 59,
    "start_time": "2024-05-15T11:02:18.607Z"
   },
   {
    "duration": 19,
    "start_time": "2024-05-15T11:02:18.668Z"
   },
   {
    "duration": 51,
    "start_time": "2024-05-15T11:02:18.688Z"
   },
   {
    "duration": 58,
    "start_time": "2024-05-15T11:02:18.741Z"
   },
   {
    "duration": 51,
    "start_time": "2024-05-15T11:02:18.800Z"
   },
   {
    "duration": 60,
    "start_time": "2024-05-15T11:02:18.852Z"
   },
   {
    "duration": 57,
    "start_time": "2024-05-15T11:02:18.914Z"
   },
   {
    "duration": 47,
    "start_time": "2024-05-15T11:02:18.973Z"
   },
   {
    "duration": 46,
    "start_time": "2024-05-15T11:02:19.022Z"
   },
   {
    "duration": 54,
    "start_time": "2024-05-15T11:02:19.070Z"
   },
   {
    "duration": 37,
    "start_time": "2024-05-15T11:02:19.125Z"
   },
   {
    "duration": 50,
    "start_time": "2024-05-15T11:02:19.164Z"
   },
   {
    "duration": 21,
    "start_time": "2024-05-15T11:02:19.217Z"
   },
   {
    "duration": 43,
    "start_time": "2024-05-15T11:02:19.239Z"
   },
   {
    "duration": 45,
    "start_time": "2024-05-15T11:02:19.284Z"
   },
   {
    "duration": 33,
    "start_time": "2024-05-15T11:02:19.331Z"
   },
   {
    "duration": 37,
    "start_time": "2024-05-15T11:02:19.367Z"
   },
   {
    "duration": 9,
    "start_time": "2024-05-15T11:02:19.405Z"
   },
   {
    "duration": 25,
    "start_time": "2024-05-15T11:02:19.416Z"
   },
   {
    "duration": 31,
    "start_time": "2024-05-15T11:02:19.442Z"
   },
   {
    "duration": 67,
    "start_time": "2024-05-15T11:02:19.475Z"
   },
   {
    "duration": 40,
    "start_time": "2024-05-15T11:02:19.543Z"
   },
   {
    "duration": 51,
    "start_time": "2024-05-15T11:02:19.585Z"
   },
   {
    "duration": 23,
    "start_time": "2024-05-15T11:02:19.637Z"
   },
   {
    "duration": 34,
    "start_time": "2024-05-15T11:02:19.662Z"
   },
   {
    "duration": 39,
    "start_time": "2024-05-15T11:02:19.697Z"
   },
   {
    "duration": 44,
    "start_time": "2024-05-15T11:02:19.737Z"
   },
   {
    "duration": 36,
    "start_time": "2024-05-15T11:02:19.783Z"
   },
   {
    "duration": 38,
    "start_time": "2024-05-15T11:02:19.820Z"
   },
   {
    "duration": 53,
    "start_time": "2024-05-15T11:02:19.860Z"
   },
   {
    "duration": 129,
    "start_time": "2024-05-15T11:02:19.914Z"
   },
   {
    "duration": 401,
    "start_time": "2024-05-15T11:02:20.045Z"
   },
   {
    "duration": 342,
    "start_time": "2024-05-15T11:02:20.448Z"
   },
   {
    "duration": 488,
    "start_time": "2024-05-15T11:02:20.791Z"
   },
   {
    "duration": 29,
    "start_time": "2024-05-15T11:02:21.280Z"
   },
   {
    "duration": 75,
    "start_time": "2024-05-15T11:02:21.311Z"
   },
   {
    "duration": 737,
    "start_time": "2024-05-15T11:02:21.388Z"
   },
   {
    "duration": 147,
    "start_time": "2024-05-15T11:02:22.127Z"
   },
   {
    "duration": 364,
    "start_time": "2024-05-15T11:02:22.275Z"
   },
   {
    "duration": 431,
    "start_time": "2024-05-15T11:02:22.644Z"
   },
   {
    "duration": 12,
    "start_time": "2024-05-15T11:02:23.076Z"
   },
   {
    "duration": 174,
    "start_time": "2024-05-15T11:02:23.089Z"
   },
   {
    "duration": 10,
    "start_time": "2024-05-15T11:02:23.265Z"
   },
   {
    "duration": 148,
    "start_time": "2024-05-15T11:02:23.276Z"
   },
   {
    "duration": 11,
    "start_time": "2024-05-15T11:02:23.426Z"
   },
   {
    "duration": 22,
    "start_time": "2024-05-15T11:02:23.438Z"
   },
   {
    "duration": 820,
    "start_time": "2024-05-15T11:02:23.461Z"
   },
   {
    "duration": 945,
    "start_time": "2024-05-15T11:02:24.282Z"
   },
   {
    "duration": 218,
    "start_time": "2024-05-15T11:02:25.228Z"
   },
   {
    "duration": 224,
    "start_time": "2024-05-15T11:02:25.447Z"
   },
   {
    "duration": 365,
    "start_time": "2024-05-15T11:02:25.673Z"
   },
   {
    "duration": 386,
    "start_time": "2024-05-15T11:02:26.039Z"
   },
   {
    "duration": 14,
    "start_time": "2024-05-15T11:02:26.427Z"
   },
   {
    "duration": 121,
    "start_time": "2024-05-15T11:02:26.443Z"
   },
   {
    "duration": 120,
    "start_time": "2024-05-15T11:02:26.566Z"
   },
   {
    "duration": 14,
    "start_time": "2024-05-15T11:02:26.688Z"
   },
   {
    "duration": 98,
    "start_time": "2024-05-15T11:02:26.704Z"
   },
   {
    "duration": 132,
    "start_time": "2024-05-15T11:02:26.804Z"
   },
   {
    "duration": 15,
    "start_time": "2024-05-15T11:02:26.938Z"
   },
   {
    "duration": 119,
    "start_time": "2024-05-15T11:02:26.954Z"
   },
   {
    "duration": 138,
    "start_time": "2024-05-15T11:02:27.075Z"
   },
   {
    "duration": 19,
    "start_time": "2024-05-15T11:02:27.215Z"
   },
   {
    "duration": 56,
    "start_time": "2024-05-15T11:02:27.236Z"
   },
   {
    "duration": 227,
    "start_time": "2024-05-15T11:02:27.293Z"
   },
   {
    "duration": 14,
    "start_time": "2024-05-15T11:02:27.521Z"
   },
   {
    "duration": 58,
    "start_time": "2024-05-15T11:02:27.537Z"
   },
   {
    "duration": 137,
    "start_time": "2024-05-15T11:02:27.597Z"
   },
   {
    "duration": 15,
    "start_time": "2024-05-15T11:02:27.735Z"
   },
   {
    "duration": 66,
    "start_time": "2024-05-15T11:02:27.751Z"
   },
   {
    "duration": 135,
    "start_time": "2024-05-15T11:02:27.818Z"
   },
   {
    "duration": 171,
    "start_time": "2024-05-15T11:02:27.954Z"
   },
   {
    "duration": 205,
    "start_time": "2024-05-15T11:02:28.127Z"
   },
   {
    "duration": 167,
    "start_time": "2024-05-15T11:02:28.334Z"
   },
   {
    "duration": 18,
    "start_time": "2024-05-15T11:02:28.503Z"
   },
   {
    "duration": 15,
    "start_time": "2024-05-15T11:02:28.523Z"
   },
   {
    "duration": 20,
    "start_time": "2024-05-15T11:02:28.540Z"
   },
   {
    "duration": 10,
    "start_time": "2024-05-15T11:02:28.561Z"
   },
   {
    "duration": 15,
    "start_time": "2024-05-15T11:02:28.572Z"
   },
   {
    "duration": 14,
    "start_time": "2024-05-15T11:02:28.588Z"
   },
   {
    "duration": 40,
    "start_time": "2024-05-15T11:02:28.603Z"
   },
   {
    "duration": 12,
    "start_time": "2024-05-15T11:02:28.645Z"
   },
   {
    "duration": 5,
    "start_time": "2024-05-15T11:02:28.659Z"
   },
   {
    "duration": 18,
    "start_time": "2024-05-15T11:02:28.666Z"
   },
   {
    "duration": 15,
    "start_time": "2024-05-15T11:02:28.685Z"
   },
   {
    "duration": 1156,
    "start_time": "2024-08-06T14:50:31.762Z"
   },
   {
    "duration": 176,
    "start_time": "2024-08-06T14:50:32.919Z"
   },
   {
    "duration": 24,
    "start_time": "2024-08-06T14:50:33.615Z"
   },
   {
    "duration": 15,
    "start_time": "2024-08-06T14:50:33.973Z"
   },
   {
    "duration": 16,
    "start_time": "2024-08-06T14:50:34.341Z"
   },
   {
    "duration": 17,
    "start_time": "2024-08-06T14:50:35.077Z"
   },
   {
    "duration": 10,
    "start_time": "2024-08-06T14:50:35.500Z"
   },
   {
    "duration": 3,
    "start_time": "2024-08-06T14:50:35.980Z"
   },
   {
    "duration": 12,
    "start_time": "2024-08-06T14:50:36.802Z"
   },
   {
    "duration": 18,
    "start_time": "2024-08-06T14:50:37.344Z"
   },
   {
    "duration": 15,
    "start_time": "2024-08-06T14:50:43.173Z"
   },
   {
    "duration": 7,
    "start_time": "2024-08-06T14:50:43.965Z"
   },
   {
    "duration": 20,
    "start_time": "2024-08-06T14:50:46.177Z"
   },
   {
    "duration": 5,
    "start_time": "2024-08-06T14:50:48.717Z"
   },
   {
    "duration": 16,
    "start_time": "2024-08-06T14:50:54.333Z"
   },
   {
    "duration": 1193,
    "start_time": "2024-08-06T14:51:06.133Z"
   },
   {
    "duration": 59,
    "start_time": "2024-08-06T14:51:07.328Z"
   },
   {
    "duration": 18,
    "start_time": "2024-08-06T14:51:07.388Z"
   },
   {
    "duration": 15,
    "start_time": "2024-08-06T14:51:07.408Z"
   },
   {
    "duration": 17,
    "start_time": "2024-08-06T14:51:07.424Z"
   },
   {
    "duration": 15,
    "start_time": "2024-08-06T14:51:07.443Z"
   },
   {
    "duration": 8,
    "start_time": "2024-08-06T14:51:07.460Z"
   },
   {
    "duration": 4,
    "start_time": "2024-08-06T14:51:07.470Z"
   },
   {
    "duration": 14,
    "start_time": "2024-08-06T14:51:07.475Z"
   },
   {
    "duration": 19,
    "start_time": "2024-08-06T14:51:07.519Z"
   },
   {
    "duration": 15,
    "start_time": "2024-08-06T14:51:07.540Z"
   },
   {
    "duration": 10,
    "start_time": "2024-08-06T14:51:07.557Z"
   },
   {
    "duration": 25,
    "start_time": "2024-08-06T14:51:07.568Z"
   },
   {
    "duration": 25,
    "start_time": "2024-08-06T14:51:07.594Z"
   },
   {
    "duration": 3,
    "start_time": "2024-08-06T14:51:07.621Z"
   },
   {
    "duration": 19,
    "start_time": "2024-08-06T14:51:07.625Z"
   },
   {
    "duration": 7,
    "start_time": "2024-08-06T14:51:07.645Z"
   },
   {
    "duration": 13,
    "start_time": "2024-08-06T14:51:07.654Z"
   },
   {
    "duration": 13,
    "start_time": "2024-08-06T14:51:07.668Z"
   },
   {
    "duration": 124,
    "start_time": "2024-08-06T14:51:07.682Z"
   },
   {
    "duration": 0,
    "start_time": "2024-08-06T14:51:07.809Z"
   },
   {
    "duration": 0,
    "start_time": "2024-08-06T14:51:07.810Z"
   },
   {
    "duration": 0,
    "start_time": "2024-08-06T14:51:07.811Z"
   },
   {
    "duration": 0,
    "start_time": "2024-08-06T14:51:07.818Z"
   },
   {
    "duration": 0,
    "start_time": "2024-08-06T14:51:07.819Z"
   },
   {
    "duration": 0,
    "start_time": "2024-08-06T14:51:07.820Z"
   },
   {
    "duration": 0,
    "start_time": "2024-08-06T14:51:07.821Z"
   },
   {
    "duration": 0,
    "start_time": "2024-08-06T14:51:07.822Z"
   },
   {
    "duration": 0,
    "start_time": "2024-08-06T14:51:07.823Z"
   },
   {
    "duration": 0,
    "start_time": "2024-08-06T14:51:07.824Z"
   },
   {
    "duration": 0,
    "start_time": "2024-08-06T14:51:07.825Z"
   },
   {
    "duration": 0,
    "start_time": "2024-08-06T14:51:07.826Z"
   },
   {
    "duration": 0,
    "start_time": "2024-08-06T14:51:07.827Z"
   },
   {
    "duration": 0,
    "start_time": "2024-08-06T14:51:07.828Z"
   },
   {
    "duration": 0,
    "start_time": "2024-08-06T14:51:07.829Z"
   },
   {
    "duration": 0,
    "start_time": "2024-08-06T14:51:07.830Z"
   },
   {
    "duration": 0,
    "start_time": "2024-08-06T14:51:07.831Z"
   },
   {
    "duration": 0,
    "start_time": "2024-08-06T14:51:07.832Z"
   },
   {
    "duration": 0,
    "start_time": "2024-08-06T14:51:07.833Z"
   },
   {
    "duration": 0,
    "start_time": "2024-08-06T14:51:07.834Z"
   },
   {
    "duration": 0,
    "start_time": "2024-08-06T14:51:07.835Z"
   },
   {
    "duration": 0,
    "start_time": "2024-08-06T14:51:07.836Z"
   },
   {
    "duration": 0,
    "start_time": "2024-08-06T14:51:07.837Z"
   },
   {
    "duration": 0,
    "start_time": "2024-08-06T14:51:07.838Z"
   },
   {
    "duration": 0,
    "start_time": "2024-08-06T14:51:07.839Z"
   },
   {
    "duration": 0,
    "start_time": "2024-08-06T14:51:07.840Z"
   },
   {
    "duration": 0,
    "start_time": "2024-08-06T14:51:07.841Z"
   },
   {
    "duration": 0,
    "start_time": "2024-08-06T14:51:07.842Z"
   },
   {
    "duration": 0,
    "start_time": "2024-08-06T14:51:07.843Z"
   },
   {
    "duration": 0,
    "start_time": "2024-08-06T14:51:07.844Z"
   },
   {
    "duration": 0,
    "start_time": "2024-08-06T14:51:07.845Z"
   },
   {
    "duration": 0,
    "start_time": "2024-08-06T14:51:07.846Z"
   },
   {
    "duration": 0,
    "start_time": "2024-08-06T14:51:07.847Z"
   },
   {
    "duration": 0,
    "start_time": "2024-08-06T14:51:07.848Z"
   },
   {
    "duration": 0,
    "start_time": "2024-08-06T14:51:07.849Z"
   },
   {
    "duration": 0,
    "start_time": "2024-08-06T14:51:07.850Z"
   },
   {
    "duration": 0,
    "start_time": "2024-08-06T14:51:07.851Z"
   },
   {
    "duration": 0,
    "start_time": "2024-08-06T14:51:07.852Z"
   },
   {
    "duration": 0,
    "start_time": "2024-08-06T14:51:07.853Z"
   },
   {
    "duration": 0,
    "start_time": "2024-08-06T14:51:07.854Z"
   },
   {
    "duration": 0,
    "start_time": "2024-08-06T14:51:07.918Z"
   },
   {
    "duration": 0,
    "start_time": "2024-08-06T14:51:07.919Z"
   },
   {
    "duration": 0,
    "start_time": "2024-08-06T14:51:07.920Z"
   },
   {
    "duration": 0,
    "start_time": "2024-08-06T14:51:07.921Z"
   },
   {
    "duration": 0,
    "start_time": "2024-08-06T14:51:07.922Z"
   },
   {
    "duration": 0,
    "start_time": "2024-08-06T14:51:07.923Z"
   },
   {
    "duration": 0,
    "start_time": "2024-08-06T14:51:07.924Z"
   },
   {
    "duration": 0,
    "start_time": "2024-08-06T14:51:07.925Z"
   },
   {
    "duration": 0,
    "start_time": "2024-08-06T14:51:07.926Z"
   },
   {
    "duration": 0,
    "start_time": "2024-08-06T14:51:07.929Z"
   },
   {
    "duration": 0,
    "start_time": "2024-08-06T14:51:07.931Z"
   },
   {
    "duration": 0,
    "start_time": "2024-08-06T14:51:07.932Z"
   },
   {
    "duration": 0,
    "start_time": "2024-08-06T14:51:07.932Z"
   },
   {
    "duration": 0,
    "start_time": "2024-08-06T14:51:07.933Z"
   },
   {
    "duration": 0,
    "start_time": "2024-08-06T14:51:07.935Z"
   },
   {
    "duration": 0,
    "start_time": "2024-08-06T14:51:07.936Z"
   },
   {
    "duration": 0,
    "start_time": "2024-08-06T14:51:07.937Z"
   },
   {
    "duration": 0,
    "start_time": "2024-08-06T14:51:07.938Z"
   },
   {
    "duration": 0,
    "start_time": "2024-08-06T14:51:07.939Z"
   },
   {
    "duration": 0,
    "start_time": "2024-08-06T14:51:07.939Z"
   },
   {
    "duration": 0,
    "start_time": "2024-08-06T14:51:07.940Z"
   },
   {
    "duration": 0,
    "start_time": "2024-08-06T14:51:07.941Z"
   },
   {
    "duration": 0,
    "start_time": "2024-08-06T14:51:07.942Z"
   },
   {
    "duration": 0,
    "start_time": "2024-08-06T14:51:07.943Z"
   },
   {
    "duration": 0,
    "start_time": "2024-08-06T14:51:07.944Z"
   },
   {
    "duration": 0,
    "start_time": "2024-08-06T14:51:07.945Z"
   },
   {
    "duration": 1184,
    "start_time": "2024-08-06T14:52:16.863Z"
   },
   {
    "duration": 70,
    "start_time": "2024-08-06T14:52:18.049Z"
   },
   {
    "duration": 19,
    "start_time": "2024-08-06T14:52:18.120Z"
   },
   {
    "duration": 16,
    "start_time": "2024-08-06T14:52:18.141Z"
   },
   {
    "duration": 62,
    "start_time": "2024-08-06T14:52:18.159Z"
   },
   {
    "duration": 16,
    "start_time": "2024-08-06T14:52:18.223Z"
   },
   {
    "duration": 23,
    "start_time": "2024-08-06T14:52:18.241Z"
   },
   {
    "duration": 7,
    "start_time": "2024-08-06T14:52:18.266Z"
   },
   {
    "duration": 18,
    "start_time": "2024-08-06T14:52:18.274Z"
   },
   {
    "duration": 24,
    "start_time": "2024-08-06T14:52:18.295Z"
   },
   {
    "duration": 16,
    "start_time": "2024-08-06T14:52:18.320Z"
   },
   {
    "duration": 7,
    "start_time": "2024-08-06T14:52:18.337Z"
   },
   {
    "duration": 23,
    "start_time": "2024-08-06T14:52:18.345Z"
   },
   {
    "duration": 4,
    "start_time": "2024-08-06T14:52:18.370Z"
   },
   {
    "duration": 7,
    "start_time": "2024-08-06T14:52:18.375Z"
   },
   {
    "duration": 41,
    "start_time": "2024-08-06T14:52:18.383Z"
   },
   {
    "duration": 6,
    "start_time": "2024-08-06T14:52:18.426Z"
   },
   {
    "duration": 9,
    "start_time": "2024-08-06T14:52:18.433Z"
   },
   {
    "duration": 11,
    "start_time": "2024-08-06T14:52:18.443Z"
   },
   {
    "duration": 7,
    "start_time": "2024-08-06T14:52:18.455Z"
   },
   {
    "duration": 5,
    "start_time": "2024-08-06T14:52:18.463Z"
   },
   {
    "duration": 19,
    "start_time": "2024-08-06T14:52:18.469Z"
   },
   {
    "duration": 7,
    "start_time": "2024-08-06T14:52:18.517Z"
   },
   {
    "duration": 18,
    "start_time": "2024-08-06T14:52:18.525Z"
   },
   {
    "duration": 6,
    "start_time": "2024-08-06T14:52:18.545Z"
   },
   {
    "duration": 3,
    "start_time": "2024-08-06T14:52:18.552Z"
   },
   {
    "duration": 8,
    "start_time": "2024-08-06T14:52:18.557Z"
   },
   {
    "duration": 9,
    "start_time": "2024-08-06T14:52:18.570Z"
   },
   {
    "duration": 5,
    "start_time": "2024-08-06T14:52:18.580Z"
   },
   {
    "duration": 4,
    "start_time": "2024-08-06T14:52:18.618Z"
   },
   {
    "duration": 19,
    "start_time": "2024-08-06T14:52:18.624Z"
   },
   {
    "duration": 127,
    "start_time": "2024-08-06T14:52:18.644Z"
   },
   {
    "duration": 400,
    "start_time": "2024-08-06T14:52:18.773Z"
   },
   {
    "duration": 325,
    "start_time": "2024-08-06T14:52:19.175Z"
   },
   {
    "duration": 238,
    "start_time": "2024-08-06T14:52:19.502Z"
   },
   {
    "duration": 30,
    "start_time": "2024-08-06T14:52:19.742Z"
   },
   {
    "duration": 17,
    "start_time": "2024-08-06T14:52:19.773Z"
   },
   {
    "duration": 333,
    "start_time": "2024-08-06T14:52:19.792Z"
   },
   {
    "duration": 43,
    "start_time": "2024-08-06T14:52:20.126Z"
   },
   {
    "duration": 330,
    "start_time": "2024-08-06T14:52:20.171Z"
   },
   {
    "duration": 450,
    "start_time": "2024-08-06T14:52:20.502Z"
   },
   {
    "duration": 11,
    "start_time": "2024-08-06T14:52:20.954Z"
   },
   {
    "duration": 185,
    "start_time": "2024-08-06T14:52:20.967Z"
   },
   {
    "duration": 11,
    "start_time": "2024-08-06T14:52:21.153Z"
   },
   {
    "duration": 186,
    "start_time": "2024-08-06T14:52:21.165Z"
   },
   {
    "duration": 14,
    "start_time": "2024-08-06T14:52:21.352Z"
   },
   {
    "duration": 4,
    "start_time": "2024-08-06T14:52:21.367Z"
   },
   {
    "duration": 870,
    "start_time": "2024-08-06T14:52:21.372Z"
   },
   {
    "duration": 918,
    "start_time": "2024-08-06T14:52:22.244Z"
   },
   {
    "duration": 210,
    "start_time": "2024-08-06T14:52:23.164Z"
   },
   {
    "duration": 210,
    "start_time": "2024-08-06T14:52:23.375Z"
   },
   {
    "duration": 370,
    "start_time": "2024-08-06T14:52:23.586Z"
   },
   {
    "duration": 354,
    "start_time": "2024-08-06T14:52:23.959Z"
   },
   {
    "duration": 13,
    "start_time": "2024-08-06T14:52:24.317Z"
   },
   {
    "duration": 47,
    "start_time": "2024-08-06T14:52:24.331Z"
   },
   {
    "duration": 129,
    "start_time": "2024-08-06T14:52:24.379Z"
   },
   {
    "duration": 17,
    "start_time": "2024-08-06T14:52:24.510Z"
   },
   {
    "duration": 60,
    "start_time": "2024-08-06T14:52:24.529Z"
   },
   {
    "duration": 120,
    "start_time": "2024-08-06T14:52:24.591Z"
   },
   {
    "duration": 15,
    "start_time": "2024-08-06T14:52:24.712Z"
   },
   {
    "duration": 71,
    "start_time": "2024-08-06T14:52:24.728Z"
   },
   {
    "duration": 118,
    "start_time": "2024-08-06T14:52:24.801Z"
   },
   {
    "duration": 13,
    "start_time": "2024-08-06T14:52:24.921Z"
   },
   {
    "duration": 58,
    "start_time": "2024-08-06T14:52:24.936Z"
   },
   {
    "duration": 210,
    "start_time": "2024-08-06T14:52:24.996Z"
   },
   {
    "duration": 18,
    "start_time": "2024-08-06T14:52:25.207Z"
   },
   {
    "duration": 40,
    "start_time": "2024-08-06T14:52:25.227Z"
   },
   {
    "duration": 137,
    "start_time": "2024-08-06T14:52:25.268Z"
   },
   {
    "duration": 18,
    "start_time": "2024-08-06T14:52:25.406Z"
   },
   {
    "duration": 48,
    "start_time": "2024-08-06T14:52:25.425Z"
   },
   {
    "duration": 136,
    "start_time": "2024-08-06T14:52:25.474Z"
   },
   {
    "duration": 154,
    "start_time": "2024-08-06T14:52:25.617Z"
   },
   {
    "duration": 177,
    "start_time": "2024-08-06T14:52:25.772Z"
   },
   {
    "duration": 159,
    "start_time": "2024-08-06T14:52:25.951Z"
   },
   {
    "duration": 23,
    "start_time": "2024-08-06T14:52:26.111Z"
   },
   {
    "duration": 5,
    "start_time": "2024-08-06T14:52:26.136Z"
   },
   {
    "duration": 9,
    "start_time": "2024-08-06T14:52:26.143Z"
   },
   {
    "duration": 5,
    "start_time": "2024-08-06T14:52:26.153Z"
   },
   {
    "duration": 11,
    "start_time": "2024-08-06T14:52:26.159Z"
   },
   {
    "duration": 6,
    "start_time": "2024-08-06T14:52:26.172Z"
   },
   {
    "duration": 40,
    "start_time": "2024-08-06T14:52:26.179Z"
   },
   {
    "duration": 8,
    "start_time": "2024-08-06T14:52:26.224Z"
   },
   {
    "duration": 5,
    "start_time": "2024-08-06T14:52:26.234Z"
   },
   {
    "duration": 13,
    "start_time": "2024-08-06T14:52:26.241Z"
   },
   {
    "duration": 13,
    "start_time": "2024-08-06T14:52:26.255Z"
   }
  ],
  "kernelspec": {
   "display_name": "Python 3 (ipykernel)",
   "language": "python",
   "name": "python3"
  },
  "language_info": {
   "codemirror_mode": {
    "name": "ipython",
    "version": 3
   },
   "file_extension": ".py",
   "mimetype": "text/x-python",
   "name": "python",
   "nbconvert_exporter": "python",
   "pygments_lexer": "ipython3",
   "version": "3.11.7"
  },
  "toc": {
   "base_numbering": 1,
   "nav_menu": {},
   "number_sections": true,
   "sideBar": true,
   "skip_h1_title": true,
   "title_cell": "Table of Contents",
   "title_sidebar": "Contents",
   "toc_cell": false,
   "toc_position": {
    "height": "calc(100% - 180px)",
    "left": "10px",
    "top": "150px",
    "width": "240.943px"
   },
   "toc_section_display": true,
   "toc_window_display": true
  }
 },
 "nbformat": 4,
 "nbformat_minor": 4
}
